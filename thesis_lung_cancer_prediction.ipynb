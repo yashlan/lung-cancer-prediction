{
 "cells": [
  {
   "cell_type": "code",
   "execution_count": 1,
   "metadata": {
    "id": "J61UThNngmn5"
   },
   "outputs": [],
   "source": [
    "from sklearn.metrics import accuracy_score, classification_report, confusion_matrix, roc_curve, roc_auc_score\n",
    "import seaborn as sns\n",
    "import matplotlib.pyplot as plt\n",
    "from sklearn.tree import DecisionTreeClassifier\n",
    "from sklearn.ensemble import RandomForestClassifier\n",
    "from sklearn.model_selection import train_test_split\n",
    "import plotly.express as px\n",
    "import pandas as pd\n",
    "import psutil\n",
    "import tracemalloc\n",
    "import numpy as np\n",
    "import torch\n",
    "import platform\n",
    "import subprocess\n",
    "import pyRAPL\n",
    "import plotly.graph_objects as go\n",
    "import timeit"
   ]
  },
  {
   "cell_type": "code",
   "execution_count": 2,
   "metadata": {
    "colab": {
     "base_uri": "https://localhost:8080/",
     "height": 244
    },
    "id": "NEIERaRldyub",
    "outputId": "9fc9b221-cb10-452d-9e34-d55f65c6e21f"
   },
   "outputs": [
    {
     "data": {
      "text/html": [
       "<div>\n",
       "<style scoped>\n",
       "    .dataframe tbody tr th:only-of-type {\n",
       "        vertical-align: middle;\n",
       "    }\n",
       "\n",
       "    .dataframe tbody tr th {\n",
       "        vertical-align: top;\n",
       "    }\n",
       "\n",
       "    .dataframe thead th {\n",
       "        text-align: right;\n",
       "    }\n",
       "</style>\n",
       "<table border=\"1\" class=\"dataframe\">\n",
       "  <thead>\n",
       "    <tr style=\"text-align: right;\">\n",
       "      <th></th>\n",
       "      <th>GENDER</th>\n",
       "      <th>AGE</th>\n",
       "      <th>SMOKING</th>\n",
       "      <th>YELLOW_FINGERS</th>\n",
       "      <th>ANXIETY</th>\n",
       "      <th>PEER_PRESSURE</th>\n",
       "      <th>CHRONIC DISEASE</th>\n",
       "      <th>FATIGUE</th>\n",
       "      <th>ALLERGY</th>\n",
       "      <th>WHEEZING</th>\n",
       "      <th>ALCOHOL CONSUMING</th>\n",
       "      <th>COUGHING</th>\n",
       "      <th>SHORTNESS OF BREATH</th>\n",
       "      <th>SWALLOWING DIFFICULTY</th>\n",
       "      <th>CHEST PAIN</th>\n",
       "      <th>LUNG_CANCER</th>\n",
       "    </tr>\n",
       "  </thead>\n",
       "  <tbody>\n",
       "    <tr>\n",
       "      <th>0</th>\n",
       "      <td>M</td>\n",
       "      <td>69</td>\n",
       "      <td>1</td>\n",
       "      <td>2</td>\n",
       "      <td>2</td>\n",
       "      <td>1</td>\n",
       "      <td>1</td>\n",
       "      <td>2</td>\n",
       "      <td>1</td>\n",
       "      <td>2</td>\n",
       "      <td>2</td>\n",
       "      <td>2</td>\n",
       "      <td>2</td>\n",
       "      <td>2</td>\n",
       "      <td>2</td>\n",
       "      <td>YES</td>\n",
       "    </tr>\n",
       "    <tr>\n",
       "      <th>1</th>\n",
       "      <td>M</td>\n",
       "      <td>74</td>\n",
       "      <td>2</td>\n",
       "      <td>1</td>\n",
       "      <td>1</td>\n",
       "      <td>1</td>\n",
       "      <td>2</td>\n",
       "      <td>2</td>\n",
       "      <td>2</td>\n",
       "      <td>1</td>\n",
       "      <td>1</td>\n",
       "      <td>1</td>\n",
       "      <td>2</td>\n",
       "      <td>2</td>\n",
       "      <td>2</td>\n",
       "      <td>YES</td>\n",
       "    </tr>\n",
       "    <tr>\n",
       "      <th>2</th>\n",
       "      <td>F</td>\n",
       "      <td>59</td>\n",
       "      <td>1</td>\n",
       "      <td>1</td>\n",
       "      <td>1</td>\n",
       "      <td>2</td>\n",
       "      <td>1</td>\n",
       "      <td>2</td>\n",
       "      <td>1</td>\n",
       "      <td>2</td>\n",
       "      <td>1</td>\n",
       "      <td>2</td>\n",
       "      <td>2</td>\n",
       "      <td>1</td>\n",
       "      <td>2</td>\n",
       "      <td>NO</td>\n",
       "    </tr>\n",
       "    <tr>\n",
       "      <th>3</th>\n",
       "      <td>M</td>\n",
       "      <td>63</td>\n",
       "      <td>2</td>\n",
       "      <td>2</td>\n",
       "      <td>2</td>\n",
       "      <td>1</td>\n",
       "      <td>1</td>\n",
       "      <td>1</td>\n",
       "      <td>1</td>\n",
       "      <td>1</td>\n",
       "      <td>2</td>\n",
       "      <td>1</td>\n",
       "      <td>1</td>\n",
       "      <td>2</td>\n",
       "      <td>2</td>\n",
       "      <td>NO</td>\n",
       "    </tr>\n",
       "    <tr>\n",
       "      <th>4</th>\n",
       "      <td>F</td>\n",
       "      <td>63</td>\n",
       "      <td>1</td>\n",
       "      <td>2</td>\n",
       "      <td>1</td>\n",
       "      <td>1</td>\n",
       "      <td>1</td>\n",
       "      <td>1</td>\n",
       "      <td>1</td>\n",
       "      <td>2</td>\n",
       "      <td>1</td>\n",
       "      <td>2</td>\n",
       "      <td>2</td>\n",
       "      <td>1</td>\n",
       "      <td>1</td>\n",
       "      <td>NO</td>\n",
       "    </tr>\n",
       "  </tbody>\n",
       "</table>\n",
       "</div>"
      ],
      "text/plain": [
       "  GENDER  AGE  SMOKING  YELLOW_FINGERS  ANXIETY  PEER_PRESSURE  \\\n",
       "0      M   69        1               2        2              1   \n",
       "1      M   74        2               1        1              1   \n",
       "2      F   59        1               1        1              2   \n",
       "3      M   63        2               2        2              1   \n",
       "4      F   63        1               2        1              1   \n",
       "\n",
       "   CHRONIC DISEASE  FATIGUE   ALLERGY   WHEEZING  ALCOHOL CONSUMING  COUGHING  \\\n",
       "0                1         2         1         2                  2         2   \n",
       "1                2         2         2         1                  1         1   \n",
       "2                1         2         1         2                  1         2   \n",
       "3                1         1         1         1                  2         1   \n",
       "4                1         1         1         2                  1         2   \n",
       "\n",
       "   SHORTNESS OF BREATH  SWALLOWING DIFFICULTY  CHEST PAIN LUNG_CANCER  \n",
       "0                    2                      2           2         YES  \n",
       "1                    2                      2           2         YES  \n",
       "2                    2                      1           2          NO  \n",
       "3                    1                      2           2          NO  \n",
       "4                    2                      1           1          NO  "
      ]
     },
     "execution_count": 2,
     "metadata": {},
     "output_type": "execute_result"
    }
   ],
   "source": [
    "# Load dataset\n",
    "path = 'lung_mysarahmadbhat.csv'\n",
    "\n",
    "df = pd.read_csv(path)\n",
    "\n",
    "df.head()"
   ]
  },
  {
   "cell_type": "code",
   "execution_count": 3,
   "metadata": {
    "colab": {
     "base_uri": "https://localhost:8080/"
    },
    "id": "w_PMXwD1aqxP",
    "outputId": "cb700822-852d-494d-e544-e3233e2abfa7"
   },
   "outputs": [
    {
     "data": {
      "text/plain": [
       "Index(['GENDER', 'AGE', 'SMOKING', 'YELLOW_FINGERS', 'ANXIETY',\n",
       "       'PEER_PRESSURE', 'CHRONIC DISEASE', 'FATIGUE ', 'ALLERGY ', 'WHEEZING',\n",
       "       'ALCOHOL CONSUMING', 'COUGHING', 'SHORTNESS OF BREATH',\n",
       "       'SWALLOWING DIFFICULTY', 'CHEST PAIN', 'LUNG_CANCER'],\n",
       "      dtype='object')"
      ]
     },
     "execution_count": 3,
     "metadata": {},
     "output_type": "execute_result"
    }
   ],
   "source": [
    "df.columns"
   ]
  },
  {
   "cell_type": "code",
   "execution_count": 4,
   "metadata": {
    "colab": {
     "base_uri": "https://localhost:8080/"
    },
    "id": "QoOk1Khkauva",
    "outputId": "2cb3e0bd-3780-4bbd-fddc-b7c819b41dd4"
   },
   "outputs": [
    {
     "name": "stdout",
     "output_type": "stream",
     "text": [
      "GENDER                   object\n",
      "AGE                       int64\n",
      "SMOKING                   int64\n",
      "YELLOW_FINGERS            int64\n",
      "ANXIETY                   int64\n",
      "PEER_PRESSURE             int64\n",
      "CHRONIC DISEASE           int64\n",
      "FATIGUE                   int64\n",
      "ALLERGY                   int64\n",
      "WHEEZING                  int64\n",
      "ALCOHOL CONSUMING         int64\n",
      "COUGHING                  int64\n",
      "SHORTNESS OF BREATH       int64\n",
      "SWALLOWING DIFFICULTY     int64\n",
      "CHEST PAIN                int64\n",
      "LUNG_CANCER              object\n",
      "dtype: object\n"
     ]
    }
   ],
   "source": [
    "print(df.dtypes)"
   ]
  },
  {
   "cell_type": "code",
   "execution_count": 5,
   "metadata": {
    "colab": {
     "base_uri": "https://localhost:8080/",
     "height": 542
    },
    "id": "6e9_MUFka2T1",
    "outputId": "af6db1d7-9859-424b-9162-f642e1e09846"
   },
   "outputs": [
    {
     "data": {
      "application/vnd.plotly.v1+json": {
       "config": {
        "plotlyServerURL": "https://plot.ly"
       },
       "data": [
        {
         "hovertemplate": "Lung Cancer Category=%{x}<br>Count=%{y}<br>text=%{text}<extra></extra>",
         "legendgroup": "YES",
         "marker": {
          "color": "rgb(228,26,28)",
          "pattern": {
           "shape": ""
          }
         },
         "name": "YES",
         "orientation": "v",
         "showlegend": true,
         "text": [
          "270 (87.4%)"
         ],
         "textposition": "outside",
         "texttemplate": "%{text}",
         "type": "bar",
         "x": [
          "YES"
         ],
         "xaxis": "x",
         "y": {
          "bdata": "DgE=",
          "dtype": "i2"
         },
         "yaxis": "y"
        },
        {
         "hovertemplate": "Lung Cancer Category=%{x}<br>Count=%{y}<br>text=%{text}<extra></extra>",
         "legendgroup": "NO",
         "marker": {
          "color": "rgb(55,126,184)",
          "pattern": {
           "shape": ""
          }
         },
         "name": "NO",
         "orientation": "v",
         "showlegend": true,
         "text": [
          "39 (12.6%)"
         ],
         "textposition": "outside",
         "texttemplate": "%{text}",
         "type": "bar",
         "x": [
          "NO"
         ],
         "xaxis": "x",
         "y": {
          "bdata": "Jw==",
          "dtype": "i1"
         },
         "yaxis": "y"
        }
       ],
       "layout": {
        "barmode": "relative",
        "legend": {
         "title": {
          "text": "Lung Cancer Category"
         },
         "tracegroupgap": 0
        },
        "margin": {
         "b": 50,
         "l": 50,
         "r": 50,
         "t": 50
        },
        "template": {
         "data": {
          "bar": [
           {
            "error_x": {
             "color": "#2a3f5f"
            },
            "error_y": {
             "color": "#2a3f5f"
            },
            "marker": {
             "line": {
              "color": "#E5ECF6",
              "width": 0.5
             },
             "pattern": {
              "fillmode": "overlay",
              "size": 10,
              "solidity": 0.2
             }
            },
            "type": "bar"
           }
          ],
          "barpolar": [
           {
            "marker": {
             "line": {
              "color": "#E5ECF6",
              "width": 0.5
             },
             "pattern": {
              "fillmode": "overlay",
              "size": 10,
              "solidity": 0.2
             }
            },
            "type": "barpolar"
           }
          ],
          "carpet": [
           {
            "aaxis": {
             "endlinecolor": "#2a3f5f",
             "gridcolor": "white",
             "linecolor": "white",
             "minorgridcolor": "white",
             "startlinecolor": "#2a3f5f"
            },
            "baxis": {
             "endlinecolor": "#2a3f5f",
             "gridcolor": "white",
             "linecolor": "white",
             "minorgridcolor": "white",
             "startlinecolor": "#2a3f5f"
            },
            "type": "carpet"
           }
          ],
          "choropleth": [
           {
            "colorbar": {
             "outlinewidth": 0,
             "ticks": ""
            },
            "type": "choropleth"
           }
          ],
          "contour": [
           {
            "colorbar": {
             "outlinewidth": 0,
             "ticks": ""
            },
            "colorscale": [
             [
              0,
              "#0d0887"
             ],
             [
              0.1111111111111111,
              "#46039f"
             ],
             [
              0.2222222222222222,
              "#7201a8"
             ],
             [
              0.3333333333333333,
              "#9c179e"
             ],
             [
              0.4444444444444444,
              "#bd3786"
             ],
             [
              0.5555555555555556,
              "#d8576b"
             ],
             [
              0.6666666666666666,
              "#ed7953"
             ],
             [
              0.7777777777777778,
              "#fb9f3a"
             ],
             [
              0.8888888888888888,
              "#fdca26"
             ],
             [
              1,
              "#f0f921"
             ]
            ],
            "type": "contour"
           }
          ],
          "contourcarpet": [
           {
            "colorbar": {
             "outlinewidth": 0,
             "ticks": ""
            },
            "type": "contourcarpet"
           }
          ],
          "heatmap": [
           {
            "colorbar": {
             "outlinewidth": 0,
             "ticks": ""
            },
            "colorscale": [
             [
              0,
              "#0d0887"
             ],
             [
              0.1111111111111111,
              "#46039f"
             ],
             [
              0.2222222222222222,
              "#7201a8"
             ],
             [
              0.3333333333333333,
              "#9c179e"
             ],
             [
              0.4444444444444444,
              "#bd3786"
             ],
             [
              0.5555555555555556,
              "#d8576b"
             ],
             [
              0.6666666666666666,
              "#ed7953"
             ],
             [
              0.7777777777777778,
              "#fb9f3a"
             ],
             [
              0.8888888888888888,
              "#fdca26"
             ],
             [
              1,
              "#f0f921"
             ]
            ],
            "type": "heatmap"
           }
          ],
          "histogram": [
           {
            "marker": {
             "pattern": {
              "fillmode": "overlay",
              "size": 10,
              "solidity": 0.2
             }
            },
            "type": "histogram"
           }
          ],
          "histogram2d": [
           {
            "colorbar": {
             "outlinewidth": 0,
             "ticks": ""
            },
            "colorscale": [
             [
              0,
              "#0d0887"
             ],
             [
              0.1111111111111111,
              "#46039f"
             ],
             [
              0.2222222222222222,
              "#7201a8"
             ],
             [
              0.3333333333333333,
              "#9c179e"
             ],
             [
              0.4444444444444444,
              "#bd3786"
             ],
             [
              0.5555555555555556,
              "#d8576b"
             ],
             [
              0.6666666666666666,
              "#ed7953"
             ],
             [
              0.7777777777777778,
              "#fb9f3a"
             ],
             [
              0.8888888888888888,
              "#fdca26"
             ],
             [
              1,
              "#f0f921"
             ]
            ],
            "type": "histogram2d"
           }
          ],
          "histogram2dcontour": [
           {
            "colorbar": {
             "outlinewidth": 0,
             "ticks": ""
            },
            "colorscale": [
             [
              0,
              "#0d0887"
             ],
             [
              0.1111111111111111,
              "#46039f"
             ],
             [
              0.2222222222222222,
              "#7201a8"
             ],
             [
              0.3333333333333333,
              "#9c179e"
             ],
             [
              0.4444444444444444,
              "#bd3786"
             ],
             [
              0.5555555555555556,
              "#d8576b"
             ],
             [
              0.6666666666666666,
              "#ed7953"
             ],
             [
              0.7777777777777778,
              "#fb9f3a"
             ],
             [
              0.8888888888888888,
              "#fdca26"
             ],
             [
              1,
              "#f0f921"
             ]
            ],
            "type": "histogram2dcontour"
           }
          ],
          "mesh3d": [
           {
            "colorbar": {
             "outlinewidth": 0,
             "ticks": ""
            },
            "type": "mesh3d"
           }
          ],
          "parcoords": [
           {
            "line": {
             "colorbar": {
              "outlinewidth": 0,
              "ticks": ""
             }
            },
            "type": "parcoords"
           }
          ],
          "pie": [
           {
            "automargin": true,
            "type": "pie"
           }
          ],
          "scatter": [
           {
            "fillpattern": {
             "fillmode": "overlay",
             "size": 10,
             "solidity": 0.2
            },
            "type": "scatter"
           }
          ],
          "scatter3d": [
           {
            "line": {
             "colorbar": {
              "outlinewidth": 0,
              "ticks": ""
             }
            },
            "marker": {
             "colorbar": {
              "outlinewidth": 0,
              "ticks": ""
             }
            },
            "type": "scatter3d"
           }
          ],
          "scattercarpet": [
           {
            "marker": {
             "colorbar": {
              "outlinewidth": 0,
              "ticks": ""
             }
            },
            "type": "scattercarpet"
           }
          ],
          "scattergeo": [
           {
            "marker": {
             "colorbar": {
              "outlinewidth": 0,
              "ticks": ""
             }
            },
            "type": "scattergeo"
           }
          ],
          "scattergl": [
           {
            "marker": {
             "colorbar": {
              "outlinewidth": 0,
              "ticks": ""
             }
            },
            "type": "scattergl"
           }
          ],
          "scattermap": [
           {
            "marker": {
             "colorbar": {
              "outlinewidth": 0,
              "ticks": ""
             }
            },
            "type": "scattermap"
           }
          ],
          "scattermapbox": [
           {
            "marker": {
             "colorbar": {
              "outlinewidth": 0,
              "ticks": ""
             }
            },
            "type": "scattermapbox"
           }
          ],
          "scatterpolar": [
           {
            "marker": {
             "colorbar": {
              "outlinewidth": 0,
              "ticks": ""
             }
            },
            "type": "scatterpolar"
           }
          ],
          "scatterpolargl": [
           {
            "marker": {
             "colorbar": {
              "outlinewidth": 0,
              "ticks": ""
             }
            },
            "type": "scatterpolargl"
           }
          ],
          "scatterternary": [
           {
            "marker": {
             "colorbar": {
              "outlinewidth": 0,
              "ticks": ""
             }
            },
            "type": "scatterternary"
           }
          ],
          "surface": [
           {
            "colorbar": {
             "outlinewidth": 0,
             "ticks": ""
            },
            "colorscale": [
             [
              0,
              "#0d0887"
             ],
             [
              0.1111111111111111,
              "#46039f"
             ],
             [
              0.2222222222222222,
              "#7201a8"
             ],
             [
              0.3333333333333333,
              "#9c179e"
             ],
             [
              0.4444444444444444,
              "#bd3786"
             ],
             [
              0.5555555555555556,
              "#d8576b"
             ],
             [
              0.6666666666666666,
              "#ed7953"
             ],
             [
              0.7777777777777778,
              "#fb9f3a"
             ],
             [
              0.8888888888888888,
              "#fdca26"
             ],
             [
              1,
              "#f0f921"
             ]
            ],
            "type": "surface"
           }
          ],
          "table": [
           {
            "cells": {
             "fill": {
              "color": "#EBF0F8"
             },
             "line": {
              "color": "white"
             }
            },
            "header": {
             "fill": {
              "color": "#C8D4E3"
             },
             "line": {
              "color": "white"
             }
            },
            "type": "table"
           }
          ]
         },
         "layout": {
          "annotationdefaults": {
           "arrowcolor": "#2a3f5f",
           "arrowhead": 0,
           "arrowwidth": 1
          },
          "autotypenumbers": "strict",
          "coloraxis": {
           "colorbar": {
            "outlinewidth": 0,
            "ticks": ""
           }
          },
          "colorscale": {
           "diverging": [
            [
             0,
             "#8e0152"
            ],
            [
             0.1,
             "#c51b7d"
            ],
            [
             0.2,
             "#de77ae"
            ],
            [
             0.3,
             "#f1b6da"
            ],
            [
             0.4,
             "#fde0ef"
            ],
            [
             0.5,
             "#f7f7f7"
            ],
            [
             0.6,
             "#e6f5d0"
            ],
            [
             0.7,
             "#b8e186"
            ],
            [
             0.8,
             "#7fbc41"
            ],
            [
             0.9,
             "#4d9221"
            ],
            [
             1,
             "#276419"
            ]
           ],
           "sequential": [
            [
             0,
             "#0d0887"
            ],
            [
             0.1111111111111111,
             "#46039f"
            ],
            [
             0.2222222222222222,
             "#7201a8"
            ],
            [
             0.3333333333333333,
             "#9c179e"
            ],
            [
             0.4444444444444444,
             "#bd3786"
            ],
            [
             0.5555555555555556,
             "#d8576b"
            ],
            [
             0.6666666666666666,
             "#ed7953"
            ],
            [
             0.7777777777777778,
             "#fb9f3a"
            ],
            [
             0.8888888888888888,
             "#fdca26"
            ],
            [
             1,
             "#f0f921"
            ]
           ],
           "sequentialminus": [
            [
             0,
             "#0d0887"
            ],
            [
             0.1111111111111111,
             "#46039f"
            ],
            [
             0.2222222222222222,
             "#7201a8"
            ],
            [
             0.3333333333333333,
             "#9c179e"
            ],
            [
             0.4444444444444444,
             "#bd3786"
            ],
            [
             0.5555555555555556,
             "#d8576b"
            ],
            [
             0.6666666666666666,
             "#ed7953"
            ],
            [
             0.7777777777777778,
             "#fb9f3a"
            ],
            [
             0.8888888888888888,
             "#fdca26"
            ],
            [
             1,
             "#f0f921"
            ]
           ]
          },
          "colorway": [
           "#636efa",
           "#EF553B",
           "#00cc96",
           "#ab63fa",
           "#FFA15A",
           "#19d3f3",
           "#FF6692",
           "#B6E880",
           "#FF97FF",
           "#FECB52"
          ],
          "font": {
           "color": "#2a3f5f"
          },
          "geo": {
           "bgcolor": "white",
           "lakecolor": "white",
           "landcolor": "#E5ECF6",
           "showlakes": true,
           "showland": true,
           "subunitcolor": "white"
          },
          "hoverlabel": {
           "align": "left"
          },
          "hovermode": "closest",
          "mapbox": {
           "style": "light"
          },
          "paper_bgcolor": "white",
          "plot_bgcolor": "#E5ECF6",
          "polar": {
           "angularaxis": {
            "gridcolor": "white",
            "linecolor": "white",
            "ticks": ""
           },
           "bgcolor": "#E5ECF6",
           "radialaxis": {
            "gridcolor": "white",
            "linecolor": "white",
            "ticks": ""
           }
          },
          "scene": {
           "xaxis": {
            "backgroundcolor": "#E5ECF6",
            "gridcolor": "white",
            "gridwidth": 2,
            "linecolor": "white",
            "showbackground": true,
            "ticks": "",
            "zerolinecolor": "white"
           },
           "yaxis": {
            "backgroundcolor": "#E5ECF6",
            "gridcolor": "white",
            "gridwidth": 2,
            "linecolor": "white",
            "showbackground": true,
            "ticks": "",
            "zerolinecolor": "white"
           },
           "zaxis": {
            "backgroundcolor": "#E5ECF6",
            "gridcolor": "white",
            "gridwidth": 2,
            "linecolor": "white",
            "showbackground": true,
            "ticks": "",
            "zerolinecolor": "white"
           }
          },
          "shapedefaults": {
           "line": {
            "color": "#2a3f5f"
           }
          },
          "ternary": {
           "aaxis": {
            "gridcolor": "white",
            "linecolor": "white",
            "ticks": ""
           },
           "baxis": {
            "gridcolor": "white",
            "linecolor": "white",
            "ticks": ""
           },
           "bgcolor": "#E5ECF6",
           "caxis": {
            "gridcolor": "white",
            "linecolor": "white",
            "ticks": ""
           }
          },
          "title": {
           "x": 0.05
          },
          "xaxis": {
           "automargin": true,
           "gridcolor": "white",
           "linecolor": "white",
           "ticks": "",
           "title": {
            "standoff": 15
           },
           "zerolinecolor": "white",
           "zerolinewidth": 2
          },
          "yaxis": {
           "automargin": true,
           "gridcolor": "white",
           "linecolor": "white",
           "ticks": "",
           "title": {
            "standoff": 15
           },
           "zerolinecolor": "white",
           "zerolinewidth": 2
          }
         }
        },
        "title": {
         "text": "Lung Cancer Distribution"
        },
        "xaxis": {
         "anchor": "y",
         "categoryarray": [
          "YES",
          "NO"
         ],
         "categoryorder": "array",
         "domain": [
          0,
          1
         ],
         "title": {
          "text": "Lung Cancer Category"
         }
        },
        "yaxis": {
         "anchor": "x",
         "domain": [
          0,
          1
         ],
         "title": {
          "text": "Count"
         }
        }
       }
      }
     },
     "metadata": {},
     "output_type": "display_data"
    }
   ],
   "source": [
    "import plotly.express as px\n",
    "\n",
    "# Membuat DataFrame tdf yang berisi counts dari variabel 'Level'\n",
    "tdf = df['LUNG_CANCER'].value_counts().reset_index()\n",
    "tdf.columns = ['LUNG_CANCER', 'count']  # Memberi nama kolom agar lebih mudah dipahami\n",
    "\n",
    "# Menambahkan kolom persentase\n",
    "total_count = tdf['count'].sum()\n",
    "tdf['percentage'] = (tdf['count'] / total_count) * 100\n",
    "\n",
    "# Membuat diagram batang interaktif menggunakan Plotly\n",
    "fig = px.bar(tdf, x='LUNG_CANCER', y='count',\n",
    "             title='Lung Cancer Distribution',\n",
    "             labels={'LUNG_CANCER': 'Lung Cancer Category', 'count': 'Count'},\n",
    "             color='LUNG_CANCER',  # Memberikan warna berbeda untuk setiap kategori\n",
    "             color_discrete_sequence=px.colors.qualitative.Set1,  # Menentukan palet warna\n",
    "             text=tdf.apply(lambda row: f\"{int(row['count'])} ({row['percentage']:.1f}%)\", axis=1))  # Menambahkan count dan persentase\n",
    "\n",
    "# Menampilkan chart\n",
    "fig.update_traces(textposition='outside',  # Menempatkan teks di luar batang\n",
    "                  texttemplate='%{text}')  # Menampilkan nilai count dan persentase\n",
    "\n",
    "# Menyesuaikan margin agar teks tidak tertutup\n",
    "fig.update_layout(\n",
    "    margin=dict(l=50, r=50, t=50, b=50),  # Memberikan ruang pada sisi kiri, kanan, atas, dan bawah\n",
    ")\n",
    "\n",
    "fig.show()\n"
   ]
  },
  {
   "cell_type": "code",
   "execution_count": 6,
   "metadata": {
    "colab": {
     "base_uri": "https://localhost:8080/"
    },
    "id": "LKPev_uZbHPN",
    "outputId": "fcaae1c3-c2a6-4f72-f54b-4abb656c3213"
   },
   "outputs": [
    {
     "name": "stdout",
     "output_type": "stream",
     "text": [
      "GENDER                   0\n",
      "AGE                      0\n",
      "SMOKING                  0\n",
      "YELLOW_FINGERS           0\n",
      "ANXIETY                  0\n",
      "PEER_PRESSURE            0\n",
      "CHRONIC DISEASE          0\n",
      "FATIGUE                  0\n",
      "ALLERGY                  0\n",
      "WHEEZING                 0\n",
      "ALCOHOL CONSUMING        0\n",
      "COUGHING                 0\n",
      "SHORTNESS OF BREATH      0\n",
      "SWALLOWING DIFFICULTY    0\n",
      "CHEST PAIN               0\n",
      "LUNG_CANCER              0\n",
      "dtype: int64\n"
     ]
    }
   ],
   "source": [
    "print(df.isnull().sum())"
   ]
  },
  {
   "cell_type": "markdown",
   "metadata": {
    "id": "pyU2ibIk_yMs"
   },
   "source": [
    "Tahap Preprocessing (Encoding tipe data)"
   ]
  },
  {
   "cell_type": "code",
   "execution_count": 7,
   "metadata": {
    "colab": {
     "base_uri": "https://localhost:8080/"
    },
    "id": "8Yb_GmxyevhH",
    "outputId": "30f4488e-898a-4405-c9d8-50f2bee89558"
   },
   "outputs": [
    {
     "name": "stdout",
     "output_type": "stream",
     "text": [
      "   GENDER  LUNG_CANCER\n",
      "0       1            1\n",
      "1       1            1\n",
      "2       2            0\n",
      "3       1            0\n",
      "4       2            0\n"
     ]
    }
   ],
   "source": [
    "# Mengubah kolom 'GENDER' menjadi numerik (F = 2, M = 1)\n",
    "df['GENDER'] = df['GENDER'].map({'F': 2, 'M': 1})\n",
    "\n",
    "# Mengubah kolom 'LUNG_CANCER' menjadi numerik (NO = 0, YES = 1)\n",
    "df['LUNG_CANCER'] = df['LUNG_CANCER'].map({'NO': 0, 'YES': 1})\n",
    "\n",
    "# Cek hasilnya\n",
    "print(df[['GENDER', 'LUNG_CANCER']].head())"
   ]
  },
  {
   "cell_type": "code",
   "execution_count": 8,
   "metadata": {
    "colab": {
     "base_uri": "https://localhost:8080/"
    },
    "id": "miRjz2eNerIl",
    "outputId": "64641533-599d-4ceb-ca52-3abae55ec174"
   },
   "outputs": [
    {
     "name": "stdout",
     "output_type": "stream",
     "text": [
      "<class 'pandas.core.frame.DataFrame'>\n",
      "RangeIndex: 309 entries, 0 to 308\n",
      "Data columns (total 16 columns):\n",
      " #   Column                 Non-Null Count  Dtype\n",
      "---  ------                 --------------  -----\n",
      " 0   GENDER                 309 non-null    int64\n",
      " 1   AGE                    309 non-null    int64\n",
      " 2   SMOKING                309 non-null    int64\n",
      " 3   YELLOW_FINGERS         309 non-null    int64\n",
      " 4   ANXIETY                309 non-null    int64\n",
      " 5   PEER_PRESSURE          309 non-null    int64\n",
      " 6   CHRONIC DISEASE        309 non-null    int64\n",
      " 7   FATIGUE                309 non-null    int64\n",
      " 8   ALLERGY                309 non-null    int64\n",
      " 9   WHEEZING               309 non-null    int64\n",
      " 10  ALCOHOL CONSUMING      309 non-null    int64\n",
      " 11  COUGHING               309 non-null    int64\n",
      " 12  SHORTNESS OF BREATH    309 non-null    int64\n",
      " 13  SWALLOWING DIFFICULTY  309 non-null    int64\n",
      " 14  CHEST PAIN             309 non-null    int64\n",
      " 15  LUNG_CANCER            309 non-null    int64\n",
      "dtypes: int64(16)\n",
      "memory usage: 38.8 KB\n"
     ]
    }
   ],
   "source": [
    "df.info()"
   ]
  },
  {
   "cell_type": "code",
   "execution_count": 9,
   "metadata": {
    "id": "QZecebUugAZv"
   },
   "outputs": [],
   "source": [
    "# Pisahkan data\n",
    "X = df.drop(columns=['LUNG_CANCER'])  # Semua kolom kecuali 'LUNG_CANCER'\n",
    "y = df['LUNG_CANCER']"
   ]
  },
  {
   "cell_type": "code",
   "execution_count": 10,
   "metadata": {
    "colab": {
     "base_uri": "https://localhost:8080/",
     "height": 244
    },
    "id": "xySOFoaJMjQs",
    "outputId": "f15c1af3-676c-48ff-ac1c-576e51ca1b78"
   },
   "outputs": [
    {
     "data": {
      "text/html": [
       "<div>\n",
       "<style scoped>\n",
       "    .dataframe tbody tr th:only-of-type {\n",
       "        vertical-align: middle;\n",
       "    }\n",
       "\n",
       "    .dataframe tbody tr th {\n",
       "        vertical-align: top;\n",
       "    }\n",
       "\n",
       "    .dataframe thead th {\n",
       "        text-align: right;\n",
       "    }\n",
       "</style>\n",
       "<table border=\"1\" class=\"dataframe\">\n",
       "  <thead>\n",
       "    <tr style=\"text-align: right;\">\n",
       "      <th></th>\n",
       "      <th>GENDER</th>\n",
       "      <th>AGE</th>\n",
       "      <th>SMOKING</th>\n",
       "      <th>YELLOW_FINGERS</th>\n",
       "      <th>ANXIETY</th>\n",
       "      <th>PEER_PRESSURE</th>\n",
       "      <th>CHRONIC DISEASE</th>\n",
       "      <th>FATIGUE</th>\n",
       "      <th>ALLERGY</th>\n",
       "      <th>WHEEZING</th>\n",
       "      <th>ALCOHOL CONSUMING</th>\n",
       "      <th>COUGHING</th>\n",
       "      <th>SHORTNESS OF BREATH</th>\n",
       "      <th>SWALLOWING DIFFICULTY</th>\n",
       "      <th>CHEST PAIN</th>\n",
       "    </tr>\n",
       "  </thead>\n",
       "  <tbody>\n",
       "    <tr>\n",
       "      <th>0</th>\n",
       "      <td>1</td>\n",
       "      <td>69</td>\n",
       "      <td>1</td>\n",
       "      <td>2</td>\n",
       "      <td>2</td>\n",
       "      <td>1</td>\n",
       "      <td>1</td>\n",
       "      <td>2</td>\n",
       "      <td>1</td>\n",
       "      <td>2</td>\n",
       "      <td>2</td>\n",
       "      <td>2</td>\n",
       "      <td>2</td>\n",
       "      <td>2</td>\n",
       "      <td>2</td>\n",
       "    </tr>\n",
       "    <tr>\n",
       "      <th>1</th>\n",
       "      <td>1</td>\n",
       "      <td>74</td>\n",
       "      <td>2</td>\n",
       "      <td>1</td>\n",
       "      <td>1</td>\n",
       "      <td>1</td>\n",
       "      <td>2</td>\n",
       "      <td>2</td>\n",
       "      <td>2</td>\n",
       "      <td>1</td>\n",
       "      <td>1</td>\n",
       "      <td>1</td>\n",
       "      <td>2</td>\n",
       "      <td>2</td>\n",
       "      <td>2</td>\n",
       "    </tr>\n",
       "    <tr>\n",
       "      <th>2</th>\n",
       "      <td>2</td>\n",
       "      <td>59</td>\n",
       "      <td>1</td>\n",
       "      <td>1</td>\n",
       "      <td>1</td>\n",
       "      <td>2</td>\n",
       "      <td>1</td>\n",
       "      <td>2</td>\n",
       "      <td>1</td>\n",
       "      <td>2</td>\n",
       "      <td>1</td>\n",
       "      <td>2</td>\n",
       "      <td>2</td>\n",
       "      <td>1</td>\n",
       "      <td>2</td>\n",
       "    </tr>\n",
       "    <tr>\n",
       "      <th>3</th>\n",
       "      <td>1</td>\n",
       "      <td>63</td>\n",
       "      <td>2</td>\n",
       "      <td>2</td>\n",
       "      <td>2</td>\n",
       "      <td>1</td>\n",
       "      <td>1</td>\n",
       "      <td>1</td>\n",
       "      <td>1</td>\n",
       "      <td>1</td>\n",
       "      <td>2</td>\n",
       "      <td>1</td>\n",
       "      <td>1</td>\n",
       "      <td>2</td>\n",
       "      <td>2</td>\n",
       "    </tr>\n",
       "    <tr>\n",
       "      <th>4</th>\n",
       "      <td>2</td>\n",
       "      <td>63</td>\n",
       "      <td>1</td>\n",
       "      <td>2</td>\n",
       "      <td>1</td>\n",
       "      <td>1</td>\n",
       "      <td>1</td>\n",
       "      <td>1</td>\n",
       "      <td>1</td>\n",
       "      <td>2</td>\n",
       "      <td>1</td>\n",
       "      <td>2</td>\n",
       "      <td>2</td>\n",
       "      <td>1</td>\n",
       "      <td>1</td>\n",
       "    </tr>\n",
       "  </tbody>\n",
       "</table>\n",
       "</div>"
      ],
      "text/plain": [
       "   GENDER  AGE  SMOKING  YELLOW_FINGERS  ANXIETY  PEER_PRESSURE  \\\n",
       "0       1   69        1               2        2              1   \n",
       "1       1   74        2               1        1              1   \n",
       "2       2   59        1               1        1              2   \n",
       "3       1   63        2               2        2              1   \n",
       "4       2   63        1               2        1              1   \n",
       "\n",
       "   CHRONIC DISEASE  FATIGUE   ALLERGY   WHEEZING  ALCOHOL CONSUMING  COUGHING  \\\n",
       "0                1         2         1         2                  2         2   \n",
       "1                2         2         2         1                  1         1   \n",
       "2                1         2         1         2                  1         2   \n",
       "3                1         1         1         1                  2         1   \n",
       "4                1         1         1         2                  1         2   \n",
       "\n",
       "   SHORTNESS OF BREATH  SWALLOWING DIFFICULTY  CHEST PAIN  \n",
       "0                    2                      2           2  \n",
       "1                    2                      2           2  \n",
       "2                    2                      1           2  \n",
       "3                    1                      2           2  \n",
       "4                    2                      1           1  "
      ]
     },
     "execution_count": 10,
     "metadata": {},
     "output_type": "execute_result"
    }
   ],
   "source": [
    "X.head()"
   ]
  },
  {
   "cell_type": "markdown",
   "metadata": {
    "id": "TNUwQ5qzEsdy"
   },
   "source": [
    "Tahap Split Data (80,20)"
   ]
  },
  {
   "cell_type": "code",
   "execution_count": 11,
   "metadata": {
    "colab": {
     "base_uri": "https://localhost:8080/"
    },
    "id": "YG3QTv5iglFe",
    "outputId": "55e1c39d-726d-4958-f82e-8a3ab0936dc3"
   },
   "outputs": [
    {
     "name": "stdout",
     "output_type": "stream",
     "text": [
      "Train size: 247 data\n",
      "Test size: 62 data\n",
      "Train size Stratify: 247 data\n",
      "Test size Stratify: 62 data\n"
     ]
    }
   ],
   "source": [
    "# Membagi data menjadi train dan test (80% train, 20% test)\n",
    "X_train, X_test, y_train, y_test = train_test_split(X, y, test_size=0.2, random_state=42)\n",
    "\n",
    "# Membagi data menjadi train dan test (80% train, 20% test), serta menggunakan Stratified ShuffleSplit pada kolom y\n",
    "X_train_st, X_test_st, y_train_st, y_test_st = train_test_split(X, y, test_size=0.2, random_state=42, stratify=y)\n",
    "\n",
    "# Menampilkan ukuran data training dan testing\n",
    "train_size = len(X_train)\n",
    "test_size = len(X_test)\n",
    "\n",
    "train_size_st = len(X_train_st)\n",
    "test_size_st = len(X_test_st)\n",
    "\n",
    "print(f\"Train size: {train_size} data\")\n",
    "print(f\"Test size: {test_size} data\")\n",
    "\n",
    "print(f\"Train size Stratify: {train_size_st} data\")\n",
    "print(f\"Test size Stratify: {test_size_st} data\")"
   ]
  },
  {
   "cell_type": "code",
   "execution_count": 46,
   "metadata": {},
   "outputs": [
    {
     "data": {
      "application/vnd.plotly.v1+json": {
       "config": {
        "plotlyServerURL": "https://plot.ly"
       },
       "data": [
        {
         "alignmentgroup": "True",
         "hovertemplate": "Dataset=Train<br>Stratify=No<br>Class=%{x}<br>Proportion=%{text}<extra></extra>",
         "legendgroup": "Train",
         "marker": {
          "color": "rgb(228,26,28)",
          "pattern": {
           "shape": ""
          }
         },
         "name": "Train",
         "offsetgroup": "Train",
         "orientation": "v",
         "showlegend": true,
         "text": {
          "bdata": "TrOFuds06z/JMukZkSzDPw==",
          "dtype": "f8"
         },
         "textposition": "outside",
         "texttemplate": "%{text:.2f}",
         "type": "bar",
         "x": {
          "bdata": "AQA=",
          "dtype": "i1"
         },
         "xaxis": "x",
         "y": {
          "bdata": "TrOFuds06z/JMukZkSzDPw==",
          "dtype": "f8"
         },
         "yaxis": "y"
        },
        {
         "alignmentgroup": "True",
         "hovertemplate": "Dataset=Test<br>Stratify=No<br>Class=%{x}<br>Proportion=%{text}<extra></extra>",
         "legendgroup": "Test",
         "marker": {
          "color": "rgb(55,126,184)",
          "pattern": {
           "shape": ""
          }
         },
         "name": "Test",
         "offsetgroup": "Test",
         "orientation": "v",
         "showlegend": true,
         "text": {
          "bdata": "+N5777337j+EEEIIIYSgPw==",
          "dtype": "f8"
         },
         "textposition": "outside",
         "texttemplate": "%{text:.2f}",
         "type": "bar",
         "x": {
          "bdata": "AQA=",
          "dtype": "i1"
         },
         "xaxis": "x",
         "y": {
          "bdata": "+N5777337j+EEEIIIYSgPw==",
          "dtype": "f8"
         },
         "yaxis": "y"
        },
        {
         "alignmentgroup": "True",
         "hovertemplate": "Dataset=Train (Stratify)<br>Stratify=Yes<br>Class=%{x}<br>Proportion=%{text}<extra></extra>",
         "legendgroup": "Train (Stratify)",
         "marker": {
          "color": "rgb(77,175,74)",
          "pattern": {
           "shape": ""
          }
         },
         "name": "Train (Stratify)",
         "offsetgroup": "Train (Stratify)",
         "orientation": "v",
         "showlegend": true,
         "text": {
          "bdata": "vr8xsNr76z8JATk/lRDAPw==",
          "dtype": "f8"
         },
         "textposition": "outside",
         "texttemplate": "%{text:.2f}",
         "type": "bar",
         "x": {
          "bdata": "AQA=",
          "dtype": "i1"
         },
         "xaxis": "x2",
         "y": {
          "bdata": "vr8xsNr76z8JATk/lRDAPw==",
          "dtype": "f8"
         },
         "yaxis": "y2"
        },
        {
         "alignmentgroup": "True",
         "hovertemplate": "Dataset=Test (Stratify)<br>Stratify=Yes<br>Class=%{x}<br>Proportion=%{text}<extra></extra>",
         "legendgroup": "Test (Stratify)",
         "marker": {
          "color": "rgb(152,78,163)",
          "pattern": {
           "shape": ""
          }
         },
         "name": "Test (Stratify)",
         "offsetgroup": "Test (Stratify)",
         "orientation": "v",
         "showlegend": true,
         "text": {
          "bdata": "33vvvffe6z+EEEIIIYTAPw==",
          "dtype": "f8"
         },
         "textposition": "outside",
         "texttemplate": "%{text:.2f}",
         "type": "bar",
         "x": {
          "bdata": "AQA=",
          "dtype": "i1"
         },
         "xaxis": "x2",
         "y": {
          "bdata": "33vvvffe6z+EEEIIIYTAPw==",
          "dtype": "f8"
         },
         "yaxis": "y2"
        }
       ],
       "layout": {
        "annotations": [
         {
          "font": {},
          "showarrow": false,
          "text": "Stratify=No",
          "x": 0.245,
          "xanchor": "center",
          "xref": "paper",
          "y": 1,
          "yanchor": "bottom",
          "yref": "paper"
         },
         {
          "font": {},
          "showarrow": false,
          "text": "Stratify=Yes",
          "x": 0.755,
          "xanchor": "center",
          "xref": "paper",
          "y": 1,
          "yanchor": "bottom",
          "yref": "paper"
         }
        ],
        "barmode": "group",
        "height": 500,
        "legend": {
         "title": {
          "text": "Dataset"
         },
         "tracegroupgap": 0
        },
        "margin": {
         "t": 60
        },
        "template": {
         "data": {
          "bar": [
           {
            "error_x": {
             "color": "#2a3f5f"
            },
            "error_y": {
             "color": "#2a3f5f"
            },
            "marker": {
             "line": {
              "color": "#E5ECF6",
              "width": 0.5
             },
             "pattern": {
              "fillmode": "overlay",
              "size": 10,
              "solidity": 0.2
             }
            },
            "type": "bar"
           }
          ],
          "barpolar": [
           {
            "marker": {
             "line": {
              "color": "#E5ECF6",
              "width": 0.5
             },
             "pattern": {
              "fillmode": "overlay",
              "size": 10,
              "solidity": 0.2
             }
            },
            "type": "barpolar"
           }
          ],
          "carpet": [
           {
            "aaxis": {
             "endlinecolor": "#2a3f5f",
             "gridcolor": "white",
             "linecolor": "white",
             "minorgridcolor": "white",
             "startlinecolor": "#2a3f5f"
            },
            "baxis": {
             "endlinecolor": "#2a3f5f",
             "gridcolor": "white",
             "linecolor": "white",
             "minorgridcolor": "white",
             "startlinecolor": "#2a3f5f"
            },
            "type": "carpet"
           }
          ],
          "choropleth": [
           {
            "colorbar": {
             "outlinewidth": 0,
             "ticks": ""
            },
            "type": "choropleth"
           }
          ],
          "contour": [
           {
            "colorbar": {
             "outlinewidth": 0,
             "ticks": ""
            },
            "colorscale": [
             [
              0,
              "#0d0887"
             ],
             [
              0.1111111111111111,
              "#46039f"
             ],
             [
              0.2222222222222222,
              "#7201a8"
             ],
             [
              0.3333333333333333,
              "#9c179e"
             ],
             [
              0.4444444444444444,
              "#bd3786"
             ],
             [
              0.5555555555555556,
              "#d8576b"
             ],
             [
              0.6666666666666666,
              "#ed7953"
             ],
             [
              0.7777777777777778,
              "#fb9f3a"
             ],
             [
              0.8888888888888888,
              "#fdca26"
             ],
             [
              1,
              "#f0f921"
             ]
            ],
            "type": "contour"
           }
          ],
          "contourcarpet": [
           {
            "colorbar": {
             "outlinewidth": 0,
             "ticks": ""
            },
            "type": "contourcarpet"
           }
          ],
          "heatmap": [
           {
            "colorbar": {
             "outlinewidth": 0,
             "ticks": ""
            },
            "colorscale": [
             [
              0,
              "#0d0887"
             ],
             [
              0.1111111111111111,
              "#46039f"
             ],
             [
              0.2222222222222222,
              "#7201a8"
             ],
             [
              0.3333333333333333,
              "#9c179e"
             ],
             [
              0.4444444444444444,
              "#bd3786"
             ],
             [
              0.5555555555555556,
              "#d8576b"
             ],
             [
              0.6666666666666666,
              "#ed7953"
             ],
             [
              0.7777777777777778,
              "#fb9f3a"
             ],
             [
              0.8888888888888888,
              "#fdca26"
             ],
             [
              1,
              "#f0f921"
             ]
            ],
            "type": "heatmap"
           }
          ],
          "histogram": [
           {
            "marker": {
             "pattern": {
              "fillmode": "overlay",
              "size": 10,
              "solidity": 0.2
             }
            },
            "type": "histogram"
           }
          ],
          "histogram2d": [
           {
            "colorbar": {
             "outlinewidth": 0,
             "ticks": ""
            },
            "colorscale": [
             [
              0,
              "#0d0887"
             ],
             [
              0.1111111111111111,
              "#46039f"
             ],
             [
              0.2222222222222222,
              "#7201a8"
             ],
             [
              0.3333333333333333,
              "#9c179e"
             ],
             [
              0.4444444444444444,
              "#bd3786"
             ],
             [
              0.5555555555555556,
              "#d8576b"
             ],
             [
              0.6666666666666666,
              "#ed7953"
             ],
             [
              0.7777777777777778,
              "#fb9f3a"
             ],
             [
              0.8888888888888888,
              "#fdca26"
             ],
             [
              1,
              "#f0f921"
             ]
            ],
            "type": "histogram2d"
           }
          ],
          "histogram2dcontour": [
           {
            "colorbar": {
             "outlinewidth": 0,
             "ticks": ""
            },
            "colorscale": [
             [
              0,
              "#0d0887"
             ],
             [
              0.1111111111111111,
              "#46039f"
             ],
             [
              0.2222222222222222,
              "#7201a8"
             ],
             [
              0.3333333333333333,
              "#9c179e"
             ],
             [
              0.4444444444444444,
              "#bd3786"
             ],
             [
              0.5555555555555556,
              "#d8576b"
             ],
             [
              0.6666666666666666,
              "#ed7953"
             ],
             [
              0.7777777777777778,
              "#fb9f3a"
             ],
             [
              0.8888888888888888,
              "#fdca26"
             ],
             [
              1,
              "#f0f921"
             ]
            ],
            "type": "histogram2dcontour"
           }
          ],
          "mesh3d": [
           {
            "colorbar": {
             "outlinewidth": 0,
             "ticks": ""
            },
            "type": "mesh3d"
           }
          ],
          "parcoords": [
           {
            "line": {
             "colorbar": {
              "outlinewidth": 0,
              "ticks": ""
             }
            },
            "type": "parcoords"
           }
          ],
          "pie": [
           {
            "automargin": true,
            "type": "pie"
           }
          ],
          "scatter": [
           {
            "fillpattern": {
             "fillmode": "overlay",
             "size": 10,
             "solidity": 0.2
            },
            "type": "scatter"
           }
          ],
          "scatter3d": [
           {
            "line": {
             "colorbar": {
              "outlinewidth": 0,
              "ticks": ""
             }
            },
            "marker": {
             "colorbar": {
              "outlinewidth": 0,
              "ticks": ""
             }
            },
            "type": "scatter3d"
           }
          ],
          "scattercarpet": [
           {
            "marker": {
             "colorbar": {
              "outlinewidth": 0,
              "ticks": ""
             }
            },
            "type": "scattercarpet"
           }
          ],
          "scattergeo": [
           {
            "marker": {
             "colorbar": {
              "outlinewidth": 0,
              "ticks": ""
             }
            },
            "type": "scattergeo"
           }
          ],
          "scattergl": [
           {
            "marker": {
             "colorbar": {
              "outlinewidth": 0,
              "ticks": ""
             }
            },
            "type": "scattergl"
           }
          ],
          "scattermap": [
           {
            "marker": {
             "colorbar": {
              "outlinewidth": 0,
              "ticks": ""
             }
            },
            "type": "scattermap"
           }
          ],
          "scattermapbox": [
           {
            "marker": {
             "colorbar": {
              "outlinewidth": 0,
              "ticks": ""
             }
            },
            "type": "scattermapbox"
           }
          ],
          "scatterpolar": [
           {
            "marker": {
             "colorbar": {
              "outlinewidth": 0,
              "ticks": ""
             }
            },
            "type": "scatterpolar"
           }
          ],
          "scatterpolargl": [
           {
            "marker": {
             "colorbar": {
              "outlinewidth": 0,
              "ticks": ""
             }
            },
            "type": "scatterpolargl"
           }
          ],
          "scatterternary": [
           {
            "marker": {
             "colorbar": {
              "outlinewidth": 0,
              "ticks": ""
             }
            },
            "type": "scatterternary"
           }
          ],
          "surface": [
           {
            "colorbar": {
             "outlinewidth": 0,
             "ticks": ""
            },
            "colorscale": [
             [
              0,
              "#0d0887"
             ],
             [
              0.1111111111111111,
              "#46039f"
             ],
             [
              0.2222222222222222,
              "#7201a8"
             ],
             [
              0.3333333333333333,
              "#9c179e"
             ],
             [
              0.4444444444444444,
              "#bd3786"
             ],
             [
              0.5555555555555556,
              "#d8576b"
             ],
             [
              0.6666666666666666,
              "#ed7953"
             ],
             [
              0.7777777777777778,
              "#fb9f3a"
             ],
             [
              0.8888888888888888,
              "#fdca26"
             ],
             [
              1,
              "#f0f921"
             ]
            ],
            "type": "surface"
           }
          ],
          "table": [
           {
            "cells": {
             "fill": {
              "color": "#EBF0F8"
             },
             "line": {
              "color": "white"
             }
            },
            "header": {
             "fill": {
              "color": "#C8D4E3"
             },
             "line": {
              "color": "white"
             }
            },
            "type": "table"
           }
          ]
         },
         "layout": {
          "annotationdefaults": {
           "arrowcolor": "#2a3f5f",
           "arrowhead": 0,
           "arrowwidth": 1
          },
          "autotypenumbers": "strict",
          "coloraxis": {
           "colorbar": {
            "outlinewidth": 0,
            "ticks": ""
           }
          },
          "colorscale": {
           "diverging": [
            [
             0,
             "#8e0152"
            ],
            [
             0.1,
             "#c51b7d"
            ],
            [
             0.2,
             "#de77ae"
            ],
            [
             0.3,
             "#f1b6da"
            ],
            [
             0.4,
             "#fde0ef"
            ],
            [
             0.5,
             "#f7f7f7"
            ],
            [
             0.6,
             "#e6f5d0"
            ],
            [
             0.7,
             "#b8e186"
            ],
            [
             0.8,
             "#7fbc41"
            ],
            [
             0.9,
             "#4d9221"
            ],
            [
             1,
             "#276419"
            ]
           ],
           "sequential": [
            [
             0,
             "#0d0887"
            ],
            [
             0.1111111111111111,
             "#46039f"
            ],
            [
             0.2222222222222222,
             "#7201a8"
            ],
            [
             0.3333333333333333,
             "#9c179e"
            ],
            [
             0.4444444444444444,
             "#bd3786"
            ],
            [
             0.5555555555555556,
             "#d8576b"
            ],
            [
             0.6666666666666666,
             "#ed7953"
            ],
            [
             0.7777777777777778,
             "#fb9f3a"
            ],
            [
             0.8888888888888888,
             "#fdca26"
            ],
            [
             1,
             "#f0f921"
            ]
           ],
           "sequentialminus": [
            [
             0,
             "#0d0887"
            ],
            [
             0.1111111111111111,
             "#46039f"
            ],
            [
             0.2222222222222222,
             "#7201a8"
            ],
            [
             0.3333333333333333,
             "#9c179e"
            ],
            [
             0.4444444444444444,
             "#bd3786"
            ],
            [
             0.5555555555555556,
             "#d8576b"
            ],
            [
             0.6666666666666666,
             "#ed7953"
            ],
            [
             0.7777777777777778,
             "#fb9f3a"
            ],
            [
             0.8888888888888888,
             "#fdca26"
            ],
            [
             1,
             "#f0f921"
            ]
           ]
          },
          "colorway": [
           "#636efa",
           "#EF553B",
           "#00cc96",
           "#ab63fa",
           "#FFA15A",
           "#19d3f3",
           "#FF6692",
           "#B6E880",
           "#FF97FF",
           "#FECB52"
          ],
          "font": {
           "color": "#2a3f5f"
          },
          "geo": {
           "bgcolor": "white",
           "lakecolor": "white",
           "landcolor": "#E5ECF6",
           "showlakes": true,
           "showland": true,
           "subunitcolor": "white"
          },
          "hoverlabel": {
           "align": "left"
          },
          "hovermode": "closest",
          "mapbox": {
           "style": "light"
          },
          "paper_bgcolor": "white",
          "plot_bgcolor": "#E5ECF6",
          "polar": {
           "angularaxis": {
            "gridcolor": "white",
            "linecolor": "white",
            "ticks": ""
           },
           "bgcolor": "#E5ECF6",
           "radialaxis": {
            "gridcolor": "white",
            "linecolor": "white",
            "ticks": ""
           }
          },
          "scene": {
           "xaxis": {
            "backgroundcolor": "#E5ECF6",
            "gridcolor": "white",
            "gridwidth": 2,
            "linecolor": "white",
            "showbackground": true,
            "ticks": "",
            "zerolinecolor": "white"
           },
           "yaxis": {
            "backgroundcolor": "#E5ECF6",
            "gridcolor": "white",
            "gridwidth": 2,
            "linecolor": "white",
            "showbackground": true,
            "ticks": "",
            "zerolinecolor": "white"
           },
           "zaxis": {
            "backgroundcolor": "#E5ECF6",
            "gridcolor": "white",
            "gridwidth": 2,
            "linecolor": "white",
            "showbackground": true,
            "ticks": "",
            "zerolinecolor": "white"
           }
          },
          "shapedefaults": {
           "line": {
            "color": "#2a3f5f"
           }
          },
          "ternary": {
           "aaxis": {
            "gridcolor": "white",
            "linecolor": "white",
            "ticks": ""
           },
           "baxis": {
            "gridcolor": "white",
            "linecolor": "white",
            "ticks": ""
           },
           "bgcolor": "#E5ECF6",
           "caxis": {
            "gridcolor": "white",
            "linecolor": "white",
            "ticks": ""
           }
          },
          "title": {
           "x": 0.05
          },
          "xaxis": {
           "automargin": true,
           "gridcolor": "white",
           "linecolor": "white",
           "ticks": "",
           "title": {
            "standoff": 15
           },
           "zerolinecolor": "white",
           "zerolinewidth": 2
          },
          "yaxis": {
           "automargin": true,
           "gridcolor": "white",
           "linecolor": "white",
           "ticks": "",
           "title": {
            "standoff": 15
           },
           "zerolinecolor": "white",
           "zerolinewidth": 2
          }
         }
        },
        "title": {
         "text": "Label Distribution: Stratified vs Non-Stratified"
        },
        "width": 1000,
        "xaxis": {
         "anchor": "y",
         "domain": [
          0,
          0.49
         ],
         "title": {
          "text": "Class"
         }
        },
        "xaxis2": {
         "anchor": "y2",
         "domain": [
          0.51,
          1
         ],
         "matches": "x",
         "title": {
          "text": "Class"
         }
        },
        "yaxis": {
         "anchor": "x",
         "domain": [
          0,
          1
         ],
         "title": {
          "text": "Proportion"
         }
        },
        "yaxis2": {
         "anchor": "x2",
         "domain": [
          0,
          1
         ],
         "matches": "y",
         "showticklabels": false
        }
       }
      }
     },
     "metadata": {},
     "output_type": "display_data"
    }
   ],
   "source": [
    "# Data distribusi tanpa stratify\n",
    "train_counts = y_train.value_counts(normalize=True)\n",
    "test_counts = y_test.value_counts(normalize=True)\n",
    "\n",
    "# Data distribusi dengan stratify\n",
    "train_st_counts = y_train_st.value_counts(normalize=True)\n",
    "test_st_counts = y_test_st.value_counts(normalize=True)\n",
    "\n",
    "# Gabung data jadi satu DataFrame\n",
    "data_combined = pd.DataFrame({\n",
    "    'Class': list(train_counts.index) * 4,\n",
    "    'Proportion': list(train_counts.values) + list(test_counts.values) + list(train_st_counts.values) + list(test_st_counts.values),\n",
    "    'Dataset': ['Train'] * len(train_counts) + ['Test'] * len(test_counts) +\n",
    "               ['Train (Stratify)'] * len(train_st_counts) + ['Test (Stratify)'] * len(test_st_counts),\n",
    "    'Stratify': ['No'] * (len(train_counts) + len(test_counts)) + ['Yes'] * (len(train_st_counts) + len(test_st_counts))\n",
    "})\n",
    "\n",
    "# Buat plot\n",
    "fig = px.bar(\n",
    "    data_combined,\n",
    "    x='Class',\n",
    "    y='Proportion',\n",
    "    color='Dataset',\n",
    "    barmode='group',\n",
    "    facet_col='Stratify',\n",
    "    color_discrete_sequence=px.colors.qualitative.Set1,\n",
    "    text='Proportion'\n",
    ")\n",
    "\n",
    "fig.update_traces(texttemplate='%{text:.2f}', textposition='outside')\n",
    "fig.update_layout(\n",
    "    title='Label Distribution: Stratified vs Non-Stratified',\n",
    "    yaxis_title='Proportion',\n",
    "    xaxis_title='Class',\n",
    "    legend_title='Dataset',\n",
    "    height=500,\n",
    "    width=1000\n",
    ")\n",
    "\n",
    "fig.show()"
   ]
  },
  {
   "cell_type": "code",
   "execution_count": 48,
   "metadata": {
    "colab": {
     "base_uri": "https://localhost:8080/",
     "height": 660
    },
    "id": "FJ-BXnf7wEeF",
    "outputId": "1ae7f922-1f07-4e85-f056-ded39427057e"
   },
   "outputs": [
    {
     "name": "stdout",
     "output_type": "stream",
     "text": [
      "Decision Tree Classification Report:\n",
      "               precision    recall  f1-score   support\n",
      "\n",
      "           0       0.50      0.50      0.50         2\n",
      "           1       0.98      0.98      0.98        60\n",
      "\n",
      "    accuracy                           0.97        62\n",
      "   macro avg       0.74      0.74      0.74        62\n",
      "weighted avg       0.97      0.97      0.97        62\n",
      "\n",
      "Confusion Matrix:\n",
      " [[ 1  1]\n",
      " [ 1 59]]\n"
     ]
    }
   ],
   "source": [
    "\n",
    "# Inisialisasi model Decision Tree\n",
    "dtree = DecisionTreeClassifier(random_state=42)\n",
    "\n",
    "# Latih model Decision Tree\n",
    "dtree.fit(X_train, y_train)\n",
    "\n",
    "# Prediksi dengan Decision Tree\n",
    "dtree_pred = dtree.predict(X_test)\n",
    "\n",
    "# Evaluasi model Decision Tree\n",
    "dtree_accuracy = accuracy_score(y_test, dtree_pred)\n",
    "dtree_report = classification_report(y_test, dtree_pred)\n",
    "dtree_conf_matrix = confusion_matrix(y_test, dtree_pred)\n",
    "\n",
    "# Menampilkan hasil evaluasi\n",
    "print(\"Decision Tree Classification Report:\\n\", dtree_report)\n",
    "print(\"Confusion Matrix:\\n\", dtree_conf_matrix)"
   ]
  },
  {
   "cell_type": "code",
   "execution_count": 50,
   "metadata": {},
   "outputs": [
    {
     "name": "stdout",
     "output_type": "stream",
     "text": [
      "Decision Tree Classification Repor (ST)t:\n",
      "               precision    recall  f1-score   support\n",
      "\n",
      "           0       0.64      0.88      0.74         8\n",
      "           1       0.98      0.93      0.95        54\n",
      "\n",
      "    accuracy                           0.92        62\n",
      "   macro avg       0.81      0.90      0.84        62\n",
      "weighted avg       0.94      0.92      0.92        62\n",
      "\n",
      "Confusion Matrix (ST):\n",
      " [[ 7  1]\n",
      " [ 4 50]]\n"
     ]
    }
   ],
   "source": [
    "# Inisialisasi model Decision Tree\n",
    "dtree_st = DecisionTreeClassifier(random_state=42)\n",
    "\n",
    "# Latih model Decision Tree\n",
    "dtree_st.fit(X_train_st, y_train_st)\n",
    "\n",
    "# Prediksi dengan Decision Tree\n",
    "dtree_pred_st = dtree_st.predict(X_test_st)\n",
    "\n",
    "# Evaluasi model Decision Tree\n",
    "dtree_accuracy_st = accuracy_score(y_test_st, dtree_pred_st)\n",
    "dtree_report_st = classification_report(y_test_st, dtree_pred_st)\n",
    "dtree_conf_matrix_st = confusion_matrix(y_test_st, dtree_pred_st)\n",
    "\n",
    "# Menampilkan hasil evaluasi\n",
    "print(\"Decision Tree Classification Repor (ST)t:\\n\", dtree_report_st)\n",
    "print(\"Confusion Matrix (ST):\\n\", dtree_conf_matrix_st)"
   ]
  },
  {
   "cell_type": "code",
   "execution_count": 51,
   "metadata": {
    "colab": {
     "base_uri": "https://localhost:8080/",
     "height": 660
    },
    "id": "n2uHmTNPl45T",
    "outputId": "18e00254-7750-475f-fee1-54637c30d08b"
   },
   "outputs": [
    {
     "name": "stdout",
     "output_type": "stream",
     "text": [
      "Random Forest Classification Report:\n",
      "               precision    recall  f1-score   support\n",
      "\n",
      "           0       0.50      0.50      0.50         2\n",
      "           1       0.98      0.98      0.98        60\n",
      "\n",
      "    accuracy                           0.97        62\n",
      "   macro avg       0.74      0.74      0.74        62\n",
      "weighted avg       0.97      0.97      0.97        62\n",
      "\n",
      "Confusion Matrix:\n",
      " [[ 1  1]\n",
      " [ 1 59]]\n"
     ]
    }
   ],
   "source": [
    "# Inisialisasi model Random Forest\n",
    "rf = RandomForestClassifier(n_estimators=100, random_state=42)\n",
    "\n",
    "# Latih model Random Forest\n",
    "rf.fit(X_train, y_train)\n",
    "\n",
    "# Prediksi dengan Random Forest\n",
    "rf_pred = rf.predict(X_test)\n",
    "\n",
    "# Evaluasi model Random Forest\n",
    "rf_accuracy = accuracy_score(y_test, rf_pred)\n",
    "rf_report = classification_report(y_test, rf_pred)\n",
    "rf_conf_matrix = confusion_matrix(y_test, rf_pred)\n",
    "\n",
    "# Menampilkan hasil evaluasi\n",
    "print(\"Random Forest Classification Report:\\n\", rf_report)\n",
    "print(\"Confusion Matrix:\\n\", rf_conf_matrix)"
   ]
  },
  {
   "cell_type": "code",
   "execution_count": 52,
   "metadata": {},
   "outputs": [
    {
     "name": "stdout",
     "output_type": "stream",
     "text": [
      "Random Forest Classification Report (ST):\n",
      "               precision    recall  f1-score   support\n",
      "\n",
      "           0       0.67      0.75      0.71         8\n",
      "           1       0.96      0.94      0.95        54\n",
      "\n",
      "    accuracy                           0.92        62\n",
      "   macro avg       0.81      0.85      0.83        62\n",
      "weighted avg       0.92      0.92      0.92        62\n",
      "\n",
      "Confusion Matrix (ST):\n",
      " [[ 6  2]\n",
      " [ 3 51]]\n"
     ]
    }
   ],
   "source": [
    "# Inisialisasi model Random Forest\n",
    "rf_st = RandomForestClassifier(n_estimators=100, random_state=42)\n",
    "\n",
    "# Latih model Random Forest\n",
    "rf_st.fit(X_train_st, y_train_st)\n",
    "\n",
    "# Prediksi dengan Random Forest\n",
    "rf_pred_st = rf_st.predict(X_test_st)\n",
    "\n",
    "# Evaluasi model Random Forest\n",
    "rf_accuracy_st = accuracy_score(y_test_st, rf_pred_st)\n",
    "rf_report_st = classification_report(y_test_st, rf_pred_st)\n",
    "rf_conf_matrix_st = confusion_matrix(y_test_st, rf_pred_st)\n",
    "\n",
    "# Menampilkan hasil evaluasi\n",
    "print(\"Random Forest Classification Report (ST):\\n\", rf_report_st)\n",
    "print(\"Confusion Matrix (ST):\\n\", rf_conf_matrix_st)"
   ]
  },
  {
   "cell_type": "code",
   "execution_count": 53,
   "metadata": {
    "colab": {
     "base_uri": "https://localhost:8080/",
     "height": 578
    },
    "id": "YRTEqzdXjIwK",
    "outputId": "fe28d82f-0ede-42d2-ec29-5b4cb5c51eb0"
   },
   "outputs": [
    {
     "data": {
      "application/vnd.plotly.v1+json": {
       "config": {
        "plotlyServerURL": "https://plot.ly"
       },
       "data": [
        {
         "line": {
          "color": "#1f77b4",
          "dash": "dash"
         },
         "mode": "lines",
         "name": "Decision Tree (AUC = 0.7417)",
         "type": "scatter",
         "x": {
          "bdata": "AAAAAAAAAAAAAAAAAADgPwAAAAAAAPA/",
          "dtype": "f8"
         },
         "y": {
          "bdata": "AAAAAAAAAAB3d3d3d3fvPwAAAAAAAPA/",
          "dtype": "f8"
         }
        },
        {
         "line": {
          "color": "red",
          "dash": "dot"
         },
         "mode": "lines",
         "name": "Random Forest (AUC = 0.9583)",
         "type": "scatter",
         "x": {
          "bdata": "AAAAAAAAAAAAAAAAAAAAAAAAAAAAAAAAAAAAAAAAAAAAAAAAAAAAAAAAAAAAAAAAAAAAAAAAAAAAAAAAAAAAAAAAAAAAAAAAAAAAAAAAAAAAAAAAAAAAAAAAAAAAAAAAAAAAAAAAAAAAAAAAAADgPwAAAAAAAOA/AAAAAAAA4D8AAAAAAADwPw==",
          "dtype": "f8"
         },
         "y": {
          "bdata": "AAAAAAAAAAAzMzMzMzPTP0RERERERNQ/vLu7u7u72z8RERERERHhP5qZmZmZmeE/MzMzMzMz4z+8u7u7u7vjP2ZmZmZmZuY/d3d3d3d35z+rqqqqqqrqP7y7u7u7u+s/VVVVVVVV7T9VVVVVVVXtP2ZmZmZmZu4/AAAAAAAA8D8AAAAAAADwPw==",
          "dtype": "f8"
         }
        },
        {
         "line": {
          "color": "#2ca02c",
          "dash": "solid"
         },
         "mode": "lines",
         "name": "Decision Tree (ST) (AUC = 0.9005)",
         "type": "scatter",
         "x": {
          "bdata": "AAAAAAAAAAAAAAAAAADAPwAAAAAAAPA/",
          "dtype": "f8"
         },
         "y": {
          "bdata": "AAAAAAAAAAAT2ktoL6HtPwAAAAAAAPA/",
          "dtype": "f8"
         }
        },
        {
         "line": {
          "color": "blue",
          "dash": "longdash"
         },
         "mode": "lines",
         "name": "Random Forest (ST) (AUC = 0.9479)",
         "type": "scatter",
         "x": {
          "bdata": "AAAAAAAAAAAAAAAAAAAAAAAAAAAAAAAAAAAAAAAAAAAAAAAAAAAAAAAAAAAAAAAAAAAAAAAAAAAAAAAAAAAAAAAAAAAAAAAAAAAAAAAAAAAAAAAAAADQPwAAAAAAANA/AAAAAAAA6D8AAAAAAADoPwAAAAAAAOw/AAAAAAAA8D8=",
          "dtype": "f8"
         },
         "y": {
          "bdata": "AAAAAAAAAABVVVVVVVXFP1VVVVVVVdU/chzHcRzH4T9fQnsJ7SXkP1VVVVVVVeU/x3Ecx3Ec5z++hPYS2kvoPy+hvYT2Euo/mNBeQnsJ7T+Y0F5CewntP47jOI7jOO4/juM4juM47j+F9hLaS2jvPwAAAAAAAPA/AAAAAAAA8D8=",
          "dtype": "f8"
         }
        },
        {
         "line": {
          "color": "#7f7f7f",
          "dash": "dashdot"
         },
         "mode": "lines",
         "name": "Random",
         "type": "scatter",
         "x": [
          0,
          1
         ],
         "y": [
          0,
          1
         ]
        }
       ],
       "layout": {
        "font": {
         "size": 14
        },
        "legend": {
         "bgcolor": "rgba(255, 255, 255, 0.8)",
         "bordercolor": "black",
         "borderwidth": 1
        },
        "showlegend": true,
        "template": {
         "data": {
          "bar": [
           {
            "error_x": {
             "color": "#2a3f5f"
            },
            "error_y": {
             "color": "#2a3f5f"
            },
            "marker": {
             "line": {
              "color": "#E5ECF6",
              "width": 0.5
             },
             "pattern": {
              "fillmode": "overlay",
              "size": 10,
              "solidity": 0.2
             }
            },
            "type": "bar"
           }
          ],
          "barpolar": [
           {
            "marker": {
             "line": {
              "color": "#E5ECF6",
              "width": 0.5
             },
             "pattern": {
              "fillmode": "overlay",
              "size": 10,
              "solidity": 0.2
             }
            },
            "type": "barpolar"
           }
          ],
          "carpet": [
           {
            "aaxis": {
             "endlinecolor": "#2a3f5f",
             "gridcolor": "white",
             "linecolor": "white",
             "minorgridcolor": "white",
             "startlinecolor": "#2a3f5f"
            },
            "baxis": {
             "endlinecolor": "#2a3f5f",
             "gridcolor": "white",
             "linecolor": "white",
             "minorgridcolor": "white",
             "startlinecolor": "#2a3f5f"
            },
            "type": "carpet"
           }
          ],
          "choropleth": [
           {
            "colorbar": {
             "outlinewidth": 0,
             "ticks": ""
            },
            "type": "choropleth"
           }
          ],
          "contour": [
           {
            "colorbar": {
             "outlinewidth": 0,
             "ticks": ""
            },
            "colorscale": [
             [
              0,
              "#0d0887"
             ],
             [
              0.1111111111111111,
              "#46039f"
             ],
             [
              0.2222222222222222,
              "#7201a8"
             ],
             [
              0.3333333333333333,
              "#9c179e"
             ],
             [
              0.4444444444444444,
              "#bd3786"
             ],
             [
              0.5555555555555556,
              "#d8576b"
             ],
             [
              0.6666666666666666,
              "#ed7953"
             ],
             [
              0.7777777777777778,
              "#fb9f3a"
             ],
             [
              0.8888888888888888,
              "#fdca26"
             ],
             [
              1,
              "#f0f921"
             ]
            ],
            "type": "contour"
           }
          ],
          "contourcarpet": [
           {
            "colorbar": {
             "outlinewidth": 0,
             "ticks": ""
            },
            "type": "contourcarpet"
           }
          ],
          "heatmap": [
           {
            "colorbar": {
             "outlinewidth": 0,
             "ticks": ""
            },
            "colorscale": [
             [
              0,
              "#0d0887"
             ],
             [
              0.1111111111111111,
              "#46039f"
             ],
             [
              0.2222222222222222,
              "#7201a8"
             ],
             [
              0.3333333333333333,
              "#9c179e"
             ],
             [
              0.4444444444444444,
              "#bd3786"
             ],
             [
              0.5555555555555556,
              "#d8576b"
             ],
             [
              0.6666666666666666,
              "#ed7953"
             ],
             [
              0.7777777777777778,
              "#fb9f3a"
             ],
             [
              0.8888888888888888,
              "#fdca26"
             ],
             [
              1,
              "#f0f921"
             ]
            ],
            "type": "heatmap"
           }
          ],
          "histogram": [
           {
            "marker": {
             "pattern": {
              "fillmode": "overlay",
              "size": 10,
              "solidity": 0.2
             }
            },
            "type": "histogram"
           }
          ],
          "histogram2d": [
           {
            "colorbar": {
             "outlinewidth": 0,
             "ticks": ""
            },
            "colorscale": [
             [
              0,
              "#0d0887"
             ],
             [
              0.1111111111111111,
              "#46039f"
             ],
             [
              0.2222222222222222,
              "#7201a8"
             ],
             [
              0.3333333333333333,
              "#9c179e"
             ],
             [
              0.4444444444444444,
              "#bd3786"
             ],
             [
              0.5555555555555556,
              "#d8576b"
             ],
             [
              0.6666666666666666,
              "#ed7953"
             ],
             [
              0.7777777777777778,
              "#fb9f3a"
             ],
             [
              0.8888888888888888,
              "#fdca26"
             ],
             [
              1,
              "#f0f921"
             ]
            ],
            "type": "histogram2d"
           }
          ],
          "histogram2dcontour": [
           {
            "colorbar": {
             "outlinewidth": 0,
             "ticks": ""
            },
            "colorscale": [
             [
              0,
              "#0d0887"
             ],
             [
              0.1111111111111111,
              "#46039f"
             ],
             [
              0.2222222222222222,
              "#7201a8"
             ],
             [
              0.3333333333333333,
              "#9c179e"
             ],
             [
              0.4444444444444444,
              "#bd3786"
             ],
             [
              0.5555555555555556,
              "#d8576b"
             ],
             [
              0.6666666666666666,
              "#ed7953"
             ],
             [
              0.7777777777777778,
              "#fb9f3a"
             ],
             [
              0.8888888888888888,
              "#fdca26"
             ],
             [
              1,
              "#f0f921"
             ]
            ],
            "type": "histogram2dcontour"
           }
          ],
          "mesh3d": [
           {
            "colorbar": {
             "outlinewidth": 0,
             "ticks": ""
            },
            "type": "mesh3d"
           }
          ],
          "parcoords": [
           {
            "line": {
             "colorbar": {
              "outlinewidth": 0,
              "ticks": ""
             }
            },
            "type": "parcoords"
           }
          ],
          "pie": [
           {
            "automargin": true,
            "type": "pie"
           }
          ],
          "scatter": [
           {
            "fillpattern": {
             "fillmode": "overlay",
             "size": 10,
             "solidity": 0.2
            },
            "type": "scatter"
           }
          ],
          "scatter3d": [
           {
            "line": {
             "colorbar": {
              "outlinewidth": 0,
              "ticks": ""
             }
            },
            "marker": {
             "colorbar": {
              "outlinewidth": 0,
              "ticks": ""
             }
            },
            "type": "scatter3d"
           }
          ],
          "scattercarpet": [
           {
            "marker": {
             "colorbar": {
              "outlinewidth": 0,
              "ticks": ""
             }
            },
            "type": "scattercarpet"
           }
          ],
          "scattergeo": [
           {
            "marker": {
             "colorbar": {
              "outlinewidth": 0,
              "ticks": ""
             }
            },
            "type": "scattergeo"
           }
          ],
          "scattergl": [
           {
            "marker": {
             "colorbar": {
              "outlinewidth": 0,
              "ticks": ""
             }
            },
            "type": "scattergl"
           }
          ],
          "scattermap": [
           {
            "marker": {
             "colorbar": {
              "outlinewidth": 0,
              "ticks": ""
             }
            },
            "type": "scattermap"
           }
          ],
          "scattermapbox": [
           {
            "marker": {
             "colorbar": {
              "outlinewidth": 0,
              "ticks": ""
             }
            },
            "type": "scattermapbox"
           }
          ],
          "scatterpolar": [
           {
            "marker": {
             "colorbar": {
              "outlinewidth": 0,
              "ticks": ""
             }
            },
            "type": "scatterpolar"
           }
          ],
          "scatterpolargl": [
           {
            "marker": {
             "colorbar": {
              "outlinewidth": 0,
              "ticks": ""
             }
            },
            "type": "scatterpolargl"
           }
          ],
          "scatterternary": [
           {
            "marker": {
             "colorbar": {
              "outlinewidth": 0,
              "ticks": ""
             }
            },
            "type": "scatterternary"
           }
          ],
          "surface": [
           {
            "colorbar": {
             "outlinewidth": 0,
             "ticks": ""
            },
            "colorscale": [
             [
              0,
              "#0d0887"
             ],
             [
              0.1111111111111111,
              "#46039f"
             ],
             [
              0.2222222222222222,
              "#7201a8"
             ],
             [
              0.3333333333333333,
              "#9c179e"
             ],
             [
              0.4444444444444444,
              "#bd3786"
             ],
             [
              0.5555555555555556,
              "#d8576b"
             ],
             [
              0.6666666666666666,
              "#ed7953"
             ],
             [
              0.7777777777777778,
              "#fb9f3a"
             ],
             [
              0.8888888888888888,
              "#fdca26"
             ],
             [
              1,
              "#f0f921"
             ]
            ],
            "type": "surface"
           }
          ],
          "table": [
           {
            "cells": {
             "fill": {
              "color": "#EBF0F8"
             },
             "line": {
              "color": "white"
             }
            },
            "header": {
             "fill": {
              "color": "#C8D4E3"
             },
             "line": {
              "color": "white"
             }
            },
            "type": "table"
           }
          ]
         },
         "layout": {
          "annotationdefaults": {
           "arrowcolor": "#2a3f5f",
           "arrowhead": 0,
           "arrowwidth": 1
          },
          "autotypenumbers": "strict",
          "coloraxis": {
           "colorbar": {
            "outlinewidth": 0,
            "ticks": ""
           }
          },
          "colorscale": {
           "diverging": [
            [
             0,
             "#8e0152"
            ],
            [
             0.1,
             "#c51b7d"
            ],
            [
             0.2,
             "#de77ae"
            ],
            [
             0.3,
             "#f1b6da"
            ],
            [
             0.4,
             "#fde0ef"
            ],
            [
             0.5,
             "#f7f7f7"
            ],
            [
             0.6,
             "#e6f5d0"
            ],
            [
             0.7,
             "#b8e186"
            ],
            [
             0.8,
             "#7fbc41"
            ],
            [
             0.9,
             "#4d9221"
            ],
            [
             1,
             "#276419"
            ]
           ],
           "sequential": [
            [
             0,
             "#0d0887"
            ],
            [
             0.1111111111111111,
             "#46039f"
            ],
            [
             0.2222222222222222,
             "#7201a8"
            ],
            [
             0.3333333333333333,
             "#9c179e"
            ],
            [
             0.4444444444444444,
             "#bd3786"
            ],
            [
             0.5555555555555556,
             "#d8576b"
            ],
            [
             0.6666666666666666,
             "#ed7953"
            ],
            [
             0.7777777777777778,
             "#fb9f3a"
            ],
            [
             0.8888888888888888,
             "#fdca26"
            ],
            [
             1,
             "#f0f921"
            ]
           ],
           "sequentialminus": [
            [
             0,
             "#0d0887"
            ],
            [
             0.1111111111111111,
             "#46039f"
            ],
            [
             0.2222222222222222,
             "#7201a8"
            ],
            [
             0.3333333333333333,
             "#9c179e"
            ],
            [
             0.4444444444444444,
             "#bd3786"
            ],
            [
             0.5555555555555556,
             "#d8576b"
            ],
            [
             0.6666666666666666,
             "#ed7953"
            ],
            [
             0.7777777777777778,
             "#fb9f3a"
            ],
            [
             0.8888888888888888,
             "#fdca26"
            ],
            [
             1,
             "#f0f921"
            ]
           ]
          },
          "colorway": [
           "#636efa",
           "#EF553B",
           "#00cc96",
           "#ab63fa",
           "#FFA15A",
           "#19d3f3",
           "#FF6692",
           "#B6E880",
           "#FF97FF",
           "#FECB52"
          ],
          "font": {
           "color": "#2a3f5f"
          },
          "geo": {
           "bgcolor": "white",
           "lakecolor": "white",
           "landcolor": "#E5ECF6",
           "showlakes": true,
           "showland": true,
           "subunitcolor": "white"
          },
          "hoverlabel": {
           "align": "left"
          },
          "hovermode": "closest",
          "mapbox": {
           "style": "light"
          },
          "paper_bgcolor": "white",
          "plot_bgcolor": "#E5ECF6",
          "polar": {
           "angularaxis": {
            "gridcolor": "white",
            "linecolor": "white",
            "ticks": ""
           },
           "bgcolor": "#E5ECF6",
           "radialaxis": {
            "gridcolor": "white",
            "linecolor": "white",
            "ticks": ""
           }
          },
          "scene": {
           "xaxis": {
            "backgroundcolor": "#E5ECF6",
            "gridcolor": "white",
            "gridwidth": 2,
            "linecolor": "white",
            "showbackground": true,
            "ticks": "",
            "zerolinecolor": "white"
           },
           "yaxis": {
            "backgroundcolor": "#E5ECF6",
            "gridcolor": "white",
            "gridwidth": 2,
            "linecolor": "white",
            "showbackground": true,
            "ticks": "",
            "zerolinecolor": "white"
           },
           "zaxis": {
            "backgroundcolor": "#E5ECF6",
            "gridcolor": "white",
            "gridwidth": 2,
            "linecolor": "white",
            "showbackground": true,
            "ticks": "",
            "zerolinecolor": "white"
           }
          },
          "shapedefaults": {
           "line": {
            "color": "#2a3f5f"
           }
          },
          "ternary": {
           "aaxis": {
            "gridcolor": "white",
            "linecolor": "white",
            "ticks": ""
           },
           "baxis": {
            "gridcolor": "white",
            "linecolor": "white",
            "ticks": ""
           },
           "bgcolor": "#E5ECF6",
           "caxis": {
            "gridcolor": "white",
            "linecolor": "white",
            "ticks": ""
           }
          },
          "title": {
           "x": 0.05
          },
          "xaxis": {
           "automargin": true,
           "gridcolor": "white",
           "linecolor": "white",
           "ticks": "",
           "title": {
            "standoff": 15
           },
           "zerolinecolor": "white",
           "zerolinewidth": 2
          },
          "yaxis": {
           "automargin": true,
           "gridcolor": "white",
           "linecolor": "white",
           "ticks": "",
           "title": {
            "standoff": 15
           },
           "zerolinecolor": "white",
           "zerolinewidth": 2
          }
         }
        },
        "title": {
         "text": "ROC Curve - Decision Tree & Random Forest (Stratified & Non-Stratified)"
        },
        "xaxis": {
         "title": {
          "text": "False Positive Rate"
         }
        },
        "yaxis": {
         "title": {
          "text": "True Positive Rate"
         }
        }
       }
      }
     },
     "metadata": {},
     "output_type": "display_data"
    }
   ],
   "source": [
    "# 1. Predict probabilities untuk ROC Curve\n",
    "y_probs_dtree = dtree.predict_proba(X_test)[:, 1]  \n",
    "y_probs_rf = rf.predict_proba(X_test)[:, 1]  \n",
    "\n",
    "y_probs_dtree_st = dtree_st.predict_proba(X_test_st)[:, 1]  \n",
    "y_probs_rf_st = rf_st.predict_proba(X_test_st)[:, 1]  \n",
    "\n",
    "# 2. Hitung AUC untuk semua model\n",
    "auc_dtree = roc_auc_score(y_test, y_probs_dtree)\n",
    "auc_rf = roc_auc_score(y_test, y_probs_rf)\n",
    "auc_dtree_st = roc_auc_score(y_test_st, y_probs_dtree_st)\n",
    "auc_rf_st = roc_auc_score(y_test_st, y_probs_rf_st)\n",
    "\n",
    "# 3. Hitung ROC Curve (FPR & TPR)\n",
    "fpr_dtree, tpr_dtree, _ = roc_curve(y_test, y_probs_dtree)\n",
    "fpr_rf, tpr_rf, _ = roc_curve(y_test, y_probs_rf)\n",
    "fpr_dtree_st, tpr_dtree_st, _ = roc_curve(y_test_st, y_probs_dtree_st)\n",
    "fpr_rf_st, tpr_rf_st, _ = roc_curve(y_test_st, y_probs_rf_st)\n",
    "\n",
    "# 4. Membuat ROC Curve dengan Plotly\n",
    "fig = go.Figure()\n",
    "\n",
    "fig.add_trace(go.Scatter(\n",
    "    x=fpr_dtree, y=tpr_dtree, mode='lines',\n",
    "    name=f'Decision Tree (AUC = {auc_dtree:.4f})',\n",
    "    line=dict(color='#1f77b4', dash='dash')  # Biru Soft\n",
    "))\n",
    "\n",
    "fig.add_trace(go.Scatter(\n",
    "    x=fpr_rf, y=tpr_rf, mode='lines',\n",
    "    name=f'Random Forest (AUC = {auc_rf:.4f})',\n",
    "    line=dict(color='red', dash='dot')  # Oranye Soft\n",
    "))\n",
    "\n",
    "fig.add_trace(go.Scatter(\n",
    "    x=fpr_dtree_st, y=tpr_dtree_st, mode='lines',\n",
    "    name=f'Decision Tree (ST) (AUC = {auc_dtree_st:.4f})',\n",
    "    line=dict(color='#2ca02c', dash='solid')  # Hijau Soft\n",
    "))\n",
    "\n",
    "fig.add_trace(go.Scatter(\n",
    "    x=fpr_rf_st, y=tpr_rf_st, mode='lines',\n",
    "    name=f'Random Forest (ST) (AUC = {auc_rf_st:.4f})',\n",
    "    line=dict(color='blue', dash='longdash')  # Merah Soft\n",
    "))\n",
    "\n",
    "# Garis referensi (Random Guess)\n",
    "fig.add_trace(go.Scatter(\n",
    "    x=[0, 1], y=[0, 1], mode='lines',\n",
    "    name='Random', line=dict(color='#7f7f7f', dash='dashdot')  # Abu-abu Netral\n",
    "))\n",
    "\n",
    "fig.update_layout(\n",
    "    title=\"ROC Curve - Decision Tree & Random Forest (Stratified & Non-Stratified)\",\n",
    "    xaxis_title=\"False Positive Rate\",\n",
    "    yaxis_title=\"True Positive Rate\",\n",
    "    showlegend=True,\n",
    "    font=dict(size=14),  # Ukuran teks lebih nyaman\n",
    "    legend=dict(\n",
    "        bgcolor=\"rgba(255, 255, 255, 0.8)\",  # Latar belakang legend (semi-transparan)\n",
    "        bordercolor=\"black\",  # Warna border hitam\n",
    "        borderwidth=1  # Ketebalan border\n",
    "    ),\n",
    ")\n",
    "\n",
    "# Menampilkan plot\n",
    "fig.show()"
   ]
  },
  {
   "cell_type": "code",
   "execution_count": 54,
   "metadata": {
    "colab": {
     "base_uri": "https://localhost:8080/"
    },
    "id": "V8BDxrmkqBVU",
    "outputId": "a4dd94f6-bd8c-4228-d4d5-598b19cbabe5"
   },
   "outputs": [
    {
     "ename": "FileNotFoundError",
     "evalue": "[WinError 2] The system cannot find the file specified",
     "output_type": "error",
     "traceback": [
      "\u001b[1;31m---------------------------------------------------------------------------\u001b[0m",
      "\u001b[1;31mFileNotFoundError\u001b[0m                         Traceback (most recent call last)",
      "Cell \u001b[1;32mIn[54], line 2\u001b[0m\n\u001b[0;32m      1\u001b[0m \u001b[38;5;66;03m# Informasi CPU\u001b[39;00m\n\u001b[1;32m----> 2\u001b[0m cpu_model \u001b[38;5;241m=\u001b[39m \u001b[43msubprocess\u001b[49m\u001b[38;5;241;43m.\u001b[39;49m\u001b[43mrun\u001b[49m\u001b[43m(\u001b[49m\u001b[43m[\u001b[49m\u001b[38;5;124;43m\"\u001b[39;49m\u001b[38;5;124;43mcat\u001b[39;49m\u001b[38;5;124;43m\"\u001b[39;49m\u001b[43m,\u001b[49m\u001b[43m \u001b[49m\u001b[38;5;124;43m\"\u001b[39;49m\u001b[38;5;124;43m/proc/cpuinfo\u001b[39;49m\u001b[38;5;124;43m\"\u001b[39;49m\u001b[43m]\u001b[49m\u001b[43m,\u001b[49m\u001b[43m \u001b[49m\u001b[43mcapture_output\u001b[49m\u001b[38;5;241;43m=\u001b[39;49m\u001b[38;5;28;43;01mTrue\u001b[39;49;00m\u001b[43m,\u001b[49m\u001b[43m \u001b[49m\u001b[43mtext\u001b[49m\u001b[38;5;241;43m=\u001b[39;49m\u001b[38;5;28;43;01mTrue\u001b[39;49;00m\u001b[43m)\u001b[49m\u001b[38;5;241m.\u001b[39mstdout\n\u001b[0;32m      3\u001b[0m cpu_name \u001b[38;5;241m=\u001b[39m [line \u001b[38;5;28;01mfor\u001b[39;00m line \u001b[38;5;129;01min\u001b[39;00m cpu_model\u001b[38;5;241m.\u001b[39msplit(\u001b[38;5;124m\"\u001b[39m\u001b[38;5;130;01m\\n\u001b[39;00m\u001b[38;5;124m\"\u001b[39m) \u001b[38;5;28;01mif\u001b[39;00m \u001b[38;5;124m\"\u001b[39m\u001b[38;5;124mmodel name\u001b[39m\u001b[38;5;124m\"\u001b[39m \u001b[38;5;129;01min\u001b[39;00m line]\n\u001b[0;32m      4\u001b[0m cpu_name \u001b[38;5;241m=\u001b[39m cpu_name[\u001b[38;5;241m0\u001b[39m]\u001b[38;5;241m.\u001b[39msplit(\u001b[38;5;124m\"\u001b[39m\u001b[38;5;124m:\u001b[39m\u001b[38;5;124m\"\u001b[39m)[\u001b[38;5;241m1\u001b[39m]\u001b[38;5;241m.\u001b[39mstrip() \u001b[38;5;28;01mif\u001b[39;00m cpu_name \u001b[38;5;28;01melse\u001b[39;00m \u001b[38;5;124m\"\u001b[39m\u001b[38;5;124mUnknown\u001b[39m\u001b[38;5;124m\"\u001b[39m\n",
      "File \u001b[1;32mc:\\Program Files\\Python313\\Lib\\subprocess.py:554\u001b[0m, in \u001b[0;36mrun\u001b[1;34m(input, capture_output, timeout, check, *popenargs, **kwargs)\u001b[0m\n\u001b[0;32m    551\u001b[0m     kwargs[\u001b[38;5;124m'\u001b[39m\u001b[38;5;124mstdout\u001b[39m\u001b[38;5;124m'\u001b[39m] \u001b[38;5;241m=\u001b[39m PIPE\n\u001b[0;32m    552\u001b[0m     kwargs[\u001b[38;5;124m'\u001b[39m\u001b[38;5;124mstderr\u001b[39m\u001b[38;5;124m'\u001b[39m] \u001b[38;5;241m=\u001b[39m PIPE\n\u001b[1;32m--> 554\u001b[0m \u001b[38;5;28;01mwith\u001b[39;00m \u001b[43mPopen\u001b[49m\u001b[43m(\u001b[49m\u001b[38;5;241;43m*\u001b[39;49m\u001b[43mpopenargs\u001b[49m\u001b[43m,\u001b[49m\u001b[43m \u001b[49m\u001b[38;5;241;43m*\u001b[39;49m\u001b[38;5;241;43m*\u001b[39;49m\u001b[43mkwargs\u001b[49m\u001b[43m)\u001b[49m \u001b[38;5;28;01mas\u001b[39;00m process:\n\u001b[0;32m    555\u001b[0m     \u001b[38;5;28;01mtry\u001b[39;00m:\n\u001b[0;32m    556\u001b[0m         stdout, stderr \u001b[38;5;241m=\u001b[39m process\u001b[38;5;241m.\u001b[39mcommunicate(\u001b[38;5;28minput\u001b[39m, timeout\u001b[38;5;241m=\u001b[39mtimeout)\n",
      "File \u001b[1;32mc:\\Program Files\\Python313\\Lib\\subprocess.py:1036\u001b[0m, in \u001b[0;36mPopen.__init__\u001b[1;34m(self, args, bufsize, executable, stdin, stdout, stderr, preexec_fn, close_fds, shell, cwd, env, universal_newlines, startupinfo, creationflags, restore_signals, start_new_session, pass_fds, user, group, extra_groups, encoding, errors, text, umask, pipesize, process_group)\u001b[0m\n\u001b[0;32m   1032\u001b[0m         \u001b[38;5;28;01mif\u001b[39;00m \u001b[38;5;28mself\u001b[39m\u001b[38;5;241m.\u001b[39mtext_mode:\n\u001b[0;32m   1033\u001b[0m             \u001b[38;5;28mself\u001b[39m\u001b[38;5;241m.\u001b[39mstderr \u001b[38;5;241m=\u001b[39m io\u001b[38;5;241m.\u001b[39mTextIOWrapper(\u001b[38;5;28mself\u001b[39m\u001b[38;5;241m.\u001b[39mstderr,\n\u001b[0;32m   1034\u001b[0m                     encoding\u001b[38;5;241m=\u001b[39mencoding, errors\u001b[38;5;241m=\u001b[39merrors)\n\u001b[1;32m-> 1036\u001b[0m     \u001b[38;5;28;43mself\u001b[39;49m\u001b[38;5;241;43m.\u001b[39;49m\u001b[43m_execute_child\u001b[49m\u001b[43m(\u001b[49m\u001b[43margs\u001b[49m\u001b[43m,\u001b[49m\u001b[43m \u001b[49m\u001b[43mexecutable\u001b[49m\u001b[43m,\u001b[49m\u001b[43m \u001b[49m\u001b[43mpreexec_fn\u001b[49m\u001b[43m,\u001b[49m\u001b[43m \u001b[49m\u001b[43mclose_fds\u001b[49m\u001b[43m,\u001b[49m\n\u001b[0;32m   1037\u001b[0m \u001b[43m                        \u001b[49m\u001b[43mpass_fds\u001b[49m\u001b[43m,\u001b[49m\u001b[43m \u001b[49m\u001b[43mcwd\u001b[49m\u001b[43m,\u001b[49m\u001b[43m \u001b[49m\u001b[43menv\u001b[49m\u001b[43m,\u001b[49m\n\u001b[0;32m   1038\u001b[0m \u001b[43m                        \u001b[49m\u001b[43mstartupinfo\u001b[49m\u001b[43m,\u001b[49m\u001b[43m \u001b[49m\u001b[43mcreationflags\u001b[49m\u001b[43m,\u001b[49m\u001b[43m \u001b[49m\u001b[43mshell\u001b[49m\u001b[43m,\u001b[49m\n\u001b[0;32m   1039\u001b[0m \u001b[43m                        \u001b[49m\u001b[43mp2cread\u001b[49m\u001b[43m,\u001b[49m\u001b[43m \u001b[49m\u001b[43mp2cwrite\u001b[49m\u001b[43m,\u001b[49m\n\u001b[0;32m   1040\u001b[0m \u001b[43m                        \u001b[49m\u001b[43mc2pread\u001b[49m\u001b[43m,\u001b[49m\u001b[43m \u001b[49m\u001b[43mc2pwrite\u001b[49m\u001b[43m,\u001b[49m\n\u001b[0;32m   1041\u001b[0m \u001b[43m                        \u001b[49m\u001b[43merrread\u001b[49m\u001b[43m,\u001b[49m\u001b[43m \u001b[49m\u001b[43merrwrite\u001b[49m\u001b[43m,\u001b[49m\n\u001b[0;32m   1042\u001b[0m \u001b[43m                        \u001b[49m\u001b[43mrestore_signals\u001b[49m\u001b[43m,\u001b[49m\n\u001b[0;32m   1043\u001b[0m \u001b[43m                        \u001b[49m\u001b[43mgid\u001b[49m\u001b[43m,\u001b[49m\u001b[43m \u001b[49m\u001b[43mgids\u001b[49m\u001b[43m,\u001b[49m\u001b[43m \u001b[49m\u001b[43muid\u001b[49m\u001b[43m,\u001b[49m\u001b[43m \u001b[49m\u001b[43mumask\u001b[49m\u001b[43m,\u001b[49m\n\u001b[0;32m   1044\u001b[0m \u001b[43m                        \u001b[49m\u001b[43mstart_new_session\u001b[49m\u001b[43m,\u001b[49m\u001b[43m \u001b[49m\u001b[43mprocess_group\u001b[49m\u001b[43m)\u001b[49m\n\u001b[0;32m   1045\u001b[0m \u001b[38;5;28;01mexcept\u001b[39;00m:\n\u001b[0;32m   1046\u001b[0m     \u001b[38;5;66;03m# Cleanup if the child failed starting.\u001b[39;00m\n\u001b[0;32m   1047\u001b[0m     \u001b[38;5;28;01mfor\u001b[39;00m f \u001b[38;5;129;01min\u001b[39;00m \u001b[38;5;28mfilter\u001b[39m(\u001b[38;5;28;01mNone\u001b[39;00m, (\u001b[38;5;28mself\u001b[39m\u001b[38;5;241m.\u001b[39mstdin, \u001b[38;5;28mself\u001b[39m\u001b[38;5;241m.\u001b[39mstdout, \u001b[38;5;28mself\u001b[39m\u001b[38;5;241m.\u001b[39mstderr)):\n",
      "File \u001b[1;32mc:\\Program Files\\Python313\\Lib\\subprocess.py:1548\u001b[0m, in \u001b[0;36mPopen._execute_child\u001b[1;34m(self, args, executable, preexec_fn, close_fds, pass_fds, cwd, env, startupinfo, creationflags, shell, p2cread, p2cwrite, c2pread, c2pwrite, errread, errwrite, unused_restore_signals, unused_gid, unused_gids, unused_uid, unused_umask, unused_start_new_session, unused_process_group)\u001b[0m\n\u001b[0;32m   1546\u001b[0m \u001b[38;5;66;03m# Start the process\u001b[39;00m\n\u001b[0;32m   1547\u001b[0m \u001b[38;5;28;01mtry\u001b[39;00m:\n\u001b[1;32m-> 1548\u001b[0m     hp, ht, pid, tid \u001b[38;5;241m=\u001b[39m \u001b[43m_winapi\u001b[49m\u001b[38;5;241;43m.\u001b[39;49m\u001b[43mCreateProcess\u001b[49m\u001b[43m(\u001b[49m\u001b[43mexecutable\u001b[49m\u001b[43m,\u001b[49m\u001b[43m \u001b[49m\u001b[43margs\u001b[49m\u001b[43m,\u001b[49m\n\u001b[0;32m   1549\u001b[0m \u001b[43m                             \u001b[49m\u001b[38;5;66;43;03m# no special security\u001b[39;49;00m\n\u001b[0;32m   1550\u001b[0m \u001b[43m                             \u001b[49m\u001b[38;5;28;43;01mNone\u001b[39;49;00m\u001b[43m,\u001b[49m\u001b[43m \u001b[49m\u001b[38;5;28;43;01mNone\u001b[39;49;00m\u001b[43m,\u001b[49m\n\u001b[0;32m   1551\u001b[0m \u001b[43m                             \u001b[49m\u001b[38;5;28;43mint\u001b[39;49m\u001b[43m(\u001b[49m\u001b[38;5;129;43;01mnot\u001b[39;49;00m\u001b[43m \u001b[49m\u001b[43mclose_fds\u001b[49m\u001b[43m)\u001b[49m\u001b[43m,\u001b[49m\n\u001b[0;32m   1552\u001b[0m \u001b[43m                             \u001b[49m\u001b[43mcreationflags\u001b[49m\u001b[43m,\u001b[49m\n\u001b[0;32m   1553\u001b[0m \u001b[43m                             \u001b[49m\u001b[43menv\u001b[49m\u001b[43m,\u001b[49m\n\u001b[0;32m   1554\u001b[0m \u001b[43m                             \u001b[49m\u001b[43mcwd\u001b[49m\u001b[43m,\u001b[49m\n\u001b[0;32m   1555\u001b[0m \u001b[43m                             \u001b[49m\u001b[43mstartupinfo\u001b[49m\u001b[43m)\u001b[49m\n\u001b[0;32m   1556\u001b[0m \u001b[38;5;28;01mfinally\u001b[39;00m:\n\u001b[0;32m   1557\u001b[0m     \u001b[38;5;66;03m# Child is launched. Close the parent's copy of those pipe\u001b[39;00m\n\u001b[0;32m   1558\u001b[0m     \u001b[38;5;66;03m# handles that only the child should have open.  You need\u001b[39;00m\n\u001b[1;32m   (...)\u001b[0m\n\u001b[0;32m   1561\u001b[0m     \u001b[38;5;66;03m# pipe will not close when the child process exits and the\u001b[39;00m\n\u001b[0;32m   1562\u001b[0m     \u001b[38;5;66;03m# ReadFile will hang.\u001b[39;00m\n\u001b[0;32m   1563\u001b[0m     \u001b[38;5;28mself\u001b[39m\u001b[38;5;241m.\u001b[39m_close_pipe_fds(p2cread, p2cwrite,\n\u001b[0;32m   1564\u001b[0m                          c2pread, c2pwrite,\n\u001b[0;32m   1565\u001b[0m                          errread, errwrite)\n",
      "\u001b[1;31mFileNotFoundError\u001b[0m: [WinError 2] The system cannot find the file specified"
     ]
    }
   ],
   "source": [
    "# Informasi CPU\n",
    "cpu_model = subprocess.run([\"cat\", \"/proc/cpuinfo\"], capture_output=True, text=True).stdout\n",
    "cpu_name = [line for line in cpu_model.split(\"\\n\") if \"model name\" in line]\n",
    "cpu_name = cpu_name[0].split(\":\")[1].strip() if cpu_name else \"Unknown\"\n",
    "\n",
    "cpu_architecture = platform.machine()\n",
    "cpu_cores = psutil.cpu_count(logical=False)\n",
    "cpu_threads = psutil.cpu_count(logical=True)\n",
    "cpu_freq = psutil.cpu_freq().max if psutil.cpu_freq() else \"Unknown\"\n",
    "\n",
    "# Informasi Cache CPU\n",
    "cache_info = subprocess.run([\"lscpu\"], capture_output=True, text=True).stdout\n",
    "l1_instruction_cache, l1_data_cache, l2_cache, l3_cache = \"Unknown\", \"Unknown\", \"Unknown\", \"Unknown\"\n",
    "\n",
    "for line in cache_info.split(\"\\n\"):\n",
    "    if \"L1d cache\" in line:\n",
    "        l1_data_cache = line.split(\":\")[1].strip()\n",
    "    elif \"L1i cache\" in line:\n",
    "        l1_instruction_cache = line.split(\":\")[1].strip()\n",
    "    elif \"L2 cache\" in line:\n",
    "        l2_cache = line.split(\":\")[1].strip()\n",
    "    elif \"L3 cache\" in line:\n",
    "        l3_cache = line.split(\":\")[1].strip()\n",
    "\n",
    "# Informasi RAM\n",
    "ram = psutil.virtual_memory()\n",
    "total_ram = round(ram.total / (1024**3), 2)  # Konversi ke GB\n",
    "\n",
    "# Informasi Disk\n",
    "disk = psutil.disk_usage('/')\n",
    "total_disk = round(disk.total / (1024**3), 2)\n",
    "\n",
    "# Informasi GPU (jika tersedia)\n",
    "gpu_name = \"None\"\n",
    "gpu_memory = \"N/A\"\n",
    "gpu_info = \"No GPU detected.\"\n",
    "\n",
    "if torch.cuda.is_available():\n",
    "    gpu_name = torch.cuda.get_device_name(0)\n",
    "    total_memory = torch.cuda.get_device_properties(0).total_memory\n",
    "    gpu_memory = f\"{round(total_memory / (1024**3), 2)} GB\"\n",
    "\n",
    "    # Gunakan nvidia-smi untuk detail tambahan\n",
    "    nvidia_info = subprocess.run([\"nvidia-smi\", \"--query-gpu=name,memory.total\", \"--format=csv\"], \n",
    "                                 capture_output=True, text=True).stdout\n",
    "    gpu_info = nvidia_info if nvidia_info else gpu_name\n",
    "\n",
    "# Output\n",
    "print(\"=== System Information ===\")\n",
    "print(f\"CPU Model        : {cpu_name}\")\n",
    "print(f\"CPU Architecture : {cpu_architecture}\")\n",
    "print(f\"CPU Cores        : {cpu_cores} (Physical), {cpu_threads} (Logical)\")\n",
    "print(f\"CPU Max Frequency: {cpu_freq} MHz\")\n",
    "print(f\"Total RAM        : {total_ram} GB\")\n",
    "print(f\"Total Disk       : {total_disk} GB\")\n",
    "print(f\"GPU Model        : {gpu_name} ({gpu_memory})\")\n",
    "\n",
    "print(\"\\n=== CPU Cache Information ===\")\n",
    "print(f\"L1 Instruction Cache: {l1_instruction_cache}\")\n",
    "print(f\"L1 Data Cache      : {l1_data_cache}\")\n",
    "print(f\"L2 Cache           : {l2_cache}\")\n",
    "print(f\"L3 Cache           : {l3_cache}\")\n",
    "\n",
    "if torch.cuda.is_available():\n",
    "    print(\"\\n=== GPU Details ===\")\n",
    "    print(gpu_info)\n",
    "else:\n",
    "    print(\"\\nNo GPU detected.\")"
   ]
  },
  {
   "cell_type": "code",
   "execution_count": 19,
   "metadata": {
    "colab": {
     "base_uri": "https://localhost:8080/"
    },
    "id": "eOPxCGn4_2Sa",
    "outputId": "1546979a-c4fd-4e11-9e31-6e581e830520"
   },
   "outputs": [
    {
     "name": "stdout",
     "output_type": "stream",
     "text": [
      "Execution Time (Min): 0.0020 seconds\n",
      "Execution Time (Max): 0.0070 seconds\n"
     ]
    }
   ],
   "source": [
    "# mengukur waktu eksekusi DT\n",
    "execution_times_dt = [timeit.timeit('dtree.fit(X_train, y_train)', globals=globals(), number=1) for _ in range(100)]\n",
    "\n",
    "# Ambil nilai terkecil dan terbesar\n",
    "min_time_dt = min(execution_times_dt)\n",
    "max_time_dt = max(execution_times_dt)\n",
    "\n",
    "# Tampilkan hasil\n",
    "print(f\"Execution Time (Min): {min_time_dt:.4f} seconds\")\n",
    "print(f\"Execution Time (Max): {max_time_dt:.4f} seconds\")"
   ]
  },
  {
   "cell_type": "code",
   "execution_count": 20,
   "metadata": {},
   "outputs": [
    {
     "name": "stdout",
     "output_type": "stream",
     "text": [
      "Execution Time (Min): 0.0019 seconds\n",
      "Execution Time (Max): 0.0050 seconds\n"
     ]
    }
   ],
   "source": [
    "# mengukur waktu eksekusi DT Stratified\n",
    "execution_times_dt_st = [timeit.timeit('dtree_st.fit(X_train_st, y_train_st)', globals=globals(), number=1) for _ in range(100)]\n",
    "\n",
    "# Ambil nilai terkecil dan terbesar\n",
    "min_time_dt_st = min(execution_times_dt_st)\n",
    "max_time_dt_st = max(execution_times_dt_st)\n",
    "\n",
    "# Tampilkan hasil\n",
    "print(f\"Execution Time (Min): {min_time_dt_st:.4f} seconds\")\n",
    "print(f\"Execution Time (Max): {max_time_dt_st:.4f} seconds\")"
   ]
  },
  {
   "cell_type": "code",
   "execution_count": 21,
   "metadata": {
    "colab": {
     "base_uri": "https://localhost:8080/"
    },
    "id": "TluvgtsiAJPs",
    "outputId": "8ccf169b-4a37-40f0-f7b0-d3360519ae00"
   },
   "outputs": [
    {
     "name": "stdout",
     "output_type": "stream",
     "text": [
      "Execution Time (Min): 0.1141 seconds\n",
      "Execution Time (Max): 0.1664 seconds\n"
     ]
    }
   ],
   "source": [
    "# mengukur waktu eksekusi RF\n",
    "execution_times_rf = [timeit.timeit('rf.fit(X_train, y_train)', globals=globals(), number=1) for _ in range(100)]\n",
    "\n",
    "# Ambil nilai terkecil dan terbesar\n",
    "min_time_rf = min(execution_times_rf)\n",
    "max_time_rf = max(execution_times_rf)\n",
    "\n",
    "# Tampilkan hasil\n",
    "print(f\"Execution Time (Min): {min_time_rf:.4f} seconds\")\n",
    "print(f\"Execution Time (Max): {max_time_rf:.4f} seconds\")"
   ]
  },
  {
   "cell_type": "code",
   "execution_count": 22,
   "metadata": {},
   "outputs": [
    {
     "name": "stdout",
     "output_type": "stream",
     "text": [
      "Execution Time (Min): 0.1123 seconds\n",
      "Execution Time (Max): 0.1611 seconds\n"
     ]
    }
   ],
   "source": [
    "# mengukur waktu eksekusi RF Stratified\n",
    "execution_times_rf_st = [timeit.timeit('rf_st.fit(X_train_st, y_train_st)', globals=globals(), number=1) for _ in range(100)]\n",
    "\n",
    "# Ambil nilai terkecil dan terbesar\n",
    "min_time_rf_st = min(execution_times_rf_st)\n",
    "max_time_rf_st = max(execution_times_rf_st)\n",
    "\n",
    "# Tampilkan hasil\n",
    "print(f\"Execution Time (Min): {min_time_rf_st:.4f} seconds\")\n",
    "print(f\"Execution Time (Max): {max_time_rf_st:.4f} seconds\")"
   ]
  },
  {
   "cell_type": "code",
   "execution_count": 23,
   "metadata": {},
   "outputs": [],
   "source": [
    "# Fungsi untuk mendapatkan penggunaan RAM awal dan akhir dari tracemalloc\n",
    "def process_memory():\n",
    "    snapshot, _ = tracemalloc.get_traced_memory()\n",
    "    return snapshot / (1024 * 1024)  # Konversi ke MB"
   ]
  },
  {
   "cell_type": "code",
   "execution_count": 24,
   "metadata": {},
   "outputs": [],
   "source": [
    "def measure_memory(model, x_train, y_train):\n",
    "    tracemalloc.start()\n",
    "    initial_memory = process_memory()  # Ambil memori awal\n",
    "    model.fit(x_train, y_train)  # Latih model\n",
    "    final_memory = process_memory()  # Ambil memori akhir\n",
    "    tracemalloc.stop()\n",
    "    return final_memory - initial_memory  # Selisih pemakaian memori"
   ]
  },
  {
   "cell_type": "code",
   "execution_count": 25,
   "metadata": {
    "colab": {
     "base_uri": "https://localhost:8080/"
    },
    "id": "dI6Kd3SSCbBe",
    "outputId": "7c2bf39c-0e5f-435c-c688-f296a162188c"
   },
   "outputs": [
    {
     "name": "stdout",
     "output_type": "stream",
     "text": [
      "Memory Usage (Min): 0.0009 MB\n",
      "Memory Usage (Max): 0.0036 MB\n"
     ]
    }
   ],
   "source": [
    "# Memory usage DT\n",
    "memory_usages_dt = [measure_memory(dtree, X_train, y_train) for _ in range(100)]\n",
    "\n",
    "# Ambil nilai terkecil dan terbesar\n",
    "min_memory_dt, max_memory_dt = min(memory_usages_dt), max(memory_usages_dt)\n",
    "\n",
    "# Tampilkan hasil\n",
    "print(f\"Memory Usage (Min): {min_memory_dt:.4f} MB\")\n",
    "print(f\"Memory Usage (Max): {max_memory_dt:.4f} MB\")"
   ]
  },
  {
   "cell_type": "code",
   "execution_count": 26,
   "metadata": {},
   "outputs": [
    {
     "name": "stdout",
     "output_type": "stream",
     "text": [
      "Memory Usage (Min): 0.0009 MB\n",
      "Memory Usage (Max): 0.0024 MB\n"
     ]
    }
   ],
   "source": [
    "# Memory usage DT Stratified\n",
    "memory_usages_dt_st = [measure_memory(dtree_st, X_train_st, y_train_st) for _ in range(100)]\n",
    "\n",
    "# Ambil nilai terkecil dan terbesar\n",
    "min_memory_dt_st, max_memory_dt_st = min(memory_usages_dt_st), max(memory_usages_dt_st)\n",
    "\n",
    "# Tampilkan hasil\n",
    "print(f\"Memory Usage (Min): {min_memory_dt_st:.4f} MB\")\n",
    "print(f\"Memory Usage (Max): {max_memory_dt_st:.4f} MB\")"
   ]
  },
  {
   "cell_type": "code",
   "execution_count": 27,
   "metadata": {
    "colab": {
     "base_uri": "https://localhost:8080/"
    },
    "id": "gb66udTtTIxb",
    "outputId": "35bebc1c-e78e-4f46-ec95-a3bb52891039"
   },
   "outputs": [
    {
     "name": "stdout",
     "output_type": "stream",
     "text": [
      "Memory Usage (Min): 0.0653 MB\n",
      "Memory Usage (Max): 0.0694 MB\n"
     ]
    }
   ],
   "source": [
    "# Memory usage RF\n",
    "memory_usages_rf = [measure_memory(rf, X_train, y_train) for _ in range(100)]\n",
    "\n",
    "# Ambil nilai terkecil dan terbesar\n",
    "min_memory_rf, max_memory_rf = min(memory_usages_rf), max(memory_usages_rf)\n",
    "\n",
    "# Tampilkan hasil\n",
    "print(f\"Memory Usage (Min): {min_memory_rf:.4f} MB\")\n",
    "print(f\"Memory Usage (Max): {max_memory_rf:.4f} MB\")"
   ]
  },
  {
   "cell_type": "code",
   "execution_count": 28,
   "metadata": {},
   "outputs": [
    {
     "name": "stdout",
     "output_type": "stream",
     "text": [
      "Memory Usage (Min): 0.0653 MB\n",
      "Memory Usage (Max): 0.0695 MB\n"
     ]
    }
   ],
   "source": [
    "# Memory usage RF Stratified\n",
    "memory_usages_rf_st = [measure_memory(rf_st, X_train_st, y_train_st) for _ in range(100)]\n",
    "\n",
    "# Ambil nilai terkecil dan terbesar\n",
    "min_memory_rf_st, max_memory_rf_st = min(memory_usages_rf_st), max(memory_usages_rf_st)\n",
    "\n",
    "# Tampilkan hasil\n",
    "print(f\"Memory Usage (Min): {min_memory_rf_st:.4f} MB\")\n",
    "print(f\"Memory Usage (Max): {max_memory_rf_st:.4f} MB\")"
   ]
  },
  {
   "cell_type": "code",
   "execution_count": 29,
   "metadata": {},
   "outputs": [],
   "source": [
    "def measure_cpu_energy_usage(label, model, X_train, y_train):\n",
    "    pyRAPL.setup()\n",
    "    \n",
    "    cpu_energies = []\n",
    "\n",
    "    for _ in range(100):\n",
    "        meter = pyRAPL.Measurement(label)\n",
    "        \n",
    "        with meter:\n",
    "            model.fit(X_train, y_train)  # Latih model\n",
    "            \n",
    "        # Ambil hasil pengukuran\n",
    "        result = meter.result\n",
    "\n",
    "        # Konversi CPU Energy dari µJ ke J\n",
    "        cpu_energy_joule = result.pkg[0] * 1e-6  # Paket energi CPU\n",
    "\n",
    "        # Simpan nilai untuk mencari min & max\n",
    "        cpu_energies.append(cpu_energy_joule)\n",
    "\n",
    "    return min(cpu_energies), max(cpu_energies)"
   ]
  },
  {
   "cell_type": "code",
   "execution_count": 30,
   "metadata": {
    "id": "oxOPw8UHndlU"
   },
   "outputs": [
    {
     "name": "stdout",
     "output_type": "stream",
     "text": [
      "Label : dtree\n",
      "Begin : Wed Feb 19 17:57:00 2025\n",
      "Duration :  2691.2230 us\n",
      "-------------------------------\n",
      "PKG :\n",
      "\tsocket 0 :  47181.0000 uJ\n",
      "Label : dtree\n",
      "Begin : Wed Feb 19 17:57:00 2025\n",
      "Duration :  2190.0590 us\n",
      "-------------------------------\n",
      "PKG :\n",
      "\tsocket 0 :  30151.0000 uJ\n",
      "Label : dtree\n",
      "Begin : Wed Feb 19 17:57:00 2025\n",
      "Duration :  2185.7620 us\n",
      "-------------------------------\n",
      "PKG :\n",
      "\tsocket 0 :  23071.0000 uJ\n",
      "Label : dtree\n",
      "Begin : Wed Feb 19 17:57:00 2025\n",
      "Duration :  2442.3530 us\n",
      "-------------------------------\n",
      "PKG :\n",
      "\tsocket 0 :  40771.0000 uJ\n",
      "Label : dtree\n",
      "Begin : Wed Feb 19 17:57:00 2025\n",
      "Duration :  3187.3610 us\n",
      "-------------------------------\n",
      "PKG :\n",
      "\tsocket 0 :  27771.0000 uJ\n",
      "Label : dtree\n",
      "Begin : Wed Feb 19 17:57:00 2025\n",
      "Duration :  3142.3460 us\n",
      "-------------------------------\n",
      "PKG :\n",
      "\tsocket 0 :  32044.0000 uJ\n",
      "Label : dtree\n",
      "Begin : Wed Feb 19 17:57:00 2025\n",
      "Duration :  2847.6000 us\n",
      "-------------------------------\n",
      "PKG :\n",
      "\tsocket 0 :  29174.0000 uJ\n",
      "Label : dtree\n",
      "Begin : Wed Feb 19 17:57:00 2025\n",
      "Duration :  3163.1870 us\n",
      "-------------------------------\n",
      "PKG :\n",
      "\tsocket 0 :  42542.0000 uJ\n",
      "Label : dtree\n",
      "Begin : Wed Feb 19 17:57:00 2025\n",
      "Duration :  3197.1490 us\n",
      "-------------------------------\n",
      "PKG :\n",
      "\tsocket 0 :  44006.0000 uJ\n",
      "Label : dtree\n",
      "Begin : Wed Feb 19 17:57:00 2025\n",
      "Duration :  3454.9980 us\n",
      "-------------------------------\n",
      "PKG :\n",
      "\tsocket 0 :  45227.0000 uJ\n",
      "Label : dtree\n",
      "Begin : Wed Feb 19 17:57:00 2025\n",
      "Duration :  2682.3030 us\n",
      "-------------------------------\n",
      "PKG :\n",
      "\tsocket 0 :  34546.0000 uJ\n",
      "Label : dtree\n",
      "Begin : Wed Feb 19 17:57:00 2025\n",
      "Duration :  2994.6800 us\n",
      "-------------------------------\n",
      "PKG :\n",
      "\tsocket 0 :  44677.0000 uJ\n",
      "Label : dtree\n",
      "Begin : Wed Feb 19 17:57:00 2025\n",
      "Duration :  5034.2680 us\n",
      "-------------------------------\n",
      "PKG :\n",
      "\tsocket 0 :  71472.0000 uJ\n",
      "Label : dtree\n",
      "Begin : Wed Feb 19 17:57:00 2025\n",
      "Duration :  3025.4680 us\n",
      "-------------------------------\n",
      "PKG :\n",
      "\tsocket 0 :  44495.0000 uJ\n",
      "Label : dtree\n",
      "Begin : Wed Feb 19 17:57:00 2025\n",
      "Duration :  2717.3880 us\n",
      "-------------------------------\n",
      "PKG :\n",
      "\tsocket 0 :  38208.0000 uJ\n",
      "Label : dtree\n",
      "Begin : Wed Feb 19 17:57:00 2025\n",
      "Duration :  4457.7400 us\n",
      "-------------------------------\n",
      "PKG :\n",
      "\tsocket 0 :  63842.0000 uJ\n",
      "Label : dtree\n",
      "Begin : Wed Feb 19 17:57:00 2025\n",
      "Duration :  4249.3730 us\n",
      "-------------------------------\n",
      "PKG :\n",
      "\tsocket 0 :  59754.0000 uJ\n",
      "Label : dtree\n",
      "Begin : Wed Feb 19 17:57:00 2025\n",
      "Duration :  3865.2390 us\n",
      "-------------------------------\n",
      "PKG :\n",
      "\tsocket 0 :  60607.0000 uJ\n",
      "Label : dtree\n",
      "Begin : Wed Feb 19 17:57:00 2025\n",
      "Duration :  2707.8990 us\n",
      "-------------------------------\n",
      "PKG :\n",
      "\tsocket 0 :  39307.0000 uJ\n",
      "Label : dtree\n",
      "Begin : Wed Feb 19 17:57:00 2025\n",
      "Duration :  2086.3740 us\n",
      "-------------------------------\n",
      "PKG :\n",
      "\tsocket 0 :  31006.0000 uJ\n",
      "Label : dtree\n",
      "Begin : Wed Feb 19 17:57:00 2025\n",
      "Duration :  2350.4700 us\n",
      "-------------------------------\n",
      "PKG :\n",
      "\tsocket 0 :  27038.0000 uJ\n",
      "Label : dtree\n",
      "Begin : Wed Feb 19 17:57:00 2025\n",
      "Duration :  4687.5860 us\n",
      "-------------------------------\n",
      "PKG :\n",
      "\tsocket 0 :  72510.0000 uJ\n",
      "Label : dtree\n",
      "Begin : Wed Feb 19 17:57:00 2025\n",
      "Duration :  2883.3280 us\n",
      "-------------------------------\n",
      "PKG :\n",
      "\tsocket 0 :  48889.0000 uJ\n",
      "Label : dtree\n",
      "Begin : Wed Feb 19 17:57:00 2025\n",
      "Duration :  2004.9270 us\n",
      "-------------------------------\n",
      "PKG :\n",
      "\tsocket 0 :  19165.0000 uJ\n",
      "Label : dtree\n",
      "Begin : Wed Feb 19 17:57:00 2025\n",
      "Duration :  2000.8610 us\n",
      "-------------------------------\n",
      "PKG :\n",
      "\tsocket 0 :  29419.0000 uJ\n",
      "Label : dtree\n",
      "Begin : Wed Feb 19 17:57:00 2025\n",
      "Duration :  2070.3730 us\n",
      "-------------------------------\n",
      "PKG :\n",
      "\tsocket 0 :  23010.0000 uJ\n",
      "Label : dtree\n",
      "Begin : Wed Feb 19 17:57:00 2025\n",
      "Duration :  2324.3620 us\n",
      "-------------------------------\n",
      "PKG :\n",
      "\tsocket 0 :  23560.0000 uJ\n",
      "Label : dtree\n",
      "Begin : Wed Feb 19 17:57:00 2025\n",
      "Duration :  2965.8280 us\n",
      "-------------------------------\n",
      "PKG :\n",
      "\tsocket 0 :  41442.0000 uJ\n",
      "Label : dtree\n",
      "Begin : Wed Feb 19 17:57:00 2025\n",
      "Duration :  3982.6190 us\n",
      "-------------------------------\n",
      "PKG :\n",
      "\tsocket 0 :  45899.0000 uJ\n",
      "Label : dtree\n",
      "Begin : Wed Feb 19 17:57:00 2025\n",
      "Duration :  4281.9050 us\n",
      "-------------------------------\n",
      "PKG :\n",
      "\tsocket 0 :  44799.0000 uJ\n",
      "Label : dtree\n",
      "Begin : Wed Feb 19 17:57:00 2025\n",
      "Duration :  3767.7840 us\n",
      "-------------------------------\n",
      "PKG :\n",
      "\tsocket 0 :  54627.0000 uJ\n",
      "Label : dtree\n",
      "Begin : Wed Feb 19 17:57:00 2025\n",
      "Duration :  3889.2160 us\n",
      "-------------------------------\n",
      "PKG :\n",
      "\tsocket 0 :  57007.0000 uJ\n",
      "Label : dtree\n",
      "Begin : Wed Feb 19 17:57:00 2025\n",
      "Duration :  4105.0950 us\n",
      "-------------------------------\n",
      "PKG :\n",
      "\tsocket 0 :  43212.0000 uJ\n",
      "Label : dtree\n",
      "Begin : Wed Feb 19 17:57:00 2025\n",
      "Duration :  4125.1730 us\n",
      "-------------------------------\n",
      "PKG :\n",
      "\tsocket 0 :  43945.0000 uJ\n",
      "Label : dtree\n",
      "Begin : Wed Feb 19 17:57:00 2025\n",
      "Duration :  3929.5320 us\n",
      "-------------------------------\n",
      "PKG :\n",
      "\tsocket 0 :  39673.0000 uJ\n",
      "Label : dtree\n",
      "Begin : Wed Feb 19 17:57:00 2025\n",
      "Duration :  3938.3360 us\n",
      "-------------------------------\n",
      "PKG :\n",
      "\tsocket 0 :  29907.0000 uJ\n",
      "Label : dtree\n",
      "Begin : Wed Feb 19 17:57:00 2025\n",
      "Duration :  3470.1570 us\n",
      "-------------------------------\n",
      "PKG :\n",
      "\tsocket 0 :  34302.0000 uJ\n",
      "Label : dtree\n",
      "Begin : Wed Feb 19 17:57:00 2025\n",
      "Duration :  3089.8840 us\n",
      "-------------------------------\n",
      "PKG :\n",
      "\tsocket 0 :  19165.0000 uJ\n",
      "Label : dtree\n",
      "Begin : Wed Feb 19 17:57:00 2025\n",
      "Duration :  2747.5090 us\n",
      "-------------------------------\n",
      "PKG :\n",
      "\tsocket 0 :  31616.0000 uJ\n",
      "Label : dtree\n",
      "Begin : Wed Feb 19 17:57:00 2025\n",
      "Duration :  2528.8620 us\n",
      "-------------------------------\n",
      "PKG :\n",
      "\tsocket 0 :  14404.0000 uJ\n",
      "Label : dtree\n",
      "Begin : Wed Feb 19 17:57:00 2025\n",
      "Duration :  2326.5280 us\n",
      "-------------------------------\n",
      "PKG :\n",
      "\tsocket 0 :  48828.0000 uJ\n",
      "Label : dtree\n",
      "Begin : Wed Feb 19 17:57:00 2025\n",
      "Duration :  2093.1630 us\n",
      "-------------------------------\n",
      "PKG :\n",
      "\tsocket 0 :  19226.0000 uJ\n",
      "Label : dtree\n",
      "Begin : Wed Feb 19 17:57:00 2025\n",
      "Duration :  1980.1410 us\n",
      "-------------------------------\n",
      "PKG :\n",
      "\tsocket 0 :  26306.0000 uJ\n",
      "Label : dtree\n",
      "Begin : Wed Feb 19 17:57:00 2025\n",
      "Duration :  1990.8690 us\n",
      "-------------------------------\n",
      "PKG :\n",
      "\tsocket 0 :  22339.0000 uJ\n",
      "Label : dtree\n",
      "Begin : Wed Feb 19 17:57:00 2025\n",
      "Duration :  1997.2810 us\n",
      "-------------------------------\n",
      "PKG :\n",
      "\tsocket 0 :  18005.0000 uJ\n",
      "Label : dtree\n",
      "Begin : Wed Feb 19 17:57:00 2025\n",
      "Duration :  1973.5230 us\n",
      "-------------------------------\n",
      "PKG :\n",
      "\tsocket 0 :  17701.0000 uJ\n",
      "Label : dtree\n",
      "Begin : Wed Feb 19 17:57:00 2025\n",
      "Duration :  1992.6190 us\n",
      "-------------------------------\n",
      "PKG :\n",
      "\tsocket 0 :  21850.0000 uJ\n",
      "Label : dtree\n",
      "Begin : Wed Feb 19 17:57:00 2025\n",
      "Duration :  2119.9280 us\n",
      "-------------------------------\n",
      "PKG :\n",
      "\tsocket 0 :  21973.0000 uJ\n",
      "Label : dtree\n",
      "Begin : Wed Feb 19 17:57:00 2025\n",
      "Duration :  2095.3910 us\n",
      "-------------------------------\n",
      "PKG :\n",
      "\tsocket 0 :  34301.0000 uJ\n",
      "Label : dtree\n",
      "Begin : Wed Feb 19 17:57:00 2025\n",
      "Duration :  2001.6360 us\n",
      "-------------------------------\n",
      "PKG :\n",
      "\tsocket 0 :  24964.0000 uJ\n",
      "Label : dtree\n",
      "Begin : Wed Feb 19 17:57:00 2025\n",
      "Duration :  2055.4380 us\n",
      "-------------------------------\n",
      "PKG :\n",
      "\tsocket 0 :  25390.0000 uJ\n",
      "Label : dtree\n",
      "Begin : Wed Feb 19 17:57:00 2025\n",
      "Duration :  2108.3070 us\n",
      "-------------------------------\n",
      "PKG :\n",
      "\tsocket 0 :  30396.0000 uJ\n",
      "Label : dtree\n",
      "Begin : Wed Feb 19 17:57:00 2025\n",
      "Duration :  1980.3980 us\n",
      "-------------------------------\n",
      "PKG :\n",
      "\tsocket 0 :  23315.0000 uJ\n",
      "Label : dtree\n",
      "Begin : Wed Feb 19 17:57:00 2025\n",
      "Duration :  2047.1500 us\n",
      "-------------------------------\n",
      "PKG :\n",
      "\tsocket 0 :  15625.0000 uJ\n",
      "Label : dtree\n",
      "Begin : Wed Feb 19 17:57:00 2025\n",
      "Duration :  2077.0060 us\n",
      "-------------------------------\n",
      "PKG :\n",
      "\tsocket 0 :  32288.0000 uJ\n",
      "Label : dtree\n",
      "Begin : Wed Feb 19 17:57:00 2025\n",
      "Duration :  1995.7970 us\n",
      "-------------------------------\n",
      "PKG :\n",
      "\tsocket 0 :  26733.0000 uJ\n",
      "Label : dtree\n",
      "Begin : Wed Feb 19 17:57:00 2025\n",
      "Duration :  1984.3200 us\n",
      "-------------------------------\n",
      "PKG :\n",
      "\tsocket 0 :  17944.0000 uJ\n",
      "Label : dtree\n",
      "Begin : Wed Feb 19 17:57:00 2025\n",
      "Duration :  2132.6880 us\n",
      "-------------------------------\n",
      "PKG :\n",
      "\tsocket 0 :  15381.0000 uJ\n",
      "Label : dtree\n",
      "Begin : Wed Feb 19 17:57:00 2025\n",
      "Duration :  2265.4030 us\n",
      "-------------------------------\n",
      "PKG :\n",
      "\tsocket 0 :  19592.0000 uJ\n",
      "Label : dtree\n",
      "Begin : Wed Feb 19 17:57:00 2025\n",
      "Duration :  1993.6810 us\n",
      "-------------------------------\n",
      "PKG :\n",
      "\tsocket 0 :  19104.0000 uJ\n",
      "Label : dtree\n",
      "Begin : Wed Feb 19 17:57:00 2025\n",
      "Duration :  2179.2770 us\n",
      "-------------------------------\n",
      "PKG :\n",
      "\tsocket 0 :  16968.0000 uJ\n",
      "Label : dtree\n",
      "Begin : Wed Feb 19 17:57:00 2025\n",
      "Duration :  2202.5470 us\n",
      "-------------------------------\n",
      "PKG :\n",
      "\tsocket 0 :  20812.0000 uJ\n",
      "Label : dtree\n",
      "Begin : Wed Feb 19 17:57:00 2025\n",
      "Duration :  2343.4370 us\n",
      "-------------------------------\n",
      "PKG :\n",
      "\tsocket 0 :  51392.0000 uJ\n",
      "Label : dtree\n",
      "Begin : Wed Feb 19 17:57:00 2025\n",
      "Duration :  2074.4200 us\n",
      "-------------------------------\n",
      "PKG :\n",
      "\tsocket 0 :  26611.0000 uJ\n",
      "Label : dtree\n",
      "Begin : Wed Feb 19 17:57:00 2025\n",
      "Duration :  1979.9170 us\n",
      "-------------------------------\n",
      "PKG :\n",
      "\tsocket 0 :  26550.0000 uJ\n",
      "Label : dtree\n",
      "Begin : Wed Feb 19 17:57:00 2025\n",
      "Duration :  1977.4320 us\n",
      "-------------------------------\n",
      "PKG :\n",
      "\tsocket 0 :  21546.0000 uJ\n",
      "Label : dtree\n",
      "Begin : Wed Feb 19 17:57:00 2025\n",
      "Duration :  2061.7860 us\n",
      "-------------------------------\n",
      "PKG :\n",
      "\tsocket 0 :  26062.0000 uJ\n",
      "Label : dtree\n",
      "Begin : Wed Feb 19 17:57:00 2025\n",
      "Duration :  2083.2640 us\n",
      "-------------------------------\n",
      "PKG :\n",
      "\tsocket 0 :  32287.0000 uJ\n",
      "Label : dtree\n",
      "Begin : Wed Feb 19 17:57:00 2025\n",
      "Duration :  2118.4280 us\n",
      "-------------------------------\n",
      "PKG :\n",
      "\tsocket 0 :  31250.0000 uJ\n",
      "Label : dtree\n",
      "Begin : Wed Feb 19 17:57:00 2025\n",
      "Duration :  2024.8850 us\n",
      "-------------------------------\n",
      "PKG :\n",
      "\tsocket 0 :  18738.0000 uJ\n",
      "Label : dtree\n",
      "Begin : Wed Feb 19 17:57:00 2025\n",
      "Duration :  2002.8480 us\n",
      "-------------------------------\n",
      "PKG :\n",
      "\tsocket 0 :  24597.0000 uJ\n",
      "Label : dtree\n",
      "Begin : Wed Feb 19 17:57:00 2025\n",
      "Duration :  2294.7400 us\n",
      "-------------------------------\n",
      "PKG :\n",
      "\tsocket 0 :  16846.0000 uJ\n",
      "Label : dtree\n",
      "Begin : Wed Feb 19 17:57:00 2025\n",
      "Duration :  2151.1720 us\n",
      "-------------------------------\n",
      "PKG :\n",
      "\tsocket 0 :  16235.0000 uJ\n",
      "Label : dtree\n",
      "Begin : Wed Feb 19 17:57:00 2025\n",
      "Duration :  2423.8300 us\n",
      "-------------------------------\n",
      "PKG :\n",
      "\tsocket 0 :  21240.0000 uJ\n",
      "Label : dtree\n",
      "Begin : Wed Feb 19 17:57:00 2025\n",
      "Duration :  2668.2840 us\n",
      "-------------------------------\n",
      "PKG :\n",
      "\tsocket 0 :  40039.0000 uJ\n",
      "Label : dtree\n",
      "Begin : Wed Feb 19 17:57:00 2025\n",
      "Duration :  3300.2250 us\n",
      "-------------------------------\n",
      "PKG :\n",
      "\tsocket 0 :  38452.0000 uJ\n",
      "Label : dtree\n",
      "Begin : Wed Feb 19 17:57:00 2025\n",
      "Duration :  3604.8760 us\n",
      "-------------------------------\n",
      "PKG :\n",
      "\tsocket 0 :  36072.0000 uJ\n",
      "Label : dtree\n",
      "Begin : Wed Feb 19 17:57:00 2025\n",
      "Duration :  3135.0790 us\n",
      "-------------------------------\n",
      "PKG :\n",
      "\tsocket 0 :  25513.0000 uJ\n",
      "Label : dtree\n",
      "Begin : Wed Feb 19 17:57:00 2025\n",
      "Duration :  3058.5180 us\n",
      "-------------------------------\n",
      "PKG :\n",
      "\tsocket 0 :  28198.0000 uJ\n",
      "Label : dtree\n",
      "Begin : Wed Feb 19 17:57:00 2025\n",
      "Duration :  2961.7020 us\n",
      "-------------------------------\n",
      "PKG :\n",
      "\tsocket 0 :  36987.0000 uJ\n",
      "Label : dtree\n",
      "Begin : Wed Feb 19 17:57:00 2025\n",
      "Duration :  3573.7490 us\n",
      "-------------------------------\n",
      "PKG :\n",
      "\tsocket 0 :  43213.0000 uJ\n",
      "Label : dtree\n",
      "Begin : Wed Feb 19 17:57:00 2025\n",
      "Duration :  3404.1790 us\n",
      "-------------------------------\n",
      "PKG :\n",
      "\tsocket 0 :  33020.0000 uJ\n",
      "Label : dtree\n",
      "Begin : Wed Feb 19 17:57:00 2025\n",
      "Duration :  2938.6280 us\n",
      "-------------------------------\n",
      "PKG :\n",
      "\tsocket 0 :  17517.0000 uJ\n",
      "Label : dtree\n",
      "Begin : Wed Feb 19 17:57:00 2025\n",
      "Duration :  2878.6280 us\n",
      "-------------------------------\n",
      "PKG :\n",
      "\tsocket 0 :  19714.0000 uJ\n",
      "Label : dtree\n",
      "Begin : Wed Feb 19 17:57:00 2025\n",
      "Duration :  3295.9650 us\n",
      "-------------------------------\n",
      "PKG :\n",
      "\tsocket 0 :  33814.0000 uJ\n",
      "Label : dtree\n",
      "Begin : Wed Feb 19 17:57:00 2025\n",
      "Duration :  3106.1370 us\n",
      "-------------------------------\n",
      "PKG :\n",
      "\tsocket 0 :  48034.0000 uJ\n",
      "Label : dtree\n",
      "Begin : Wed Feb 19 17:57:00 2025\n",
      "Duration :  2857.3920 us\n",
      "-------------------------------\n",
      "PKG :\n",
      "\tsocket 0 :  29968.0000 uJ\n",
      "Label : dtree\n",
      "Begin : Wed Feb 19 17:57:00 2025\n",
      "Duration :  2633.3430 us\n",
      "-------------------------------\n",
      "PKG :\n",
      "\tsocket 0 :  39917.0000 uJ\n",
      "Label : dtree\n",
      "Begin : Wed Feb 19 17:57:00 2025\n",
      "Duration :  2356.7290 us\n",
      "-------------------------------\n",
      "PKG :\n",
      "\tsocket 0 :  21240.0000 uJ\n",
      "Label : dtree\n",
      "Begin : Wed Feb 19 17:57:00 2025\n",
      "Duration :  2352.3830 us\n",
      "-------------------------------\n",
      "PKG :\n",
      "\tsocket 0 :  38575.0000 uJ\n",
      "Label : dtree\n",
      "Begin : Wed Feb 19 17:57:01 2025\n",
      "Duration :  2213.6850 us\n",
      "-------------------------------\n",
      "PKG :\n",
      "\tsocket 0 :  18005.0000 uJ\n",
      "Label : dtree\n",
      "Begin : Wed Feb 19 17:57:01 2025\n",
      "Duration :  2033.6380 us\n",
      "-------------------------------\n",
      "PKG :\n",
      "\tsocket 0 :  41382.0000 uJ\n",
      "Label : dtree\n",
      "Begin : Wed Feb 19 17:57:01 2025\n",
      "Duration :  1991.8030 us\n",
      "-------------------------------\n",
      "PKG :\n",
      "\tsocket 0 :  17944.0000 uJ\n",
      "Label : dtree\n",
      "Begin : Wed Feb 19 17:57:01 2025\n",
      "Duration :  1960.8070 us\n",
      "-------------------------------\n",
      "PKG :\n",
      "\tsocket 0 :  14221.0000 uJ\n",
      "Label : dtree\n",
      "Begin : Wed Feb 19 17:57:01 2025\n",
      "Duration :  2115.9600 us\n",
      "-------------------------------\n",
      "PKG :\n",
      "\tsocket 0 :  15686.0000 uJ\n",
      "Label : dtree\n",
      "Begin : Wed Feb 19 17:57:01 2025\n",
      "Duration :  2084.2780 us\n",
      "-------------------------------\n",
      "PKG :\n",
      "\tsocket 0 :  20447.0000 uJ\n",
      "Label : dtree\n",
      "Begin : Wed Feb 19 17:57:01 2025\n",
      "Duration :  2023.1630 us\n",
      "-------------------------------\n",
      "PKG :\n",
      "\tsocket 0 :  21057.0000 uJ\n",
      "Label : dtree\n",
      "Begin : Wed Feb 19 17:57:01 2025\n",
      "Duration :  2333.0720 us\n",
      "-------------------------------\n",
      "PKG :\n",
      "\tsocket 0 :  28930.0000 uJ\n",
      "Label : dtree\n",
      "Begin : Wed Feb 19 17:57:01 2025\n",
      "Duration :  2277.6250 us\n",
      "-------------------------------\n",
      "PKG :\n",
      "\tsocket 0 :  39978.0000 uJ\n",
      "Label : dtree\n",
      "Begin : Wed Feb 19 17:57:01 2025\n",
      "Duration :  2111.7120 us\n",
      "-------------------------------\n",
      "PKG :\n",
      "\tsocket 0 :  22827.0000 uJ\n",
      "CPU Energy (Min): 0.0142 J\n",
      "CPU Energy (Max): 0.0725 J\n"
     ]
    }
   ],
   "source": [
    "# Measure CPU energy DT\n",
    "min_cpu_dt, max_cpu_dt = measure_cpu_energy_usage('dtree', dtree, X_train, y_train)\n",
    "\n",
    "# Tampilkan hasil\n",
    "print(f\"CPU Energy (Min): {min_cpu_dt:.4f} J\")\n",
    "print(f\"CPU Energy (Max): {max_cpu_dt:.4f} J\")"
   ]
  },
  {
   "cell_type": "code",
   "execution_count": 31,
   "metadata": {},
   "outputs": [
    {
     "name": "stdout",
     "output_type": "stream",
     "text": [
      "Label : dtree_stratified\n",
      "Begin : Wed Feb 19 17:57:01 2025\n",
      "Duration :  3220.1050 us\n",
      "-------------------------------\n",
      "PKG :\n",
      "\tsocket 0 :  57068.0000 uJ\n",
      "Label : dtree_stratified\n",
      "Begin : Wed Feb 19 17:57:01 2025\n",
      "Duration :  3398.2950 us\n",
      "-------------------------------\n",
      "PKG :\n",
      "\tsocket 0 :  44006.0000 uJ\n",
      "Label : dtree_stratified\n",
      "Begin : Wed Feb 19 17:57:01 2025\n",
      "Duration :  2790.3880 us\n",
      "-------------------------------\n",
      "PKG :\n",
      "\tsocket 0 :  27099.0000 uJ\n",
      "Label : dtree_stratified\n",
      "Begin : Wed Feb 19 17:57:01 2025\n",
      "Duration :  2499.6120 us\n",
      "-------------------------------\n",
      "PKG :\n",
      "\tsocket 0 :  27771.0000 uJ\n",
      "Label : dtree_stratified\n",
      "Begin : Wed Feb 19 17:57:01 2025\n",
      "Duration :  2533.6950 us\n",
      "-------------------------------\n",
      "PKG :\n",
      "\tsocket 0 :  26489.0000 uJ\n",
      "Label : dtree_stratified\n",
      "Begin : Wed Feb 19 17:57:01 2025\n",
      "Duration :  2381.8220 us\n",
      "-------------------------------\n",
      "PKG :\n",
      "\tsocket 0 :  47242.0000 uJ\n",
      "Label : dtree_stratified\n",
      "Begin : Wed Feb 19 17:57:01 2025\n",
      "Duration :  2074.1370 us\n",
      "-------------------------------\n",
      "PKG :\n",
      "\tsocket 0 :  16723.0000 uJ\n",
      "Label : dtree_stratified\n",
      "Begin : Wed Feb 19 17:57:01 2025\n",
      "Duration :  1918.0070 us\n",
      "-------------------------------\n",
      "PKG :\n",
      "\tsocket 0 :  32593.0000 uJ\n",
      "Label : dtree_stratified\n",
      "Begin : Wed Feb 19 17:57:01 2025\n",
      "Duration :  1932.3550 us\n",
      "-------------------------------\n",
      "PKG :\n",
      "\tsocket 0 :  22522.0000 uJ\n",
      "Label : dtree_stratified\n",
      "Begin : Wed Feb 19 17:57:01 2025\n",
      "Duration :  1919.8810 us\n",
      "-------------------------------\n",
      "PKG :\n",
      "\tsocket 0 :  26001.0000 uJ\n",
      "Label : dtree_stratified\n",
      "Begin : Wed Feb 19 17:57:01 2025\n",
      "Duration :  1904.2350 us\n",
      "-------------------------------\n",
      "PKG :\n",
      "\tsocket 0 :  23498.0000 uJ\n",
      "Label : dtree_stratified\n",
      "Begin : Wed Feb 19 17:57:01 2025\n",
      "Duration :  1938.5740 us\n",
      "-------------------------------\n",
      "PKG :\n",
      "\tsocket 0 :  18311.0000 uJ\n",
      "Label : dtree_stratified\n",
      "Begin : Wed Feb 19 17:57:01 2025\n",
      "Duration :  1934.9510 us\n",
      "-------------------------------\n",
      "PKG :\n",
      "\tsocket 0 :  33020.0000 uJ\n",
      "Label : dtree_stratified\n",
      "Begin : Wed Feb 19 17:57:01 2025\n",
      "Duration :  1944.1570 us\n",
      "-------------------------------\n",
      "PKG :\n",
      "\tsocket 0 :  20446.0000 uJ\n",
      "Label : dtree_stratified\n",
      "Begin : Wed Feb 19 17:57:01 2025\n",
      "Duration :  1919.4660 us\n",
      "-------------------------------\n",
      "PKG :\n",
      "\tsocket 0 :  14404.0000 uJ\n",
      "Label : dtree_stratified\n",
      "Begin : Wed Feb 19 17:57:01 2025\n",
      "Duration :  1995.8240 us\n",
      "-------------------------------\n",
      "PKG :\n",
      "\tsocket 0 :  18188.0000 uJ\n",
      "Label : dtree_stratified\n",
      "Begin : Wed Feb 19 17:57:01 2025\n",
      "Duration :  1927.6080 us\n",
      "-------------------------------\n",
      "PKG :\n",
      "\tsocket 0 :  18311.0000 uJ\n",
      "Label : dtree_stratified\n",
      "Begin : Wed Feb 19 17:57:01 2025\n",
      "Duration :  1952.4000 us\n",
      "-------------------------------\n",
      "PKG :\n",
      "\tsocket 0 :  25024.0000 uJ\n",
      "Label : dtree_stratified\n",
      "Begin : Wed Feb 19 17:57:01 2025\n",
      "Duration :  2044.7910 us\n",
      "-------------------------------\n",
      "PKG :\n",
      "\tsocket 0 :  15381.0000 uJ\n",
      "Label : dtree_stratified\n",
      "Begin : Wed Feb 19 17:57:01 2025\n",
      "Duration :  2170.5340 us\n",
      "-------------------------------\n",
      "PKG :\n",
      "\tsocket 0 :  15076.0000 uJ\n",
      "Label : dtree_stratified\n",
      "Begin : Wed Feb 19 17:57:01 2025\n",
      "Duration :  2111.1230 us\n",
      "-------------------------------\n",
      "PKG :\n",
      "\tsocket 0 :  46752.0000 uJ\n",
      "Label : dtree_stratified\n",
      "Begin : Wed Feb 19 17:57:01 2025\n",
      "Duration :  1977.1580 us\n",
      "-------------------------------\n",
      "PKG :\n",
      "\tsocket 0 :  23438.0000 uJ\n",
      "Label : dtree_stratified\n",
      "Begin : Wed Feb 19 17:57:01 2025\n",
      "Duration :  1947.3500 us\n",
      "-------------------------------\n",
      "PKG :\n",
      "\tsocket 0 :  24109.0000 uJ\n",
      "Label : dtree_stratified\n",
      "Begin : Wed Feb 19 17:57:01 2025\n",
      "Duration :  1965.2880 us\n",
      "-------------------------------\n",
      "PKG :\n",
      "\tsocket 0 :  27526.0000 uJ\n",
      "Label : dtree_stratified\n",
      "Begin : Wed Feb 19 17:57:01 2025\n",
      "Duration :  1912.0340 us\n",
      "-------------------------------\n",
      "PKG :\n",
      "\tsocket 0 :  27100.0000 uJ\n",
      "Label : dtree_stratified\n",
      "Begin : Wed Feb 19 17:57:01 2025\n",
      "Duration :  1893.7540 us\n",
      "-------------------------------\n",
      "PKG :\n",
      "\tsocket 0 :  7874.0000 uJ\n",
      "Label : dtree_stratified\n",
      "Begin : Wed Feb 19 17:57:01 2025\n",
      "Duration :  1974.8450 us\n",
      "-------------------------------\n",
      "PKG :\n",
      "\tsocket 0 :  50353.0000 uJ\n",
      "Label : dtree_stratified\n",
      "Begin : Wed Feb 19 17:57:01 2025\n",
      "Duration :  2006.7120 us\n",
      "-------------------------------\n",
      "PKG :\n",
      "\tsocket 0 :  14038.0000 uJ\n",
      "Label : dtree_stratified\n",
      "Begin : Wed Feb 19 17:57:01 2025\n",
      "Duration :  1931.3590 us\n",
      "-------------------------------\n",
      "PKG :\n",
      "\tsocket 0 :  36133.0000 uJ\n",
      "Label : dtree_stratified\n",
      "Begin : Wed Feb 19 17:57:01 2025\n",
      "Duration :  1937.8090 us\n",
      "-------------------------------\n",
      "PKG :\n",
      "\tsocket 0 :  17334.0000 uJ\n",
      "Label : dtree_stratified\n",
      "Begin : Wed Feb 19 17:57:01 2025\n",
      "Duration :  1922.0230 us\n",
      "-------------------------------\n",
      "PKG :\n",
      "\tsocket 0 :  23071.0000 uJ\n",
      "Label : dtree_stratified\n",
      "Begin : Wed Feb 19 17:57:01 2025\n",
      "Duration :  1915.0320 us\n",
      "-------------------------------\n",
      "PKG :\n",
      "\tsocket 0 :  15076.0000 uJ\n",
      "Label : dtree_stratified\n",
      "Begin : Wed Feb 19 17:57:01 2025\n",
      "Duration :  2740.2880 us\n",
      "-------------------------------\n",
      "PKG :\n",
      "\tsocket 0 :  29297.0000 uJ\n",
      "Label : dtree_stratified\n",
      "Begin : Wed Feb 19 17:57:01 2025\n",
      "Duration :  2277.5420 us\n",
      "-------------------------------\n",
      "PKG :\n",
      "\tsocket 0 :  19653.0000 uJ\n",
      "Label : dtree_stratified\n",
      "Begin : Wed Feb 19 17:57:01 2025\n",
      "Duration :  2316.4280 us\n",
      "-------------------------------\n",
      "PKG :\n",
      "\tsocket 0 :  52185.0000 uJ\n",
      "Label : dtree_stratified\n",
      "Begin : Wed Feb 19 17:57:01 2025\n",
      "Duration :  2080.1130 us\n",
      "-------------------------------\n",
      "PKG :\n",
      "\tsocket 0 :  17273.0000 uJ\n",
      "Label : dtree_stratified\n",
      "Begin : Wed Feb 19 17:57:01 2025\n",
      "Duration :  2075.1180 us\n",
      "-------------------------------\n",
      "PKG :\n",
      "\tsocket 0 :  33081.0000 uJ\n",
      "Label : dtree_stratified\n",
      "Begin : Wed Feb 19 17:57:01 2025\n",
      "Duration :  2218.1450 us\n",
      "-------------------------------\n",
      "PKG :\n",
      "\tsocket 0 :  31006.0000 uJ\n",
      "Label : dtree_stratified\n",
      "Begin : Wed Feb 19 17:57:01 2025\n",
      "Duration :  2019.0510 us\n",
      "-------------------------------\n",
      "PKG :\n",
      "\tsocket 0 :  24841.0000 uJ\n",
      "Label : dtree_stratified\n",
      "Begin : Wed Feb 19 17:57:01 2025\n",
      "Duration :  2377.8940 us\n",
      "-------------------------------\n",
      "PKG :\n",
      "\tsocket 0 :  28137.0000 uJ\n",
      "Label : dtree_stratified\n",
      "Begin : Wed Feb 19 17:57:01 2025\n",
      "Duration :  3634.9250 us\n",
      "-------------------------------\n",
      "PKG :\n",
      "\tsocket 0 :  27039.0000 uJ\n",
      "Label : dtree_stratified\n",
      "Begin : Wed Feb 19 17:57:01 2025\n",
      "Duration :  3089.6040 us\n",
      "-------------------------------\n",
      "PKG :\n",
      "\tsocket 0 :  32532.0000 uJ\n",
      "Label : dtree_stratified\n",
      "Begin : Wed Feb 19 17:57:01 2025\n",
      "Duration :  3149.6200 us\n",
      "-------------------------------\n",
      "PKG :\n",
      "\tsocket 0 :  23437.0000 uJ\n",
      "Label : dtree_stratified\n",
      "Begin : Wed Feb 19 17:57:01 2025\n",
      "Duration :  2869.3180 us\n",
      "-------------------------------\n",
      "PKG :\n",
      "\tsocket 0 :  19897.0000 uJ\n",
      "Label : dtree_stratified\n",
      "Begin : Wed Feb 19 17:57:01 2025\n",
      "Duration :  2872.7900 us\n",
      "-------------------------------\n",
      "PKG :\n",
      "\tsocket 0 :  27710.0000 uJ\n",
      "Label : dtree_stratified\n",
      "Begin : Wed Feb 19 17:57:01 2025\n",
      "Duration :  3260.9380 us\n",
      "-------------------------------\n",
      "PKG :\n",
      "\tsocket 0 :  48462.0000 uJ\n",
      "Label : dtree_stratified\n",
      "Begin : Wed Feb 19 17:57:01 2025\n",
      "Duration :  3911.6430 us\n",
      "-------------------------------\n",
      "PKG :\n",
      "\tsocket 0 :  43030.0000 uJ\n",
      "Label : dtree_stratified\n",
      "Begin : Wed Feb 19 17:57:01 2025\n",
      "Duration :  3225.8690 us\n",
      "-------------------------------\n",
      "PKG :\n",
      "\tsocket 0 :  23437.0000 uJ\n",
      "Label : dtree_stratified\n",
      "Begin : Wed Feb 19 17:57:01 2025\n",
      "Duration :  2957.8570 us\n",
      "-------------------------------\n",
      "PKG :\n",
      "\tsocket 0 :  24231.0000 uJ\n",
      "Label : dtree_stratified\n",
      "Begin : Wed Feb 19 17:57:01 2025\n",
      "Duration :  3046.8410 us\n",
      "-------------------------------\n",
      "PKG :\n",
      "\tsocket 0 :  39001.0000 uJ\n",
      "Label : dtree_stratified\n",
      "Begin : Wed Feb 19 17:57:01 2025\n",
      "Duration :  3452.0040 us\n",
      "-------------------------------\n",
      "PKG :\n",
      "\tsocket 0 :  35218.0000 uJ\n",
      "Label : dtree_stratified\n",
      "Begin : Wed Feb 19 17:57:01 2025\n",
      "Duration :  3326.8340 us\n",
      "-------------------------------\n",
      "PKG :\n",
      "\tsocket 0 :  23010.0000 uJ\n",
      "Label : dtree_stratified\n",
      "Begin : Wed Feb 19 17:57:01 2025\n",
      "Duration :  3017.9720 us\n",
      "-------------------------------\n",
      "PKG :\n",
      "\tsocket 0 :  24598.0000 uJ\n",
      "Label : dtree_stratified\n",
      "Begin : Wed Feb 19 17:57:01 2025\n",
      "Duration :  2870.1190 us\n",
      "-------------------------------\n",
      "PKG :\n",
      "\tsocket 0 :  23681.0000 uJ\n",
      "Label : dtree_stratified\n",
      "Begin : Wed Feb 19 17:57:01 2025\n",
      "Duration :  3059.2300 us\n",
      "-------------------------------\n",
      "PKG :\n",
      "\tsocket 0 :  34119.0000 uJ\n",
      "Label : dtree_stratified\n",
      "Begin : Wed Feb 19 17:57:01 2025\n",
      "Duration :  2737.1050 us\n",
      "-------------------------------\n",
      "PKG :\n",
      "\tsocket 0 :  37353.0000 uJ\n",
      "Label : dtree_stratified\n",
      "Begin : Wed Feb 19 17:57:01 2025\n",
      "Duration :  2568.8180 us\n",
      "-------------------------------\n",
      "PKG :\n",
      "\tsocket 0 :  32654.0000 uJ\n",
      "Label : dtree_stratified\n",
      "Begin : Wed Feb 19 17:57:01 2025\n",
      "Duration :  2223.9320 us\n",
      "-------------------------------\n",
      "PKG :\n",
      "\tsocket 0 :  21484.0000 uJ\n",
      "Label : dtree_stratified\n",
      "Begin : Wed Feb 19 17:57:01 2025\n",
      "Duration :  2162.5030 us\n",
      "-------------------------------\n",
      "PKG :\n",
      "\tsocket 0 :  28259.0000 uJ\n",
      "Label : dtree_stratified\n",
      "Begin : Wed Feb 19 17:57:01 2025\n",
      "Duration :  1985.5220 us\n",
      "-------------------------------\n",
      "PKG :\n",
      "\tsocket 0 :  19471.0000 uJ\n",
      "Label : dtree_stratified\n",
      "Begin : Wed Feb 19 17:57:01 2025\n",
      "Duration :  1921.6100 us\n",
      "-------------------------------\n",
      "PKG :\n",
      "\tsocket 0 :  15136.0000 uJ\n",
      "Label : dtree_stratified\n",
      "Begin : Wed Feb 19 17:57:01 2025\n",
      "Duration :  1919.5360 us\n",
      "-------------------------------\n",
      "PKG :\n",
      "\tsocket 0 :  12939.0000 uJ\n",
      "Label : dtree_stratified\n",
      "Begin : Wed Feb 19 17:57:01 2025\n",
      "Duration :  1918.7640 us\n",
      "-------------------------------\n",
      "PKG :\n",
      "\tsocket 0 :  22522.0000 uJ\n",
      "Label : dtree_stratified\n",
      "Begin : Wed Feb 19 17:57:01 2025\n",
      "Duration :  2025.0280 us\n",
      "-------------------------------\n",
      "PKG :\n",
      "\tsocket 0 :  17090.0000 uJ\n",
      "Label : dtree_stratified\n",
      "Begin : Wed Feb 19 17:57:01 2025\n",
      "Duration :  2056.3410 us\n",
      "-------------------------------\n",
      "PKG :\n",
      "\tsocket 0 :  11108.0000 uJ\n",
      "Label : dtree_stratified\n",
      "Begin : Wed Feb 19 17:57:01 2025\n",
      "Duration :  1968.3130 us\n",
      "-------------------------------\n",
      "PKG :\n",
      "\tsocket 0 :  21362.0000 uJ\n",
      "Label : dtree_stratified\n",
      "Begin : Wed Feb 19 17:57:01 2025\n",
      "Duration :  1907.2240 us\n",
      "-------------------------------\n",
      "PKG :\n",
      "\tsocket 0 :  17761.0000 uJ\n",
      "Label : dtree_stratified\n",
      "Begin : Wed Feb 19 17:57:01 2025\n",
      "Duration :  2044.3260 us\n",
      "-------------------------------\n",
      "PKG :\n",
      "\tsocket 0 :  20020.0000 uJ\n",
      "Label : dtree_stratified\n",
      "Begin : Wed Feb 19 17:57:01 2025\n",
      "Duration :  2078.2910 us\n",
      "-------------------------------\n",
      "PKG :\n",
      "\tsocket 0 :  13183.0000 uJ\n",
      "Label : dtree_stratified\n",
      "Begin : Wed Feb 19 17:57:01 2025\n",
      "Duration :  2199.8670 us\n",
      "-------------------------------\n",
      "PKG :\n",
      "\tsocket 0 :  43824.0000 uJ\n",
      "Label : dtree_stratified\n",
      "Begin : Wed Feb 19 17:57:01 2025\n",
      "Duration :  2115.9290 us\n",
      "-------------------------------\n",
      "PKG :\n",
      "\tsocket 0 :  31066.0000 uJ\n",
      "Label : dtree_stratified\n",
      "Begin : Wed Feb 19 17:57:01 2025\n",
      "Duration :  1937.9150 us\n",
      "-------------------------------\n",
      "PKG :\n",
      "\tsocket 0 :  19959.0000 uJ\n",
      "Label : dtree_stratified\n",
      "Begin : Wed Feb 19 17:57:01 2025\n",
      "Duration :  1997.7090 us\n",
      "-------------------------------\n",
      "PKG :\n",
      "\tsocket 0 :  18005.0000 uJ\n",
      "Label : dtree_stratified\n",
      "Begin : Wed Feb 19 17:57:01 2025\n",
      "Duration :  1930.3060 us\n",
      "-------------------------------\n",
      "PKG :\n",
      "\tsocket 0 :  19775.0000 uJ\n",
      "Label : dtree_stratified\n",
      "Begin : Wed Feb 19 17:57:01 2025\n",
      "Duration :  1930.1610 us\n",
      "-------------------------------\n",
      "PKG :\n",
      "\tsocket 0 :  18738.0000 uJ\n",
      "Label : dtree_stratified\n",
      "Begin : Wed Feb 19 17:57:01 2025\n",
      "Duration :  1966.8910 us\n",
      "-------------------------------\n",
      "PKG :\n",
      "\tsocket 0 :  30640.0000 uJ\n",
      "Label : dtree_stratified\n",
      "Begin : Wed Feb 19 17:57:01 2025\n",
      "Duration :  2235.8660 us\n",
      "-------------------------------\n",
      "PKG :\n",
      "\tsocket 0 :  24414.0000 uJ\n",
      "Label : dtree_stratified\n",
      "Begin : Wed Feb 19 17:57:01 2025\n",
      "Duration :  2711.8190 us\n",
      "-------------------------------\n",
      "PKG :\n",
      "\tsocket 0 :  26245.0000 uJ\n",
      "Label : dtree_stratified\n",
      "Begin : Wed Feb 19 17:57:01 2025\n",
      "Duration :  3232.3730 us\n",
      "-------------------------------\n",
      "PKG :\n",
      "\tsocket 0 :  23010.0000 uJ\n",
      "Label : dtree_stratified\n",
      "Begin : Wed Feb 19 17:57:01 2025\n",
      "Duration :  2881.0910 us\n",
      "-------------------------------\n",
      "PKG :\n",
      "\tsocket 0 :  22278.0000 uJ\n",
      "Label : dtree_stratified\n",
      "Begin : Wed Feb 19 17:57:01 2025\n",
      "Duration :  2716.1990 us\n",
      "-------------------------------\n",
      "PKG :\n",
      "\tsocket 0 :  24963.0000 uJ\n",
      "Label : dtree_stratified\n",
      "Begin : Wed Feb 19 17:57:01 2025\n",
      "Duration :  3046.5770 us\n",
      "-------------------------------\n",
      "PKG :\n",
      "\tsocket 0 :  41138.0000 uJ\n",
      "Label : dtree_stratified\n",
      "Begin : Wed Feb 19 17:57:01 2025\n",
      "Duration :  3242.9420 us\n",
      "-------------------------------\n",
      "PKG :\n",
      "\tsocket 0 :  34118.0000 uJ\n",
      "Label : dtree_stratified\n",
      "Begin : Wed Feb 19 17:57:01 2025\n",
      "Duration :  2843.8710 us\n",
      "-------------------------------\n",
      "PKG :\n",
      "\tsocket 0 :  41382.0000 uJ\n",
      "Label : dtree_stratified\n",
      "Begin : Wed Feb 19 17:57:01 2025\n",
      "Duration :  2579.1470 us\n",
      "-------------------------------\n",
      "PKG :\n",
      "\tsocket 0 :  19104.0000 uJ\n",
      "Label : dtree_stratified\n",
      "Begin : Wed Feb 19 17:57:01 2025\n",
      "Duration :  2288.8340 us\n",
      "-------------------------------\n",
      "PKG :\n",
      "\tsocket 0 :  18921.0000 uJ\n",
      "Label : dtree_stratified\n",
      "Begin : Wed Feb 19 17:57:01 2025\n",
      "Duration :  2214.5780 us\n",
      "-------------------------------\n",
      "PKG :\n",
      "\tsocket 0 :  22522.0000 uJ\n",
      "Label : dtree_stratified\n",
      "Begin : Wed Feb 19 17:57:01 2025\n",
      "Duration :  2419.5580 us\n",
      "-------------------------------\n",
      "PKG :\n",
      "\tsocket 0 :  33752.0000 uJ\n",
      "Label : dtree_stratified\n",
      "Begin : Wed Feb 19 17:57:01 2025\n",
      "Duration :  2465.4460 us\n",
      "-------------------------------\n",
      "PKG :\n",
      "\tsocket 0 :  34851.0000 uJ\n",
      "Label : dtree_stratified\n",
      "Begin : Wed Feb 19 17:57:01 2025\n",
      "Duration :  2935.9640 us\n",
      "-------------------------------\n",
      "PKG :\n",
      "\tsocket 0 :  24902.0000 uJ\n",
      "Label : dtree_stratified\n",
      "Begin : Wed Feb 19 17:57:01 2025\n",
      "Duration :  2735.4120 us\n",
      "-------------------------------\n",
      "PKG :\n",
      "\tsocket 0 :  20935.0000 uJ\n",
      "Label : dtree_stratified\n",
      "Begin : Wed Feb 19 17:57:01 2025\n",
      "Duration :  2662.8330 us\n",
      "-------------------------------\n",
      "PKG :\n",
      "\tsocket 0 :  26184.0000 uJ\n",
      "Label : dtree_stratified\n",
      "Begin : Wed Feb 19 17:57:01 2025\n",
      "Duration :  3109.7230 us\n",
      "-------------------------------\n",
      "PKG :\n",
      "\tsocket 0 :  25818.0000 uJ\n",
      "Label : dtree_stratified\n",
      "Begin : Wed Feb 19 17:57:01 2025\n",
      "Duration :  3615.6840 us\n",
      "-------------------------------\n",
      "PKG :\n",
      "\tsocket 0 :  38147.0000 uJ\n",
      "Label : dtree_stratified\n",
      "Begin : Wed Feb 19 17:57:01 2025\n",
      "Duration :  3633.8140 us\n",
      "-------------------------------\n",
      "PKG :\n",
      "\tsocket 0 :  32654.0000 uJ\n",
      "Label : dtree_stratified\n",
      "Begin : Wed Feb 19 17:57:01 2025\n",
      "Duration :  3729.2980 us\n",
      "-------------------------------\n",
      "PKG :\n",
      "\tsocket 0 :  36987.0000 uJ\n",
      "Label : dtree_stratified\n",
      "Begin : Wed Feb 19 17:57:01 2025\n",
      "Duration :  3085.6440 us\n",
      "-------------------------------\n",
      "PKG :\n",
      "\tsocket 0 :  27222.0000 uJ\n",
      "Label : dtree_stratified\n",
      "Begin : Wed Feb 19 17:57:01 2025\n",
      "Duration :  3143.0030 us\n",
      "-------------------------------\n",
      "PKG :\n",
      "\tsocket 0 :  30700.0000 uJ\n",
      "Label : dtree_stratified\n",
      "Begin : Wed Feb 19 17:57:01 2025\n",
      "Duration :  3016.5990 us\n",
      "-------------------------------\n",
      "PKG :\n",
      "\tsocket 0 :  34607.0000 uJ\n",
      "Label : dtree_stratified\n",
      "Begin : Wed Feb 19 17:57:01 2025\n",
      "Duration :  2761.2700 us\n",
      "-------------------------------\n",
      "PKG :\n",
      "\tsocket 0 :  18371.0000 uJ\n",
      "CPU Energy (Min): 0.0079 J\n",
      "CPU Energy (Max): 0.0571 J\n"
     ]
    }
   ],
   "source": [
    "# Measure CPU energy DT Stratified\n",
    "min_cpu_dt_st, max_cpu_dt_st = measure_cpu_energy_usage('dtree_stratified', dtree_st, X_train_st, y_train_st)\n",
    "\n",
    "# Tampilkan hasil\n",
    "print(f\"CPU Energy (Min): {min_cpu_dt_st:.4f} J\")\n",
    "print(f\"CPU Energy (Max): {max_cpu_dt_st:.4f} J\")"
   ]
  },
  {
   "cell_type": "code",
   "execution_count": 32,
   "metadata": {},
   "outputs": [
    {
     "name": "stdout",
     "output_type": "stream",
     "text": [
      "Label : random_forest\n",
      "Begin : Wed Feb 19 17:57:01 2025\n",
      "Duration : 139215.7140 us\n",
      "-------------------------------\n",
      "PKG :\n",
      "\tsocket 0 :  1467526.0000 uJ\n",
      "Label : random_forest\n",
      "Begin : Wed Feb 19 17:57:01 2025\n",
      "Duration : 115288.8710 us\n",
      "-------------------------------\n",
      "PKG :\n",
      "\tsocket 0 :  1193051.0000 uJ\n",
      "Label : random_forest\n",
      "Begin : Wed Feb 19 17:57:01 2025\n",
      "Duration : 117391.9980 us\n",
      "-------------------------------\n",
      "PKG :\n",
      "\tsocket 0 :  1270504.0000 uJ\n",
      "Label : random_forest\n",
      "Begin : Wed Feb 19 17:57:01 2025\n",
      "Duration : 115169.7810 us\n",
      "-------------------------------\n",
      "PKG :\n",
      "\tsocket 0 :  1198911.0000 uJ\n",
      "Label : random_forest\n",
      "Begin : Wed Feb 19 17:57:01 2025\n",
      "Duration : 116193.6240 us\n",
      "-------------------------------\n",
      "PKG :\n",
      "\tsocket 0 :  1256771.0000 uJ\n",
      "Label : random_forest\n",
      "Begin : Wed Feb 19 17:57:01 2025\n",
      "Duration : 116435.8100 us\n",
      "-------------------------------\n",
      "PKG :\n",
      "\tsocket 0 :  1184140.0000 uJ\n",
      "Label : random_forest\n",
      "Begin : Wed Feb 19 17:57:02 2025\n",
      "Duration : 115647.5940 us\n",
      "-------------------------------\n",
      "PKG :\n",
      "\tsocket 0 :  1237424.0000 uJ\n",
      "Label : random_forest\n",
      "Begin : Wed Feb 19 17:57:02 2025\n",
      "Duration : 114699.8500 us\n",
      "-------------------------------\n",
      "PKG :\n",
      "\tsocket 0 :  1159055.0000 uJ\n",
      "Label : random_forest\n",
      "Begin : Wed Feb 19 17:57:02 2025\n",
      "Duration : 116946.5700 us\n",
      "-------------------------------\n",
      "PKG :\n",
      "\tsocket 0 :  1226254.0000 uJ\n",
      "Label : random_forest\n",
      "Begin : Wed Feb 19 17:57:02 2025\n",
      "Duration : 115020.8730 us\n",
      "-------------------------------\n",
      "PKG :\n",
      "\tsocket 0 :  1182492.0000 uJ\n",
      "Label : random_forest\n",
      "Begin : Wed Feb 19 17:57:02 2025\n",
      "Duration : 122192.8690 us\n",
      "-------------------------------\n",
      "PKG :\n",
      "\tsocket 0 :  1268124.0000 uJ\n",
      "Label : random_forest\n",
      "Begin : Wed Feb 19 17:57:02 2025\n",
      "Duration : 120824.6630 us\n",
      "-------------------------------\n",
      "PKG :\n",
      "\tsocket 0 :  1270566.0000 uJ\n",
      "Label : random_forest\n",
      "Begin : Wed Feb 19 17:57:02 2025\n",
      "Duration : 117934.7650 us\n",
      "-------------------------------\n",
      "PKG :\n",
      "\tsocket 0 :  1246579.0000 uJ\n",
      "Label : random_forest\n",
      "Begin : Wed Feb 19 17:57:02 2025\n",
      "Duration : 117018.7720 us\n",
      "-------------------------------\n",
      "PKG :\n",
      "\tsocket 0 :  1231259.0000 uJ\n",
      "Label : random_forest\n",
      "Begin : Wed Feb 19 17:57:02 2025\n",
      "Duration : 119772.8680 us\n",
      "-------------------------------\n",
      "PKG :\n",
      "\tsocket 0 :  1241819.0000 uJ\n",
      "Label : random_forest\n",
      "Begin : Wed Feb 19 17:57:03 2025\n",
      "Duration : 116448.1510 us\n",
      "-------------------------------\n",
      "PKG :\n",
      "\tsocket 0 :  1236019.0000 uJ\n",
      "Label : random_forest\n",
      "Begin : Wed Feb 19 17:57:03 2025\n",
      "Duration : 116403.5550 us\n",
      "-------------------------------\n",
      "PKG :\n",
      "\tsocket 0 :  1198056.0000 uJ\n",
      "Label : random_forest\n",
      "Begin : Wed Feb 19 17:57:03 2025\n",
      "Duration : 115882.0260 us\n",
      "-------------------------------\n",
      "PKG :\n",
      "\tsocket 0 :  1222776.0000 uJ\n",
      "Label : random_forest\n",
      "Begin : Wed Feb 19 17:57:03 2025\n",
      "Duration : 124484.1160 us\n",
      "-------------------------------\n",
      "PKG :\n",
      "\tsocket 0 :  1263363.0000 uJ\n",
      "Label : random_forest\n",
      "Begin : Wed Feb 19 17:57:03 2025\n",
      "Duration : 136624.0180 us\n",
      "-------------------------------\n",
      "PKG :\n",
      "\tsocket 0 :  1348446.0000 uJ\n",
      "Label : random_forest\n",
      "Begin : Wed Feb 19 17:57:03 2025\n",
      "Duration : 116705.3540 us\n",
      "-------------------------------\n",
      "PKG :\n",
      "\tsocket 0 :  1223264.0000 uJ\n",
      "Label : random_forest\n",
      "Begin : Wed Feb 19 17:57:03 2025\n",
      "Duration : 116130.2700 us\n",
      "-------------------------------\n",
      "PKG :\n",
      "\tsocket 0 :  1226376.0000 uJ\n",
      "Label : random_forest\n",
      "Begin : Wed Feb 19 17:57:03 2025\n",
      "Duration : 123587.7700 us\n",
      "-------------------------------\n",
      "PKG :\n",
      "\tsocket 0 :  1250302.0000 uJ\n",
      "Label : random_forest\n",
      "Begin : Wed Feb 19 17:57:04 2025\n",
      "Duration : 123768.7110 us\n",
      "-------------------------------\n",
      "PKG :\n",
      "\tsocket 0 :  1335812.0000 uJ\n",
      "Label : random_forest\n",
      "Begin : Wed Feb 19 17:57:04 2025\n",
      "Duration : 117176.9970 us\n",
      "-------------------------------\n",
      "PKG :\n",
      "\tsocket 0 :  1354306.0000 uJ\n",
      "Label : random_forest\n",
      "Begin : Wed Feb 19 17:57:04 2025\n",
      "Duration : 143499.0300 us\n",
      "-------------------------------\n",
      "PKG :\n",
      "\tsocket 0 :  1502987.0000 uJ\n",
      "Label : random_forest\n",
      "Begin : Wed Feb 19 17:57:04 2025\n",
      "Duration : 115520.8410 us\n",
      "-------------------------------\n",
      "PKG :\n",
      "\tsocket 0 :  1308529.0000 uJ\n",
      "Label : random_forest\n",
      "Begin : Wed Feb 19 17:57:04 2025\n",
      "Duration : 115526.7800 us\n",
      "-------------------------------\n",
      "PKG :\n",
      "\tsocket 0 :  1425533.0000 uJ\n",
      "Label : random_forest\n",
      "Begin : Wed Feb 19 17:57:04 2025\n",
      "Duration : 115690.4780 us\n",
      "-------------------------------\n",
      "PKG :\n",
      "\tsocket 0 :  1298886.0000 uJ\n",
      "Label : random_forest\n",
      "Begin : Wed Feb 19 17:57:04 2025\n",
      "Duration : 115978.5150 us\n",
      "-------------------------------\n",
      "PKG :\n",
      "\tsocket 0 :  1297177.0000 uJ\n",
      "Label : random_forest\n",
      "Begin : Wed Feb 19 17:57:04 2025\n",
      "Duration : 115528.7140 us\n",
      "-------------------------------\n",
      "PKG :\n",
      "\tsocket 0 :  1234799.0000 uJ\n",
      "Label : random_forest\n",
      "Begin : Wed Feb 19 17:57:05 2025\n",
      "Duration : 115926.3380 us\n",
      "-------------------------------\n",
      "PKG :\n",
      "\tsocket 0 :  1239926.0000 uJ\n",
      "Label : random_forest\n",
      "Begin : Wed Feb 19 17:57:05 2025\n",
      "Duration : 115629.6240 us\n",
      "-------------------------------\n",
      "PKG :\n",
      "\tsocket 0 :  1288693.0000 uJ\n",
      "Label : random_forest\n",
      "Begin : Wed Feb 19 17:57:05 2025\n",
      "Duration : 115595.5480 us\n",
      "-------------------------------\n",
      "PKG :\n",
      "\tsocket 0 :  1529843.0000 uJ\n",
      "Label : random_forest\n",
      "Begin : Wed Feb 19 17:57:05 2025\n",
      "Duration : 115033.9430 us\n",
      "-------------------------------\n",
      "PKG :\n",
      "\tsocket 0 :  1456783.0000 uJ\n",
      "Label : random_forest\n",
      "Begin : Wed Feb 19 17:57:05 2025\n",
      "Duration : 129504.7940 us\n",
      "-------------------------------\n",
      "PKG :\n",
      "\tsocket 0 :  1543209.0000 uJ\n",
      "Label : random_forest\n",
      "Begin : Wed Feb 19 17:57:05 2025\n",
      "Duration : 116770.3960 us\n",
      "-------------------------------\n",
      "PKG :\n",
      "\tsocket 0 :  1454159.0000 uJ\n",
      "Label : random_forest\n",
      "Begin : Wed Feb 19 17:57:05 2025\n",
      "Duration : 115412.5350 us\n",
      "-------------------------------\n",
      "PKG :\n",
      "\tsocket 0 :  1445858.0000 uJ\n",
      "Label : random_forest\n",
      "Begin : Wed Feb 19 17:57:05 2025\n",
      "Duration : 117421.1520 us\n",
      "-------------------------------\n",
      "PKG :\n",
      "\tsocket 0 :  1490719.0000 uJ\n",
      "Label : random_forest\n",
      "Begin : Wed Feb 19 17:57:05 2025\n",
      "Duration : 117795.3510 us\n",
      "-------------------------------\n",
      "PKG :\n",
      "\tsocket 0 :  1762996.0000 uJ\n",
      "Label : random_forest\n",
      "Begin : Wed Feb 19 17:57:06 2025\n",
      "Duration : 117770.9030 us\n",
      "-------------------------------\n",
      "PKG :\n",
      "\tsocket 0 :  1444821.0000 uJ\n",
      "Label : random_forest\n",
      "Begin : Wed Feb 19 17:57:06 2025\n",
      "Duration : 117790.2400 us\n",
      "-------------------------------\n",
      "PKG :\n",
      "\tsocket 0 :  1330380.0000 uJ\n",
      "Label : random_forest\n",
      "Begin : Wed Feb 19 17:57:06 2025\n",
      "Duration : 118450.3180 us\n",
      "-------------------------------\n",
      "PKG :\n",
      "\tsocket 0 :  1409847.0000 uJ\n",
      "Label : random_forest\n",
      "Begin : Wed Feb 19 17:57:06 2025\n",
      "Duration : 118304.7000 us\n",
      "-------------------------------\n",
      "PKG :\n",
      "\tsocket 0 :  1303525.0000 uJ\n",
      "Label : random_forest\n",
      "Begin : Wed Feb 19 17:57:06 2025\n",
      "Duration : 117816.0830 us\n",
      "-------------------------------\n",
      "PKG :\n",
      "\tsocket 0 :  1436214.0000 uJ\n",
      "Label : random_forest\n",
      "Begin : Wed Feb 19 17:57:06 2025\n",
      "Duration : 118046.3550 us\n",
      "-------------------------------\n",
      "PKG :\n",
      "\tsocket 0 :  1443600.0000 uJ\n",
      "Label : random_forest\n",
      "Begin : Wed Feb 19 17:57:06 2025\n",
      "Duration : 117602.3590 us\n",
      "-------------------------------\n",
      "PKG :\n",
      "\tsocket 0 :  1482174.0000 uJ\n",
      "Label : random_forest\n",
      "Begin : Wed Feb 19 17:57:06 2025\n",
      "Duration : 117031.8410 us\n",
      "-------------------------------\n",
      "PKG :\n",
      "\tsocket 0 :  1419613.0000 uJ\n",
      "Label : random_forest\n",
      "Begin : Wed Feb 19 17:57:07 2025\n",
      "Duration : 120313.4400 us\n",
      "-------------------------------\n",
      "PKG :\n",
      "\tsocket 0 :  1459529.0000 uJ\n",
      "Label : random_forest\n",
      "Begin : Wed Feb 19 17:57:07 2025\n",
      "Duration : 116432.6480 us\n",
      "-------------------------------\n",
      "PKG :\n",
      "\tsocket 0 :  1386227.0000 uJ\n",
      "Label : random_forest\n",
      "Begin : Wed Feb 19 17:57:07 2025\n",
      "Duration : 116725.9120 us\n",
      "-------------------------------\n",
      "PKG :\n",
      "\tsocket 0 :  1255185.0000 uJ\n",
      "Label : random_forest\n",
      "Begin : Wed Feb 19 17:57:07 2025\n",
      "Duration : 125686.2770 us\n",
      "-------------------------------\n",
      "PKG :\n",
      "\tsocket 0 :  1288449.0000 uJ\n",
      "Label : random_forest\n",
      "Begin : Wed Feb 19 17:57:07 2025\n",
      "Duration : 115558.6090 us\n",
      "-------------------------------\n",
      "PKG :\n",
      "\tsocket 0 :  1260922.0000 uJ\n",
      "Label : random_forest\n",
      "Begin : Wed Feb 19 17:57:07 2025\n",
      "Duration : 115811.1310 us\n",
      "-------------------------------\n",
      "PKG :\n",
      "\tsocket 0 :  1330258.0000 uJ\n",
      "Label : random_forest\n",
      "Begin : Wed Feb 19 17:57:07 2025\n",
      "Duration : 116610.4680 us\n",
      "-------------------------------\n",
      "PKG :\n",
      "\tsocket 0 :  1291806.0000 uJ\n",
      "Label : random_forest\n",
      "Begin : Wed Feb 19 17:57:07 2025\n",
      "Duration : 117225.9630 us\n",
      "-------------------------------\n",
      "PKG :\n",
      "\tsocket 0 :  1360287.0000 uJ\n",
      "Label : random_forest\n",
      "Begin : Wed Feb 19 17:57:08 2025\n",
      "Duration : 116183.3380 us\n",
      "-------------------------------\n",
      "PKG :\n",
      "\tsocket 0 :  1303707.0000 uJ\n",
      "Label : random_forest\n",
      "Begin : Wed Feb 19 17:57:08 2025\n",
      "Duration : 117413.9250 us\n",
      "-------------------------------\n",
      "PKG :\n",
      "\tsocket 0 :  1356137.0000 uJ\n",
      "Label : random_forest\n",
      "Begin : Wed Feb 19 17:57:08 2025\n",
      "Duration : 117558.4820 us\n",
      "-------------------------------\n",
      "PKG :\n",
      "\tsocket 0 :  1321957.0000 uJ\n",
      "Label : random_forest\n",
      "Begin : Wed Feb 19 17:57:08 2025\n",
      "Duration : 116492.7330 us\n",
      "-------------------------------\n",
      "PKG :\n",
      "\tsocket 0 :  1338070.0000 uJ\n",
      "Label : random_forest\n",
      "Begin : Wed Feb 19 17:57:08 2025\n",
      "Duration : 117524.5970 us\n",
      "-------------------------------\n",
      "PKG :\n",
      "\tsocket 0 :  1236142.0000 uJ\n",
      "Label : random_forest\n",
      "Begin : Wed Feb 19 17:57:08 2025\n",
      "Duration : 117240.3160 us\n",
      "-------------------------------\n",
      "PKG :\n",
      "\tsocket 0 :  1244626.0000 uJ\n",
      "Label : random_forest\n",
      "Begin : Wed Feb 19 17:57:08 2025\n",
      "Duration : 117280.7240 us\n",
      "-------------------------------\n",
      "PKG :\n",
      "\tsocket 0 :  1275265.0000 uJ\n",
      "Label : random_forest\n",
      "Begin : Wed Feb 19 17:57:08 2025\n",
      "Duration : 116574.3500 us\n",
      "-------------------------------\n",
      "PKG :\n",
      "\tsocket 0 :  1334225.0000 uJ\n",
      "Label : random_forest\n",
      "Begin : Wed Feb 19 17:57:08 2025\n",
      "Duration : 116401.5350 us\n",
      "-------------------------------\n",
      "PKG :\n",
      "\tsocket 0 :  1226621.0000 uJ\n",
      "Label : random_forest\n",
      "Begin : Wed Feb 19 17:57:09 2025\n",
      "Duration : 116511.7700 us\n",
      "-------------------------------\n",
      "PKG :\n",
      "\tsocket 0 :  1288693.0000 uJ\n",
      "Label : random_forest\n",
      "Begin : Wed Feb 19 17:57:09 2025\n",
      "Duration : 116594.0080 us\n",
      "-------------------------------\n",
      "PKG :\n",
      "\tsocket 0 :  1408077.0000 uJ\n",
      "Label : random_forest\n",
      "Begin : Wed Feb 19 17:57:09 2025\n",
      "Duration : 116731.0390 us\n",
      "-------------------------------\n",
      "PKG :\n",
      "\tsocket 0 :  1600582.0000 uJ\n",
      "Label : random_forest\n",
      "Begin : Wed Feb 19 17:57:09 2025\n",
      "Duration : 116877.5500 us\n",
      "-------------------------------\n",
      "PKG :\n",
      "\tsocket 0 :  1439328.0000 uJ\n",
      "Label : random_forest\n",
      "Begin : Wed Feb 19 17:57:09 2025\n",
      "Duration : 116851.4690 us\n",
      "-------------------------------\n",
      "PKG :\n",
      "\tsocket 0 :  1437069.0000 uJ\n",
      "Label : random_forest\n",
      "Begin : Wed Feb 19 17:57:09 2025\n",
      "Duration : 117363.7140 us\n",
      "-------------------------------\n",
      "PKG :\n",
      "\tsocket 0 :  1408321.0000 uJ\n",
      "Label : random_forest\n",
      "Begin : Wed Feb 19 17:57:09 2025\n",
      "Duration : 115648.0240 us\n",
      "-------------------------------\n",
      "PKG :\n",
      "\tsocket 0 :  1412167.0000 uJ\n",
      "Label : random_forest\n",
      "Begin : Wed Feb 19 17:57:09 2025\n",
      "Duration : 116455.2170 us\n",
      "-------------------------------\n",
      "PKG :\n",
      "\tsocket 0 :  1419552.0000 uJ\n",
      "Label : random_forest\n",
      "Begin : Wed Feb 19 17:57:09 2025\n",
      "Duration : 116051.5960 us\n",
      "-------------------------------\n",
      "PKG :\n",
      "\tsocket 0 :  1254025.0000 uJ\n",
      "Label : random_forest\n",
      "Begin : Wed Feb 19 17:57:10 2025\n",
      "Duration : 116906.4120 us\n",
      "-------------------------------\n",
      "PKG :\n",
      "\tsocket 0 :  1247189.0000 uJ\n",
      "Label : random_forest\n",
      "Begin : Wed Feb 19 17:57:10 2025\n",
      "Duration : 114871.3870 us\n",
      "-------------------------------\n",
      "PKG :\n",
      "\tsocket 0 :  1333676.0000 uJ\n",
      "Label : random_forest\n",
      "Begin : Wed Feb 19 17:57:10 2025\n",
      "Duration : 115883.5680 us\n",
      "-------------------------------\n",
      "PKG :\n",
      "\tsocket 0 :  1291684.0000 uJ\n",
      "Label : random_forest\n",
      "Begin : Wed Feb 19 17:57:10 2025\n",
      "Duration : 115976.6530 us\n",
      "-------------------------------\n",
      "PKG :\n",
      "\tsocket 0 :  1277035.0000 uJ\n",
      "Label : random_forest\n",
      "Begin : Wed Feb 19 17:57:10 2025\n",
      "Duration : 116213.3360 us\n",
      "-------------------------------\n",
      "PKG :\n",
      "\tsocket 0 :  1295346.0000 uJ\n",
      "Label : random_forest\n",
      "Begin : Wed Feb 19 17:57:10 2025\n",
      "Duration : 116219.2770 us\n",
      "-------------------------------\n",
      "PKG :\n",
      "\tsocket 0 :  1301510.0000 uJ\n",
      "Label : random_forest\n",
      "Begin : Wed Feb 19 17:57:10 2025\n",
      "Duration : 115169.3520 us\n",
      "-------------------------------\n",
      "PKG :\n",
      "\tsocket 0 :  1299557.0000 uJ\n",
      "Label : random_forest\n",
      "Begin : Wed Feb 19 17:57:10 2025\n",
      "Duration : 115385.6850 us\n",
      "-------------------------------\n",
      "PKG :\n",
      "\tsocket 0 :  1330319.0000 uJ\n",
      "Label : random_forest\n",
      "Begin : Wed Feb 19 17:57:11 2025\n",
      "Duration : 115961.3890 us\n",
      "-------------------------------\n",
      "PKG :\n",
      "\tsocket 0 :  1307187.0000 uJ\n",
      "Label : random_forest\n",
      "Begin : Wed Feb 19 17:57:11 2025\n",
      "Duration : 116523.2380 us\n",
      "-------------------------------\n",
      "PKG :\n",
      "\tsocket 0 :  1325253.0000 uJ\n",
      "Label : random_forest\n",
      "Begin : Wed Feb 19 17:57:11 2025\n",
      "Duration : 116049.1570 us\n",
      "-------------------------------\n",
      "PKG :\n",
      "\tsocket 0 :  1336788.0000 uJ\n",
      "Label : random_forest\n",
      "Begin : Wed Feb 19 17:57:11 2025\n",
      "Duration : 115995.9720 us\n",
      "-------------------------------\n",
      "PKG :\n",
      "\tsocket 0 :  1360226.0000 uJ\n",
      "Label : random_forest\n",
      "Begin : Wed Feb 19 17:57:11 2025\n",
      "Duration : 116167.6950 us\n",
      "-------------------------------\n",
      "PKG :\n",
      "\tsocket 0 :  1315000.0000 uJ\n",
      "Label : random_forest\n",
      "Begin : Wed Feb 19 17:57:11 2025\n",
      "Duration : 116128.3060 us\n",
      "-------------------------------\n",
      "PKG :\n",
      "\tsocket 0 :  1295223.0000 uJ\n",
      "Label : random_forest\n",
      "Begin : Wed Feb 19 17:57:11 2025\n",
      "Duration : 116962.5690 us\n",
      "-------------------------------\n",
      "PKG :\n",
      "\tsocket 0 :  1328854.0000 uJ\n",
      "Label : random_forest\n",
      "Begin : Wed Feb 19 17:57:11 2025\n",
      "Duration : 115946.7300 us\n",
      "-------------------------------\n",
      "PKG :\n",
      "\tsocket 0 :  1256284.0000 uJ\n",
      "Label : random_forest\n",
      "Begin : Wed Feb 19 17:57:11 2025\n",
      "Duration : 116893.6270 us\n",
      "-------------------------------\n",
      "PKG :\n",
      "\tsocket 0 :  1239804.0000 uJ\n",
      "Label : random_forest\n",
      "Begin : Wed Feb 19 17:57:12 2025\n",
      "Duration : 115456.2750 us\n",
      "-------------------------------\n",
      "PKG :\n",
      "\tsocket 0 :  1353024.0000 uJ\n",
      "Label : random_forest\n",
      "Begin : Wed Feb 19 17:57:12 2025\n",
      "Duration : 116642.7280 us\n",
      "-------------------------------\n",
      "PKG :\n",
      "\tsocket 0 :  1258053.0000 uJ\n",
      "Label : random_forest\n",
      "Begin : Wed Feb 19 17:57:12 2025\n",
      "Duration : 115491.9180 us\n",
      "-------------------------------\n",
      "PKG :\n",
      "\tsocket 0 :  1311887.0000 uJ\n",
      "Label : random_forest\n",
      "Begin : Wed Feb 19 17:57:12 2025\n",
      "Duration : 124172.7740 us\n",
      "-------------------------------\n",
      "PKG :\n",
      "\tsocket 0 :  1271420.0000 uJ\n",
      "Label : random_forest\n",
      "Begin : Wed Feb 19 17:57:12 2025\n",
      "Duration : 142813.9410 us\n",
      "-------------------------------\n",
      "PKG :\n",
      "\tsocket 0 :  1380185.0000 uJ\n",
      "Label : random_forest\n",
      "Begin : Wed Feb 19 17:57:12 2025\n",
      "Duration : 115851.2170 us\n",
      "-------------------------------\n",
      "PKG :\n",
      "\tsocket 0 :  1180539.0000 uJ\n",
      "Label : random_forest\n",
      "Begin : Wed Feb 19 17:57:12 2025\n",
      "Duration : 114819.2790 us\n",
      "-------------------------------\n",
      "PKG :\n",
      "\tsocket 0 :  1207028.0000 uJ\n",
      "Label : random_forest\n",
      "Begin : Wed Feb 19 17:57:12 2025\n",
      "Duration : 117723.8160 us\n",
      "-------------------------------\n",
      "PKG :\n",
      "\tsocket 0 :  1276425.0000 uJ\n",
      "Label : random_forest\n",
      "Begin : Wed Feb 19 17:57:13 2025\n",
      "Duration : 122474.1490 us\n",
      "-------------------------------\n",
      "PKG :\n",
      "\tsocket 0 :  1418697.0000 uJ\n",
      "CPU Energy (Min): 1.1591 J\n",
      "CPU Energy (Max): 1.7630 J\n"
     ]
    }
   ],
   "source": [
    "# Measure CPU energy RF\n",
    "min_cpu_rf, max_cpu_rf = measure_cpu_energy_usage('random_forest', rf, X_train, y_train)\n",
    "\n",
    "# Tampilkan hasil\n",
    "print(f\"CPU Energy (Min): {min_cpu_rf:.4f} J\")\n",
    "print(f\"CPU Energy (Max): {max_cpu_rf:.4f} J\")"
   ]
  },
  {
   "cell_type": "code",
   "execution_count": 33,
   "metadata": {},
   "outputs": [
    {
     "name": "stdout",
     "output_type": "stream",
     "text": [
      "Label : random_forest_stratified\n",
      "Begin : Wed Feb 19 17:57:13 2025\n",
      "Duration : 164829.2390 us\n",
      "-------------------------------\n",
      "PKG :\n",
      "\tsocket 0 :  1863703.0000 uJ\n",
      "Label : random_forest_stratified\n",
      "Begin : Wed Feb 19 17:57:13 2025\n",
      "Duration : 116813.5440 us\n",
      "-------------------------------\n",
      "PKG :\n",
      "\tsocket 0 :  1354733.0000 uJ\n",
      "Label : random_forest_stratified\n",
      "Begin : Wed Feb 19 17:57:13 2025\n",
      "Duration : 119746.7200 us\n",
      "-------------------------------\n",
      "PKG :\n",
      "\tsocket 0 :  1421139.0000 uJ\n",
      "Label : random_forest_stratified\n",
      "Begin : Wed Feb 19 17:57:13 2025\n",
      "Duration : 132078.4340 us\n",
      "-------------------------------\n",
      "PKG :\n",
      "\tsocket 0 :  1521725.0000 uJ\n",
      "Label : random_forest_stratified\n",
      "Begin : Wed Feb 19 17:57:13 2025\n",
      "Duration : 117142.8220 us\n",
      "-------------------------------\n",
      "PKG :\n",
      "\tsocket 0 :  1416988.0000 uJ\n",
      "Label : random_forest_stratified\n",
      "Begin : Wed Feb 19 17:57:13 2025\n",
      "Duration : 130064.1550 us\n",
      "-------------------------------\n",
      "PKG :\n",
      "\tsocket 0 :  1433285.0000 uJ\n",
      "Label : random_forest_stratified\n",
      "Begin : Wed Feb 19 17:57:13 2025\n",
      "Duration : 116137.6700 us\n",
      "-------------------------------\n",
      "PKG :\n",
      "\tsocket 0 :  1231992.0000 uJ\n",
      "Label : random_forest_stratified\n",
      "Begin : Wed Feb 19 17:57:14 2025\n",
      "Duration : 114714.6760 us\n",
      "-------------------------------\n",
      "PKG :\n",
      "\tsocket 0 :  1275265.0000 uJ\n",
      "Label : random_forest_stratified\n",
      "Begin : Wed Feb 19 17:57:14 2025\n",
      "Duration : 115726.2680 us\n",
      "-------------------------------\n",
      "PKG :\n",
      "\tsocket 0 :  1211972.0000 uJ\n",
      "Label : random_forest_stratified\n",
      "Begin : Wed Feb 19 17:57:14 2025\n",
      "Duration : 116194.4380 us\n",
      "-------------------------------\n",
      "PKG :\n",
      "\tsocket 0 :  1310360.0000 uJ\n",
      "Label : random_forest_stratified\n",
      "Begin : Wed Feb 19 17:57:14 2025\n",
      "Duration : 120885.1900 us\n",
      "-------------------------------\n",
      "PKG :\n",
      "\tsocket 0 :  1237302.0000 uJ\n",
      "Label : random_forest_stratified\n",
      "Begin : Wed Feb 19 17:57:14 2025\n",
      "Duration : 115384.1190 us\n",
      "-------------------------------\n",
      "PKG :\n",
      "\tsocket 0 :  1267941.0000 uJ\n",
      "Label : random_forest_stratified\n",
      "Begin : Wed Feb 19 17:57:14 2025\n",
      "Duration : 115865.5350 us\n",
      "-------------------------------\n",
      "PKG :\n",
      "\tsocket 0 :  1385617.0000 uJ\n",
      "Label : random_forest_stratified\n",
      "Begin : Wed Feb 19 17:57:14 2025\n",
      "Duration : 113918.7590 us\n",
      "-------------------------------\n",
      "PKG :\n",
      "\tsocket 0 :  1418331.0000 uJ\n",
      "Label : random_forest_stratified\n",
      "Begin : Wed Feb 19 17:57:14 2025\n",
      "Duration : 140655.1650 us\n",
      "-------------------------------\n",
      "PKG :\n",
      "\tsocket 0 :  1624446.0000 uJ\n",
      "Label : random_forest_stratified\n",
      "Begin : Wed Feb 19 17:57:15 2025\n",
      "Duration : 149520.5350 us\n",
      "-------------------------------\n",
      "PKG :\n",
      "\tsocket 0 :  1782039.0000 uJ\n",
      "Label : random_forest_stratified\n",
      "Begin : Wed Feb 19 17:57:15 2025\n",
      "Duration : 115633.0340 us\n",
      "-------------------------------\n",
      "PKG :\n",
      "\tsocket 0 :  1413754.0000 uJ\n",
      "Label : random_forest_stratified\n",
      "Begin : Wed Feb 19 17:57:15 2025\n",
      "Duration : 116613.6330 us\n",
      "-------------------------------\n",
      "PKG :\n",
      "\tsocket 0 :  1578365.0000 uJ\n",
      "Label : random_forest_stratified\n",
      "Begin : Wed Feb 19 17:57:15 2025\n",
      "Duration : 146039.4550 us\n",
      "-------------------------------\n",
      "PKG :\n",
      "\tsocket 0 :  2165644.0000 uJ\n",
      "Label : random_forest_stratified\n",
      "Begin : Wed Feb 19 17:57:15 2025\n",
      "Duration : 174118.3300 us\n",
      "-------------------------------\n",
      "PKG :\n",
      "\tsocket 0 :  1903743.0000 uJ\n",
      "Label : random_forest_stratified\n",
      "Begin : Wed Feb 19 17:57:15 2025\n",
      "Duration : 129399.2490 us\n",
      "-------------------------------\n",
      "PKG :\n",
      "\tsocket 0 :  1502925.0000 uJ\n",
      "Label : random_forest_stratified\n",
      "Begin : Wed Feb 19 17:57:15 2025\n",
      "Duration : 114818.3590 us\n",
      "-------------------------------\n",
      "PKG :\n",
      "\tsocket 0 :  1378415.0000 uJ\n",
      "Label : random_forest_stratified\n",
      "Begin : Wed Feb 19 17:57:15 2025\n",
      "Duration : 115282.1180 us\n",
      "-------------------------------\n",
      "PKG :\n",
      "\tsocket 0 :  1368771.0000 uJ\n",
      "Label : random_forest_stratified\n",
      "Begin : Wed Feb 19 17:57:16 2025\n",
      "Duration : 115410.4050 us\n",
      "-------------------------------\n",
      "PKG :\n",
      "\tsocket 0 :  1394222.0000 uJ\n",
      "Label : random_forest_stratified\n",
      "Begin : Wed Feb 19 17:57:16 2025\n",
      "Duration : 116319.3650 us\n",
      "-------------------------------\n",
      "PKG :\n",
      "\tsocket 0 :  1390805.0000 uJ\n",
      "Label : random_forest_stratified\n",
      "Begin : Wed Feb 19 17:57:16 2025\n",
      "Duration : 115487.0480 us\n",
      "-------------------------------\n",
      "PKG :\n",
      "\tsocket 0 :  1499752.0000 uJ\n",
      "Label : random_forest_stratified\n",
      "Begin : Wed Feb 19 17:57:16 2025\n",
      "Duration : 114459.7670 us\n",
      "-------------------------------\n",
      "PKG :\n",
      "\tsocket 0 :  1442501.0000 uJ\n",
      "Label : random_forest_stratified\n",
      "Begin : Wed Feb 19 17:57:16 2025\n",
      "Duration : 115948.9620 us\n",
      "-------------------------------\n",
      "PKG :\n",
      "\tsocket 0 :  1241574.0000 uJ\n",
      "Label : random_forest_stratified\n",
      "Begin : Wed Feb 19 17:57:16 2025\n",
      "Duration : 116110.9740 us\n",
      "-------------------------------\n",
      "PKG :\n",
      "\tsocket 0 :  1332150.0000 uJ\n",
      "Label : random_forest_stratified\n",
      "Begin : Wed Feb 19 17:57:16 2025\n",
      "Duration : 116062.1460 us\n",
      "-------------------------------\n",
      "PKG :\n",
      "\tsocket 0 :  1296383.0000 uJ\n",
      "Label : random_forest_stratified\n",
      "Begin : Wed Feb 19 17:57:16 2025\n",
      "Duration : 115966.3100 us\n",
      "-------------------------------\n",
      "PKG :\n",
      "\tsocket 0 :  1330441.0000 uJ\n",
      "Label : random_forest_stratified\n",
      "Begin : Wed Feb 19 17:57:17 2025\n",
      "Duration : 191012.5050 us\n",
      "-------------------------------\n",
      "PKG :\n",
      "\tsocket 0 :  1861934.0000 uJ\n",
      "Label : random_forest_stratified\n",
      "Begin : Wed Feb 19 17:57:17 2025\n",
      "Duration : 114603.8680 us\n",
      "-------------------------------\n",
      "PKG :\n",
      "\tsocket 0 :  1282956.0000 uJ\n",
      "Label : random_forest_stratified\n",
      "Begin : Wed Feb 19 17:57:17 2025\n",
      "Duration : 116650.4710 us\n",
      "-------------------------------\n",
      "PKG :\n",
      "\tsocket 0 :  1258420.0000 uJ\n",
      "Label : random_forest_stratified\n",
      "Begin : Wed Feb 19 17:57:17 2025\n",
      "Duration : 114728.0260 us\n",
      "-------------------------------\n",
      "PKG :\n",
      "\tsocket 0 :  1280820.0000 uJ\n",
      "Label : random_forest_stratified\n",
      "Begin : Wed Feb 19 17:57:17 2025\n",
      "Duration : 114729.5500 us\n",
      "-------------------------------\n",
      "PKG :\n",
      "\tsocket 0 :  1282040.0000 uJ\n",
      "Label : random_forest_stratified\n",
      "Begin : Wed Feb 19 17:57:17 2025\n",
      "Duration : 129177.5730 us\n",
      "-------------------------------\n",
      "PKG :\n",
      "\tsocket 0 :  1399960.0000 uJ\n",
      "Label : random_forest_stratified\n",
      "Begin : Wed Feb 19 17:57:17 2025\n",
      "Duration : 116279.5130 us\n",
      "-------------------------------\n",
      "PKG :\n",
      "\tsocket 0 :  1339535.0000 uJ\n",
      "Label : random_forest_stratified\n",
      "Begin : Wed Feb 19 17:57:17 2025\n",
      "Duration : 115292.6430 us\n",
      "-------------------------------\n",
      "PKG :\n",
      "\tsocket 0 :  1284238.0000 uJ\n",
      "Label : random_forest_stratified\n",
      "Begin : Wed Feb 19 17:57:18 2025\n",
      "Duration : 117808.3010 us\n",
      "-------------------------------\n",
      "PKG :\n",
      "\tsocket 0 :  1339047.0000 uJ\n",
      "Label : random_forest_stratified\n",
      "Begin : Wed Feb 19 17:57:18 2025\n",
      "Duration : 115128.2020 us\n",
      "-------------------------------\n",
      "PKG :\n",
      "\tsocket 0 :  1511653.0000 uJ\n",
      "Label : random_forest_stratified\n",
      "Begin : Wed Feb 19 17:57:18 2025\n",
      "Duration : 114581.3570 us\n",
      "-------------------------------\n",
      "PKG :\n",
      "\tsocket 0 :  1214109.0000 uJ\n",
      "Label : random_forest_stratified\n",
      "Begin : Wed Feb 19 17:57:18 2025\n",
      "Duration : 116852.4800 us\n",
      "-------------------------------\n",
      "PKG :\n",
      "\tsocket 0 :  1399899.0000 uJ\n",
      "Label : random_forest_stratified\n",
      "Begin : Wed Feb 19 17:57:18 2025\n",
      "Duration : 116239.0090 us\n",
      "-------------------------------\n",
      "PKG :\n",
      "\tsocket 0 :  1285153.0000 uJ\n",
      "Label : random_forest_stratified\n",
      "Begin : Wed Feb 19 17:57:18 2025\n",
      "Duration : 116568.8110 us\n",
      "-------------------------------\n",
      "PKG :\n",
      "\tsocket 0 :  1479488.0000 uJ\n",
      "Label : random_forest_stratified\n",
      "Begin : Wed Feb 19 17:57:18 2025\n",
      "Duration : 117373.9520 us\n",
      "-------------------------------\n",
      "PKG :\n",
      "\tsocket 0 :  1396603.0000 uJ\n",
      "Label : random_forest_stratified\n",
      "Begin : Wed Feb 19 17:57:18 2025\n",
      "Duration : 116890.7590 us\n",
      "-------------------------------\n",
      "PKG :\n",
      "\tsocket 0 :  1355038.0000 uJ\n",
      "Label : random_forest_stratified\n",
      "Begin : Wed Feb 19 17:57:18 2025\n",
      "Duration : 116521.0140 us\n",
      "-------------------------------\n",
      "PKG :\n",
      "\tsocket 0 :  1285031.0000 uJ\n",
      "Label : random_forest_stratified\n",
      "Begin : Wed Feb 19 17:57:19 2025\n",
      "Duration : 117290.0040 us\n",
      "-------------------------------\n",
      "PKG :\n",
      "\tsocket 0 :  1262997.0000 uJ\n",
      "Label : random_forest_stratified\n",
      "Begin : Wed Feb 19 17:57:19 2025\n",
      "Duration : 117418.2990 us\n",
      "-------------------------------\n",
      "PKG :\n",
      "\tsocket 0 :  1281857.0000 uJ\n",
      "Label : random_forest_stratified\n",
      "Begin : Wed Feb 19 17:57:19 2025\n",
      "Duration : 117342.0210 us\n",
      "-------------------------------\n",
      "PKG :\n",
      "\tsocket 0 :  1239560.0000 uJ\n",
      "Label : random_forest_stratified\n",
      "Begin : Wed Feb 19 17:57:19 2025\n",
      "Duration : 116458.2420 us\n",
      "-------------------------------\n",
      "PKG :\n",
      "\tsocket 0 :  1275388.0000 uJ\n",
      "Label : random_forest_stratified\n",
      "Begin : Wed Feb 19 17:57:19 2025\n",
      "Duration : 117328.9830 us\n",
      "-------------------------------\n",
      "PKG :\n",
      "\tsocket 0 :  1258724.0000 uJ\n",
      "Label : random_forest_stratified\n",
      "Begin : Wed Feb 19 17:57:19 2025\n",
      "Duration : 114846.7330 us\n",
      "-------------------------------\n",
      "PKG :\n",
      "\tsocket 0 :  1279599.0000 uJ\n",
      "Label : random_forest_stratified\n",
      "Begin : Wed Feb 19 17:57:19 2025\n",
      "Duration : 118363.9880 us\n",
      "-------------------------------\n",
      "PKG :\n",
      "\tsocket 0 :  1269344.0000 uJ\n",
      "Label : random_forest_stratified\n",
      "Begin : Wed Feb 19 17:57:19 2025\n",
      "Duration : 116552.0530 us\n",
      "-------------------------------\n",
      "PKG :\n",
      "\tsocket 0 :  1352597.0000 uJ\n",
      "Label : random_forest_stratified\n",
      "Begin : Wed Feb 19 17:57:20 2025\n",
      "Duration : 116045.5240 us\n",
      "-------------------------------\n",
      "PKG :\n",
      "\tsocket 0 :  1459164.0000 uJ\n",
      "Label : random_forest_stratified\n",
      "Begin : Wed Feb 19 17:57:20 2025\n",
      "Duration : 115108.3910 us\n",
      "-------------------------------\n",
      "PKG :\n",
      "\tsocket 0 :  1382137.0000 uJ\n",
      "Label : random_forest_stratified\n",
      "Begin : Wed Feb 19 17:57:20 2025\n",
      "Duration : 115710.3800 us\n",
      "-------------------------------\n",
      "PKG :\n",
      "\tsocket 0 :  1408566.0000 uJ\n",
      "Label : random_forest_stratified\n",
      "Begin : Wed Feb 19 17:57:20 2025\n",
      "Duration : 114333.2930 us\n",
      "-------------------------------\n",
      "PKG :\n",
      "\tsocket 0 :  1447445.0000 uJ\n",
      "Label : random_forest_stratified\n",
      "Begin : Wed Feb 19 17:57:20 2025\n",
      "Duration : 115108.2770 us\n",
      "-------------------------------\n",
      "PKG :\n",
      "\tsocket 0 :  1384029.0000 uJ\n",
      "Label : random_forest_stratified\n",
      "Begin : Wed Feb 19 17:57:20 2025\n",
      "Duration : 115759.8660 us\n",
      "-------------------------------\n",
      "PKG :\n",
      "\tsocket 0 :  1262570.0000 uJ\n",
      "Label : random_forest_stratified\n",
      "Begin : Wed Feb 19 17:57:20 2025\n",
      "Duration : 116991.6020 us\n",
      "-------------------------------\n",
      "PKG :\n",
      "\tsocket 0 :  1197080.0000 uJ\n",
      "Label : random_forest_stratified\n",
      "Begin : Wed Feb 19 17:57:20 2025\n",
      "Duration : 115234.5870 us\n",
      "-------------------------------\n",
      "PKG :\n",
      "\tsocket 0 :  1308468.0000 uJ\n",
      "Label : random_forest_stratified\n",
      "Begin : Wed Feb 19 17:57:20 2025\n",
      "Duration : 116765.8900 us\n",
      "-------------------------------\n",
      "PKG :\n",
      "\tsocket 0 :  1372494.0000 uJ\n",
      "Label : random_forest_stratified\n",
      "Begin : Wed Feb 19 17:57:21 2025\n",
      "Duration : 116093.0290 us\n",
      "-------------------------------\n",
      "PKG :\n",
      "\tsocket 0 :  1384274.0000 uJ\n",
      "Label : random_forest_stratified\n",
      "Begin : Wed Feb 19 17:57:21 2025\n",
      "Duration : 116636.4180 us\n",
      "-------------------------------\n",
      "PKG :\n",
      "\tsocket 0 :  1204831.0000 uJ\n",
      "Label : random_forest_stratified\n",
      "Begin : Wed Feb 19 17:57:21 2025\n",
      "Duration : 115686.7750 us\n",
      "-------------------------------\n",
      "PKG :\n",
      "\tsocket 0 :  1364010.0000 uJ\n",
      "Label : random_forest_stratified\n",
      "Begin : Wed Feb 19 17:57:21 2025\n",
      "Duration : 115215.3960 us\n",
      "-------------------------------\n",
      "PKG :\n",
      "\tsocket 0 :  1479610.0000 uJ\n",
      "Label : random_forest_stratified\n",
      "Begin : Wed Feb 19 17:57:21 2025\n",
      "Duration : 114663.0770 us\n",
      "-------------------------------\n",
      "PKG :\n",
      "\tsocket 0 :  1463559.0000 uJ\n",
      "Label : random_forest_stratified\n",
      "Begin : Wed Feb 19 17:57:21 2025\n",
      "Duration : 116342.0990 us\n",
      "-------------------------------\n",
      "PKG :\n",
      "\tsocket 0 :  1426754.0000 uJ\n",
      "Label : random_forest_stratified\n",
      "Begin : Wed Feb 19 17:57:21 2025\n",
      "Duration : 116538.7410 us\n",
      "-------------------------------\n",
      "PKG :\n",
      "\tsocket 0 :  1252804.0000 uJ\n",
      "Label : random_forest_stratified\n",
      "Begin : Wed Feb 19 17:57:21 2025\n",
      "Duration : 115309.7850 us\n",
      "-------------------------------\n",
      "PKG :\n",
      "\tsocket 0 :  1300534.0000 uJ\n",
      "Label : random_forest_stratified\n",
      "Begin : Wed Feb 19 17:57:22 2025\n",
      "Duration : 115356.6420 us\n",
      "-------------------------------\n",
      "PKG :\n",
      "\tsocket 0 :  1652706.0000 uJ\n",
      "Label : random_forest_stratified\n",
      "Begin : Wed Feb 19 17:57:22 2025\n",
      "Duration : 117113.8270 us\n",
      "-------------------------------\n",
      "PKG :\n",
      "\tsocket 0 :  1332272.0000 uJ\n",
      "Label : random_forest_stratified\n",
      "Begin : Wed Feb 19 17:57:22 2025\n",
      "Duration : 115363.2130 us\n",
      "-------------------------------\n",
      "PKG :\n",
      "\tsocket 0 :  1585445.0000 uJ\n",
      "Label : random_forest_stratified\n",
      "Begin : Wed Feb 19 17:57:22 2025\n",
      "Duration : 116661.5620 us\n",
      "-------------------------------\n",
      "PKG :\n",
      "\tsocket 0 :  1490291.0000 uJ\n",
      "Label : random_forest_stratified\n",
      "Begin : Wed Feb 19 17:57:22 2025\n",
      "Duration : 116181.8340 us\n",
      "-------------------------------\n",
      "PKG :\n",
      "\tsocket 0 :  1382382.0000 uJ\n",
      "Label : random_forest_stratified\n",
      "Begin : Wed Feb 19 17:57:22 2025\n",
      "Duration : 116204.9850 us\n",
      "-------------------------------\n",
      "PKG :\n",
      "\tsocket 0 :  1309018.0000 uJ\n",
      "Label : random_forest_stratified\n",
      "Begin : Wed Feb 19 17:57:22 2025\n",
      "Duration : 115861.6780 us\n",
      "-------------------------------\n",
      "PKG :\n",
      "\tsocket 0 :  1319942.0000 uJ\n",
      "Label : random_forest_stratified\n",
      "Begin : Wed Feb 19 17:57:22 2025\n",
      "Duration : 116618.4250 us\n",
      "-------------------------------\n",
      "PKG :\n",
      "\tsocket 0 :  1323667.0000 uJ\n",
      "Label : random_forest_stratified\n",
      "Begin : Wed Feb 19 17:57:22 2025\n",
      "Duration : 115360.3740 us\n",
      "-------------------------------\n",
      "PKG :\n",
      "\tsocket 0 :  1281063.0000 uJ\n",
      "Label : random_forest_stratified\n",
      "Begin : Wed Feb 19 17:57:23 2025\n",
      "Duration : 116134.6280 us\n",
      "-------------------------------\n",
      "PKG :\n",
      "\tsocket 0 :  1267941.0000 uJ\n",
      "Label : random_forest_stratified\n",
      "Begin : Wed Feb 19 17:57:23 2025\n",
      "Duration : 114693.4210 us\n",
      "-------------------------------\n",
      "PKG :\n",
      "\tsocket 0 :  1209775.0000 uJ\n",
      "Label : random_forest_stratified\n",
      "Begin : Wed Feb 19 17:57:23 2025\n",
      "Duration : 115165.9010 us\n",
      "-------------------------------\n",
      "PKG :\n",
      "\tsocket 0 :  1234555.0000 uJ\n",
      "Label : random_forest_stratified\n",
      "Begin : Wed Feb 19 17:57:23 2025\n",
      "Duration : 113428.2730 us\n",
      "-------------------------------\n",
      "PKG :\n",
      "\tsocket 0 :  1466793.0000 uJ\n",
      "Label : random_forest_stratified\n",
      "Begin : Wed Feb 19 17:57:23 2025\n",
      "Duration : 114782.7060 us\n",
      "-------------------------------\n",
      "PKG :\n",
      "\tsocket 0 :  1455441.0000 uJ\n",
      "Label : random_forest_stratified\n",
      "Begin : Wed Feb 19 17:57:23 2025\n",
      "Duration : 117684.9150 us\n",
      "-------------------------------\n",
      "PKG :\n",
      "\tsocket 0 :  1740413.0000 uJ\n",
      "Label : random_forest_stratified\n",
      "Begin : Wed Feb 19 17:57:23 2025\n",
      "Duration : 116040.9320 us\n",
      "-------------------------------\n",
      "PKG :\n",
      "\tsocket 0 :  1423702.0000 uJ\n",
      "Label : random_forest_stratified\n",
      "Begin : Wed Feb 19 17:57:23 2025\n",
      "Duration : 116266.0090 us\n",
      "-------------------------------\n",
      "PKG :\n",
      "\tsocket 0 :  1399288.0000 uJ\n",
      "Label : random_forest_stratified\n",
      "Begin : Wed Feb 19 17:57:23 2025\n",
      "Duration : 115185.5920 us\n",
      "-------------------------------\n",
      "PKG :\n",
      "\tsocket 0 :  1460689.0000 uJ\n",
      "Label : random_forest_stratified\n",
      "Begin : Wed Feb 19 17:57:24 2025\n",
      "Duration : 115927.7480 us\n",
      "-------------------------------\n",
      "PKG :\n",
      "\tsocket 0 :  1320493.0000 uJ\n",
      "Label : random_forest_stratified\n",
      "Begin : Wed Feb 19 17:57:24 2025\n",
      "Duration : 117236.3530 us\n",
      "-------------------------------\n",
      "PKG :\n",
      "\tsocket 0 :  1473751.0000 uJ\n",
      "Label : random_forest_stratified\n",
      "Begin : Wed Feb 19 17:57:24 2025\n",
      "Duration : 115752.8510 us\n",
      "-------------------------------\n",
      "PKG :\n",
      "\tsocket 0 :  1398251.0000 uJ\n",
      "Label : random_forest_stratified\n",
      "Begin : Wed Feb 19 17:57:24 2025\n",
      "Duration : 116785.7950 us\n",
      "-------------------------------\n",
      "PKG :\n",
      "\tsocket 0 :  1435604.0000 uJ\n",
      "Label : random_forest_stratified\n",
      "Begin : Wed Feb 19 17:57:24 2025\n",
      "Duration : 114617.8800 us\n",
      "-------------------------------\n",
      "PKG :\n",
      "\tsocket 0 :  1373409.0000 uJ\n",
      "Label : random_forest_stratified\n",
      "Begin : Wed Feb 19 17:57:24 2025\n",
      "Duration : 116321.2460 us\n",
      "-------------------------------\n",
      "PKG :\n",
      "\tsocket 0 :  1457272.0000 uJ\n",
      "Label : random_forest_stratified\n",
      "Begin : Wed Feb 19 17:57:24 2025\n",
      "Duration : 114817.4410 us\n",
      "-------------------------------\n",
      "PKG :\n",
      "\tsocket 0 :  1376400.0000 uJ\n",
      "Label : random_forest_stratified\n",
      "Begin : Wed Feb 19 17:57:24 2025\n",
      "Duration : 121034.7490 us\n",
      "-------------------------------\n",
      "PKG :\n",
      "\tsocket 0 :  1476132.0000 uJ\n",
      "Label : random_forest_stratified\n",
      "Begin : Wed Feb 19 17:57:25 2025\n",
      "Duration : 114636.1790 us\n",
      "-------------------------------\n",
      "PKG :\n",
      "\tsocket 0 :  1336422.0000 uJ\n",
      "CPU Energy (Min): 1.1971 J\n",
      "CPU Energy (Max): 2.1656 J\n"
     ]
    }
   ],
   "source": [
    "# Measure CPU energy RF Stratified\n",
    "min_cpu_rf_st, max_cpu_rf_st = measure_cpu_energy_usage('random_forest_stratified', rf_st, X_train_st, y_train_st)\n",
    "\n",
    "# Tampilkan hasil\n",
    "print(f\"CPU Energy (Min): {min_cpu_rf_st:.4f} J\")\n",
    "print(f\"CPU Energy (Max): {max_cpu_rf_st:.4f} J\")"
   ]
  }
 ],
 "metadata": {
  "colab": {
   "provenance": []
  },
  "kernelspec": {
   "display_name": "myvenv_tesis",
   "language": "python",
   "name": "python3"
  },
  "language_info": {
   "codemirror_mode": {
    "name": "ipython",
    "version": 3
   },
   "file_extension": ".py",
   "mimetype": "text/x-python",
   "name": "python",
   "nbconvert_exporter": "python",
   "pygments_lexer": "ipython3",
   "version": "3.13.0"
  }
 },
 "nbformat": 4,
 "nbformat_minor": 4
}
