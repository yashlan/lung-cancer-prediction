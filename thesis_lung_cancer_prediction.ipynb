{
 "cells": [
  {
   "cell_type": "code",
   "execution_count": 3,
   "metadata": {
    "id": "J61UThNngmn5"
   },
   "outputs": [],
   "source": [
    "from sklearn.metrics import accuracy_score, classification_report, confusion_matrix, roc_curve, roc_auc_score\n",
    "import seaborn as sns\n",
    "import matplotlib.pyplot as plt\n",
    "from sklearn.tree import DecisionTreeClassifier\n",
    "from sklearn.ensemble import RandomForestClassifier\n",
    "from sklearn.model_selection import train_test_split\n",
    "import plotly.express as px\n",
    "import pandas as pd\n",
    "import psutil\n",
    "import tracemalloc\n",
    "import psutil\n",
    "import torch\n",
    "import platform\n",
    "import subprocess\n",
    "import pyRAPL\n",
    "import plotly.graph_objects as go\n",
    "import timeit"
   ]
  },
  {
   "cell_type": "code",
   "execution_count": 4,
   "metadata": {
    "colab": {
     "base_uri": "https://localhost:8080/",
     "height": 244
    },
    "id": "NEIERaRldyub",
    "outputId": "9fc9b221-cb10-452d-9e34-d55f65c6e21f"
   },
   "outputs": [
    {
     "data": {
      "text/html": [
       "<div>\n",
       "<style scoped>\n",
       "    .dataframe tbody tr th:only-of-type {\n",
       "        vertical-align: middle;\n",
       "    }\n",
       "\n",
       "    .dataframe tbody tr th {\n",
       "        vertical-align: top;\n",
       "    }\n",
       "\n",
       "    .dataframe thead th {\n",
       "        text-align: right;\n",
       "    }\n",
       "</style>\n",
       "<table border=\"1\" class=\"dataframe\">\n",
       "  <thead>\n",
       "    <tr style=\"text-align: right;\">\n",
       "      <th></th>\n",
       "      <th>GENDER</th>\n",
       "      <th>AGE</th>\n",
       "      <th>SMOKING</th>\n",
       "      <th>YELLOW_FINGERS</th>\n",
       "      <th>ANXIETY</th>\n",
       "      <th>PEER_PRESSURE</th>\n",
       "      <th>CHRONIC DISEASE</th>\n",
       "      <th>FATIGUE</th>\n",
       "      <th>ALLERGY</th>\n",
       "      <th>WHEEZING</th>\n",
       "      <th>ALCOHOL CONSUMING</th>\n",
       "      <th>COUGHING</th>\n",
       "      <th>SHORTNESS OF BREATH</th>\n",
       "      <th>SWALLOWING DIFFICULTY</th>\n",
       "      <th>CHEST PAIN</th>\n",
       "      <th>LUNG_CANCER</th>\n",
       "    </tr>\n",
       "  </thead>\n",
       "  <tbody>\n",
       "    <tr>\n",
       "      <th>0</th>\n",
       "      <td>M</td>\n",
       "      <td>69</td>\n",
       "      <td>1</td>\n",
       "      <td>2</td>\n",
       "      <td>2</td>\n",
       "      <td>1</td>\n",
       "      <td>1</td>\n",
       "      <td>2</td>\n",
       "      <td>1</td>\n",
       "      <td>2</td>\n",
       "      <td>2</td>\n",
       "      <td>2</td>\n",
       "      <td>2</td>\n",
       "      <td>2</td>\n",
       "      <td>2</td>\n",
       "      <td>YES</td>\n",
       "    </tr>\n",
       "    <tr>\n",
       "      <th>1</th>\n",
       "      <td>M</td>\n",
       "      <td>74</td>\n",
       "      <td>2</td>\n",
       "      <td>1</td>\n",
       "      <td>1</td>\n",
       "      <td>1</td>\n",
       "      <td>2</td>\n",
       "      <td>2</td>\n",
       "      <td>2</td>\n",
       "      <td>1</td>\n",
       "      <td>1</td>\n",
       "      <td>1</td>\n",
       "      <td>2</td>\n",
       "      <td>2</td>\n",
       "      <td>2</td>\n",
       "      <td>YES</td>\n",
       "    </tr>\n",
       "    <tr>\n",
       "      <th>2</th>\n",
       "      <td>F</td>\n",
       "      <td>59</td>\n",
       "      <td>1</td>\n",
       "      <td>1</td>\n",
       "      <td>1</td>\n",
       "      <td>2</td>\n",
       "      <td>1</td>\n",
       "      <td>2</td>\n",
       "      <td>1</td>\n",
       "      <td>2</td>\n",
       "      <td>1</td>\n",
       "      <td>2</td>\n",
       "      <td>2</td>\n",
       "      <td>1</td>\n",
       "      <td>2</td>\n",
       "      <td>NO</td>\n",
       "    </tr>\n",
       "    <tr>\n",
       "      <th>3</th>\n",
       "      <td>M</td>\n",
       "      <td>63</td>\n",
       "      <td>2</td>\n",
       "      <td>2</td>\n",
       "      <td>2</td>\n",
       "      <td>1</td>\n",
       "      <td>1</td>\n",
       "      <td>1</td>\n",
       "      <td>1</td>\n",
       "      <td>1</td>\n",
       "      <td>2</td>\n",
       "      <td>1</td>\n",
       "      <td>1</td>\n",
       "      <td>2</td>\n",
       "      <td>2</td>\n",
       "      <td>NO</td>\n",
       "    </tr>\n",
       "    <tr>\n",
       "      <th>4</th>\n",
       "      <td>F</td>\n",
       "      <td>63</td>\n",
       "      <td>1</td>\n",
       "      <td>2</td>\n",
       "      <td>1</td>\n",
       "      <td>1</td>\n",
       "      <td>1</td>\n",
       "      <td>1</td>\n",
       "      <td>1</td>\n",
       "      <td>2</td>\n",
       "      <td>1</td>\n",
       "      <td>2</td>\n",
       "      <td>2</td>\n",
       "      <td>1</td>\n",
       "      <td>1</td>\n",
       "      <td>NO</td>\n",
       "    </tr>\n",
       "  </tbody>\n",
       "</table>\n",
       "</div>"
      ],
      "text/plain": [
       "  GENDER  AGE  SMOKING  YELLOW_FINGERS  ANXIETY  PEER_PRESSURE  \\\n",
       "0      M   69        1               2        2              1   \n",
       "1      M   74        2               1        1              1   \n",
       "2      F   59        1               1        1              2   \n",
       "3      M   63        2               2        2              1   \n",
       "4      F   63        1               2        1              1   \n",
       "\n",
       "   CHRONIC DISEASE  FATIGUE   ALLERGY   WHEEZING  ALCOHOL CONSUMING  COUGHING  \\\n",
       "0                1         2         1         2                  2         2   \n",
       "1                2         2         2         1                  1         1   \n",
       "2                1         2         1         2                  1         2   \n",
       "3                1         1         1         1                  2         1   \n",
       "4                1         1         1         2                  1         2   \n",
       "\n",
       "   SHORTNESS OF BREATH  SWALLOWING DIFFICULTY  CHEST PAIN LUNG_CANCER  \n",
       "0                    2                      2           2         YES  \n",
       "1                    2                      2           2         YES  \n",
       "2                    2                      1           2          NO  \n",
       "3                    1                      2           2          NO  \n",
       "4                    2                      1           1          NO  "
      ]
     },
     "execution_count": 4,
     "metadata": {},
     "output_type": "execute_result"
    }
   ],
   "source": [
    "# Load dataset\n",
    "path = 'lung_mysarahmadbhat.csv'\n",
    "\n",
    "df = pd.read_csv(path)\n",
    "\n",
    "df.head()"
   ]
  },
  {
   "cell_type": "code",
   "execution_count": 5,
   "metadata": {
    "colab": {
     "base_uri": "https://localhost:8080/"
    },
    "id": "w_PMXwD1aqxP",
    "outputId": "cb700822-852d-494d-e544-e3233e2abfa7"
   },
   "outputs": [
    {
     "data": {
      "text/plain": [
       "Index(['GENDER', 'AGE', 'SMOKING', 'YELLOW_FINGERS', 'ANXIETY',\n",
       "       'PEER_PRESSURE', 'CHRONIC DISEASE', 'FATIGUE ', 'ALLERGY ', 'WHEEZING',\n",
       "       'ALCOHOL CONSUMING', 'COUGHING', 'SHORTNESS OF BREATH',\n",
       "       'SWALLOWING DIFFICULTY', 'CHEST PAIN', 'LUNG_CANCER'],\n",
       "      dtype='object')"
      ]
     },
     "execution_count": 5,
     "metadata": {},
     "output_type": "execute_result"
    }
   ],
   "source": [
    "df.columns"
   ]
  },
  {
   "cell_type": "code",
   "execution_count": 6,
   "metadata": {
    "colab": {
     "base_uri": "https://localhost:8080/"
    },
    "id": "QoOk1Khkauva",
    "outputId": "2cb3e0bd-3780-4bbd-fddc-b7c819b41dd4"
   },
   "outputs": [
    {
     "name": "stdout",
     "output_type": "stream",
     "text": [
      "GENDER                   object\n",
      "AGE                       int64\n",
      "SMOKING                   int64\n",
      "YELLOW_FINGERS            int64\n",
      "ANXIETY                   int64\n",
      "PEER_PRESSURE             int64\n",
      "CHRONIC DISEASE           int64\n",
      "FATIGUE                   int64\n",
      "ALLERGY                   int64\n",
      "WHEEZING                  int64\n",
      "ALCOHOL CONSUMING         int64\n",
      "COUGHING                  int64\n",
      "SHORTNESS OF BREATH       int64\n",
      "SWALLOWING DIFFICULTY     int64\n",
      "CHEST PAIN                int64\n",
      "LUNG_CANCER              object\n",
      "dtype: object\n"
     ]
    }
   ],
   "source": [
    "print(df.dtypes)"
   ]
  },
  {
   "cell_type": "code",
   "execution_count": 7,
   "metadata": {
    "colab": {
     "base_uri": "https://localhost:8080/",
     "height": 542
    },
    "id": "6e9_MUFka2T1",
    "outputId": "af6db1d7-9859-424b-9162-f642e1e09846"
   },
   "outputs": [
    {
     "data": {
      "application/vnd.plotly.v1+json": {
       "config": {
        "plotlyServerURL": "https://plot.ly"
       },
       "data": [
        {
         "hovertemplate": "Lung Cancer Category=%{x}<br>Count=%{y}<br>text=%{text}<extra></extra>",
         "legendgroup": "YES",
         "marker": {
          "color": "rgb(228,26,28)",
          "pattern": {
           "shape": ""
          }
         },
         "name": "YES",
         "orientation": "v",
         "showlegend": true,
         "text": [
          "270 (87.4%)"
         ],
         "textposition": "outside",
         "texttemplate": "%{text}",
         "type": "bar",
         "x": [
          "YES"
         ],
         "xaxis": "x",
         "y": {
          "bdata": "DgE=",
          "dtype": "i2"
         },
         "yaxis": "y"
        },
        {
         "hovertemplate": "Lung Cancer Category=%{x}<br>Count=%{y}<br>text=%{text}<extra></extra>",
         "legendgroup": "NO",
         "marker": {
          "color": "rgb(55,126,184)",
          "pattern": {
           "shape": ""
          }
         },
         "name": "NO",
         "orientation": "v",
         "showlegend": true,
         "text": [
          "39 (12.6%)"
         ],
         "textposition": "outside",
         "texttemplate": "%{text}",
         "type": "bar",
         "x": [
          "NO"
         ],
         "xaxis": "x",
         "y": {
          "bdata": "Jw==",
          "dtype": "i1"
         },
         "yaxis": "y"
        }
       ],
       "layout": {
        "barmode": "relative",
        "legend": {
         "title": {
          "text": "Lung Cancer Category"
         },
         "tracegroupgap": 0
        },
        "margin": {
         "b": 50,
         "l": 50,
         "r": 50,
         "t": 50
        },
        "template": {
         "data": {
          "bar": [
           {
            "error_x": {
             "color": "#2a3f5f"
            },
            "error_y": {
             "color": "#2a3f5f"
            },
            "marker": {
             "line": {
              "color": "#E5ECF6",
              "width": 0.5
             },
             "pattern": {
              "fillmode": "overlay",
              "size": 10,
              "solidity": 0.2
             }
            },
            "type": "bar"
           }
          ],
          "barpolar": [
           {
            "marker": {
             "line": {
              "color": "#E5ECF6",
              "width": 0.5
             },
             "pattern": {
              "fillmode": "overlay",
              "size": 10,
              "solidity": 0.2
             }
            },
            "type": "barpolar"
           }
          ],
          "carpet": [
           {
            "aaxis": {
             "endlinecolor": "#2a3f5f",
             "gridcolor": "white",
             "linecolor": "white",
             "minorgridcolor": "white",
             "startlinecolor": "#2a3f5f"
            },
            "baxis": {
             "endlinecolor": "#2a3f5f",
             "gridcolor": "white",
             "linecolor": "white",
             "minorgridcolor": "white",
             "startlinecolor": "#2a3f5f"
            },
            "type": "carpet"
           }
          ],
          "choropleth": [
           {
            "colorbar": {
             "outlinewidth": 0,
             "ticks": ""
            },
            "type": "choropleth"
           }
          ],
          "contour": [
           {
            "colorbar": {
             "outlinewidth": 0,
             "ticks": ""
            },
            "colorscale": [
             [
              0,
              "#0d0887"
             ],
             [
              0.1111111111111111,
              "#46039f"
             ],
             [
              0.2222222222222222,
              "#7201a8"
             ],
             [
              0.3333333333333333,
              "#9c179e"
             ],
             [
              0.4444444444444444,
              "#bd3786"
             ],
             [
              0.5555555555555556,
              "#d8576b"
             ],
             [
              0.6666666666666666,
              "#ed7953"
             ],
             [
              0.7777777777777778,
              "#fb9f3a"
             ],
             [
              0.8888888888888888,
              "#fdca26"
             ],
             [
              1,
              "#f0f921"
             ]
            ],
            "type": "contour"
           }
          ],
          "contourcarpet": [
           {
            "colorbar": {
             "outlinewidth": 0,
             "ticks": ""
            },
            "type": "contourcarpet"
           }
          ],
          "heatmap": [
           {
            "colorbar": {
             "outlinewidth": 0,
             "ticks": ""
            },
            "colorscale": [
             [
              0,
              "#0d0887"
             ],
             [
              0.1111111111111111,
              "#46039f"
             ],
             [
              0.2222222222222222,
              "#7201a8"
             ],
             [
              0.3333333333333333,
              "#9c179e"
             ],
             [
              0.4444444444444444,
              "#bd3786"
             ],
             [
              0.5555555555555556,
              "#d8576b"
             ],
             [
              0.6666666666666666,
              "#ed7953"
             ],
             [
              0.7777777777777778,
              "#fb9f3a"
             ],
             [
              0.8888888888888888,
              "#fdca26"
             ],
             [
              1,
              "#f0f921"
             ]
            ],
            "type": "heatmap"
           }
          ],
          "histogram": [
           {
            "marker": {
             "pattern": {
              "fillmode": "overlay",
              "size": 10,
              "solidity": 0.2
             }
            },
            "type": "histogram"
           }
          ],
          "histogram2d": [
           {
            "colorbar": {
             "outlinewidth": 0,
             "ticks": ""
            },
            "colorscale": [
             [
              0,
              "#0d0887"
             ],
             [
              0.1111111111111111,
              "#46039f"
             ],
             [
              0.2222222222222222,
              "#7201a8"
             ],
             [
              0.3333333333333333,
              "#9c179e"
             ],
             [
              0.4444444444444444,
              "#bd3786"
             ],
             [
              0.5555555555555556,
              "#d8576b"
             ],
             [
              0.6666666666666666,
              "#ed7953"
             ],
             [
              0.7777777777777778,
              "#fb9f3a"
             ],
             [
              0.8888888888888888,
              "#fdca26"
             ],
             [
              1,
              "#f0f921"
             ]
            ],
            "type": "histogram2d"
           }
          ],
          "histogram2dcontour": [
           {
            "colorbar": {
             "outlinewidth": 0,
             "ticks": ""
            },
            "colorscale": [
             [
              0,
              "#0d0887"
             ],
             [
              0.1111111111111111,
              "#46039f"
             ],
             [
              0.2222222222222222,
              "#7201a8"
             ],
             [
              0.3333333333333333,
              "#9c179e"
             ],
             [
              0.4444444444444444,
              "#bd3786"
             ],
             [
              0.5555555555555556,
              "#d8576b"
             ],
             [
              0.6666666666666666,
              "#ed7953"
             ],
             [
              0.7777777777777778,
              "#fb9f3a"
             ],
             [
              0.8888888888888888,
              "#fdca26"
             ],
             [
              1,
              "#f0f921"
             ]
            ],
            "type": "histogram2dcontour"
           }
          ],
          "mesh3d": [
           {
            "colorbar": {
             "outlinewidth": 0,
             "ticks": ""
            },
            "type": "mesh3d"
           }
          ],
          "parcoords": [
           {
            "line": {
             "colorbar": {
              "outlinewidth": 0,
              "ticks": ""
             }
            },
            "type": "parcoords"
           }
          ],
          "pie": [
           {
            "automargin": true,
            "type": "pie"
           }
          ],
          "scatter": [
           {
            "fillpattern": {
             "fillmode": "overlay",
             "size": 10,
             "solidity": 0.2
            },
            "type": "scatter"
           }
          ],
          "scatter3d": [
           {
            "line": {
             "colorbar": {
              "outlinewidth": 0,
              "ticks": ""
             }
            },
            "marker": {
             "colorbar": {
              "outlinewidth": 0,
              "ticks": ""
             }
            },
            "type": "scatter3d"
           }
          ],
          "scattercarpet": [
           {
            "marker": {
             "colorbar": {
              "outlinewidth": 0,
              "ticks": ""
             }
            },
            "type": "scattercarpet"
           }
          ],
          "scattergeo": [
           {
            "marker": {
             "colorbar": {
              "outlinewidth": 0,
              "ticks": ""
             }
            },
            "type": "scattergeo"
           }
          ],
          "scattergl": [
           {
            "marker": {
             "colorbar": {
              "outlinewidth": 0,
              "ticks": ""
             }
            },
            "type": "scattergl"
           }
          ],
          "scattermap": [
           {
            "marker": {
             "colorbar": {
              "outlinewidth": 0,
              "ticks": ""
             }
            },
            "type": "scattermap"
           }
          ],
          "scattermapbox": [
           {
            "marker": {
             "colorbar": {
              "outlinewidth": 0,
              "ticks": ""
             }
            },
            "type": "scattermapbox"
           }
          ],
          "scatterpolar": [
           {
            "marker": {
             "colorbar": {
              "outlinewidth": 0,
              "ticks": ""
             }
            },
            "type": "scatterpolar"
           }
          ],
          "scatterpolargl": [
           {
            "marker": {
             "colorbar": {
              "outlinewidth": 0,
              "ticks": ""
             }
            },
            "type": "scatterpolargl"
           }
          ],
          "scatterternary": [
           {
            "marker": {
             "colorbar": {
              "outlinewidth": 0,
              "ticks": ""
             }
            },
            "type": "scatterternary"
           }
          ],
          "surface": [
           {
            "colorbar": {
             "outlinewidth": 0,
             "ticks": ""
            },
            "colorscale": [
             [
              0,
              "#0d0887"
             ],
             [
              0.1111111111111111,
              "#46039f"
             ],
             [
              0.2222222222222222,
              "#7201a8"
             ],
             [
              0.3333333333333333,
              "#9c179e"
             ],
             [
              0.4444444444444444,
              "#bd3786"
             ],
             [
              0.5555555555555556,
              "#d8576b"
             ],
             [
              0.6666666666666666,
              "#ed7953"
             ],
             [
              0.7777777777777778,
              "#fb9f3a"
             ],
             [
              0.8888888888888888,
              "#fdca26"
             ],
             [
              1,
              "#f0f921"
             ]
            ],
            "type": "surface"
           }
          ],
          "table": [
           {
            "cells": {
             "fill": {
              "color": "#EBF0F8"
             },
             "line": {
              "color": "white"
             }
            },
            "header": {
             "fill": {
              "color": "#C8D4E3"
             },
             "line": {
              "color": "white"
             }
            },
            "type": "table"
           }
          ]
         },
         "layout": {
          "annotationdefaults": {
           "arrowcolor": "#2a3f5f",
           "arrowhead": 0,
           "arrowwidth": 1
          },
          "autotypenumbers": "strict",
          "coloraxis": {
           "colorbar": {
            "outlinewidth": 0,
            "ticks": ""
           }
          },
          "colorscale": {
           "diverging": [
            [
             0,
             "#8e0152"
            ],
            [
             0.1,
             "#c51b7d"
            ],
            [
             0.2,
             "#de77ae"
            ],
            [
             0.3,
             "#f1b6da"
            ],
            [
             0.4,
             "#fde0ef"
            ],
            [
             0.5,
             "#f7f7f7"
            ],
            [
             0.6,
             "#e6f5d0"
            ],
            [
             0.7,
             "#b8e186"
            ],
            [
             0.8,
             "#7fbc41"
            ],
            [
             0.9,
             "#4d9221"
            ],
            [
             1,
             "#276419"
            ]
           ],
           "sequential": [
            [
             0,
             "#0d0887"
            ],
            [
             0.1111111111111111,
             "#46039f"
            ],
            [
             0.2222222222222222,
             "#7201a8"
            ],
            [
             0.3333333333333333,
             "#9c179e"
            ],
            [
             0.4444444444444444,
             "#bd3786"
            ],
            [
             0.5555555555555556,
             "#d8576b"
            ],
            [
             0.6666666666666666,
             "#ed7953"
            ],
            [
             0.7777777777777778,
             "#fb9f3a"
            ],
            [
             0.8888888888888888,
             "#fdca26"
            ],
            [
             1,
             "#f0f921"
            ]
           ],
           "sequentialminus": [
            [
             0,
             "#0d0887"
            ],
            [
             0.1111111111111111,
             "#46039f"
            ],
            [
             0.2222222222222222,
             "#7201a8"
            ],
            [
             0.3333333333333333,
             "#9c179e"
            ],
            [
             0.4444444444444444,
             "#bd3786"
            ],
            [
             0.5555555555555556,
             "#d8576b"
            ],
            [
             0.6666666666666666,
             "#ed7953"
            ],
            [
             0.7777777777777778,
             "#fb9f3a"
            ],
            [
             0.8888888888888888,
             "#fdca26"
            ],
            [
             1,
             "#f0f921"
            ]
           ]
          },
          "colorway": [
           "#636efa",
           "#EF553B",
           "#00cc96",
           "#ab63fa",
           "#FFA15A",
           "#19d3f3",
           "#FF6692",
           "#B6E880",
           "#FF97FF",
           "#FECB52"
          ],
          "font": {
           "color": "#2a3f5f"
          },
          "geo": {
           "bgcolor": "white",
           "lakecolor": "white",
           "landcolor": "#E5ECF6",
           "showlakes": true,
           "showland": true,
           "subunitcolor": "white"
          },
          "hoverlabel": {
           "align": "left"
          },
          "hovermode": "closest",
          "mapbox": {
           "style": "light"
          },
          "paper_bgcolor": "white",
          "plot_bgcolor": "#E5ECF6",
          "polar": {
           "angularaxis": {
            "gridcolor": "white",
            "linecolor": "white",
            "ticks": ""
           },
           "bgcolor": "#E5ECF6",
           "radialaxis": {
            "gridcolor": "white",
            "linecolor": "white",
            "ticks": ""
           }
          },
          "scene": {
           "xaxis": {
            "backgroundcolor": "#E5ECF6",
            "gridcolor": "white",
            "gridwidth": 2,
            "linecolor": "white",
            "showbackground": true,
            "ticks": "",
            "zerolinecolor": "white"
           },
           "yaxis": {
            "backgroundcolor": "#E5ECF6",
            "gridcolor": "white",
            "gridwidth": 2,
            "linecolor": "white",
            "showbackground": true,
            "ticks": "",
            "zerolinecolor": "white"
           },
           "zaxis": {
            "backgroundcolor": "#E5ECF6",
            "gridcolor": "white",
            "gridwidth": 2,
            "linecolor": "white",
            "showbackground": true,
            "ticks": "",
            "zerolinecolor": "white"
           }
          },
          "shapedefaults": {
           "line": {
            "color": "#2a3f5f"
           }
          },
          "ternary": {
           "aaxis": {
            "gridcolor": "white",
            "linecolor": "white",
            "ticks": ""
           },
           "baxis": {
            "gridcolor": "white",
            "linecolor": "white",
            "ticks": ""
           },
           "bgcolor": "#E5ECF6",
           "caxis": {
            "gridcolor": "white",
            "linecolor": "white",
            "ticks": ""
           }
          },
          "title": {
           "x": 0.05
          },
          "xaxis": {
           "automargin": true,
           "gridcolor": "white",
           "linecolor": "white",
           "ticks": "",
           "title": {
            "standoff": 15
           },
           "zerolinecolor": "white",
           "zerolinewidth": 2
          },
          "yaxis": {
           "automargin": true,
           "gridcolor": "white",
           "linecolor": "white",
           "ticks": "",
           "title": {
            "standoff": 15
           },
           "zerolinecolor": "white",
           "zerolinewidth": 2
          }
         }
        },
        "title": {
         "text": "Lung Cancer Distribution"
        },
        "xaxis": {
         "anchor": "y",
         "categoryarray": [
          "YES",
          "NO"
         ],
         "categoryorder": "array",
         "domain": [
          0,
          1
         ],
         "title": {
          "text": "Lung Cancer Category"
         }
        },
        "yaxis": {
         "anchor": "x",
         "domain": [
          0,
          1
         ],
         "title": {
          "text": "Count"
         }
        }
       }
      }
     },
     "metadata": {},
     "output_type": "display_data"
    }
   ],
   "source": [
    "import plotly.express as px\n",
    "\n",
    "# Membuat DataFrame tdf yang berisi counts dari variabel 'Level'\n",
    "tdf = df['LUNG_CANCER'].value_counts().reset_index()\n",
    "tdf.columns = ['LUNG_CANCER', 'count']  # Memberi nama kolom agar lebih mudah dipahami\n",
    "\n",
    "# Menambahkan kolom persentase\n",
    "total_count = tdf['count'].sum()\n",
    "tdf['percentage'] = (tdf['count'] / total_count) * 100\n",
    "\n",
    "# Membuat diagram batang interaktif menggunakan Plotly\n",
    "fig = px.bar(tdf, x='LUNG_CANCER', y='count',\n",
    "             title='Lung Cancer Distribution',\n",
    "             labels={'LUNG_CANCER': 'Lung Cancer Category', 'count': 'Count'},\n",
    "             color='LUNG_CANCER',  # Memberikan warna berbeda untuk setiap kategori\n",
    "             color_discrete_sequence=px.colors.qualitative.Set1,  # Menentukan palet warna\n",
    "             text=tdf.apply(lambda row: f\"{int(row['count'])} ({row['percentage']:.1f}%)\", axis=1))  # Menambahkan count dan persentase\n",
    "\n",
    "# Menampilkan chart\n",
    "fig.update_traces(textposition='outside',  # Menempatkan teks di luar batang\n",
    "                  texttemplate='%{text}')  # Menampilkan nilai count dan persentase\n",
    "\n",
    "# Menyesuaikan margin agar teks tidak tertutup\n",
    "fig.update_layout(\n",
    "    margin=dict(l=50, r=50, t=50, b=50),  # Memberikan ruang pada sisi kiri, kanan, atas, dan bawah\n",
    ")\n",
    "\n",
    "fig.show()\n"
   ]
  },
  {
   "cell_type": "code",
   "execution_count": 8,
   "metadata": {
    "colab": {
     "base_uri": "https://localhost:8080/"
    },
    "id": "LKPev_uZbHPN",
    "outputId": "fcaae1c3-c2a6-4f72-f54b-4abb656c3213"
   },
   "outputs": [
    {
     "name": "stdout",
     "output_type": "stream",
     "text": [
      "GENDER                   0\n",
      "AGE                      0\n",
      "SMOKING                  0\n",
      "YELLOW_FINGERS           0\n",
      "ANXIETY                  0\n",
      "PEER_PRESSURE            0\n",
      "CHRONIC DISEASE          0\n",
      "FATIGUE                  0\n",
      "ALLERGY                  0\n",
      "WHEEZING                 0\n",
      "ALCOHOL CONSUMING        0\n",
      "COUGHING                 0\n",
      "SHORTNESS OF BREATH      0\n",
      "SWALLOWING DIFFICULTY    0\n",
      "CHEST PAIN               0\n",
      "LUNG_CANCER              0\n",
      "dtype: int64\n"
     ]
    }
   ],
   "source": [
    "print(df.isnull().sum())"
   ]
  },
  {
   "cell_type": "markdown",
   "metadata": {
    "id": "pyU2ibIk_yMs"
   },
   "source": [
    "Tahap Preprocessing (Encoding tipe data)"
   ]
  },
  {
   "cell_type": "code",
   "execution_count": 9,
   "metadata": {
    "colab": {
     "base_uri": "https://localhost:8080/"
    },
    "id": "8Yb_GmxyevhH",
    "outputId": "30f4488e-898a-4405-c9d8-50f2bee89558"
   },
   "outputs": [
    {
     "name": "stdout",
     "output_type": "stream",
     "text": [
      "   GENDER  LUNG_CANCER\n",
      "0       1            1\n",
      "1       1            1\n",
      "2       2            0\n",
      "3       1            0\n",
      "4       2            0\n"
     ]
    }
   ],
   "source": [
    "# Mengubah kolom 'GENDER' menjadi numerik (F = 2, M = 1)\n",
    "df['GENDER'] = df['GENDER'].map({'F': 2, 'M': 1})\n",
    "\n",
    "# Mengubah kolom 'LUNG_CANCER' menjadi numerik (NO = 0, YES = 1)\n",
    "df['LUNG_CANCER'] = df['LUNG_CANCER'].map({'NO': 0, 'YES': 1})\n",
    "\n",
    "# Cek hasilnya\n",
    "print(df[['GENDER', 'LUNG_CANCER']].head())"
   ]
  },
  {
   "cell_type": "code",
   "execution_count": 10,
   "metadata": {
    "colab": {
     "base_uri": "https://localhost:8080/"
    },
    "id": "miRjz2eNerIl",
    "outputId": "64641533-599d-4ceb-ca52-3abae55ec174"
   },
   "outputs": [
    {
     "name": "stdout",
     "output_type": "stream",
     "text": [
      "<class 'pandas.core.frame.DataFrame'>\n",
      "RangeIndex: 309 entries, 0 to 308\n",
      "Data columns (total 16 columns):\n",
      " #   Column                 Non-Null Count  Dtype\n",
      "---  ------                 --------------  -----\n",
      " 0   GENDER                 309 non-null    int64\n",
      " 1   AGE                    309 non-null    int64\n",
      " 2   SMOKING                309 non-null    int64\n",
      " 3   YELLOW_FINGERS         309 non-null    int64\n",
      " 4   ANXIETY                309 non-null    int64\n",
      " 5   PEER_PRESSURE          309 non-null    int64\n",
      " 6   CHRONIC DISEASE        309 non-null    int64\n",
      " 7   FATIGUE                309 non-null    int64\n",
      " 8   ALLERGY                309 non-null    int64\n",
      " 9   WHEEZING               309 non-null    int64\n",
      " 10  ALCOHOL CONSUMING      309 non-null    int64\n",
      " 11  COUGHING               309 non-null    int64\n",
      " 12  SHORTNESS OF BREATH    309 non-null    int64\n",
      " 13  SWALLOWING DIFFICULTY  309 non-null    int64\n",
      " 14  CHEST PAIN             309 non-null    int64\n",
      " 15  LUNG_CANCER            309 non-null    int64\n",
      "dtypes: int64(16)\n",
      "memory usage: 38.8 KB\n"
     ]
    }
   ],
   "source": [
    "df.info()"
   ]
  },
  {
   "cell_type": "code",
   "execution_count": 11,
   "metadata": {
    "id": "QZecebUugAZv"
   },
   "outputs": [],
   "source": [
    "# Pisahkan data\n",
    "X = df.drop(columns=['LUNG_CANCER'])  # Semua kolom kecuali 'LUNG_CANCER'\n",
    "y = df['LUNG_CANCER']"
   ]
  },
  {
   "cell_type": "code",
   "execution_count": 12,
   "metadata": {
    "colab": {
     "base_uri": "https://localhost:8080/",
     "height": 244
    },
    "id": "xySOFoaJMjQs",
    "outputId": "f15c1af3-676c-48ff-ac1c-576e51ca1b78"
   },
   "outputs": [
    {
     "data": {
      "text/html": [
       "<div>\n",
       "<style scoped>\n",
       "    .dataframe tbody tr th:only-of-type {\n",
       "        vertical-align: middle;\n",
       "    }\n",
       "\n",
       "    .dataframe tbody tr th {\n",
       "        vertical-align: top;\n",
       "    }\n",
       "\n",
       "    .dataframe thead th {\n",
       "        text-align: right;\n",
       "    }\n",
       "</style>\n",
       "<table border=\"1\" class=\"dataframe\">\n",
       "  <thead>\n",
       "    <tr style=\"text-align: right;\">\n",
       "      <th></th>\n",
       "      <th>GENDER</th>\n",
       "      <th>AGE</th>\n",
       "      <th>SMOKING</th>\n",
       "      <th>YELLOW_FINGERS</th>\n",
       "      <th>ANXIETY</th>\n",
       "      <th>PEER_PRESSURE</th>\n",
       "      <th>CHRONIC DISEASE</th>\n",
       "      <th>FATIGUE</th>\n",
       "      <th>ALLERGY</th>\n",
       "      <th>WHEEZING</th>\n",
       "      <th>ALCOHOL CONSUMING</th>\n",
       "      <th>COUGHING</th>\n",
       "      <th>SHORTNESS OF BREATH</th>\n",
       "      <th>SWALLOWING DIFFICULTY</th>\n",
       "      <th>CHEST PAIN</th>\n",
       "    </tr>\n",
       "  </thead>\n",
       "  <tbody>\n",
       "    <tr>\n",
       "      <th>0</th>\n",
       "      <td>1</td>\n",
       "      <td>69</td>\n",
       "      <td>1</td>\n",
       "      <td>2</td>\n",
       "      <td>2</td>\n",
       "      <td>1</td>\n",
       "      <td>1</td>\n",
       "      <td>2</td>\n",
       "      <td>1</td>\n",
       "      <td>2</td>\n",
       "      <td>2</td>\n",
       "      <td>2</td>\n",
       "      <td>2</td>\n",
       "      <td>2</td>\n",
       "      <td>2</td>\n",
       "    </tr>\n",
       "    <tr>\n",
       "      <th>1</th>\n",
       "      <td>1</td>\n",
       "      <td>74</td>\n",
       "      <td>2</td>\n",
       "      <td>1</td>\n",
       "      <td>1</td>\n",
       "      <td>1</td>\n",
       "      <td>2</td>\n",
       "      <td>2</td>\n",
       "      <td>2</td>\n",
       "      <td>1</td>\n",
       "      <td>1</td>\n",
       "      <td>1</td>\n",
       "      <td>2</td>\n",
       "      <td>2</td>\n",
       "      <td>2</td>\n",
       "    </tr>\n",
       "    <tr>\n",
       "      <th>2</th>\n",
       "      <td>2</td>\n",
       "      <td>59</td>\n",
       "      <td>1</td>\n",
       "      <td>1</td>\n",
       "      <td>1</td>\n",
       "      <td>2</td>\n",
       "      <td>1</td>\n",
       "      <td>2</td>\n",
       "      <td>1</td>\n",
       "      <td>2</td>\n",
       "      <td>1</td>\n",
       "      <td>2</td>\n",
       "      <td>2</td>\n",
       "      <td>1</td>\n",
       "      <td>2</td>\n",
       "    </tr>\n",
       "    <tr>\n",
       "      <th>3</th>\n",
       "      <td>1</td>\n",
       "      <td>63</td>\n",
       "      <td>2</td>\n",
       "      <td>2</td>\n",
       "      <td>2</td>\n",
       "      <td>1</td>\n",
       "      <td>1</td>\n",
       "      <td>1</td>\n",
       "      <td>1</td>\n",
       "      <td>1</td>\n",
       "      <td>2</td>\n",
       "      <td>1</td>\n",
       "      <td>1</td>\n",
       "      <td>2</td>\n",
       "      <td>2</td>\n",
       "    </tr>\n",
       "    <tr>\n",
       "      <th>4</th>\n",
       "      <td>2</td>\n",
       "      <td>63</td>\n",
       "      <td>1</td>\n",
       "      <td>2</td>\n",
       "      <td>1</td>\n",
       "      <td>1</td>\n",
       "      <td>1</td>\n",
       "      <td>1</td>\n",
       "      <td>1</td>\n",
       "      <td>2</td>\n",
       "      <td>1</td>\n",
       "      <td>2</td>\n",
       "      <td>2</td>\n",
       "      <td>1</td>\n",
       "      <td>1</td>\n",
       "    </tr>\n",
       "  </tbody>\n",
       "</table>\n",
       "</div>"
      ],
      "text/plain": [
       "   GENDER  AGE  SMOKING  YELLOW_FINGERS  ANXIETY  PEER_PRESSURE  \\\n",
       "0       1   69        1               2        2              1   \n",
       "1       1   74        2               1        1              1   \n",
       "2       2   59        1               1        1              2   \n",
       "3       1   63        2               2        2              1   \n",
       "4       2   63        1               2        1              1   \n",
       "\n",
       "   CHRONIC DISEASE  FATIGUE   ALLERGY   WHEEZING  ALCOHOL CONSUMING  COUGHING  \\\n",
       "0                1         2         1         2                  2         2   \n",
       "1                2         2         2         1                  1         1   \n",
       "2                1         2         1         2                  1         2   \n",
       "3                1         1         1         1                  2         1   \n",
       "4                1         1         1         2                  1         2   \n",
       "\n",
       "   SHORTNESS OF BREATH  SWALLOWING DIFFICULTY  CHEST PAIN  \n",
       "0                    2                      2           2  \n",
       "1                    2                      2           2  \n",
       "2                    2                      1           2  \n",
       "3                    1                      2           2  \n",
       "4                    2                      1           1  "
      ]
     },
     "execution_count": 12,
     "metadata": {},
     "output_type": "execute_result"
    }
   ],
   "source": [
    "X.head()"
   ]
  },
  {
   "cell_type": "markdown",
   "metadata": {
    "id": "TNUwQ5qzEsdy"
   },
   "source": [
    "Tahap Split Data (80,20)"
   ]
  },
  {
   "cell_type": "code",
   "execution_count": 13,
   "metadata": {
    "colab": {
     "base_uri": "https://localhost:8080/"
    },
    "id": "YG3QTv5iglFe",
    "outputId": "55e1c39d-726d-4958-f82e-8a3ab0936dc3"
   },
   "outputs": [
    {
     "name": "stdout",
     "output_type": "stream",
     "text": [
      "Train size: 247 data\n",
      "Test size: 62 data\n",
      "Train size Stratify: 247 data\n",
      "Test size Stratify: 62 data\n"
     ]
    }
   ],
   "source": [
    "# Membagi data menjadi train dan test (80% train, 20% test)\n",
    "X_train, X_test, y_train, y_test = train_test_split(X, y, test_size=0.2, random_state=42)\n",
    "\n",
    "# Membagi data menjadi train dan test (80% train, 20% test), serta menggunakan Stratified ShuffleSplit pada kolom y\n",
    "X_train_st, X_test_st, y_train_st, y_test_st = train_test_split(X, y, test_size=0.2, random_state=42, stratify=y)\n",
    "\n",
    "# Menampilkan ukuran data training dan testing\n",
    "train_size = len(X_train)\n",
    "test_size = len(X_test)\n",
    "\n",
    "train_size_st = len(X_train_st)\n",
    "test_size_st = len(X_test_st)\n",
    "\n",
    "print(f\"Train size: {train_size} data\")\n",
    "print(f\"Test size: {test_size} data\")\n",
    "\n",
    "print(f\"Train size Stratify: {train_size_st} data\")\n",
    "print(f\"Test size Stratify: {test_size_st} data\")"
   ]
  },
  {
   "cell_type": "code",
   "execution_count": 14,
   "metadata": {
    "colab": {
     "base_uri": "https://localhost:8080/",
     "height": 660
    },
    "id": "FJ-BXnf7wEeF",
    "outputId": "1ae7f922-1f07-4e85-f056-ded39427057e"
   },
   "outputs": [
    {
     "name": "stdout",
     "output_type": "stream",
     "text": [
      "Decision Tree Accuracy: 0.967741935483871\n",
      "Decision Tree Classification Report:\n",
      "               precision    recall  f1-score   support\n",
      "\n",
      "           0       0.50      0.50      0.50         2\n",
      "           1       0.98      0.98      0.98        60\n",
      "\n",
      "    accuracy                           0.97        62\n",
      "   macro avg       0.74      0.74      0.74        62\n",
      "weighted avg       0.97      0.97      0.97        62\n",
      "\n",
      "Confusion Matrix:\n",
      " [[ 1  1]\n",
      " [ 1 59]]\n"
     ]
    }
   ],
   "source": [
    "\n",
    "# Inisialisasi model Decision Tree\n",
    "dtree = DecisionTreeClassifier(random_state=42)\n",
    "\n",
    "# Latih model Decision Tree\n",
    "dtree.fit(X_train, y_train)\n",
    "\n",
    "# Prediksi dengan Decision Tree\n",
    "dtree_pred = dtree.predict(X_test)\n",
    "\n",
    "# Evaluasi model Decision Tree\n",
    "dtree_accuracy = accuracy_score(y_test, dtree_pred)\n",
    "dtree_report = classification_report(y_test, dtree_pred)\n",
    "dtree_conf_matrix = confusion_matrix(y_test, dtree_pred)\n",
    "\n",
    "# Menampilkan hasil evaluasi\n",
    "print(\"Decision Tree Accuracy:\", dtree_accuracy)\n",
    "print(\"Decision Tree Classification Report:\\n\", dtree_report)\n",
    "print(\"Confusion Matrix:\\n\", dtree_conf_matrix)"
   ]
  },
  {
   "cell_type": "code",
   "execution_count": 15,
   "metadata": {},
   "outputs": [
    {
     "name": "stdout",
     "output_type": "stream",
     "text": [
      "Decision Tree Accuracy (ST): 0.9193548387096774\n",
      "Decision Tree Classification Repor (ST)t:\n",
      "               precision    recall  f1-score   support\n",
      "\n",
      "           0       0.64      0.88      0.74         8\n",
      "           1       0.98      0.93      0.95        54\n",
      "\n",
      "    accuracy                           0.92        62\n",
      "   macro avg       0.81      0.90      0.84        62\n",
      "weighted avg       0.94      0.92      0.92        62\n",
      "\n",
      "Confusion Matrix (ST):\n",
      " [[ 7  1]\n",
      " [ 4 50]]\n"
     ]
    }
   ],
   "source": [
    "# Inisialisasi model Decision Tree\n",
    "dtree_st = DecisionTreeClassifier(random_state=42)\n",
    "\n",
    "# Latih model Decision Tree\n",
    "dtree_st.fit(X_train_st, y_train_st)\n",
    "\n",
    "# Prediksi dengan Decision Tree\n",
    "dtree_pred_st = dtree_st.predict(X_test_st)\n",
    "\n",
    "# Evaluasi model Decision Tree\n",
    "dtree_accuracy_st = accuracy_score(y_test_st, dtree_pred_st)\n",
    "dtree_report_st = classification_report(y_test_st, dtree_pred_st)\n",
    "dtree_conf_matrix_st = confusion_matrix(y_test_st, dtree_pred_st)\n",
    "\n",
    "# Menampilkan hasil evaluasi\n",
    "print(\"Decision Tree Accuracy (ST):\", dtree_accuracy_st)\n",
    "print(\"Decision Tree Classification Repor (ST)t:\\n\", dtree_report_st)\n",
    "print(\"Confusion Matrix (ST):\\n\", dtree_conf_matrix_st)\n"
   ]
  },
  {
   "cell_type": "code",
   "execution_count": 16,
   "metadata": {
    "colab": {
     "base_uri": "https://localhost:8080/",
     "height": 660
    },
    "id": "n2uHmTNPl45T",
    "outputId": "18e00254-7750-475f-fee1-54637c30d08b"
   },
   "outputs": [
    {
     "name": "stdout",
     "output_type": "stream",
     "text": [
      "Random Forest Accuracy: 0.967741935483871\n",
      "Random Forest Classification Report:\n",
      "               precision    recall  f1-score   support\n",
      "\n",
      "           0       0.50      0.50      0.50         2\n",
      "           1       0.98      0.98      0.98        60\n",
      "\n",
      "    accuracy                           0.97        62\n",
      "   macro avg       0.74      0.74      0.74        62\n",
      "weighted avg       0.97      0.97      0.97        62\n",
      "\n",
      "Confusion Matrix:\n",
      " [[ 1  1]\n",
      " [ 1 59]]\n"
     ]
    }
   ],
   "source": [
    "# Inisialisasi model Random Forest\n",
    "rf = RandomForestClassifier(n_estimators=100, random_state=42)\n",
    "\n",
    "# Latih model Random Forest\n",
    "rf.fit(X_train, y_train)\n",
    "\n",
    "# Prediksi dengan Random Forest\n",
    "rf_pred = rf.predict(X_test)\n",
    "\n",
    "# Evaluasi model Random Forest\n",
    "rf_accuracy = accuracy_score(y_test, rf_pred)\n",
    "rf_report = classification_report(y_test, rf_pred)\n",
    "rf_conf_matrix = confusion_matrix(y_test, rf_pred)\n",
    "\n",
    "# Menampilkan hasil evaluasi\n",
    "print(\"Random Forest Accuracy:\", rf_accuracy)\n",
    "print(\"Random Forest Classification Report:\\n\", rf_report)\n",
    "print(\"Confusion Matrix:\\n\", rf_conf_matrix)"
   ]
  },
  {
   "cell_type": "code",
   "execution_count": 17,
   "metadata": {},
   "outputs": [
    {
     "name": "stdout",
     "output_type": "stream",
     "text": [
      "Random Forest Accuracy (ST): 0.9193548387096774\n",
      "Random Forest Classification Report (ST):\n",
      "               precision    recall  f1-score   support\n",
      "\n",
      "           0       0.67      0.75      0.71         8\n",
      "           1       0.96      0.94      0.95        54\n",
      "\n",
      "    accuracy                           0.92        62\n",
      "   macro avg       0.81      0.85      0.83        62\n",
      "weighted avg       0.92      0.92      0.92        62\n",
      "\n",
      "Confusion Matrix (ST):\n",
      " [[ 6  2]\n",
      " [ 3 51]]\n"
     ]
    }
   ],
   "source": [
    "# Inisialisasi model Random Forest\n",
    "rf_st = RandomForestClassifier(n_estimators=100, random_state=42)\n",
    "\n",
    "# Latih model Random Forest\n",
    "rf_st.fit(X_train_st, y_train_st)\n",
    "\n",
    "# Prediksi dengan Random Forest\n",
    "rf_pred_st = rf_st.predict(X_test_st)\n",
    "\n",
    "# Evaluasi model Random Forest\n",
    "rf_accuracy_st = accuracy_score(y_test_st, rf_pred_st)\n",
    "rf_report_st = classification_report(y_test_st, rf_pred_st)\n",
    "rf_conf_matrix_st = confusion_matrix(y_test_st, rf_pred_st)\n",
    "\n",
    "# Menampilkan hasil evaluasi\n",
    "print(\"Random Forest Accuracy (ST):\", rf_accuracy_st)\n",
    "print(\"Random Forest Classification Report (ST):\\n\", rf_report_st)\n",
    "print(\"Confusion Matrix (ST):\\n\", rf_conf_matrix_st)"
   ]
  },
  {
   "cell_type": "code",
   "execution_count": 18,
   "metadata": {
    "colab": {
     "base_uri": "https://localhost:8080/",
     "height": 578
    },
    "id": "YRTEqzdXjIwK",
    "outputId": "fe28d82f-0ede-42d2-ec29-5b4cb5c51eb0"
   },
   "outputs": [
    {
     "data": {
      "application/vnd.plotly.v1+json": {
       "config": {
        "plotlyServerURL": "https://plot.ly"
       },
       "data": [
        {
         "line": {
          "color": "#1f77b4",
          "dash": "dash"
         },
         "mode": "lines",
         "name": "Decision Tree (AUC = 0.7417)",
         "type": "scatter",
         "x": {
          "bdata": "AAAAAAAAAAAAAAAAAADgPwAAAAAAAPA/",
          "dtype": "f8"
         },
         "y": {
          "bdata": "AAAAAAAAAAB3d3d3d3fvPwAAAAAAAPA/",
          "dtype": "f8"
         }
        },
        {
         "line": {
          "color": "red",
          "dash": "dot"
         },
         "mode": "lines",
         "name": "Random Forest (AUC = 0.9583)",
         "type": "scatter",
         "x": {
          "bdata": "AAAAAAAAAAAAAAAAAAAAAAAAAAAAAAAAAAAAAAAAAAAAAAAAAAAAAAAAAAAAAAAAAAAAAAAAAAAAAAAAAAAAAAAAAAAAAAAAAAAAAAAAAAAAAAAAAAAAAAAAAAAAAAAAAAAAAAAAAAAAAAAAAADgPwAAAAAAAOA/AAAAAAAA4D8AAAAAAADwPw==",
          "dtype": "f8"
         },
         "y": {
          "bdata": "AAAAAAAAAAAzMzMzMzPTP0RERERERNQ/vLu7u7u72z8RERERERHhP5qZmZmZmeE/MzMzMzMz4z+8u7u7u7vjP2ZmZmZmZuY/d3d3d3d35z+rqqqqqqrqP7y7u7u7u+s/VVVVVVVV7T9VVVVVVVXtP2ZmZmZmZu4/AAAAAAAA8D8AAAAAAADwPw==",
          "dtype": "f8"
         }
        },
        {
         "line": {
          "color": "#2ca02c",
          "dash": "solid"
         },
         "mode": "lines",
         "name": "Decision Tree (ST) (AUC = 0.9005)",
         "type": "scatter",
         "x": {
          "bdata": "AAAAAAAAAAAAAAAAAADAPwAAAAAAAPA/",
          "dtype": "f8"
         },
         "y": {
          "bdata": "AAAAAAAAAAAT2ktoL6HtPwAAAAAAAPA/",
          "dtype": "f8"
         }
        },
        {
         "line": {
          "color": "blue",
          "dash": "longdash"
         },
         "mode": "lines",
         "name": "Random Forest (ST) (AUC = 0.9479)",
         "type": "scatter",
         "x": {
          "bdata": "AAAAAAAAAAAAAAAAAAAAAAAAAAAAAAAAAAAAAAAAAAAAAAAAAAAAAAAAAAAAAAAAAAAAAAAAAAAAAAAAAAAAAAAAAAAAAAAAAAAAAAAAAAAAAAAAAADQPwAAAAAAANA/AAAAAAAA6D8AAAAAAADoPwAAAAAAAOw/AAAAAAAA8D8=",
          "dtype": "f8"
         },
         "y": {
          "bdata": "AAAAAAAAAABVVVVVVVXFP1VVVVVVVdU/chzHcRzH4T9fQnsJ7SXkP1VVVVVVVeU/x3Ecx3Ec5z++hPYS2kvoPy+hvYT2Euo/mNBeQnsJ7T+Y0F5CewntP47jOI7jOO4/juM4juM47j+F9hLaS2jvPwAAAAAAAPA/AAAAAAAA8D8=",
          "dtype": "f8"
         }
        },
        {
         "line": {
          "color": "#7f7f7f",
          "dash": "dashdot"
         },
         "mode": "lines",
         "name": "Random",
         "type": "scatter",
         "x": [
          0,
          1
         ],
         "y": [
          0,
          1
         ]
        }
       ],
       "layout": {
        "font": {
         "size": 14
        },
        "legend": {
         "bgcolor": "rgba(255, 255, 255, 0.8)",
         "bordercolor": "black",
         "borderwidth": 1
        },
        "showlegend": true,
        "template": {
         "data": {
          "bar": [
           {
            "error_x": {
             "color": "#2a3f5f"
            },
            "error_y": {
             "color": "#2a3f5f"
            },
            "marker": {
             "line": {
              "color": "#E5ECF6",
              "width": 0.5
             },
             "pattern": {
              "fillmode": "overlay",
              "size": 10,
              "solidity": 0.2
             }
            },
            "type": "bar"
           }
          ],
          "barpolar": [
           {
            "marker": {
             "line": {
              "color": "#E5ECF6",
              "width": 0.5
             },
             "pattern": {
              "fillmode": "overlay",
              "size": 10,
              "solidity": 0.2
             }
            },
            "type": "barpolar"
           }
          ],
          "carpet": [
           {
            "aaxis": {
             "endlinecolor": "#2a3f5f",
             "gridcolor": "white",
             "linecolor": "white",
             "minorgridcolor": "white",
             "startlinecolor": "#2a3f5f"
            },
            "baxis": {
             "endlinecolor": "#2a3f5f",
             "gridcolor": "white",
             "linecolor": "white",
             "minorgridcolor": "white",
             "startlinecolor": "#2a3f5f"
            },
            "type": "carpet"
           }
          ],
          "choropleth": [
           {
            "colorbar": {
             "outlinewidth": 0,
             "ticks": ""
            },
            "type": "choropleth"
           }
          ],
          "contour": [
           {
            "colorbar": {
             "outlinewidth": 0,
             "ticks": ""
            },
            "colorscale": [
             [
              0,
              "#0d0887"
             ],
             [
              0.1111111111111111,
              "#46039f"
             ],
             [
              0.2222222222222222,
              "#7201a8"
             ],
             [
              0.3333333333333333,
              "#9c179e"
             ],
             [
              0.4444444444444444,
              "#bd3786"
             ],
             [
              0.5555555555555556,
              "#d8576b"
             ],
             [
              0.6666666666666666,
              "#ed7953"
             ],
             [
              0.7777777777777778,
              "#fb9f3a"
             ],
             [
              0.8888888888888888,
              "#fdca26"
             ],
             [
              1,
              "#f0f921"
             ]
            ],
            "type": "contour"
           }
          ],
          "contourcarpet": [
           {
            "colorbar": {
             "outlinewidth": 0,
             "ticks": ""
            },
            "type": "contourcarpet"
           }
          ],
          "heatmap": [
           {
            "colorbar": {
             "outlinewidth": 0,
             "ticks": ""
            },
            "colorscale": [
             [
              0,
              "#0d0887"
             ],
             [
              0.1111111111111111,
              "#46039f"
             ],
             [
              0.2222222222222222,
              "#7201a8"
             ],
             [
              0.3333333333333333,
              "#9c179e"
             ],
             [
              0.4444444444444444,
              "#bd3786"
             ],
             [
              0.5555555555555556,
              "#d8576b"
             ],
             [
              0.6666666666666666,
              "#ed7953"
             ],
             [
              0.7777777777777778,
              "#fb9f3a"
             ],
             [
              0.8888888888888888,
              "#fdca26"
             ],
             [
              1,
              "#f0f921"
             ]
            ],
            "type": "heatmap"
           }
          ],
          "histogram": [
           {
            "marker": {
             "pattern": {
              "fillmode": "overlay",
              "size": 10,
              "solidity": 0.2
             }
            },
            "type": "histogram"
           }
          ],
          "histogram2d": [
           {
            "colorbar": {
             "outlinewidth": 0,
             "ticks": ""
            },
            "colorscale": [
             [
              0,
              "#0d0887"
             ],
             [
              0.1111111111111111,
              "#46039f"
             ],
             [
              0.2222222222222222,
              "#7201a8"
             ],
             [
              0.3333333333333333,
              "#9c179e"
             ],
             [
              0.4444444444444444,
              "#bd3786"
             ],
             [
              0.5555555555555556,
              "#d8576b"
             ],
             [
              0.6666666666666666,
              "#ed7953"
             ],
             [
              0.7777777777777778,
              "#fb9f3a"
             ],
             [
              0.8888888888888888,
              "#fdca26"
             ],
             [
              1,
              "#f0f921"
             ]
            ],
            "type": "histogram2d"
           }
          ],
          "histogram2dcontour": [
           {
            "colorbar": {
             "outlinewidth": 0,
             "ticks": ""
            },
            "colorscale": [
             [
              0,
              "#0d0887"
             ],
             [
              0.1111111111111111,
              "#46039f"
             ],
             [
              0.2222222222222222,
              "#7201a8"
             ],
             [
              0.3333333333333333,
              "#9c179e"
             ],
             [
              0.4444444444444444,
              "#bd3786"
             ],
             [
              0.5555555555555556,
              "#d8576b"
             ],
             [
              0.6666666666666666,
              "#ed7953"
             ],
             [
              0.7777777777777778,
              "#fb9f3a"
             ],
             [
              0.8888888888888888,
              "#fdca26"
             ],
             [
              1,
              "#f0f921"
             ]
            ],
            "type": "histogram2dcontour"
           }
          ],
          "mesh3d": [
           {
            "colorbar": {
             "outlinewidth": 0,
             "ticks": ""
            },
            "type": "mesh3d"
           }
          ],
          "parcoords": [
           {
            "line": {
             "colorbar": {
              "outlinewidth": 0,
              "ticks": ""
             }
            },
            "type": "parcoords"
           }
          ],
          "pie": [
           {
            "automargin": true,
            "type": "pie"
           }
          ],
          "scatter": [
           {
            "fillpattern": {
             "fillmode": "overlay",
             "size": 10,
             "solidity": 0.2
            },
            "type": "scatter"
           }
          ],
          "scatter3d": [
           {
            "line": {
             "colorbar": {
              "outlinewidth": 0,
              "ticks": ""
             }
            },
            "marker": {
             "colorbar": {
              "outlinewidth": 0,
              "ticks": ""
             }
            },
            "type": "scatter3d"
           }
          ],
          "scattercarpet": [
           {
            "marker": {
             "colorbar": {
              "outlinewidth": 0,
              "ticks": ""
             }
            },
            "type": "scattercarpet"
           }
          ],
          "scattergeo": [
           {
            "marker": {
             "colorbar": {
              "outlinewidth": 0,
              "ticks": ""
             }
            },
            "type": "scattergeo"
           }
          ],
          "scattergl": [
           {
            "marker": {
             "colorbar": {
              "outlinewidth": 0,
              "ticks": ""
             }
            },
            "type": "scattergl"
           }
          ],
          "scattermap": [
           {
            "marker": {
             "colorbar": {
              "outlinewidth": 0,
              "ticks": ""
             }
            },
            "type": "scattermap"
           }
          ],
          "scattermapbox": [
           {
            "marker": {
             "colorbar": {
              "outlinewidth": 0,
              "ticks": ""
             }
            },
            "type": "scattermapbox"
           }
          ],
          "scatterpolar": [
           {
            "marker": {
             "colorbar": {
              "outlinewidth": 0,
              "ticks": ""
             }
            },
            "type": "scatterpolar"
           }
          ],
          "scatterpolargl": [
           {
            "marker": {
             "colorbar": {
              "outlinewidth": 0,
              "ticks": ""
             }
            },
            "type": "scatterpolargl"
           }
          ],
          "scatterternary": [
           {
            "marker": {
             "colorbar": {
              "outlinewidth": 0,
              "ticks": ""
             }
            },
            "type": "scatterternary"
           }
          ],
          "surface": [
           {
            "colorbar": {
             "outlinewidth": 0,
             "ticks": ""
            },
            "colorscale": [
             [
              0,
              "#0d0887"
             ],
             [
              0.1111111111111111,
              "#46039f"
             ],
             [
              0.2222222222222222,
              "#7201a8"
             ],
             [
              0.3333333333333333,
              "#9c179e"
             ],
             [
              0.4444444444444444,
              "#bd3786"
             ],
             [
              0.5555555555555556,
              "#d8576b"
             ],
             [
              0.6666666666666666,
              "#ed7953"
             ],
             [
              0.7777777777777778,
              "#fb9f3a"
             ],
             [
              0.8888888888888888,
              "#fdca26"
             ],
             [
              1,
              "#f0f921"
             ]
            ],
            "type": "surface"
           }
          ],
          "table": [
           {
            "cells": {
             "fill": {
              "color": "#EBF0F8"
             },
             "line": {
              "color": "white"
             }
            },
            "header": {
             "fill": {
              "color": "#C8D4E3"
             },
             "line": {
              "color": "white"
             }
            },
            "type": "table"
           }
          ]
         },
         "layout": {
          "annotationdefaults": {
           "arrowcolor": "#2a3f5f",
           "arrowhead": 0,
           "arrowwidth": 1
          },
          "autotypenumbers": "strict",
          "coloraxis": {
           "colorbar": {
            "outlinewidth": 0,
            "ticks": ""
           }
          },
          "colorscale": {
           "diverging": [
            [
             0,
             "#8e0152"
            ],
            [
             0.1,
             "#c51b7d"
            ],
            [
             0.2,
             "#de77ae"
            ],
            [
             0.3,
             "#f1b6da"
            ],
            [
             0.4,
             "#fde0ef"
            ],
            [
             0.5,
             "#f7f7f7"
            ],
            [
             0.6,
             "#e6f5d0"
            ],
            [
             0.7,
             "#b8e186"
            ],
            [
             0.8,
             "#7fbc41"
            ],
            [
             0.9,
             "#4d9221"
            ],
            [
             1,
             "#276419"
            ]
           ],
           "sequential": [
            [
             0,
             "#0d0887"
            ],
            [
             0.1111111111111111,
             "#46039f"
            ],
            [
             0.2222222222222222,
             "#7201a8"
            ],
            [
             0.3333333333333333,
             "#9c179e"
            ],
            [
             0.4444444444444444,
             "#bd3786"
            ],
            [
             0.5555555555555556,
             "#d8576b"
            ],
            [
             0.6666666666666666,
             "#ed7953"
            ],
            [
             0.7777777777777778,
             "#fb9f3a"
            ],
            [
             0.8888888888888888,
             "#fdca26"
            ],
            [
             1,
             "#f0f921"
            ]
           ],
           "sequentialminus": [
            [
             0,
             "#0d0887"
            ],
            [
             0.1111111111111111,
             "#46039f"
            ],
            [
             0.2222222222222222,
             "#7201a8"
            ],
            [
             0.3333333333333333,
             "#9c179e"
            ],
            [
             0.4444444444444444,
             "#bd3786"
            ],
            [
             0.5555555555555556,
             "#d8576b"
            ],
            [
             0.6666666666666666,
             "#ed7953"
            ],
            [
             0.7777777777777778,
             "#fb9f3a"
            ],
            [
             0.8888888888888888,
             "#fdca26"
            ],
            [
             1,
             "#f0f921"
            ]
           ]
          },
          "colorway": [
           "#636efa",
           "#EF553B",
           "#00cc96",
           "#ab63fa",
           "#FFA15A",
           "#19d3f3",
           "#FF6692",
           "#B6E880",
           "#FF97FF",
           "#FECB52"
          ],
          "font": {
           "color": "#2a3f5f"
          },
          "geo": {
           "bgcolor": "white",
           "lakecolor": "white",
           "landcolor": "#E5ECF6",
           "showlakes": true,
           "showland": true,
           "subunitcolor": "white"
          },
          "hoverlabel": {
           "align": "left"
          },
          "hovermode": "closest",
          "mapbox": {
           "style": "light"
          },
          "paper_bgcolor": "white",
          "plot_bgcolor": "#E5ECF6",
          "polar": {
           "angularaxis": {
            "gridcolor": "white",
            "linecolor": "white",
            "ticks": ""
           },
           "bgcolor": "#E5ECF6",
           "radialaxis": {
            "gridcolor": "white",
            "linecolor": "white",
            "ticks": ""
           }
          },
          "scene": {
           "xaxis": {
            "backgroundcolor": "#E5ECF6",
            "gridcolor": "white",
            "gridwidth": 2,
            "linecolor": "white",
            "showbackground": true,
            "ticks": "",
            "zerolinecolor": "white"
           },
           "yaxis": {
            "backgroundcolor": "#E5ECF6",
            "gridcolor": "white",
            "gridwidth": 2,
            "linecolor": "white",
            "showbackground": true,
            "ticks": "",
            "zerolinecolor": "white"
           },
           "zaxis": {
            "backgroundcolor": "#E5ECF6",
            "gridcolor": "white",
            "gridwidth": 2,
            "linecolor": "white",
            "showbackground": true,
            "ticks": "",
            "zerolinecolor": "white"
           }
          },
          "shapedefaults": {
           "line": {
            "color": "#2a3f5f"
           }
          },
          "ternary": {
           "aaxis": {
            "gridcolor": "white",
            "linecolor": "white",
            "ticks": ""
           },
           "baxis": {
            "gridcolor": "white",
            "linecolor": "white",
            "ticks": ""
           },
           "bgcolor": "#E5ECF6",
           "caxis": {
            "gridcolor": "white",
            "linecolor": "white",
            "ticks": ""
           }
          },
          "title": {
           "x": 0.05
          },
          "xaxis": {
           "automargin": true,
           "gridcolor": "white",
           "linecolor": "white",
           "ticks": "",
           "title": {
            "standoff": 15
           },
           "zerolinecolor": "white",
           "zerolinewidth": 2
          },
          "yaxis": {
           "automargin": true,
           "gridcolor": "white",
           "linecolor": "white",
           "ticks": "",
           "title": {
            "standoff": 15
           },
           "zerolinecolor": "white",
           "zerolinewidth": 2
          }
         }
        },
        "title": {
         "text": "ROC Curve - Decision Tree & Random Forest (Stratified & Non-Stratified)"
        },
        "xaxis": {
         "title": {
          "text": "False Positive Rate"
         }
        },
        "yaxis": {
         "title": {
          "text": "True Positive Rate"
         }
        }
       }
      }
     },
     "metadata": {},
     "output_type": "display_data"
    }
   ],
   "source": [
    "# 1. Predict probabilities untuk ROC Curve\n",
    "y_probs_dtree = dtree.predict_proba(X_test)[:, 1]  \n",
    "y_probs_rf = rf.predict_proba(X_test)[:, 1]  \n",
    "\n",
    "y_probs_dtree_st = dtree_st.predict_proba(X_test_st)[:, 1]  \n",
    "y_probs_rf_st = rf_st.predict_proba(X_test_st)[:, 1]  \n",
    "\n",
    "# 2. Hitung AUC untuk semua model\n",
    "auc_dtree = roc_auc_score(y_test, y_probs_dtree)\n",
    "auc_rf = roc_auc_score(y_test, y_probs_rf)\n",
    "auc_dtree_st = roc_auc_score(y_test_st, y_probs_dtree_st)\n",
    "auc_rf_st = roc_auc_score(y_test_st, y_probs_rf_st)\n",
    "\n",
    "# 3. Hitung ROC Curve (FPR & TPR)\n",
    "fpr_dtree, tpr_dtree, _ = roc_curve(y_test, y_probs_dtree)\n",
    "fpr_rf, tpr_rf, _ = roc_curve(y_test, y_probs_rf)\n",
    "fpr_dtree_st, tpr_dtree_st, _ = roc_curve(y_test_st, y_probs_dtree_st)\n",
    "fpr_rf_st, tpr_rf_st, _ = roc_curve(y_test_st, y_probs_rf_st)\n",
    "\n",
    "# 4. Membuat ROC Curve dengan Plotly\n",
    "fig = go.Figure()\n",
    "\n",
    "fig.add_trace(go.Scatter(\n",
    "    x=fpr_dtree, y=tpr_dtree, mode='lines',\n",
    "    name=f'Decision Tree (AUC = {auc_dtree:.4f})',\n",
    "    line=dict(color='#1f77b4', dash='dash')  # Biru Soft\n",
    "))\n",
    "\n",
    "fig.add_trace(go.Scatter(\n",
    "    x=fpr_rf, y=tpr_rf, mode='lines',\n",
    "    name=f'Random Forest (AUC = {auc_rf:.4f})',\n",
    "    line=dict(color='red', dash='dot')  # Oranye Soft\n",
    "))\n",
    "\n",
    "fig.add_trace(go.Scatter(\n",
    "    x=fpr_dtree_st, y=tpr_dtree_st, mode='lines',\n",
    "    name=f'Decision Tree (ST) (AUC = {auc_dtree_st:.4f})',\n",
    "    line=dict(color='#2ca02c', dash='solid')  # Hijau Soft\n",
    "))\n",
    "\n",
    "fig.add_trace(go.Scatter(\n",
    "    x=fpr_rf_st, y=tpr_rf_st, mode='lines',\n",
    "    name=f'Random Forest (ST) (AUC = {auc_rf_st:.4f})',\n",
    "    line=dict(color='blue', dash='longdash')  # Merah Soft\n",
    "))\n",
    "\n",
    "# Garis referensi (Random Guess)\n",
    "fig.add_trace(go.Scatter(\n",
    "    x=[0, 1], y=[0, 1], mode='lines',\n",
    "    name='Random', line=dict(color='#7f7f7f', dash='dashdot')  # Abu-abu Netral\n",
    "))\n",
    "\n",
    "fig.update_layout(\n",
    "    title=\"ROC Curve - Decision Tree & Random Forest (Stratified & Non-Stratified)\",\n",
    "    xaxis_title=\"False Positive Rate\",\n",
    "    yaxis_title=\"True Positive Rate\",\n",
    "    showlegend=True,\n",
    "    font=dict(size=14),  # Ukuran teks lebih nyaman\n",
    "    legend=dict(\n",
    "        bgcolor=\"rgba(255, 255, 255, 0.8)\",  # Latar belakang legend (semi-transparan)\n",
    "        bordercolor=\"black\",  # Warna border hitam\n",
    "        borderwidth=1  # Ketebalan border\n",
    "    ),\n",
    ")\n",
    "\n",
    "# Menampilkan plot\n",
    "fig.show()"
   ]
  },
  {
   "cell_type": "code",
   "execution_count": 19,
   "metadata": {
    "colab": {
     "base_uri": "https://localhost:8080/"
    },
    "id": "V8BDxrmkqBVU",
    "outputId": "a4dd94f6-bd8c-4228-d4d5-598b19cbabe5"
   },
   "outputs": [
    {
     "name": "stdout",
     "output_type": "stream",
     "text": [
      "=== System Information ===\n",
      "CPU Model        : 13th Gen Intel(R) Core(TM) i7-13700H\n",
      "CPU Architecture : x86_64\n",
      "CPU Cores        : 14 (Physical), 20 (Logical)\n",
      "CPU Max Frequency: 4400.0 MHz\n",
      "Total RAM        : 15.34 GB\n",
      "Total Disk       : 20.74 GB\n",
      "GPU Model        : None (N/A)\n",
      "\n",
      "=== CPU Cache Information ===\n",
      "L1 Instruction Cache: 704 KiB (14 instances)\n",
      "L1 Data Cache      : 544 KiB (14 instances)\n",
      "L2 Cache           : 11.5 MiB (8 instances)\n",
      "L3 Cache           : 24 MiB (1 instance)\n",
      "\n",
      "No GPU detected.\n"
     ]
    }
   ],
   "source": [
    "# Informasi CPU\n",
    "cpu_model = subprocess.run([\"cat\", \"/proc/cpuinfo\"], capture_output=True, text=True).stdout\n",
    "cpu_name = [line for line in cpu_model.split(\"\\n\") if \"model name\" in line]\n",
    "cpu_name = cpu_name[0].split(\":\")[1].strip() if cpu_name else \"Unknown\"\n",
    "\n",
    "cpu_architecture = platform.machine()\n",
    "cpu_cores = psutil.cpu_count(logical=False)\n",
    "cpu_threads = psutil.cpu_count(logical=True)\n",
    "cpu_freq = psutil.cpu_freq().max if psutil.cpu_freq() else \"Unknown\"\n",
    "\n",
    "# Informasi Cache CPU\n",
    "cache_info = subprocess.run([\"lscpu\"], capture_output=True, text=True).stdout\n",
    "l1_instruction_cache, l1_data_cache, l2_cache, l3_cache = \"Unknown\", \"Unknown\", \"Unknown\", \"Unknown\"\n",
    "\n",
    "for line in cache_info.split(\"\\n\"):\n",
    "    if \"L1d cache\" in line:\n",
    "        l1_data_cache = line.split(\":\")[1].strip()\n",
    "    elif \"L1i cache\" in line:\n",
    "        l1_instruction_cache = line.split(\":\")[1].strip()\n",
    "    elif \"L2 cache\" in line:\n",
    "        l2_cache = line.split(\":\")[1].strip()\n",
    "    elif \"L3 cache\" in line:\n",
    "        l3_cache = line.split(\":\")[1].strip()\n",
    "\n",
    "# Informasi RAM\n",
    "ram = psutil.virtual_memory()\n",
    "total_ram = round(ram.total / (1024**3), 2)  # Konversi ke GB\n",
    "\n",
    "# Informasi Disk\n",
    "disk = psutil.disk_usage('/')\n",
    "total_disk = round(disk.total / (1024**3), 2)\n",
    "\n",
    "# Informasi GPU (jika tersedia)\n",
    "gpu_name = \"None\"\n",
    "gpu_memory = \"N/A\"\n",
    "gpu_info = \"No GPU detected.\"\n",
    "\n",
    "if torch.cuda.is_available():\n",
    "    gpu_name = torch.cuda.get_device_name(0)\n",
    "    total_memory = torch.cuda.get_device_properties(0).total_memory\n",
    "    gpu_memory = f\"{round(total_memory / (1024**3), 2)} GB\"\n",
    "\n",
    "    # Gunakan nvidia-smi untuk detail tambahan\n",
    "    nvidia_info = subprocess.run([\"nvidia-smi\", \"--query-gpu=name,memory.total\", \"--format=csv\"], \n",
    "                                 capture_output=True, text=True).stdout\n",
    "    gpu_info = nvidia_info if nvidia_info else gpu_name\n",
    "\n",
    "# Output\n",
    "print(\"=== System Information ===\")\n",
    "print(f\"CPU Model        : {cpu_name}\")\n",
    "print(f\"CPU Architecture : {cpu_architecture}\")\n",
    "print(f\"CPU Cores        : {cpu_cores} (Physical), {cpu_threads} (Logical)\")\n",
    "print(f\"CPU Max Frequency: {cpu_freq} MHz\")\n",
    "print(f\"Total RAM        : {total_ram} GB\")\n",
    "print(f\"Total Disk       : {total_disk} GB\")\n",
    "print(f\"GPU Model        : {gpu_name} ({gpu_memory})\")\n",
    "\n",
    "print(\"\\n=== CPU Cache Information ===\")\n",
    "print(f\"L1 Instruction Cache: {l1_instruction_cache}\")\n",
    "print(f\"L1 Data Cache      : {l1_data_cache}\")\n",
    "print(f\"L2 Cache           : {l2_cache}\")\n",
    "print(f\"L3 Cache           : {l3_cache}\")\n",
    "\n",
    "if torch.cuda.is_available():\n",
    "    print(\"\\n=== GPU Details ===\")\n",
    "    print(gpu_info)\n",
    "else:\n",
    "    print(\"\\nNo GPU detected.\")"
   ]
  },
  {
   "cell_type": "code",
   "execution_count": 20,
   "metadata": {
    "colab": {
     "base_uri": "https://localhost:8080/"
    },
    "id": "eOPxCGn4_2Sa",
    "outputId": "1546979a-c4fd-4e11-9e31-6e581e830520"
   },
   "outputs": [
    {
     "name": "stdout",
     "output_type": "stream",
     "text": [
      "Execution Time (Min): 0.0020 seconds\n",
      "Execution Time (Max): 0.0130 seconds\n"
     ]
    }
   ],
   "source": [
    "# mengukur waktu eksekusi DT\n",
    "execution_times_dt = [timeit.timeit('dtree.fit(X_train, y_train)', globals=globals(), number=1) for _ in range(100)]\n",
    "\n",
    "# Ambil nilai terkecil dan terbesar\n",
    "min_time_dt = min(execution_times_dt)\n",
    "max_time_dt = max(execution_times_dt)\n",
    "\n",
    "# Tampilkan hasil\n",
    "print(f\"Execution Time (Min): {min_time_dt:.4f} seconds\")\n",
    "print(f\"Execution Time (Max): {max_time_dt:.4f} seconds\")"
   ]
  },
  {
   "cell_type": "code",
   "execution_count": 21,
   "metadata": {},
   "outputs": [
    {
     "name": "stdout",
     "output_type": "stream",
     "text": [
      "Execution Time (Min): 0.0019 seconds\n",
      "Execution Time (Max): 0.0054 seconds\n"
     ]
    }
   ],
   "source": [
    "# mengukur waktu eksekusi DT Stratified\n",
    "execution_times_dt_st = [timeit.timeit('dtree_st.fit(X_train_st, y_train_st)', globals=globals(), number=1) for _ in range(100)]\n",
    "\n",
    "# Ambil nilai terkecil dan terbesar\n",
    "min_time_dt_st = min(execution_times_dt_st)\n",
    "max_time_dt_st = max(execution_times_dt_st)\n",
    "\n",
    "# Tampilkan hasil\n",
    "print(f\"Execution Time (Min): {min_time_dt_st:.4f} seconds\")\n",
    "print(f\"Execution Time (Max): {max_time_dt_st:.4f} seconds\")"
   ]
  },
  {
   "cell_type": "code",
   "execution_count": 22,
   "metadata": {
    "colab": {
     "base_uri": "https://localhost:8080/"
    },
    "id": "TluvgtsiAJPs",
    "outputId": "8ccf169b-4a37-40f0-f7b0-d3360519ae00"
   },
   "outputs": [
    {
     "name": "stdout",
     "output_type": "stream",
     "text": [
      "Execution Time (Min): 0.1126 seconds\n",
      "Execution Time (Max): 0.1850 seconds\n"
     ]
    }
   ],
   "source": [
    "# mengukur waktu eksekusi RF\n",
    "execution_times_rf = [timeit.timeit('rf.fit(X_train, y_train)', globals=globals(), number=1) for _ in range(100)]\n",
    "\n",
    "# Ambil nilai terkecil dan terbesar\n",
    "min_time_rf = min(execution_times_rf)\n",
    "max_time_rf = max(execution_times_rf)\n",
    "\n",
    "# Tampilkan hasil\n",
    "print(f\"Execution Time (Min): {min_time_rf:.4f} seconds\")\n",
    "print(f\"Execution Time (Max): {max_time_rf:.4f} seconds\")"
   ]
  },
  {
   "cell_type": "code",
   "execution_count": 23,
   "metadata": {},
   "outputs": [
    {
     "name": "stdout",
     "output_type": "stream",
     "text": [
      "Execution Time (Min): 0.1110 seconds\n",
      "Execution Time (Max): 0.1565 seconds\n"
     ]
    }
   ],
   "source": [
    "# mengukur waktu eksekusi RF Stratified\n",
    "execution_times_rf_st = [timeit.timeit('rf_st.fit(X_train_st, y_train_st)', globals=globals(), number=1) for _ in range(100)]\n",
    "\n",
    "# Ambil nilai terkecil dan terbesar\n",
    "min_time_rf_st = min(execution_times_rf_st)\n",
    "max_time_rf_st = max(execution_times_rf_st)\n",
    "\n",
    "# Tampilkan hasil\n",
    "print(f\"Execution Time (Min): {min_time_rf_st:.4f} seconds\")\n",
    "print(f\"Execution Time (Max): {max_time_rf_st:.4f} seconds\")"
   ]
  },
  {
   "cell_type": "code",
   "execution_count": 24,
   "metadata": {},
   "outputs": [],
   "source": [
    "# Fungsi untuk mendapatkan penggunaan RAM awal dan akhir dari tracemalloc\n",
    "def process_memory():\n",
    "    snapshot, _ = tracemalloc.get_traced_memory()\n",
    "    return snapshot / (1024 * 1024)  # Konversi ke MB"
   ]
  },
  {
   "cell_type": "code",
   "execution_count": 25,
   "metadata": {},
   "outputs": [],
   "source": [
    "def measure_memory(model, x_train, y_train):\n",
    "    tracemalloc.start()\n",
    "    initial_memory = process_memory()  # Ambil memori awal\n",
    "    model.fit(x_train, y_train)  # Latih model\n",
    "    final_memory = process_memory()  # Ambil memori akhir\n",
    "    tracemalloc.stop()\n",
    "    return final_memory - initial_memory  # Selisih pemakaian memori"
   ]
  },
  {
   "cell_type": "code",
   "execution_count": 26,
   "metadata": {
    "colab": {
     "base_uri": "https://localhost:8080/"
    },
    "id": "dI6Kd3SSCbBe",
    "outputId": "7c2bf39c-0e5f-435c-c688-f296a162188c"
   },
   "outputs": [
    {
     "name": "stdout",
     "output_type": "stream",
     "text": [
      "Memory Usage (Min): 0.0010 MB\n",
      "Memory Usage (Max): 0.0029 MB\n"
     ]
    }
   ],
   "source": [
    "# Memory usage DT\n",
    "memory_usages_dt = [measure_memory(dtree, X_train, y_train) for _ in range(100)]\n",
    "\n",
    "# Ambil nilai terkecil dan terbesar\n",
    "min_memory_dt, max_memory_dt = min(memory_usages_dt), max(memory_usages_dt)\n",
    "\n",
    "# Tampilkan hasil\n",
    "print(f\"Memory Usage (Min): {min_memory_dt:.4f} MB\")\n",
    "print(f\"Memory Usage (Max): {max_memory_dt:.4f} MB\")"
   ]
  },
  {
   "cell_type": "code",
   "execution_count": 27,
   "metadata": {},
   "outputs": [
    {
     "name": "stdout",
     "output_type": "stream",
     "text": [
      "Memory Usage (Min): 0.0010 MB\n",
      "Memory Usage (Max): 0.0072 MB\n"
     ]
    }
   ],
   "source": [
    "# Memory usage DT Stratified\n",
    "memory_usages_dt_st = [measure_memory(dtree_st, X_train_st, y_train_st) for _ in range(100)]\n",
    "\n",
    "# Ambil nilai terkecil dan terbesar\n",
    "min_memory_dt_st, max_memory_dt_st = min(memory_usages_dt_st), max(memory_usages_dt_st)\n",
    "\n",
    "# Tampilkan hasil\n",
    "print(f\"Memory Usage (Min): {min_memory_dt_st:.4f} MB\")\n",
    "print(f\"Memory Usage (Max): {max_memory_dt_st:.4f} MB\")"
   ]
  },
  {
   "cell_type": "code",
   "execution_count": 28,
   "metadata": {
    "colab": {
     "base_uri": "https://localhost:8080/"
    },
    "id": "gb66udTtTIxb",
    "outputId": "35bebc1c-e78e-4f46-ec95-a3bb52891039"
   },
   "outputs": [
    {
     "name": "stdout",
     "output_type": "stream",
     "text": [
      "Memory Usage (Min): 0.0665 MB\n",
      "Memory Usage (Max): 0.0707 MB\n"
     ]
    }
   ],
   "source": [
    "# Memory usage RF\n",
    "memory_usages_rf = [measure_memory(rf, X_train, y_train) for _ in range(100)]\n",
    "\n",
    "# Ambil nilai terkecil dan terbesar\n",
    "min_memory_rf, max_memory_rf = min(memory_usages_rf), max(memory_usages_rf)\n",
    "\n",
    "# Tampilkan hasil\n",
    "print(f\"Memory Usage (Min): {min_memory_rf:.4f} MB\")\n",
    "print(f\"Memory Usage (Max): {max_memory_rf:.4f} MB\")"
   ]
  },
  {
   "cell_type": "code",
   "execution_count": 29,
   "metadata": {},
   "outputs": [
    {
     "name": "stdout",
     "output_type": "stream",
     "text": [
      "Memory Usage (Min): 0.0653 MB\n",
      "Memory Usage (Max): 0.0701 MB\n"
     ]
    }
   ],
   "source": [
    "# Memory usage RF Stratified\n",
    "memory_usages_rf_st = [measure_memory(rf_st, X_train_st, y_train_st) for _ in range(100)]\n",
    "\n",
    "# Ambil nilai terkecil dan terbesar\n",
    "min_memory_rf_st, max_memory_rf_st = min(memory_usages_rf_st), max(memory_usages_rf_st)\n",
    "\n",
    "# Tampilkan hasil\n",
    "print(f\"Memory Usage (Min): {min_memory_rf_st:.4f} MB\")\n",
    "print(f\"Memory Usage (Max): {max_memory_rf_st:.4f} MB\")"
   ]
  },
  {
   "cell_type": "code",
   "execution_count": 30,
   "metadata": {},
   "outputs": [],
   "source": [
    "def measure_cpu_energy_usage(label, model, X_train, y_train):\n",
    "    pyRAPL.setup()\n",
    "    \n",
    "    cpu_energies = []\n",
    "\n",
    "    for _ in range(100):\n",
    "        meter = pyRAPL.Measurement(label)\n",
    "        \n",
    "        with meter:\n",
    "            model.fit(X_train, y_train)  # Latih model\n",
    "            \n",
    "        # Ambil hasil pengukuran\n",
    "        result = meter.result\n",
    "\n",
    "        # Konversi CPU Energy dari µJ ke J\n",
    "        cpu_energy_joule = result.pkg[0] * 1e-6  # Paket energi CPU\n",
    "\n",
    "        # Simpan nilai untuk mencari min & max\n",
    "        cpu_energies.append(cpu_energy_joule)\n",
    "\n",
    "    return min(cpu_energies), max(cpu_energies)"
   ]
  },
  {
   "cell_type": "code",
   "execution_count": 31,
   "metadata": {
    "id": "oxOPw8UHndlU"
   },
   "outputs": [
    {
     "name": "stdout",
     "output_type": "stream",
     "text": [
      "Label : dtree\n",
      "Begin : Tue Feb 18 20:34:49 2025\n",
      "Duration :  2564.1240 us\n",
      "-------------------------------\n",
      "PKG :\n",
      "\tsocket 0 :  41138.0000 uJ\n",
      "Label : dtree\n",
      "Begin : Tue Feb 18 20:34:49 2025\n",
      "Duration :  2274.2190 us\n",
      "-------------------------------\n",
      "PKG :\n",
      "\tsocket 0 :  47424.0000 uJ\n",
      "Label : dtree\n",
      "Begin : Tue Feb 18 20:34:49 2025\n",
      "Duration :  2115.7290 us\n",
      "-------------------------------\n",
      "PKG :\n",
      "\tsocket 0 :  25146.0000 uJ\n",
      "Label : dtree\n",
      "Begin : Tue Feb 18 20:34:49 2025\n",
      "Duration :  2093.2780 us\n",
      "-------------------------------\n",
      "PKG :\n",
      "\tsocket 0 :  32166.0000 uJ\n",
      "Label : dtree\n",
      "Begin : Tue Feb 18 20:34:49 2025\n",
      "Duration :  1999.9770 us\n",
      "-------------------------------\n",
      "PKG :\n",
      "\tsocket 0 :  34546.0000 uJ\n",
      "Label : dtree\n",
      "Begin : Tue Feb 18 20:34:49 2025\n",
      "Duration :  2103.3970 us\n",
      "-------------------------------\n",
      "PKG :\n",
      "\tsocket 0 :  19714.0000 uJ\n",
      "Label : dtree\n",
      "Begin : Tue Feb 18 20:34:49 2025\n",
      "Duration :  2093.2840 us\n",
      "-------------------------------\n",
      "PKG :\n",
      "\tsocket 0 :  20508.0000 uJ\n",
      "Label : dtree\n",
      "Begin : Tue Feb 18 20:34:49 2025\n",
      "Duration :  2035.9680 us\n",
      "-------------------------------\n",
      "PKG :\n",
      "\tsocket 0 :  45654.0000 uJ\n",
      "Label : dtree\n",
      "Begin : Tue Feb 18 20:34:49 2025\n",
      "Duration :  2074.6560 us\n",
      "-------------------------------\n",
      "PKG :\n",
      "\tsocket 0 :  36621.0000 uJ\n",
      "Label : dtree\n",
      "Begin : Tue Feb 18 20:34:49 2025\n",
      "Duration :  2028.9820 us\n",
      "-------------------------------\n",
      "PKG :\n",
      "\tsocket 0 :  26306.0000 uJ\n",
      "Label : dtree\n",
      "Begin : Tue Feb 18 20:34:49 2025\n",
      "Duration :  2056.5970 us\n",
      "-------------------------------\n",
      "PKG :\n",
      "\tsocket 0 :  33203.0000 uJ\n",
      "Label : dtree\n",
      "Begin : Tue Feb 18 20:34:49 2025\n",
      "Duration :  2090.9650 us\n",
      "-------------------------------\n",
      "PKG :\n",
      "\tsocket 0 :  24353.0000 uJ\n",
      "Label : dtree\n",
      "Begin : Tue Feb 18 20:34:49 2025\n",
      "Duration :  2043.1800 us\n",
      "-------------------------------\n",
      "PKG :\n",
      "\tsocket 0 :  11230.0000 uJ\n",
      "Label : dtree\n",
      "Begin : Tue Feb 18 20:34:49 2025\n",
      "Duration :  2100.5260 us\n",
      "-------------------------------\n",
      "PKG :\n",
      "\tsocket 0 :  53833.0000 uJ\n",
      "Label : dtree\n",
      "Begin : Tue Feb 18 20:34:49 2025\n",
      "Duration :  2091.5990 us\n",
      "-------------------------------\n",
      "PKG :\n",
      "\tsocket 0 :  27466.0000 uJ\n",
      "Label : dtree\n",
      "Begin : Tue Feb 18 20:34:49 2025\n",
      "Duration :  2488.5540 us\n",
      "-------------------------------\n",
      "PKG :\n",
      "\tsocket 0 :  56518.0000 uJ\n",
      "Label : dtree\n",
      "Begin : Tue Feb 18 20:34:49 2025\n",
      "Duration :  2610.3620 us\n",
      "-------------------------------\n",
      "PKG :\n",
      "\tsocket 0 :  29053.0000 uJ\n",
      "Label : dtree\n",
      "Begin : Tue Feb 18 20:34:49 2025\n",
      "Duration :  2542.5980 us\n",
      "-------------------------------\n",
      "PKG :\n",
      "\tsocket 0 :  58715.0000 uJ\n",
      "Label : dtree\n",
      "Begin : Tue Feb 18 20:34:49 2025\n",
      "Duration :  2155.3120 us\n",
      "-------------------------------\n",
      "PKG :\n",
      "\tsocket 0 :  45472.0000 uJ\n",
      "Label : dtree\n",
      "Begin : Tue Feb 18 20:34:49 2025\n",
      "Duration :  2177.8530 us\n",
      "-------------------------------\n",
      "PKG :\n",
      "\tsocket 0 :  44250.0000 uJ\n",
      "Label : dtree\n",
      "Begin : Tue Feb 18 20:34:49 2025\n",
      "Duration :  2027.8940 us\n",
      "-------------------------------\n",
      "PKG :\n",
      "\tsocket 0 :  39673.0000 uJ\n",
      "Label : dtree\n",
      "Begin : Tue Feb 18 20:34:49 2025\n",
      "Duration :  1975.4200 us\n",
      "-------------------------------\n",
      "PKG :\n",
      "\tsocket 0 :  28259.0000 uJ\n",
      "Label : dtree\n",
      "Begin : Tue Feb 18 20:34:49 2025\n",
      "Duration :  1996.0610 us\n",
      "-------------------------------\n",
      "PKG :\n",
      "\tsocket 0 :  19409.0000 uJ\n",
      "Label : dtree\n",
      "Begin : Tue Feb 18 20:34:49 2025\n",
      "Duration :  2037.9540 us\n",
      "-------------------------------\n",
      "PKG :\n",
      "\tsocket 0 :  44250.0000 uJ\n",
      "Label : dtree\n",
      "Begin : Tue Feb 18 20:34:49 2025\n",
      "Duration :  2114.5320 us\n",
      "-------------------------------\n",
      "PKG :\n",
      "\tsocket 0 :  27344.0000 uJ\n",
      "Label : dtree\n",
      "Begin : Tue Feb 18 20:34:49 2025\n",
      "Duration :  2138.2860 us\n",
      "-------------------------------\n",
      "PKG :\n",
      "\tsocket 0 :  21973.0000 uJ\n",
      "Label : dtree\n",
      "Begin : Tue Feb 18 20:34:49 2025\n",
      "Duration :  2023.7700 us\n",
      "-------------------------------\n",
      "PKG :\n",
      "\tsocket 0 :  29541.0000 uJ\n",
      "Label : dtree\n",
      "Begin : Tue Feb 18 20:34:49 2025\n",
      "Duration :  1995.1600 us\n",
      "-------------------------------\n",
      "PKG :\n",
      "\tsocket 0 :  25390.0000 uJ\n",
      "Label : dtree\n",
      "Begin : Tue Feb 18 20:34:49 2025\n",
      "Duration :  2018.3640 us\n",
      "-------------------------------\n",
      "PKG :\n",
      "\tsocket 0 :  35034.0000 uJ\n",
      "Label : dtree\n",
      "Begin : Tue Feb 18 20:34:49 2025\n",
      "Duration :  2185.7070 us\n",
      "-------------------------------\n",
      "PKG :\n",
      "\tsocket 0 :  18494.0000 uJ\n",
      "Label : dtree\n",
      "Begin : Tue Feb 18 20:34:49 2025\n",
      "Duration :  2235.8530 us\n",
      "-------------------------------\n",
      "PKG :\n",
      "\tsocket 0 :  10437.0000 uJ\n",
      "Label : dtree\n",
      "Begin : Tue Feb 18 20:34:49 2025\n",
      "Duration :  2229.8890 us\n",
      "-------------------------------\n",
      "PKG :\n",
      "\tsocket 0 :  40405.0000 uJ\n",
      "Label : dtree\n",
      "Begin : Tue Feb 18 20:34:49 2025\n",
      "Duration :  2038.2110 us\n",
      "-------------------------------\n",
      "PKG :\n",
      "\tsocket 0 :  48523.0000 uJ\n",
      "Label : dtree\n",
      "Begin : Tue Feb 18 20:34:49 2025\n",
      "Duration :  2041.7980 us\n",
      "-------------------------------\n",
      "PKG :\n",
      "\tsocket 0 :  23498.0000 uJ\n",
      "Label : dtree\n",
      "Begin : Tue Feb 18 20:34:49 2025\n",
      "Duration :  2209.1540 us\n",
      "-------------------------------\n",
      "PKG :\n",
      "\tsocket 0 :  26978.0000 uJ\n",
      "Label : dtree\n",
      "Begin : Tue Feb 18 20:34:49 2025\n",
      "Duration :  2141.3270 us\n",
      "-------------------------------\n",
      "PKG :\n",
      "\tsocket 0 :  38940.0000 uJ\n",
      "Label : dtree\n",
      "Begin : Tue Feb 18 20:34:49 2025\n",
      "Duration :  2154.9070 us\n",
      "-------------------------------\n",
      "PKG :\n",
      "\tsocket 0 :  13550.0000 uJ\n",
      "Label : dtree\n",
      "Begin : Tue Feb 18 20:34:49 2025\n",
      "Duration :  2170.0300 us\n",
      "-------------------------------\n",
      "PKG :\n",
      "\tsocket 0 :  23437.0000 uJ\n",
      "Label : dtree\n",
      "Begin : Tue Feb 18 20:34:49 2025\n",
      "Duration :  2231.1980 us\n",
      "-------------------------------\n",
      "PKG :\n",
      "\tsocket 0 :  59082.0000 uJ\n",
      "Label : dtree\n",
      "Begin : Tue Feb 18 20:34:49 2025\n",
      "Duration :  2104.2730 us\n",
      "-------------------------------\n",
      "PKG :\n",
      "\tsocket 0 :  28931.0000 uJ\n",
      "Label : dtree\n",
      "Begin : Tue Feb 18 20:34:49 2025\n",
      "Duration :  2277.9050 us\n",
      "-------------------------------\n",
      "PKG :\n",
      "\tsocket 0 :  34118.0000 uJ\n",
      "Label : dtree\n",
      "Begin : Tue Feb 18 20:34:49 2025\n",
      "Duration :  2042.4910 us\n",
      "-------------------------------\n",
      "PKG :\n",
      "\tsocket 0 :  29663.0000 uJ\n",
      "Label : dtree\n",
      "Begin : Tue Feb 18 20:34:49 2025\n",
      "Duration :  2004.1580 us\n",
      "-------------------------------\n",
      "PKG :\n",
      "\tsocket 0 :  23560.0000 uJ\n",
      "Label : dtree\n",
      "Begin : Tue Feb 18 20:34:49 2025\n",
      "Duration :  2210.3310 us\n",
      "-------------------------------\n",
      "PKG :\n",
      "\tsocket 0 :  17883.0000 uJ\n",
      "Label : dtree\n",
      "Begin : Tue Feb 18 20:34:49 2025\n",
      "Duration :  2145.7930 us\n",
      "-------------------------------\n",
      "PKG :\n",
      "\tsocket 0 :  17212.0000 uJ\n",
      "Label : dtree\n",
      "Begin : Tue Feb 18 20:34:49 2025\n",
      "Duration :  2117.3500 us\n",
      "-------------------------------\n",
      "PKG :\n",
      "\tsocket 0 :  60547.0000 uJ\n",
      "Label : dtree\n",
      "Begin : Tue Feb 18 20:34:49 2025\n",
      "Duration :  2129.4170 us\n",
      "-------------------------------\n",
      "PKG :\n",
      "\tsocket 0 :  38269.0000 uJ\n",
      "Label : dtree\n",
      "Begin : Tue Feb 18 20:34:49 2025\n",
      "Duration :  2259.3320 us\n",
      "-------------------------------\n",
      "PKG :\n",
      "\tsocket 0 :  26062.0000 uJ\n",
      "Label : dtree\n",
      "Begin : Tue Feb 18 20:34:49 2025\n",
      "Duration :  2041.3080 us\n",
      "-------------------------------\n",
      "PKG :\n",
      "\tsocket 0 :  22705.0000 uJ\n",
      "Label : dtree\n",
      "Begin : Tue Feb 18 20:34:49 2025\n",
      "Duration :  1982.7240 us\n",
      "-------------------------------\n",
      "PKG :\n",
      "\tsocket 0 :  25634.0000 uJ\n",
      "Label : dtree\n",
      "Begin : Tue Feb 18 20:34:49 2025\n",
      "Duration :  1957.2640 us\n",
      "-------------------------------\n",
      "PKG :\n",
      "\tsocket 0 :  16662.0000 uJ\n",
      "Label : dtree\n",
      "Begin : Tue Feb 18 20:34:49 2025\n",
      "Duration :  2088.5280 us\n",
      "-------------------------------\n",
      "PKG :\n",
      "\tsocket 0 :  31555.0000 uJ\n",
      "Label : dtree\n",
      "Begin : Tue Feb 18 20:34:49 2025\n",
      "Duration :  2104.0520 us\n",
      "-------------------------------\n",
      "PKG :\n",
      "\tsocket 0 :  41626.0000 uJ\n",
      "Label : dtree\n",
      "Begin : Tue Feb 18 20:34:49 2025\n",
      "Duration :  2009.1790 us\n",
      "-------------------------------\n",
      "PKG :\n",
      "\tsocket 0 :  22339.0000 uJ\n",
      "Label : dtree\n",
      "Begin : Tue Feb 18 20:34:49 2025\n",
      "Duration :  2234.6360 us\n",
      "-------------------------------\n",
      "PKG :\n",
      "\tsocket 0 :  28991.0000 uJ\n",
      "Label : dtree\n",
      "Begin : Tue Feb 18 20:34:49 2025\n",
      "Duration :  2106.9000 us\n",
      "-------------------------------\n",
      "PKG :\n",
      "\tsocket 0 :  24903.0000 uJ\n",
      "Label : dtree\n",
      "Begin : Tue Feb 18 20:34:49 2025\n",
      "Duration :  1971.1560 us\n",
      "-------------------------------\n",
      "PKG :\n",
      "\tsocket 0 :  23193.0000 uJ\n",
      "Label : dtree\n",
      "Begin : Tue Feb 18 20:34:49 2025\n",
      "Duration :  2092.3430 us\n",
      "-------------------------------\n",
      "PKG :\n",
      "\tsocket 0 :  18921.0000 uJ\n",
      "Label : dtree\n",
      "Begin : Tue Feb 18 20:34:49 2025\n",
      "Duration :  2113.8020 us\n",
      "-------------------------------\n",
      "PKG :\n",
      "\tsocket 0 :  7751.0000 uJ\n",
      "Label : dtree\n",
      "Begin : Tue Feb 18 20:34:49 2025\n",
      "Duration :  2138.1730 us\n",
      "-------------------------------\n",
      "PKG :\n",
      "\tsocket 0 :  58167.0000 uJ\n",
      "Label : dtree\n",
      "Begin : Tue Feb 18 20:34:49 2025\n",
      "Duration :  2059.4390 us\n",
      "-------------------------------\n",
      "PKG :\n",
      "\tsocket 0 :  33630.0000 uJ\n",
      "Label : dtree\n",
      "Begin : Tue Feb 18 20:34:49 2025\n",
      "Duration :  2157.4440 us\n",
      "-------------------------------\n",
      "PKG :\n",
      "\tsocket 0 :  27161.0000 uJ\n",
      "Label : dtree\n",
      "Begin : Tue Feb 18 20:34:49 2025\n",
      "Duration :  2084.1130 us\n",
      "-------------------------------\n",
      "PKG :\n",
      "\tsocket 0 :  23376.0000 uJ\n",
      "Label : dtree\n",
      "Begin : Tue Feb 18 20:34:49 2025\n",
      "Duration :  2078.9520 us\n",
      "-------------------------------\n",
      "PKG :\n",
      "\tsocket 0 :  21728.0000 uJ\n",
      "Label : dtree\n",
      "Begin : Tue Feb 18 20:34:49 2025\n",
      "Duration :  2094.2030 us\n",
      "-------------------------------\n",
      "PKG :\n",
      "\tsocket 0 :  25818.0000 uJ\n",
      "Label : dtree\n",
      "Begin : Tue Feb 18 20:34:49 2025\n",
      "Duration :  2050.6660 us\n",
      "-------------------------------\n",
      "PKG :\n",
      "\tsocket 0 :  17334.0000 uJ\n",
      "Label : dtree\n",
      "Begin : Tue Feb 18 20:34:49 2025\n",
      "Duration :  2140.5290 us\n",
      "-------------------------------\n",
      "PKG :\n",
      "\tsocket 0 :  50720.0000 uJ\n",
      "Label : dtree\n",
      "Begin : Tue Feb 18 20:34:49 2025\n",
      "Duration :  1993.8410 us\n",
      "-------------------------------\n",
      "PKG :\n",
      "\tsocket 0 :  28198.0000 uJ\n",
      "Label : dtree\n",
      "Begin : Tue Feb 18 20:34:49 2025\n",
      "Duration :  2016.6920 us\n",
      "-------------------------------\n",
      "PKG :\n",
      "\tsocket 0 :  29358.0000 uJ\n",
      "Label : dtree\n",
      "Begin : Tue Feb 18 20:34:49 2025\n",
      "Duration :  2110.9630 us\n",
      "-------------------------------\n",
      "PKG :\n",
      "\tsocket 0 :  22766.0000 uJ\n",
      "Label : dtree\n",
      "Begin : Tue Feb 18 20:34:49 2025\n",
      "Duration :  2208.8740 us\n",
      "-------------------------------\n",
      "PKG :\n",
      "\tsocket 0 :  32715.0000 uJ\n",
      "Label : dtree\n",
      "Begin : Tue Feb 18 20:34:49 2025\n",
      "Duration :  2049.9740 us\n",
      "-------------------------------\n",
      "PKG :\n",
      "\tsocket 0 :  19653.0000 uJ\n",
      "Label : dtree\n",
      "Begin : Tue Feb 18 20:34:49 2025\n",
      "Duration :  1998.1270 us\n",
      "-------------------------------\n",
      "PKG :\n",
      "\tsocket 0 :  37048.0000 uJ\n",
      "Label : dtree\n",
      "Begin : Tue Feb 18 20:34:49 2025\n",
      "Duration :  2028.9290 us\n",
      "-------------------------------\n",
      "PKG :\n",
      "\tsocket 0 :  33875.0000 uJ\n",
      "Label : dtree\n",
      "Begin : Tue Feb 18 20:34:49 2025\n",
      "Duration :  2048.3800 us\n",
      "-------------------------------\n",
      "PKG :\n",
      "\tsocket 0 :  29114.0000 uJ\n",
      "Label : dtree\n",
      "Begin : Tue Feb 18 20:34:49 2025\n",
      "Duration :  1989.3690 us\n",
      "-------------------------------\n",
      "PKG :\n",
      "\tsocket 0 :  34790.0000 uJ\n",
      "Label : dtree\n",
      "Begin : Tue Feb 18 20:34:49 2025\n",
      "Duration :  2179.2530 us\n",
      "-------------------------------\n",
      "PKG :\n",
      "\tsocket 0 :  21057.0000 uJ\n",
      "Label : dtree\n",
      "Begin : Tue Feb 18 20:34:49 2025\n",
      "Duration :  2068.4910 us\n",
      "-------------------------------\n",
      "PKG :\n",
      "\tsocket 0 :  28137.0000 uJ\n",
      "Label : dtree\n",
      "Begin : Tue Feb 18 20:34:49 2025\n",
      "Duration :  2094.5930 us\n",
      "-------------------------------\n",
      "PKG :\n",
      "\tsocket 0 :  26611.0000 uJ\n",
      "Label : dtree\n",
      "Begin : Tue Feb 18 20:34:49 2025\n",
      "Duration :  2092.2680 us\n",
      "-------------------------------\n",
      "PKG :\n",
      "\tsocket 0 :  17456.0000 uJ\n",
      "Label : dtree\n",
      "Begin : Tue Feb 18 20:34:49 2025\n",
      "Duration :  2277.4570 us\n",
      "-------------------------------\n",
      "PKG :\n",
      "\tsocket 0 :  48523.0000 uJ\n",
      "Label : dtree\n",
      "Begin : Tue Feb 18 20:34:49 2025\n",
      "Duration :  2226.8210 us\n",
      "-------------------------------\n",
      "PKG :\n",
      "\tsocket 0 :  32532.0000 uJ\n",
      "Label : dtree\n",
      "Begin : Tue Feb 18 20:34:49 2025\n",
      "Duration :  2205.3430 us\n",
      "-------------------------------\n",
      "PKG :\n",
      "\tsocket 0 :  31006.0000 uJ\n",
      "Label : dtree\n",
      "Begin : Tue Feb 18 20:34:49 2025\n",
      "Duration :  2279.1360 us\n",
      "-------------------------------\n",
      "PKG :\n",
      "\tsocket 0 :  29235.0000 uJ\n",
      "Label : dtree\n",
      "Begin : Tue Feb 18 20:34:49 2025\n",
      "Duration :  2120.2240 us\n",
      "-------------------------------\n",
      "PKG :\n",
      "\tsocket 0 :  43701.0000 uJ\n",
      "Label : dtree\n",
      "Begin : Tue Feb 18 20:34:49 2025\n",
      "Duration :  2123.2830 us\n",
      "-------------------------------\n",
      "PKG :\n",
      "\tsocket 0 :  18677.0000 uJ\n",
      "Label : dtree\n",
      "Begin : Tue Feb 18 20:34:49 2025\n",
      "Duration :  2580.7280 us\n",
      "-------------------------------\n",
      "PKG :\n",
      "\tsocket 0 :  27283.0000 uJ\n",
      "Label : dtree\n",
      "Begin : Tue Feb 18 20:34:49 2025\n",
      "Duration :  2500.8980 us\n",
      "-------------------------------\n",
      "PKG :\n",
      "\tsocket 0 :  53467.0000 uJ\n",
      "Label : dtree\n",
      "Begin : Tue Feb 18 20:34:49 2025\n",
      "Duration :  2116.6780 us\n",
      "-------------------------------\n",
      "PKG :\n",
      "\tsocket 0 :  22644.0000 uJ\n",
      "Label : dtree\n",
      "Begin : Tue Feb 18 20:34:49 2025\n",
      "Duration :  2289.5020 us\n",
      "-------------------------------\n",
      "PKG :\n",
      "\tsocket 0 :  24108.0000 uJ\n",
      "Label : dtree\n",
      "Begin : Tue Feb 18 20:34:49 2025\n",
      "Duration :  2100.9830 us\n",
      "-------------------------------\n",
      "PKG :\n",
      "\tsocket 0 :  22217.0000 uJ\n",
      "Label : dtree\n",
      "Begin : Tue Feb 18 20:34:49 2025\n",
      "Duration :  2048.8660 us\n",
      "-------------------------------\n",
      "PKG :\n",
      "\tsocket 0 :  35767.0000 uJ\n",
      "Label : dtree\n",
      "Begin : Tue Feb 18 20:34:49 2025\n",
      "Duration :  2092.7520 us\n",
      "-------------------------------\n",
      "PKG :\n",
      "\tsocket 0 :  22460.0000 uJ\n",
      "Label : dtree\n",
      "Begin : Tue Feb 18 20:34:49 2025\n",
      "Duration :  2335.8430 us\n",
      "-------------------------------\n",
      "PKG :\n",
      "\tsocket 0 :  23133.0000 uJ\n",
      "Label : dtree\n",
      "Begin : Tue Feb 18 20:34:49 2025\n",
      "Duration :  2172.6430 us\n",
      "-------------------------------\n",
      "PKG :\n",
      "\tsocket 0 :  54199.0000 uJ\n",
      "Label : dtree\n",
      "Begin : Tue Feb 18 20:34:49 2025\n",
      "Duration :  2170.9040 us\n",
      "-------------------------------\n",
      "PKG :\n",
      "\tsocket 0 :  28930.0000 uJ\n",
      "Label : dtree\n",
      "Begin : Tue Feb 18 20:34:49 2025\n",
      "Duration :  2191.0720 us\n",
      "-------------------------------\n",
      "PKG :\n",
      "\tsocket 0 :  17090.0000 uJ\n",
      "Label : dtree\n",
      "Begin : Tue Feb 18 20:34:49 2025\n",
      "Duration :  2010.3710 us\n",
      "-------------------------------\n",
      "PKG :\n",
      "\tsocket 0 :  37903.0000 uJ\n",
      "Label : dtree\n",
      "Begin : Tue Feb 18 20:34:49 2025\n",
      "Duration :  2010.6320 us\n",
      "-------------------------------\n",
      "PKG :\n",
      "\tsocket 0 :  23926.0000 uJ\n",
      "Label : dtree\n",
      "Begin : Tue Feb 18 20:34:49 2025\n",
      "Duration :  2084.4490 us\n",
      "-------------------------------\n",
      "PKG :\n",
      "\tsocket 0 :  15930.0000 uJ\n",
      "CPU Energy (Min): 0.0078 J\n",
      "CPU Energy (Max): 0.0605 J\n"
     ]
    }
   ],
   "source": [
    "# Measure CPU energy DT\n",
    "min_cpu_dt, max_cpu_dt = measure_cpu_energy_usage('dtree', dtree, X_train, y_train)\n",
    "\n",
    "# Tampilkan hasil\n",
    "print(f\"CPU Energy (Min): {min_cpu_dt:.4f} J\")\n",
    "print(f\"CPU Energy (Max): {max_cpu_dt:.4f} J\")"
   ]
  },
  {
   "cell_type": "code",
   "execution_count": 32,
   "metadata": {},
   "outputs": [
    {
     "name": "stdout",
     "output_type": "stream",
     "text": [
      "Label : dtree_stratified\n",
      "Begin : Tue Feb 18 20:34:49 2025\n",
      "Duration :  2469.4830 us\n",
      "-------------------------------\n",
      "PKG :\n",
      "\tsocket 0 :  47120.0000 uJ\n",
      "Label : dtree_stratified\n",
      "Begin : Tue Feb 18 20:34:49 2025\n",
      "Duration :  3328.2230 us\n",
      "-------------------------------\n",
      "PKG :\n",
      "\tsocket 0 :  73791.0000 uJ\n",
      "Label : dtree_stratified\n",
      "Begin : Tue Feb 18 20:34:49 2025\n",
      "Duration :  4817.8260 us\n",
      "-------------------------------\n",
      "PKG :\n",
      "\tsocket 0 :  60852.0000 uJ\n",
      "Label : dtree_stratified\n",
      "Begin : Tue Feb 18 20:34:49 2025\n",
      "Duration :  2204.0410 us\n",
      "-------------------------------\n",
      "PKG :\n",
      "\tsocket 0 :  41992.0000 uJ\n",
      "Label : dtree_stratified\n",
      "Begin : Tue Feb 18 20:34:49 2025\n",
      "Duration :  2103.4890 us\n",
      "-------------------------------\n",
      "PKG :\n",
      "\tsocket 0 :  46142.0000 uJ\n",
      "Label : dtree_stratified\n",
      "Begin : Tue Feb 18 20:34:49 2025\n",
      "Duration :  2028.1300 us\n",
      "-------------------------------\n",
      "PKG :\n",
      "\tsocket 0 :  30640.0000 uJ\n",
      "Label : dtree_stratified\n",
      "Begin : Tue Feb 18 20:34:49 2025\n",
      "Duration :  2029.3430 us\n",
      "-------------------------------\n",
      "PKG :\n",
      "\tsocket 0 :  15381.0000 uJ\n",
      "Label : dtree_stratified\n",
      "Begin : Tue Feb 18 20:34:49 2025\n",
      "Duration :  2116.1150 us\n",
      "-------------------------------\n",
      "PKG :\n",
      "\tsocket 0 :  70190.0000 uJ\n",
      "Label : dtree_stratified\n",
      "Begin : Tue Feb 18 20:34:49 2025\n",
      "Duration :  2068.0760 us\n",
      "-------------------------------\n",
      "PKG :\n",
      "\tsocket 0 :  21301.0000 uJ\n",
      "Label : dtree_stratified\n",
      "Begin : Tue Feb 18 20:34:49 2025\n",
      "Duration :  2044.9980 us\n",
      "-------------------------------\n",
      "PKG :\n",
      "\tsocket 0 :  52307.0000 uJ\n",
      "Label : dtree_stratified\n",
      "Begin : Tue Feb 18 20:34:49 2025\n",
      "Duration :  1970.2130 us\n",
      "-------------------------------\n",
      "PKG :\n",
      "\tsocket 0 :  20386.0000 uJ\n",
      "Label : dtree_stratified\n",
      "Begin : Tue Feb 18 20:34:49 2025\n",
      "Duration :  1948.5690 us\n",
      "-------------------------------\n",
      "PKG :\n",
      "\tsocket 0 :  38574.0000 uJ\n",
      "Label : dtree_stratified\n",
      "Begin : Tue Feb 18 20:34:49 2025\n",
      "Duration :  2005.6510 us\n",
      "-------------------------------\n",
      "PKG :\n",
      "\tsocket 0 :  22583.0000 uJ\n",
      "Label : dtree_stratified\n",
      "Begin : Tue Feb 18 20:34:49 2025\n",
      "Duration :  1938.8010 us\n",
      "-------------------------------\n",
      "PKG :\n",
      "\tsocket 0 :  29907.0000 uJ\n",
      "Label : dtree_stratified\n",
      "Begin : Tue Feb 18 20:34:49 2025\n",
      "Duration :  2031.6890 us\n",
      "-------------------------------\n",
      "PKG :\n",
      "\tsocket 0 :  30640.0000 uJ\n",
      "Label : dtree_stratified\n",
      "Begin : Tue Feb 18 20:34:49 2025\n",
      "Duration :  1994.9120 us\n",
      "-------------------------------\n",
      "PKG :\n",
      "\tsocket 0 :  41198.0000 uJ\n",
      "Label : dtree_stratified\n",
      "Begin : Tue Feb 18 20:34:49 2025\n",
      "Duration :  1947.4560 us\n",
      "-------------------------------\n",
      "PKG :\n",
      "\tsocket 0 :  21179.0000 uJ\n",
      "Label : dtree_stratified\n",
      "Begin : Tue Feb 18 20:34:49 2025\n",
      "Duration :  1990.8980 us\n",
      "-------------------------------\n",
      "PKG :\n",
      "\tsocket 0 :  20996.0000 uJ\n",
      "Label : dtree_stratified\n",
      "Begin : Tue Feb 18 20:34:49 2025\n",
      "Duration :  1944.9800 us\n",
      "-------------------------------\n",
      "PKG :\n",
      "\tsocket 0 :  25574.0000 uJ\n",
      "Label : dtree_stratified\n",
      "Begin : Tue Feb 18 20:34:49 2025\n",
      "Duration :  1977.5330 us\n",
      "-------------------------------\n",
      "PKG :\n",
      "\tsocket 0 :  27160.0000 uJ\n",
      "Label : dtree_stratified\n",
      "Begin : Tue Feb 18 20:34:49 2025\n",
      "Duration :  2006.4880 us\n",
      "-------------------------------\n",
      "PKG :\n",
      "\tsocket 0 :  20996.0000 uJ\n",
      "Label : dtree_stratified\n",
      "Begin : Tue Feb 18 20:34:49 2025\n",
      "Duration :  1960.3660 us\n",
      "-------------------------------\n",
      "PKG :\n",
      "\tsocket 0 :  20203.0000 uJ\n",
      "Label : dtree_stratified\n",
      "Begin : Tue Feb 18 20:34:49 2025\n",
      "Duration :  2017.7710 us\n",
      "-------------------------------\n",
      "PKG :\n",
      "\tsocket 0 :  36987.0000 uJ\n",
      "Label : dtree_stratified\n",
      "Begin : Tue Feb 18 20:34:49 2025\n",
      "Duration :  1972.0060 us\n",
      "-------------------------------\n",
      "PKG :\n",
      "\tsocket 0 :  24536.0000 uJ\n",
      "Label : dtree_stratified\n",
      "Begin : Tue Feb 18 20:34:49 2025\n",
      "Duration :  1992.1880 us\n",
      "-------------------------------\n",
      "PKG :\n",
      "\tsocket 0 :  25513.0000 uJ\n",
      "Label : dtree_stratified\n",
      "Begin : Tue Feb 18 20:34:49 2025\n",
      "Duration :  2010.4540 us\n",
      "-------------------------------\n",
      "PKG :\n",
      "\tsocket 0 :  32471.0000 uJ\n",
      "Label : dtree_stratified\n",
      "Begin : Tue Feb 18 20:34:49 2025\n",
      "Duration :  2151.2270 us\n",
      "-------------------------------\n",
      "PKG :\n",
      "\tsocket 0 :  32287.0000 uJ\n",
      "Label : dtree_stratified\n",
      "Begin : Tue Feb 18 20:34:49 2025\n",
      "Duration :  2028.8220 us\n",
      "-------------------------------\n",
      "PKG :\n",
      "\tsocket 0 :  23743.0000 uJ\n",
      "Label : dtree_stratified\n",
      "Begin : Tue Feb 18 20:34:49 2025\n",
      "Duration :  1960.9420 us\n",
      "-------------------------------\n",
      "PKG :\n",
      "\tsocket 0 :  20203.0000 uJ\n",
      "Label : dtree_stratified\n",
      "Begin : Tue Feb 18 20:34:49 2025\n",
      "Duration :  2082.9620 us\n",
      "-------------------------------\n",
      "PKG :\n",
      "\tsocket 0 :  32593.0000 uJ\n",
      "Label : dtree_stratified\n",
      "Begin : Tue Feb 18 20:34:49 2025\n",
      "Duration :  2060.3310 us\n",
      "-------------------------------\n",
      "PKG :\n",
      "\tsocket 0 :  29296.0000 uJ\n",
      "Label : dtree_stratified\n",
      "Begin : Tue Feb 18 20:34:49 2025\n",
      "Duration :  1977.1020 us\n",
      "-------------------------------\n",
      "PKG :\n",
      "\tsocket 0 :  26062.0000 uJ\n",
      "Label : dtree_stratified\n",
      "Begin : Tue Feb 18 20:34:49 2025\n",
      "Duration :  2163.4640 us\n",
      "-------------------------------\n",
      "PKG :\n",
      "\tsocket 0 :  20508.0000 uJ\n",
      "Label : dtree_stratified\n",
      "Begin : Tue Feb 18 20:34:49 2025\n",
      "Duration :  1948.0420 us\n",
      "-------------------------------\n",
      "PKG :\n",
      "\tsocket 0 :  22888.0000 uJ\n",
      "Label : dtree_stratified\n",
      "Begin : Tue Feb 18 20:34:49 2025\n",
      "Duration :  1959.4350 us\n",
      "-------------------------------\n",
      "PKG :\n",
      "\tsocket 0 :  26428.0000 uJ\n",
      "Label : dtree_stratified\n",
      "Begin : Tue Feb 18 20:34:49 2025\n",
      "Duration :  2151.8440 us\n",
      "-------------------------------\n",
      "PKG :\n",
      "\tsocket 0 :  18127.0000 uJ\n",
      "Label : dtree_stratified\n",
      "Begin : Tue Feb 18 20:34:49 2025\n",
      "Duration :  2009.8690 us\n",
      "-------------------------------\n",
      "PKG :\n",
      "\tsocket 0 :  27893.0000 uJ\n",
      "Label : dtree_stratified\n",
      "Begin : Tue Feb 18 20:34:49 2025\n",
      "Duration :  2235.9860 us\n",
      "-------------------------------\n",
      "PKG :\n",
      "\tsocket 0 :  27771.0000 uJ\n",
      "Label : dtree_stratified\n",
      "Begin : Tue Feb 18 20:34:49 2025\n",
      "Duration :  2014.5030 us\n",
      "-------------------------------\n",
      "PKG :\n",
      "\tsocket 0 :  41992.0000 uJ\n",
      "Label : dtree_stratified\n",
      "Begin : Tue Feb 18 20:34:49 2025\n",
      "Duration :  2138.4710 us\n",
      "-------------------------------\n",
      "PKG :\n",
      "\tsocket 0 :  23987.0000 uJ\n",
      "Label : dtree_stratified\n",
      "Begin : Tue Feb 18 20:34:49 2025\n",
      "Duration :  2079.3050 us\n",
      "-------------------------------\n",
      "PKG :\n",
      "\tsocket 0 :  22339.0000 uJ\n",
      "Label : dtree_stratified\n",
      "Begin : Tue Feb 18 20:34:49 2025\n",
      "Duration :  1931.3910 us\n",
      "-------------------------------\n",
      "PKG :\n",
      "\tsocket 0 :  29419.0000 uJ\n",
      "Label : dtree_stratified\n",
      "Begin : Tue Feb 18 20:34:49 2025\n",
      "Duration :  2027.3470 us\n",
      "-------------------------------\n",
      "PKG :\n",
      "\tsocket 0 :  22095.0000 uJ\n",
      "Label : dtree_stratified\n",
      "Begin : Tue Feb 18 20:34:49 2025\n",
      "Duration :  1987.6330 us\n",
      "-------------------------------\n",
      "PKG :\n",
      "\tsocket 0 :  27221.0000 uJ\n",
      "Label : dtree_stratified\n",
      "Begin : Tue Feb 18 20:34:49 2025\n",
      "Duration :  2089.5010 us\n",
      "-------------------------------\n",
      "PKG :\n",
      "\tsocket 0 :  30274.0000 uJ\n",
      "Label : dtree_stratified\n",
      "Begin : Tue Feb 18 20:34:49 2025\n",
      "Duration :  1958.9160 us\n",
      "-------------------------------\n",
      "PKG :\n",
      "\tsocket 0 :  35095.0000 uJ\n",
      "Label : dtree_stratified\n",
      "Begin : Tue Feb 18 20:34:49 2025\n",
      "Duration :  2074.5680 us\n",
      "-------------------------------\n",
      "PKG :\n",
      "\tsocket 0 :  29846.0000 uJ\n",
      "Label : dtree_stratified\n",
      "Begin : Tue Feb 18 20:34:49 2025\n",
      "Duration :  2097.7860 us\n",
      "-------------------------------\n",
      "PKG :\n",
      "\tsocket 0 :  23315.0000 uJ\n",
      "Label : dtree_stratified\n",
      "Begin : Tue Feb 18 20:34:49 2025\n",
      "Duration :  1979.9540 us\n",
      "-------------------------------\n",
      "PKG :\n",
      "\tsocket 0 :  26184.0000 uJ\n",
      "Label : dtree_stratified\n",
      "Begin : Tue Feb 18 20:34:49 2025\n",
      "Duration :  1999.3270 us\n",
      "-------------------------------\n",
      "PKG :\n",
      "\tsocket 0 :  33325.0000 uJ\n",
      "Label : dtree_stratified\n",
      "Begin : Tue Feb 18 20:34:49 2025\n",
      "Duration :  1996.8120 us\n",
      "-------------------------------\n",
      "PKG :\n",
      "\tsocket 0 :  22217.0000 uJ\n",
      "Label : dtree_stratified\n",
      "Begin : Tue Feb 18 20:34:49 2025\n",
      "Duration :  2071.5920 us\n",
      "-------------------------------\n",
      "PKG :\n",
      "\tsocket 0 :  22888.0000 uJ\n",
      "Label : dtree_stratified\n",
      "Begin : Tue Feb 18 20:34:49 2025\n",
      "Duration :  1986.7490 us\n",
      "-------------------------------\n",
      "PKG :\n",
      "\tsocket 0 :  22278.0000 uJ\n",
      "Label : dtree_stratified\n",
      "Begin : Tue Feb 18 20:34:49 2025\n",
      "Duration :  2015.3610 us\n",
      "-------------------------------\n",
      "PKG :\n",
      "\tsocket 0 :  21057.0000 uJ\n",
      "Label : dtree_stratified\n",
      "Begin : Tue Feb 18 20:34:49 2025\n",
      "Duration :  2068.9620 us\n",
      "-------------------------------\n",
      "PKG :\n",
      "\tsocket 0 :  32227.0000 uJ\n",
      "Label : dtree_stratified\n",
      "Begin : Tue Feb 18 20:34:49 2025\n",
      "Duration :  2001.1960 us\n",
      "-------------------------------\n",
      "PKG :\n",
      "\tsocket 0 :  24231.0000 uJ\n",
      "Label : dtree_stratified\n",
      "Begin : Tue Feb 18 20:34:49 2025\n",
      "Duration :  1909.2470 us\n",
      "-------------------------------\n",
      "PKG :\n",
      "\tsocket 0 :  23559.0000 uJ\n",
      "Label : dtree_stratified\n",
      "Begin : Tue Feb 18 20:34:49 2025\n",
      "Duration :  2610.7320 us\n",
      "-------------------------------\n",
      "PKG :\n",
      "\tsocket 0 :  29236.0000 uJ\n",
      "Label : dtree_stratified\n",
      "Begin : Tue Feb 18 20:34:49 2025\n",
      "Duration :  2229.1090 us\n",
      "-------------------------------\n",
      "PKG :\n",
      "\tsocket 0 :  34302.0000 uJ\n",
      "Label : dtree_stratified\n",
      "Begin : Tue Feb 18 20:34:49 2025\n",
      "Duration :  2130.9680 us\n",
      "-------------------------------\n",
      "PKG :\n",
      "\tsocket 0 :  39916.0000 uJ\n",
      "Label : dtree_stratified\n",
      "Begin : Tue Feb 18 20:34:49 2025\n",
      "Duration :  1947.2480 us\n",
      "-------------------------------\n",
      "PKG :\n",
      "\tsocket 0 :  29175.0000 uJ\n",
      "Label : dtree_stratified\n",
      "Begin : Tue Feb 18 20:34:49 2025\n",
      "Duration :  1871.6150 us\n",
      "-------------------------------\n",
      "PKG :\n",
      "\tsocket 0 :  27344.0000 uJ\n",
      "Label : dtree_stratified\n",
      "Begin : Tue Feb 18 20:34:50 2025\n",
      "Duration :  1964.4870 us\n",
      "-------------------------------\n",
      "PKG :\n",
      "\tsocket 0 :  19958.0000 uJ\n",
      "Label : dtree_stratified\n",
      "Begin : Tue Feb 18 20:34:50 2025\n",
      "Duration :  1919.2900 us\n",
      "-------------------------------\n",
      "PKG :\n",
      "\tsocket 0 :  27161.0000 uJ\n",
      "Label : dtree_stratified\n",
      "Begin : Tue Feb 18 20:34:50 2025\n",
      "Duration :  1989.5390 us\n",
      "-------------------------------\n",
      "PKG :\n",
      "\tsocket 0 :  27588.0000 uJ\n",
      "Label : dtree_stratified\n",
      "Begin : Tue Feb 18 20:34:50 2025\n",
      "Duration :  1908.7260 us\n",
      "-------------------------------\n",
      "PKG :\n",
      "\tsocket 0 :  34057.0000 uJ\n",
      "Label : dtree_stratified\n",
      "Begin : Tue Feb 18 20:34:50 2025\n",
      "Duration :  1976.3140 us\n",
      "-------------------------------\n",
      "PKG :\n",
      "\tsocket 0 :  36316.0000 uJ\n",
      "Label : dtree_stratified\n",
      "Begin : Tue Feb 18 20:34:50 2025\n",
      "Duration :  2048.7260 us\n",
      "-------------------------------\n",
      "PKG :\n",
      "\tsocket 0 :  29785.0000 uJ\n",
      "Label : dtree_stratified\n",
      "Begin : Tue Feb 18 20:34:50 2025\n",
      "Duration :  2031.8570 us\n",
      "-------------------------------\n",
      "PKG :\n",
      "\tsocket 0 :  40039.0000 uJ\n",
      "Label : dtree_stratified\n",
      "Begin : Tue Feb 18 20:34:50 2025\n",
      "Duration :  2056.1170 us\n",
      "-------------------------------\n",
      "PKG :\n",
      "\tsocket 0 :  22766.0000 uJ\n",
      "Label : dtree_stratified\n",
      "Begin : Tue Feb 18 20:34:50 2025\n",
      "Duration :  1978.3280 us\n",
      "-------------------------------\n",
      "PKG :\n",
      "\tsocket 0 :  17334.0000 uJ\n",
      "Label : dtree_stratified\n",
      "Begin : Tue Feb 18 20:34:50 2025\n",
      "Duration :  2007.7650 us\n",
      "-------------------------------\n",
      "PKG :\n",
      "\tsocket 0 :  29114.0000 uJ\n",
      "Label : dtree_stratified\n",
      "Begin : Tue Feb 18 20:34:50 2025\n",
      "Duration :  1939.4580 us\n",
      "-------------------------------\n",
      "PKG :\n",
      "\tsocket 0 :  8972.0000 uJ\n",
      "Label : dtree_stratified\n",
      "Begin : Tue Feb 18 20:34:50 2025\n",
      "Duration :  2042.7670 us\n",
      "-------------------------------\n",
      "PKG :\n",
      "\tsocket 0 :  31616.0000 uJ\n",
      "Label : dtree_stratified\n",
      "Begin : Tue Feb 18 20:34:50 2025\n",
      "Duration :  1940.3600 us\n",
      "-------------------------------\n",
      "PKG :\n",
      "\tsocket 0 :  19714.0000 uJ\n",
      "Label : dtree_stratified\n",
      "Begin : Tue Feb 18 20:34:50 2025\n",
      "Duration :  1932.7320 us\n",
      "-------------------------------\n",
      "PKG :\n",
      "\tsocket 0 :  22522.0000 uJ\n",
      "Label : dtree_stratified\n",
      "Begin : Tue Feb 18 20:34:50 2025\n",
      "Duration :  2134.6300 us\n",
      "-------------------------------\n",
      "PKG :\n",
      "\tsocket 0 :  26306.0000 uJ\n",
      "Label : dtree_stratified\n",
      "Begin : Tue Feb 18 20:34:50 2025\n",
      "Duration :  2076.3320 us\n",
      "-------------------------------\n",
      "PKG :\n",
      "\tsocket 0 :  25330.0000 uJ\n",
      "Label : dtree_stratified\n",
      "Begin : Tue Feb 18 20:34:50 2025\n",
      "Duration :  2007.0860 us\n",
      "-------------------------------\n",
      "PKG :\n",
      "\tsocket 0 :  24292.0000 uJ\n",
      "Label : dtree_stratified\n",
      "Begin : Tue Feb 18 20:34:50 2025\n",
      "Duration :  1976.2040 us\n",
      "-------------------------------\n",
      "PKG :\n",
      "\tsocket 0 :  34423.0000 uJ\n",
      "Label : dtree_stratified\n",
      "Begin : Tue Feb 18 20:34:50 2025\n",
      "Duration :  2008.3310 us\n",
      "-------------------------------\n",
      "PKG :\n",
      "\tsocket 0 :  27710.0000 uJ\n",
      "Label : dtree_stratified\n",
      "Begin : Tue Feb 18 20:34:50 2025\n",
      "Duration :  1962.5030 us\n",
      "-------------------------------\n",
      "PKG :\n",
      "\tsocket 0 :  33203.0000 uJ\n",
      "Label : dtree_stratified\n",
      "Begin : Tue Feb 18 20:34:50 2025\n",
      "Duration :  1924.5300 us\n",
      "-------------------------------\n",
      "PKG :\n",
      "\tsocket 0 :  34180.0000 uJ\n",
      "Label : dtree_stratified\n",
      "Begin : Tue Feb 18 20:34:50 2025\n",
      "Duration :  2005.2850 us\n",
      "-------------------------------\n",
      "PKG :\n",
      "\tsocket 0 :  24597.0000 uJ\n",
      "Label : dtree_stratified\n",
      "Begin : Tue Feb 18 20:34:50 2025\n",
      "Duration :  2203.0020 us\n",
      "-------------------------------\n",
      "PKG :\n",
      "\tsocket 0 :  26306.0000 uJ\n",
      "Label : dtree_stratified\n",
      "Begin : Tue Feb 18 20:34:50 2025\n",
      "Duration :  2072.4260 us\n",
      "-------------------------------\n",
      "PKG :\n",
      "\tsocket 0 :  25634.0000 uJ\n",
      "Label : dtree_stratified\n",
      "Begin : Tue Feb 18 20:34:50 2025\n",
      "Duration :  2035.5640 us\n",
      "-------------------------------\n",
      "PKG :\n",
      "\tsocket 0 :  33753.0000 uJ\n",
      "Label : dtree_stratified\n",
      "Begin : Tue Feb 18 20:34:50 2025\n",
      "Duration :  2089.7960 us\n",
      "-------------------------------\n",
      "PKG :\n",
      "\tsocket 0 :  23803.0000 uJ\n",
      "Label : dtree_stratified\n",
      "Begin : Tue Feb 18 20:34:50 2025\n",
      "Duration :  2797.5270 us\n",
      "-------------------------------\n",
      "PKG :\n",
      "\tsocket 0 :  37414.0000 uJ\n",
      "Label : dtree_stratified\n",
      "Begin : Tue Feb 18 20:34:50 2025\n",
      "Duration :  2183.4980 us\n",
      "-------------------------------\n",
      "PKG :\n",
      "\tsocket 0 :  24536.0000 uJ\n",
      "Label : dtree_stratified\n",
      "Begin : Tue Feb 18 20:34:50 2025\n",
      "Duration :  1960.9180 us\n",
      "-------------------------------\n",
      "PKG :\n",
      "\tsocket 0 :  27770.0000 uJ\n",
      "Label : dtree_stratified\n",
      "Begin : Tue Feb 18 20:34:50 2025\n",
      "Duration :  1974.7820 us\n",
      "-------------------------------\n",
      "PKG :\n",
      "\tsocket 0 :  16053.0000 uJ\n",
      "Label : dtree_stratified\n",
      "Begin : Tue Feb 18 20:34:50 2025\n",
      "Duration :  2016.0620 us\n",
      "-------------------------------\n",
      "PKG :\n",
      "\tsocket 0 :  31921.0000 uJ\n",
      "Label : dtree_stratified\n",
      "Begin : Tue Feb 18 20:34:50 2025\n",
      "Duration :  1971.4060 us\n",
      "-------------------------------\n",
      "PKG :\n",
      "\tsocket 0 :  14648.0000 uJ\n",
      "Label : dtree_stratified\n",
      "Begin : Tue Feb 18 20:34:50 2025\n",
      "Duration :  2062.1550 us\n",
      "-------------------------------\n",
      "PKG :\n",
      "\tsocket 0 :  7995.0000 uJ\n",
      "Label : dtree_stratified\n",
      "Begin : Tue Feb 18 20:34:50 2025\n",
      "Duration :  2183.2370 us\n",
      "-------------------------------\n",
      "PKG :\n",
      "\tsocket 0 :  52551.0000 uJ\n",
      "Label : dtree_stratified\n",
      "Begin : Tue Feb 18 20:34:50 2025\n",
      "Duration :  2344.4090 us\n",
      "-------------------------------\n",
      "PKG :\n",
      "\tsocket 0 :  33631.0000 uJ\n",
      "Label : dtree_stratified\n",
      "Begin : Tue Feb 18 20:34:50 2025\n",
      "Duration :  1994.6860 us\n",
      "-------------------------------\n",
      "PKG :\n",
      "\tsocket 0 :  32409.0000 uJ\n",
      "Label : dtree_stratified\n",
      "Begin : Tue Feb 18 20:34:50 2025\n",
      "Duration :  2074.2380 us\n",
      "-------------------------------\n",
      "PKG :\n",
      "\tsocket 0 :  21546.0000 uJ\n",
      "Label : dtree_stratified\n",
      "Begin : Tue Feb 18 20:34:50 2025\n",
      "Duration :  2053.7830 us\n",
      "-------------------------------\n",
      "PKG :\n",
      "\tsocket 0 :  22339.0000 uJ\n",
      "CPU Energy (Min): 0.0080 J\n",
      "CPU Energy (Max): 0.0738 J\n"
     ]
    }
   ],
   "source": [
    "# Measure CPU energy DT Stratified\n",
    "min_cpu_dt_st, max_cpu_dt_st = measure_cpu_energy_usage('dtree_stratified', dtree_st, X_train_st, y_train_st)\n",
    "\n",
    "# Tampilkan hasil\n",
    "print(f\"CPU Energy (Min): {min_cpu_dt_st:.4f} J\")\n",
    "print(f\"CPU Energy (Max): {max_cpu_dt_st:.4f} J\")"
   ]
  },
  {
   "cell_type": "code",
   "execution_count": 33,
   "metadata": {},
   "outputs": [
    {
     "name": "stdout",
     "output_type": "stream",
     "text": [
      "Label : random_forest\n",
      "Begin : Tue Feb 18 20:34:50 2025\n",
      "Duration : 121396.9480 us\n",
      "-------------------------------\n",
      "PKG :\n",
      "\tsocket 0 :  1718684.0000 uJ\n",
      "Label : random_forest\n",
      "Begin : Tue Feb 18 20:34:50 2025\n",
      "Duration : 119429.3410 us\n",
      "-------------------------------\n",
      "PKG :\n",
      "\tsocket 0 :  1627010.0000 uJ\n",
      "Label : random_forest\n",
      "Begin : Tue Feb 18 20:34:50 2025\n",
      "Duration : 119073.1810 us\n",
      "-------------------------------\n",
      "PKG :\n",
      "\tsocket 0 :  1530575.0000 uJ\n",
      "Label : random_forest\n",
      "Begin : Tue Feb 18 20:34:50 2025\n",
      "Duration : 120566.6310 us\n",
      "-------------------------------\n",
      "PKG :\n",
      "\tsocket 0 :  1549252.0000 uJ\n",
      "Label : random_forest\n",
      "Begin : Tue Feb 18 20:34:50 2025\n",
      "Duration : 118673.6160 us\n",
      "-------------------------------\n",
      "PKG :\n",
      "\tsocket 0 :  1604183.0000 uJ\n",
      "Label : random_forest\n",
      "Begin : Tue Feb 18 20:34:50 2025\n",
      "Duration : 119333.4790 us\n",
      "-------------------------------\n",
      "PKG :\n",
      "\tsocket 0 :  1581295.0000 uJ\n",
      "Label : random_forest\n",
      "Begin : Tue Feb 18 20:34:50 2025\n",
      "Duration : 120304.3750 us\n",
      "-------------------------------\n",
      "PKG :\n",
      "\tsocket 0 :  1560481.0000 uJ\n",
      "Label : random_forest\n",
      "Begin : Tue Feb 18 20:34:50 2025\n",
      "Duration : 118996.9840 us\n",
      "-------------------------------\n",
      "PKG :\n",
      "\tsocket 0 :  1548275.0000 uJ\n",
      "Label : random_forest\n",
      "Begin : Tue Feb 18 20:34:51 2025\n",
      "Duration : 155666.9590 us\n",
      "-------------------------------\n",
      "PKG :\n",
      "\tsocket 0 :  1886958.0000 uJ\n",
      "Label : random_forest\n",
      "Begin : Tue Feb 18 20:34:51 2025\n",
      "Duration : 148525.4950 us\n",
      "-------------------------------\n",
      "PKG :\n",
      "\tsocket 0 :  1787593.0000 uJ\n",
      "Label : random_forest\n",
      "Begin : Tue Feb 18 20:34:51 2025\n",
      "Duration : 121219.8290 us\n",
      "-------------------------------\n",
      "PKG :\n",
      "\tsocket 0 :  1532406.0000 uJ\n",
      "Label : random_forest\n",
      "Begin : Tue Feb 18 20:34:51 2025\n",
      "Duration : 119854.3210 us\n",
      "-------------------------------\n",
      "PKG :\n",
      "\tsocket 0 :  1548702.0000 uJ\n",
      "Label : random_forest\n",
      "Begin : Tue Feb 18 20:34:51 2025\n",
      "Duration : 140664.7600 us\n",
      "-------------------------------\n",
      "PKG :\n",
      "\tsocket 0 :  1871089.0000 uJ\n",
      "Label : random_forest\n",
      "Begin : Tue Feb 18 20:34:51 2025\n",
      "Duration : 122861.4520 us\n",
      "-------------------------------\n",
      "PKG :\n",
      "\tsocket 0 :  1740840.0000 uJ\n",
      "Label : random_forest\n",
      "Begin : Tue Feb 18 20:34:51 2025\n",
      "Duration : 118325.3960 us\n",
      "-------------------------------\n",
      "PKG :\n",
      "\tsocket 0 :  1501400.0000 uJ\n",
      "Label : random_forest\n",
      "Begin : Tue Feb 18 20:34:51 2025\n",
      "Duration : 118427.6470 us\n",
      "-------------------------------\n",
      "PKG :\n",
      "\tsocket 0 :  1495236.0000 uJ\n",
      "Label : random_forest\n",
      "Begin : Tue Feb 18 20:34:52 2025\n",
      "Duration : 118906.5910 us\n",
      "-------------------------------\n",
      "PKG :\n",
      "\tsocket 0 :  1496456.0000 uJ\n",
      "Label : random_forest\n",
      "Begin : Tue Feb 18 20:34:52 2025\n",
      "Duration : 138565.9530 us\n",
      "-------------------------------\n",
      "PKG :\n",
      "\tsocket 0 :  1716914.0000 uJ\n",
      "Label : random_forest\n",
      "Begin : Tue Feb 18 20:34:52 2025\n",
      "Duration : 144790.0010 us\n",
      "-------------------------------\n",
      "PKG :\n",
      "\tsocket 0 :  1741939.0000 uJ\n",
      "Label : random_forest\n",
      "Begin : Tue Feb 18 20:34:52 2025\n",
      "Duration : 118840.5600 us\n",
      "-------------------------------\n",
      "PKG :\n",
      "\tsocket 0 :  1554195.0000 uJ\n",
      "Label : random_forest\n",
      "Begin : Tue Feb 18 20:34:52 2025\n",
      "Duration : 117312.3350 us\n",
      "-------------------------------\n",
      "PKG :\n",
      "\tsocket 0 :  1498898.0000 uJ\n",
      "Label : random_forest\n",
      "Begin : Tue Feb 18 20:34:52 2025\n",
      "Duration : 117610.2990 us\n",
      "-------------------------------\n",
      "PKG :\n",
      "\tsocket 0 :  1503658.0000 uJ\n",
      "Label : random_forest\n",
      "Begin : Tue Feb 18 20:34:52 2025\n",
      "Duration : 117384.8750 us\n",
      "-------------------------------\n",
      "PKG :\n",
      "\tsocket 0 :  1516781.0000 uJ\n",
      "Label : random_forest\n",
      "Begin : Tue Feb 18 20:34:52 2025\n",
      "Duration : 116743.0570 us\n",
      "-------------------------------\n",
      "PKG :\n",
      "\tsocket 0 :  1623225.0000 uJ\n",
      "Label : random_forest\n",
      "Begin : Tue Feb 18 20:34:53 2025\n",
      "Duration : 145400.3440 us\n",
      "-------------------------------\n",
      "PKG :\n",
      "\tsocket 0 :  1981380.0000 uJ\n",
      "Label : random_forest\n",
      "Begin : Tue Feb 18 20:34:53 2025\n",
      "Duration : 116957.7500 us\n",
      "-------------------------------\n",
      "PKG :\n",
      "\tsocket 0 :  1542781.0000 uJ\n",
      "Label : random_forest\n",
      "Begin : Tue Feb 18 20:34:53 2025\n",
      "Duration : 117633.7100 us\n",
      "-------------------------------\n",
      "PKG :\n",
      "\tsocket 0 :  1546139.0000 uJ\n",
      "Label : random_forest\n",
      "Begin : Tue Feb 18 20:34:53 2025\n",
      "Duration : 128043.8250 us\n",
      "-------------------------------\n",
      "PKG :\n",
      "\tsocket 0 :  1616145.0000 uJ\n",
      "Label : random_forest\n",
      "Begin : Tue Feb 18 20:34:53 2025\n",
      "Duration : 180556.1510 us\n",
      "-------------------------------\n",
      "PKG :\n",
      "\tsocket 0 :  2130427.0000 uJ\n",
      "Label : random_forest\n",
      "Begin : Tue Feb 18 20:34:53 2025\n",
      "Duration : 117785.2650 us\n",
      "-------------------------------\n",
      "PKG :\n",
      "\tsocket 0 :  1511837.0000 uJ\n",
      "Label : random_forest\n",
      "Begin : Tue Feb 18 20:34:53 2025\n",
      "Duration : 117248.8400 us\n",
      "-------------------------------\n",
      "PKG :\n",
      "\tsocket 0 :  1518001.0000 uJ\n",
      "Label : random_forest\n",
      "Begin : Tue Feb 18 20:34:54 2025\n",
      "Duration : 117428.0110 us\n",
      "-------------------------------\n",
      "PKG :\n",
      "\tsocket 0 :  1481808.0000 uJ\n",
      "Label : random_forest\n",
      "Begin : Tue Feb 18 20:34:54 2025\n",
      "Duration : 118571.0310 us\n",
      "-------------------------------\n",
      "PKG :\n",
      "\tsocket 0 :  1520687.0000 uJ\n",
      "Label : random_forest\n",
      "Begin : Tue Feb 18 20:34:54 2025\n",
      "Duration : 130253.2190 us\n",
      "-------------------------------\n",
      "PKG :\n",
      "\tsocket 0 :  1590389.0000 uJ\n",
      "Label : random_forest\n",
      "Begin : Tue Feb 18 20:34:54 2025\n",
      "Duration : 125765.4890 us\n",
      "-------------------------------\n",
      "PKG :\n",
      "\tsocket 0 :  1601802.0000 uJ\n",
      "Label : random_forest\n",
      "Begin : Tue Feb 18 20:34:54 2025\n",
      "Duration : 146121.5580 us\n",
      "-------------------------------\n",
      "PKG :\n",
      "\tsocket 0 :  1760494.0000 uJ\n",
      "Label : random_forest\n",
      "Begin : Tue Feb 18 20:34:54 2025\n",
      "Duration : 118248.2620 us\n",
      "-------------------------------\n",
      "PKG :\n",
      "\tsocket 0 :  1478206.0000 uJ\n",
      "Label : random_forest\n",
      "Begin : Tue Feb 18 20:34:54 2025\n",
      "Duration : 118435.7490 us\n",
      "-------------------------------\n",
      "PKG :\n",
      "\tsocket 0 :  1486935.0000 uJ\n",
      "Label : random_forest\n",
      "Begin : Tue Feb 18 20:34:54 2025\n",
      "Duration : 124457.1600 us\n",
      "-------------------------------\n",
      "PKG :\n",
      "\tsocket 0 :  1636898.0000 uJ\n",
      "Label : random_forest\n",
      "Begin : Tue Feb 18 20:34:55 2025\n",
      "Duration : 125749.2300 us\n",
      "-------------------------------\n",
      "PKG :\n",
      "\tsocket 0 :  1535457.0000 uJ\n",
      "Label : random_forest\n",
      "Begin : Tue Feb 18 20:34:55 2025\n",
      "Duration : 119186.7210 us\n",
      "-------------------------------\n",
      "PKG :\n",
      "\tsocket 0 :  1525570.0000 uJ\n",
      "Label : random_forest\n",
      "Begin : Tue Feb 18 20:34:55 2025\n",
      "Duration : 117757.4600 us\n",
      "-------------------------------\n",
      "PKG :\n",
      "\tsocket 0 :  1479794.0000 uJ\n",
      "Label : random_forest\n",
      "Begin : Tue Feb 18 20:34:55 2025\n",
      "Duration : 116570.7420 us\n",
      "-------------------------------\n",
      "PKG :\n",
      "\tsocket 0 :  1459408.0000 uJ\n",
      "Label : random_forest\n",
      "Begin : Tue Feb 18 20:34:55 2025\n",
      "Duration : 117144.6900 us\n",
      "-------------------------------\n",
      "PKG :\n",
      "\tsocket 0 :  1459835.0000 uJ\n",
      "Label : random_forest\n",
      "Begin : Tue Feb 18 20:34:55 2025\n",
      "Duration : 128512.7400 us\n",
      "-------------------------------\n",
      "PKG :\n",
      "\tsocket 0 :  1550777.0000 uJ\n",
      "Label : random_forest\n",
      "Begin : Tue Feb 18 20:34:55 2025\n",
      "Duration : 129751.8400 us\n",
      "-------------------------------\n",
      "PKG :\n",
      "\tsocket 0 :  1598507.0000 uJ\n",
      "Label : random_forest\n",
      "Begin : Tue Feb 18 20:34:55 2025\n",
      "Duration : 141559.8960 us\n",
      "-------------------------------\n",
      "PKG :\n",
      "\tsocket 0 :  1701900.0000 uJ\n",
      "Label : random_forest\n",
      "Begin : Tue Feb 18 20:34:56 2025\n",
      "Duration : 120223.9260 us\n",
      "-------------------------------\n",
      "PKG :\n",
      "\tsocket 0 :  1520809.0000 uJ\n",
      "Label : random_forest\n",
      "Begin : Tue Feb 18 20:34:56 2025\n",
      "Duration : 117794.0770 us\n",
      "-------------------------------\n",
      "PKG :\n",
      "\tsocket 0 :  1484371.0000 uJ\n",
      "Label : random_forest\n",
      "Begin : Tue Feb 18 20:34:56 2025\n",
      "Duration : 117039.6410 us\n",
      "-------------------------------\n",
      "PKG :\n",
      "\tsocket 0 :  1476681.0000 uJ\n",
      "Label : random_forest\n",
      "Begin : Tue Feb 18 20:34:56 2025\n",
      "Duration : 126524.8120 us\n",
      "-------------------------------\n",
      "PKG :\n",
      "\tsocket 0 :  1584530.0000 uJ\n",
      "Label : random_forest\n",
      "Begin : Tue Feb 18 20:34:56 2025\n",
      "Duration : 120864.6270 us\n",
      "-------------------------------\n",
      "PKG :\n",
      "\tsocket 0 :  1569576.0000 uJ\n",
      "Label : random_forest\n",
      "Begin : Tue Feb 18 20:34:56 2025\n",
      "Duration : 117578.4390 us\n",
      "-------------------------------\n",
      "PKG :\n",
      "\tsocket 0 :  1503170.0000 uJ\n",
      "Label : random_forest\n",
      "Begin : Tue Feb 18 20:34:56 2025\n",
      "Duration : 117135.3990 us\n",
      "-------------------------------\n",
      "PKG :\n",
      "\tsocket 0 :  1481991.0000 uJ\n",
      "Label : random_forest\n",
      "Begin : Tue Feb 18 20:34:56 2025\n",
      "Duration : 137653.5550 us\n",
      "-------------------------------\n",
      "PKG :\n",
      "\tsocket 0 :  1692928.0000 uJ\n",
      "Label : random_forest\n",
      "Begin : Tue Feb 18 20:34:57 2025\n",
      "Duration : 168123.7360 us\n",
      "-------------------------------\n",
      "PKG :\n",
      "\tsocket 0 :  1943172.0000 uJ\n",
      "Label : random_forest\n",
      "Begin : Tue Feb 18 20:34:57 2025\n",
      "Duration : 163848.5570 us\n",
      "-------------------------------\n",
      "PKG :\n",
      "\tsocket 0 :  1949885.0000 uJ\n",
      "Label : random_forest\n",
      "Begin : Tue Feb 18 20:34:57 2025\n",
      "Duration : 145495.7040 us\n",
      "-------------------------------\n",
      "PKG :\n",
      "\tsocket 0 :  1768977.0000 uJ\n",
      "Label : random_forest\n",
      "Begin : Tue Feb 18 20:34:57 2025\n",
      "Duration : 119244.8770 us\n",
      "-------------------------------\n",
      "PKG :\n",
      "\tsocket 0 :  1563412.0000 uJ\n",
      "Label : random_forest\n",
      "Begin : Tue Feb 18 20:34:57 2025\n",
      "Duration : 118829.6180 us\n",
      "-------------------------------\n",
      "PKG :\n",
      "\tsocket 0 :  1545406.0000 uJ\n",
      "Label : random_forest\n",
      "Begin : Tue Feb 18 20:34:57 2025\n",
      "Duration : 118694.9880 us\n",
      "-------------------------------\n",
      "PKG :\n",
      "\tsocket 0 :  1519833.0000 uJ\n",
      "Label : random_forest\n",
      "Begin : Tue Feb 18 20:34:57 2025\n",
      "Duration : 120821.0790 us\n",
      "-------------------------------\n",
      "PKG :\n",
      "\tsocket 0 :  1544979.0000 uJ\n",
      "Label : random_forest\n",
      "Begin : Tue Feb 18 20:34:57 2025\n",
      "Duration : 118668.0270 us\n",
      "-------------------------------\n",
      "PKG :\n",
      "\tsocket 0 :  1547298.0000 uJ\n",
      "Label : random_forest\n",
      "Begin : Tue Feb 18 20:34:58 2025\n",
      "Duration : 119543.8590 us\n",
      "-------------------------------\n",
      "PKG :\n",
      "\tsocket 0 :  1538875.0000 uJ\n",
      "Label : random_forest\n",
      "Begin : Tue Feb 18 20:34:58 2025\n",
      "Duration : 120340.9970 us\n",
      "-------------------------------\n",
      "PKG :\n",
      "\tsocket 0 :  1551205.0000 uJ\n",
      "Label : random_forest\n",
      "Begin : Tue Feb 18 20:34:58 2025\n",
      "Duration : 119156.9170 us\n",
      "-------------------------------\n",
      "PKG :\n",
      "\tsocket 0 :  1549618.0000 uJ\n",
      "Label : random_forest\n",
      "Begin : Tue Feb 18 20:34:58 2025\n",
      "Duration : 117869.3580 us\n",
      "-------------------------------\n",
      "PKG :\n",
      "\tsocket 0 :  1714229.0000 uJ\n",
      "Label : random_forest\n",
      "Begin : Tue Feb 18 20:34:58 2025\n",
      "Duration : 117846.7700 us\n",
      "-------------------------------\n",
      "PKG :\n",
      "\tsocket 0 :  1656184.0000 uJ\n",
      "Label : random_forest\n",
      "Begin : Tue Feb 18 20:34:58 2025\n",
      "Duration : 116722.9240 us\n",
      "-------------------------------\n",
      "PKG :\n",
      "\tsocket 0 :  1609798.0000 uJ\n",
      "Label : random_forest\n",
      "Begin : Tue Feb 18 20:34:58 2025\n",
      "Duration : 117892.7420 us\n",
      "-------------------------------\n",
      "PKG :\n",
      "\tsocket 0 :  1621455.0000 uJ\n",
      "Label : random_forest\n",
      "Begin : Tue Feb 18 20:34:58 2025\n",
      "Duration : 117620.7860 us\n",
      "-------------------------------\n",
      "PKG :\n",
      "\tsocket 0 :  1552792.0000 uJ\n",
      "Label : random_forest\n",
      "Begin : Tue Feb 18 20:34:59 2025\n",
      "Duration : 117523.7420 us\n",
      "-------------------------------\n",
      "PKG :\n",
      "\tsocket 0 :  1614193.0000 uJ\n",
      "Label : random_forest\n",
      "Begin : Tue Feb 18 20:34:59 2025\n",
      "Duration : 117645.6810 us\n",
      "-------------------------------\n",
      "PKG :\n",
      "\tsocket 0 :  1564815.0000 uJ\n",
      "Label : random_forest\n",
      "Begin : Tue Feb 18 20:34:59 2025\n",
      "Duration : 116365.9470 us\n",
      "-------------------------------\n",
      "PKG :\n",
      "\tsocket 0 :  1508419.0000 uJ\n",
      "Label : random_forest\n",
      "Begin : Tue Feb 18 20:34:59 2025\n",
      "Duration : 118282.8940 us\n",
      "-------------------------------\n",
      "PKG :\n",
      "\tsocket 0 :  1535091.0000 uJ\n",
      "Label : random_forest\n",
      "Begin : Tue Feb 18 20:34:59 2025\n",
      "Duration : 117492.5910 us\n",
      "-------------------------------\n",
      "PKG :\n",
      "\tsocket 0 :  1620357.0000 uJ\n",
      "Label : random_forest\n",
      "Begin : Tue Feb 18 20:34:59 2025\n",
      "Duration : 118118.2580 us\n",
      "-------------------------------\n",
      "PKG :\n",
      "\tsocket 0 :  1602840.0000 uJ\n",
      "Label : random_forest\n",
      "Begin : Tue Feb 18 20:34:59 2025\n",
      "Duration : 139834.0020 us\n",
      "-------------------------------\n",
      "PKG :\n",
      "\tsocket 0 :  2146113.0000 uJ\n",
      "Label : random_forest\n",
      "Begin : Tue Feb 18 20:34:59 2025\n",
      "Duration : 155087.8980 us\n",
      "-------------------------------\n",
      "PKG :\n",
      "\tsocket 0 :  1964656.0000 uJ\n",
      "Label : random_forest\n",
      "Begin : Tue Feb 18 20:35:00 2025\n",
      "Duration : 139509.3570 us\n",
      "-------------------------------\n",
      "PKG :\n",
      "\tsocket 0 :  1714046.0000 uJ\n",
      "Label : random_forest\n",
      "Begin : Tue Feb 18 20:35:00 2025\n",
      "Duration : 137875.2630 us\n",
      "-------------------------------\n",
      "PKG :\n",
      "\tsocket 0 :  1719356.0000 uJ\n",
      "Label : random_forest\n",
      "Begin : Tue Feb 18 20:35:00 2025\n",
      "Duration : 128527.3980 us\n",
      "-------------------------------\n",
      "PKG :\n",
      "\tsocket 0 :  1739619.0000 uJ\n",
      "Label : random_forest\n",
      "Begin : Tue Feb 18 20:35:00 2025\n",
      "Duration : 118124.0030 us\n",
      "-------------------------------\n",
      "PKG :\n",
      "\tsocket 0 :  1576229.0000 uJ\n",
      "Label : random_forest\n",
      "Begin : Tue Feb 18 20:35:00 2025\n",
      "Duration : 128905.3160 us\n",
      "-------------------------------\n",
      "PKG :\n",
      "\tsocket 0 :  1706111.0000 uJ\n",
      "Label : random_forest\n",
      "Begin : Tue Feb 18 20:35:00 2025\n",
      "Duration : 152933.6910 us\n",
      "-------------------------------\n",
      "PKG :\n",
      "\tsocket 0 :  1851802.0000 uJ\n",
      "Label : random_forest\n",
      "Begin : Tue Feb 18 20:35:00 2025\n",
      "Duration : 115730.4540 us\n",
      "-------------------------------\n",
      "PKG :\n",
      "\tsocket 0 :  1494931.0000 uJ\n",
      "Label : random_forest\n",
      "Begin : Tue Feb 18 20:35:00 2025\n",
      "Duration : 116961.5560 us\n",
      "-------------------------------\n",
      "PKG :\n",
      "\tsocket 0 :  1567134.0000 uJ\n",
      "Label : random_forest\n",
      "Begin : Tue Feb 18 20:35:01 2025\n",
      "Duration : 118806.5590 us\n",
      "-------------------------------\n",
      "PKG :\n",
      "\tsocket 0 :  1506710.0000 uJ\n",
      "Label : random_forest\n",
      "Begin : Tue Feb 18 20:35:01 2025\n",
      "Duration : 143951.4700 us\n",
      "-------------------------------\n",
      "PKG :\n",
      "\tsocket 0 :  1752559.0000 uJ\n",
      "Label : random_forest\n",
      "Begin : Tue Feb 18 20:35:01 2025\n",
      "Duration : 142815.3070 us\n",
      "-------------------------------\n",
      "PKG :\n",
      "\tsocket 0 :  1865535.0000 uJ\n",
      "Label : random_forest\n",
      "Begin : Tue Feb 18 20:35:01 2025\n",
      "Duration : 143575.9680 us\n",
      "-------------------------------\n",
      "PKG :\n",
      "\tsocket 0 :  1821407.0000 uJ\n",
      "Label : random_forest\n",
      "Begin : Tue Feb 18 20:35:01 2025\n",
      "Duration : 116188.4270 us\n",
      "-------------------------------\n",
      "PKG :\n",
      "\tsocket 0 :  1554805.0000 uJ\n",
      "Label : random_forest\n",
      "Begin : Tue Feb 18 20:35:01 2025\n",
      "Duration : 129377.0420 us\n",
      "-------------------------------\n",
      "PKG :\n",
      "\tsocket 0 :  1621883.0000 uJ\n",
      "Label : random_forest\n",
      "Begin : Tue Feb 18 20:35:01 2025\n",
      "Duration : 127493.7450 us\n",
      "-------------------------------\n",
      "PKG :\n",
      "\tsocket 0 :  1603817.0000 uJ\n",
      "Label : random_forest\n",
      "Begin : Tue Feb 18 20:35:02 2025\n",
      "Duration : 140901.0490 us\n",
      "-------------------------------\n",
      "PKG :\n",
      "\tsocket 0 :  1716915.0000 uJ\n",
      "Label : random_forest\n",
      "Begin : Tue Feb 18 20:35:02 2025\n",
      "Duration : 141456.1260 us\n",
      "-------------------------------\n",
      "PKG :\n",
      "\tsocket 0 :  1750422.0000 uJ\n",
      "Label : random_forest\n",
      "Begin : Tue Feb 18 20:35:02 2025\n",
      "Duration : 116934.4600 us\n",
      "-------------------------------\n",
      "PKG :\n",
      "\tsocket 0 :  1518612.0000 uJ\n",
      "Label : random_forest\n",
      "Begin : Tue Feb 18 20:35:02 2025\n",
      "Duration : 115937.5440 us\n",
      "-------------------------------\n",
      "PKG :\n",
      "\tsocket 0 :  1511288.0000 uJ\n",
      "Label : random_forest\n",
      "Begin : Tue Feb 18 20:35:02 2025\n",
      "Duration : 128097.9820 us\n",
      "-------------------------------\n",
      "PKG :\n",
      "\tsocket 0 :  1566524.0000 uJ\n",
      "Label : random_forest\n",
      "Begin : Tue Feb 18 20:35:02 2025\n",
      "Duration : 127788.8290 us\n",
      "-------------------------------\n",
      "PKG :\n",
      "\tsocket 0 :  1618343.0000 uJ\n",
      "CPU Energy (Min): 1.4594 J\n",
      "CPU Energy (Max): 2.1461 J\n"
     ]
    }
   ],
   "source": [
    "# Measure CPU energy RF\n",
    "min_cpu_rf, max_cpu_rf = measure_cpu_energy_usage('random_forest', rf, X_train, y_train)\n",
    "\n",
    "# Tampilkan hasil\n",
    "print(f\"CPU Energy (Min): {min_cpu_rf:.4f} J\")\n",
    "print(f\"CPU Energy (Max): {max_cpu_rf:.4f} J\")"
   ]
  },
  {
   "cell_type": "code",
   "execution_count": 34,
   "metadata": {},
   "outputs": [
    {
     "name": "stdout",
     "output_type": "stream",
     "text": [
      "Label : random_forest_stratified\n",
      "Begin : Tue Feb 18 20:35:02 2025\n",
      "Duration : 143370.6450 us\n",
      "-------------------------------\n",
      "PKG :\n",
      "\tsocket 0 :  1940059.0000 uJ\n",
      "Label : random_forest_stratified\n",
      "Begin : Tue Feb 18 20:35:02 2025\n",
      "Duration : 125939.0260 us\n",
      "-------------------------------\n",
      "PKG :\n",
      "\tsocket 0 :  1604488.0000 uJ\n",
      "Label : random_forest_stratified\n",
      "Begin : Tue Feb 18 20:35:03 2025\n",
      "Duration : 132750.7100 us\n",
      "-------------------------------\n",
      "PKG :\n",
      "\tsocket 0 :  1848872.0000 uJ\n",
      "Label : random_forest_stratified\n",
      "Begin : Tue Feb 18 20:35:03 2025\n",
      "Duration : 128154.0050 us\n",
      "-------------------------------\n",
      "PKG :\n",
      "\tsocket 0 :  1634395.0000 uJ\n",
      "Label : random_forest_stratified\n",
      "Begin : Tue Feb 18 20:35:03 2025\n",
      "Duration : 169559.1580 us\n",
      "-------------------------------\n",
      "PKG :\n",
      "\tsocket 0 :  1940242.0000 uJ\n",
      "Label : random_forest_stratified\n",
      "Begin : Tue Feb 18 20:35:03 2025\n",
      "Duration : 117614.0080 us\n",
      "-------------------------------\n",
      "PKG :\n",
      "\tsocket 0 :  1523861.0000 uJ\n",
      "Label : random_forest_stratified\n",
      "Begin : Tue Feb 18 20:35:03 2025\n",
      "Duration : 117084.3000 us\n",
      "-------------------------------\n",
      "PKG :\n",
      "\tsocket 0 :  1542781.0000 uJ\n",
      "Label : random_forest_stratified\n",
      "Begin : Tue Feb 18 20:35:03 2025\n",
      "Duration : 143969.5340 us\n",
      "-------------------------------\n",
      "PKG :\n",
      "\tsocket 0 :  1726436.0000 uJ\n",
      "Label : random_forest_stratified\n",
      "Begin : Tue Feb 18 20:35:03 2025\n",
      "Duration : 117244.1870 us\n",
      "-------------------------------\n",
      "PKG :\n",
      "\tsocket 0 :  1482357.0000 uJ\n",
      "Label : random_forest_stratified\n",
      "Begin : Tue Feb 18 20:35:04 2025\n",
      "Duration : 130147.9180 us\n",
      "-------------------------------\n",
      "PKG :\n",
      "\tsocket 0 :  1615536.0000 uJ\n",
      "Label : random_forest_stratified\n",
      "Begin : Tue Feb 18 20:35:04 2025\n",
      "Duration : 136095.8720 us\n",
      "-------------------------------\n",
      "PKG :\n",
      "\tsocket 0 :  1637570.0000 uJ\n",
      "Label : random_forest_stratified\n",
      "Begin : Tue Feb 18 20:35:04 2025\n",
      "Duration : 116985.2990 us\n",
      "-------------------------------\n",
      "PKG :\n",
      "\tsocket 0 :  1479488.0000 uJ\n",
      "Label : random_forest_stratified\n",
      "Begin : Tue Feb 18 20:35:04 2025\n",
      "Duration : 116911.2630 us\n",
      "-------------------------------\n",
      "PKG :\n",
      "\tsocket 0 :  1484005.0000 uJ\n",
      "Label : random_forest_stratified\n",
      "Begin : Tue Feb 18 20:35:04 2025\n",
      "Duration : 116152.9230 us\n",
      "-------------------------------\n",
      "PKG :\n",
      "\tsocket 0 :  1541073.0000 uJ\n",
      "Label : random_forest_stratified\n",
      "Begin : Tue Feb 18 20:35:04 2025\n",
      "Duration : 117071.5620 us\n",
      "-------------------------------\n",
      "PKG :\n",
      "\tsocket 0 :  1477474.0000 uJ\n",
      "Label : random_forest_stratified\n",
      "Begin : Tue Feb 18 20:35:04 2025\n",
      "Duration : 116518.7180 us\n",
      "-------------------------------\n",
      "PKG :\n",
      "\tsocket 0 :  1494259.0000 uJ\n",
      "Label : random_forest_stratified\n",
      "Begin : Tue Feb 18 20:35:04 2025\n",
      "Duration : 126426.3850 us\n",
      "-------------------------------\n",
      "PKG :\n",
      "\tsocket 0 :  1600826.0000 uJ\n",
      "Label : random_forest_stratified\n",
      "Begin : Tue Feb 18 20:35:04 2025\n",
      "Duration : 117087.2920 us\n",
      "-------------------------------\n",
      "PKG :\n",
      "\tsocket 0 :  1507015.0000 uJ\n",
      "Label : random_forest_stratified\n",
      "Begin : Tue Feb 18 20:35:05 2025\n",
      "Duration : 128771.2650 us\n",
      "-------------------------------\n",
      "PKG :\n",
      "\tsocket 0 :  1690120.0000 uJ\n",
      "Label : random_forest_stratified\n",
      "Begin : Tue Feb 18 20:35:05 2025\n",
      "Duration : 124715.8200 us\n",
      "-------------------------------\n",
      "PKG :\n",
      "\tsocket 0 :  1554989.0000 uJ\n",
      "Label : random_forest_stratified\n",
      "Begin : Tue Feb 18 20:35:05 2025\n",
      "Duration : 116788.1810 us\n",
      "-------------------------------\n",
      "PKG :\n",
      "\tsocket 0 :  1478267.0000 uJ\n",
      "Label : random_forest_stratified\n",
      "Begin : Tue Feb 18 20:35:05 2025\n",
      "Duration : 124489.5050 us\n",
      "-------------------------------\n",
      "PKG :\n",
      "\tsocket 0 :  1558895.0000 uJ\n",
      "Label : random_forest_stratified\n",
      "Begin : Tue Feb 18 20:35:05 2025\n",
      "Duration : 127306.4130 us\n",
      "-------------------------------\n",
      "PKG :\n",
      "\tsocket 0 :  1638485.0000 uJ\n",
      "Label : random_forest_stratified\n",
      "Begin : Tue Feb 18 20:35:05 2025\n",
      "Duration : 131781.5530 us\n",
      "-------------------------------\n",
      "PKG :\n",
      "\tsocket 0 :  1633907.0000 uJ\n",
      "Label : random_forest_stratified\n",
      "Begin : Tue Feb 18 20:35:05 2025\n",
      "Duration : 176332.2270 us\n",
      "-------------------------------\n",
      "PKG :\n",
      "\tsocket 0 :  2081965.0000 uJ\n",
      "Label : random_forest_stratified\n",
      "Begin : Tue Feb 18 20:35:06 2025\n",
      "Duration : 116603.4710 us\n",
      "-------------------------------\n",
      "PKG :\n",
      "\tsocket 0 :  1739375.0000 uJ\n",
      "Label : random_forest_stratified\n",
      "Begin : Tue Feb 18 20:35:06 2025\n",
      "Duration : 117361.2750 us\n",
      "-------------------------------\n",
      "PKG :\n",
      "\tsocket 0 :  1596920.0000 uJ\n",
      "Label : random_forest_stratified\n",
      "Begin : Tue Feb 18 20:35:06 2025\n",
      "Duration : 137680.9650 us\n",
      "-------------------------------\n",
      "PKG :\n",
      "\tsocket 0 :  1752681.0000 uJ\n",
      "Label : random_forest_stratified\n",
      "Begin : Tue Feb 18 20:35:06 2025\n",
      "Duration : 151118.1680 us\n",
      "-------------------------------\n",
      "PKG :\n",
      "\tsocket 0 :  1930110.0000 uJ\n",
      "Label : random_forest_stratified\n",
      "Begin : Tue Feb 18 20:35:06 2025\n",
      "Duration : 145103.1780 us\n",
      "-------------------------------\n",
      "PKG :\n",
      "\tsocket 0 :  2532952.0000 uJ\n",
      "Label : random_forest_stratified\n",
      "Begin : Tue Feb 18 20:35:06 2025\n",
      "Duration : 141542.9050 us\n",
      "-------------------------------\n",
      "PKG :\n",
      "\tsocket 0 :  2340021.0000 uJ\n",
      "Label : random_forest_stratified\n",
      "Begin : Tue Feb 18 20:35:06 2025\n",
      "Duration : 132133.6990 us\n",
      "-------------------------------\n",
      "PKG :\n",
      "\tsocket 0 :  2054499.0000 uJ\n",
      "Label : random_forest_stratified\n",
      "Begin : Tue Feb 18 20:35:06 2025\n",
      "Duration : 118498.2930 us\n",
      "-------------------------------\n",
      "PKG :\n",
      "\tsocket 0 :  1845698.0000 uJ\n",
      "Label : random_forest_stratified\n",
      "Begin : Tue Feb 18 20:35:07 2025\n",
      "Duration : 116671.2950 us\n",
      "-------------------------------\n",
      "PKG :\n",
      "\tsocket 0 :  1610775.0000 uJ\n",
      "Label : random_forest_stratified\n",
      "Begin : Tue Feb 18 20:35:07 2025\n",
      "Duration : 118216.7800 us\n",
      "-------------------------------\n",
      "PKG :\n",
      "\tsocket 0 :  1588375.0000 uJ\n",
      "Label : random_forest_stratified\n",
      "Begin : Tue Feb 18 20:35:07 2025\n",
      "Duration : 129177.2420 us\n",
      "-------------------------------\n",
      "PKG :\n",
      "\tsocket 0 :  1639766.0000 uJ\n",
      "Label : random_forest_stratified\n",
      "Begin : Tue Feb 18 20:35:07 2025\n",
      "Duration : 124424.8360 us\n",
      "-------------------------------\n",
      "PKG :\n",
      "\tsocket 0 :  1550106.0000 uJ\n",
      "Label : random_forest_stratified\n",
      "Begin : Tue Feb 18 20:35:07 2025\n",
      "Duration : 138643.8090 us\n",
      "-------------------------------\n",
      "PKG :\n",
      "\tsocket 0 :  1712032.0000 uJ\n",
      "Label : random_forest_stratified\n",
      "Begin : Tue Feb 18 20:35:07 2025\n",
      "Duration : 118186.9040 us\n",
      "-------------------------------\n",
      "PKG :\n",
      "\tsocket 0 :  1548702.0000 uJ\n",
      "Label : random_forest_stratified\n",
      "Begin : Tue Feb 18 20:35:07 2025\n",
      "Duration : 175691.5630 us\n",
      "-------------------------------\n",
      "PKG :\n",
      "\tsocket 0 :  2022822.0000 uJ\n",
      "Label : random_forest_stratified\n",
      "Begin : Tue Feb 18 20:35:08 2025\n",
      "Duration : 152024.6900 us\n",
      "-------------------------------\n",
      "PKG :\n",
      "\tsocket 0 :  1845820.0000 uJ\n",
      "Label : random_forest_stratified\n",
      "Begin : Tue Feb 18 20:35:08 2025\n",
      "Duration : 142851.2830 us\n",
      "-------------------------------\n",
      "PKG :\n",
      "\tsocket 0 :  1713497.0000 uJ\n",
      "Label : random_forest_stratified\n",
      "Begin : Tue Feb 18 20:35:08 2025\n",
      "Duration : 132130.3070 us\n",
      "-------------------------------\n",
      "PKG :\n",
      "\tsocket 0 :  1605526.0000 uJ\n",
      "Label : random_forest_stratified\n",
      "Begin : Tue Feb 18 20:35:08 2025\n",
      "Duration : 116142.8110 us\n",
      "-------------------------------\n",
      "PKG :\n",
      "\tsocket 0 :  1475460.0000 uJ\n",
      "Label : random_forest_stratified\n",
      "Begin : Tue Feb 18 20:35:08 2025\n",
      "Duration : 116928.5900 us\n",
      "-------------------------------\n",
      "PKG :\n",
      "\tsocket 0 :  1568416.0000 uJ\n",
      "Label : random_forest_stratified\n",
      "Begin : Tue Feb 18 20:35:08 2025\n",
      "Duration : 116631.0560 us\n",
      "-------------------------------\n",
      "PKG :\n",
      "\tsocket 0 :  1487912.0000 uJ\n",
      "Label : random_forest_stratified\n",
      "Begin : Tue Feb 18 20:35:08 2025\n",
      "Duration : 141072.0160 us\n",
      "-------------------------------\n",
      "PKG :\n",
      "\tsocket 0 :  1717280.0000 uJ\n",
      "Label : random_forest_stratified\n",
      "Begin : Tue Feb 18 20:35:08 2025\n",
      "Duration : 116585.4050 us\n",
      "-------------------------------\n",
      "PKG :\n",
      "\tsocket 0 :  1484188.0000 uJ\n",
      "Label : random_forest_stratified\n",
      "Begin : Tue Feb 18 20:35:09 2025\n",
      "Duration : 115361.4170 us\n",
      "-------------------------------\n",
      "PKG :\n",
      "\tsocket 0 :  1521542.0000 uJ\n",
      "Label : random_forest_stratified\n",
      "Begin : Tue Feb 18 20:35:09 2025\n",
      "Duration : 116818.0510 us\n",
      "-------------------------------\n",
      "PKG :\n",
      "\tsocket 0 :  1557552.0000 uJ\n",
      "Label : random_forest_stratified\n",
      "Begin : Tue Feb 18 20:35:09 2025\n",
      "Duration : 121146.0720 us\n",
      "-------------------------------\n",
      "PKG :\n",
      "\tsocket 0 :  1583065.0000 uJ\n",
      "Label : random_forest_stratified\n",
      "Begin : Tue Feb 18 20:35:09 2025\n",
      "Duration : 135761.5100 us\n",
      "-------------------------------\n",
      "PKG :\n",
      "\tsocket 0 :  1756953.0000 uJ\n",
      "Label : random_forest_stratified\n",
      "Begin : Tue Feb 18 20:35:09 2025\n",
      "Duration : 121032.2010 us\n",
      "-------------------------------\n",
      "PKG :\n",
      "\tsocket 0 :  1541439.0000 uJ\n",
      "Label : random_forest_stratified\n",
      "Begin : Tue Feb 18 20:35:09 2025\n",
      "Duration : 136641.1940 us\n",
      "-------------------------------\n",
      "PKG :\n",
      "\tsocket 0 :  1723873.0000 uJ\n",
      "Label : random_forest_stratified\n",
      "Begin : Tue Feb 18 20:35:09 2025\n",
      "Duration : 147811.6940 us\n",
      "-------------------------------\n",
      "PKG :\n",
      "\tsocket 0 :  1809382.0000 uJ\n",
      "Label : random_forest_stratified\n",
      "Begin : Tue Feb 18 20:35:09 2025\n",
      "Duration : 114468.5060 us\n",
      "-------------------------------\n",
      "PKG :\n",
      "\tsocket 0 :  1727901.0000 uJ\n",
      "Label : random_forest_stratified\n",
      "Begin : Tue Feb 18 20:35:10 2025\n",
      "Duration : 114240.9720 us\n",
      "-------------------------------\n",
      "PKG :\n",
      "\tsocket 0 :  1790279.0000 uJ\n",
      "Label : random_forest_stratified\n",
      "Begin : Tue Feb 18 20:35:10 2025\n",
      "Duration : 118098.0200 us\n",
      "-------------------------------\n",
      "PKG :\n",
      "\tsocket 0 :  2030573.0000 uJ\n",
      "Label : random_forest_stratified\n",
      "Begin : Tue Feb 18 20:35:10 2025\n",
      "Duration : 129287.5390 us\n",
      "-------------------------------\n",
      "PKG :\n",
      "\tsocket 0 :  2072078.0000 uJ\n",
      "Label : random_forest_stratified\n",
      "Begin : Tue Feb 18 20:35:10 2025\n",
      "Duration : 239911.5950 us\n",
      "-------------------------------\n",
      "PKG :\n",
      "\tsocket 0 :  3048881.0000 uJ\n",
      "Label : random_forest_stratified\n",
      "Begin : Tue Feb 18 20:35:10 2025\n",
      "Duration : 115239.3770 us\n",
      "-------------------------------\n",
      "PKG :\n",
      "\tsocket 0 :  1460751.0000 uJ\n",
      "Label : random_forest_stratified\n",
      "Begin : Tue Feb 18 20:35:10 2025\n",
      "Duration : 117967.9520 us\n",
      "-------------------------------\n",
      "PKG :\n",
      "\tsocket 0 :  1696528.0000 uJ\n",
      "Label : random_forest_stratified\n",
      "Begin : Tue Feb 18 20:35:10 2025\n",
      "Duration : 115944.9890 us\n",
      "-------------------------------\n",
      "PKG :\n",
      "\tsocket 0 :  1748714.0000 uJ\n",
      "Label : random_forest_stratified\n",
      "Begin : Tue Feb 18 20:35:11 2025\n",
      "Duration : 116761.0180 us\n",
      "-------------------------------\n",
      "PKG :\n",
      "\tsocket 0 :  1747493.0000 uJ\n",
      "Label : random_forest_stratified\n",
      "Begin : Tue Feb 18 20:35:11 2025\n",
      "Duration : 117422.7450 us\n",
      "-------------------------------\n",
      "PKG :\n",
      "\tsocket 0 :  1742122.0000 uJ\n",
      "Label : random_forest_stratified\n",
      "Begin : Tue Feb 18 20:35:11 2025\n",
      "Duration : 113692.8570 us\n",
      "-------------------------------\n",
      "PKG :\n",
      "\tsocket 0 :  1807430.0000 uJ\n",
      "Label : random_forest_stratified\n",
      "Begin : Tue Feb 18 20:35:11 2025\n",
      "Duration : 113296.9260 us\n",
      "-------------------------------\n",
      "PKG :\n",
      "\tsocket 0 :  1692989.0000 uJ\n",
      "Label : random_forest_stratified\n",
      "Begin : Tue Feb 18 20:35:11 2025\n",
      "Duration : 114460.5010 us\n",
      "-------------------------------\n",
      "PKG :\n",
      "\tsocket 0 :  1740230.0000 uJ\n",
      "Label : random_forest_stratified\n",
      "Begin : Tue Feb 18 20:35:11 2025\n",
      "Duration : 115008.7090 us\n",
      "-------------------------------\n",
      "PKG :\n",
      "\tsocket 0 :  2398798.0000 uJ\n",
      "Label : random_forest_stratified\n",
      "Begin : Tue Feb 18 20:35:11 2025\n",
      "Duration : 152331.1840 us\n",
      "-------------------------------\n",
      "PKG :\n",
      "\tsocket 0 :  2302912.0000 uJ\n",
      "Label : random_forest_stratified\n",
      "Begin : Tue Feb 18 20:35:11 2025\n",
      "Duration : 114662.2430 us\n",
      "-------------------------------\n",
      "PKG :\n",
      "\tsocket 0 :  1759028.0000 uJ\n",
      "Label : random_forest_stratified\n",
      "Begin : Tue Feb 18 20:35:11 2025\n",
      "Duration : 114725.3950 us\n",
      "-------------------------------\n",
      "PKG :\n",
      "\tsocket 0 :  1720821.0000 uJ\n",
      "Label : random_forest_stratified\n",
      "Begin : Tue Feb 18 20:35:12 2025\n",
      "Duration : 118292.0440 us\n",
      "-------------------------------\n",
      "PKG :\n",
      "\tsocket 0 :  1771541.0000 uJ\n",
      "Label : random_forest_stratified\n",
      "Begin : Tue Feb 18 20:35:12 2025\n",
      "Duration : 125555.5590 us\n",
      "-------------------------------\n",
      "PKG :\n",
      "\tsocket 0 :  1744869.0000 uJ\n",
      "Label : random_forest_stratified\n",
      "Begin : Tue Feb 18 20:35:12 2025\n",
      "Duration : 125656.0990 us\n",
      "-------------------------------\n",
      "PKG :\n",
      "\tsocket 0 :  1830257.0000 uJ\n",
      "Label : random_forest_stratified\n",
      "Begin : Tue Feb 18 20:35:12 2025\n",
      "Duration : 136711.0950 us\n",
      "-------------------------------\n",
      "PKG :\n",
      "\tsocket 0 :  1880427.0000 uJ\n",
      "Label : random_forest_stratified\n",
      "Begin : Tue Feb 18 20:35:12 2025\n",
      "Duration : 122822.6030 us\n",
      "-------------------------------\n",
      "PKG :\n",
      "\tsocket 0 :  1736690.0000 uJ\n",
      "Label : random_forest_stratified\n",
      "Begin : Tue Feb 18 20:35:12 2025\n",
      "Duration : 118834.3550 us\n",
      "-------------------------------\n",
      "PKG :\n",
      "\tsocket 0 :  1666744.0000 uJ\n",
      "Label : random_forest_stratified\n",
      "Begin : Tue Feb 18 20:35:12 2025\n",
      "Duration : 116265.2960 us\n",
      "-------------------------------\n",
      "PKG :\n",
      "\tsocket 0 :  1605953.0000 uJ\n",
      "Label : random_forest_stratified\n",
      "Begin : Tue Feb 18 20:35:12 2025\n",
      "Duration : 118598.4060 us\n",
      "-------------------------------\n",
      "PKG :\n",
      "\tsocket 0 :  1710689.0000 uJ\n",
      "Label : random_forest_stratified\n",
      "Begin : Tue Feb 18 20:35:13 2025\n",
      "Duration : 115881.0480 us\n",
      "-------------------------------\n",
      "PKG :\n",
      "\tsocket 0 :  1663814.0000 uJ\n",
      "Label : random_forest_stratified\n",
      "Begin : Tue Feb 18 20:35:13 2025\n",
      "Duration : 117701.0510 us\n",
      "-------------------------------\n",
      "PKG :\n",
      "\tsocket 0 :  1836909.0000 uJ\n",
      "Label : random_forest_stratified\n",
      "Begin : Tue Feb 18 20:35:13 2025\n",
      "Duration : 115089.5430 us\n",
      "-------------------------------\n",
      "PKG :\n",
      "\tsocket 0 :  1652706.0000 uJ\n",
      "Label : random_forest_stratified\n",
      "Begin : Tue Feb 18 20:35:13 2025\n",
      "Duration : 121012.2380 us\n",
      "-------------------------------\n",
      "PKG :\n",
      "\tsocket 0 :  1715633.0000 uJ\n",
      "Label : random_forest_stratified\n",
      "Begin : Tue Feb 18 20:35:13 2025\n",
      "Duration : 122232.7780 us\n",
      "-------------------------------\n",
      "PKG :\n",
      "\tsocket 0 :  1689510.0000 uJ\n",
      "Label : random_forest_stratified\n",
      "Begin : Tue Feb 18 20:35:13 2025\n",
      "Duration : 114297.6060 us\n",
      "-------------------------------\n",
      "PKG :\n",
      "\tsocket 0 :  1577815.0000 uJ\n",
      "Label : random_forest_stratified\n",
      "Begin : Tue Feb 18 20:35:13 2025\n",
      "Duration : 113296.9930 us\n",
      "-------------------------------\n",
      "PKG :\n",
      "\tsocket 0 :  1553341.0000 uJ\n",
      "Label : random_forest_stratified\n",
      "Begin : Tue Feb 18 20:35:13 2025\n",
      "Duration : 123013.5130 us\n",
      "-------------------------------\n",
      "PKG :\n",
      "\tsocket 0 :  1681575.0000 uJ\n",
      "Label : random_forest_stratified\n",
      "Begin : Tue Feb 18 20:35:14 2025\n",
      "Duration : 126400.8980 us\n",
      "-------------------------------\n",
      "PKG :\n",
      "\tsocket 0 :  1677486.0000 uJ\n",
      "Label : random_forest_stratified\n",
      "Begin : Tue Feb 18 20:35:14 2025\n",
      "Duration : 114579.5680 us\n",
      "-------------------------------\n",
      "PKG :\n",
      "\tsocket 0 :  1593319.0000 uJ\n",
      "Label : random_forest_stratified\n",
      "Begin : Tue Feb 18 20:35:14 2025\n",
      "Duration : 115786.5780 us\n",
      "-------------------------------\n",
      "PKG :\n",
      "\tsocket 0 :  1573116.0000 uJ\n",
      "Label : random_forest_stratified\n",
      "Begin : Tue Feb 18 20:35:14 2025\n",
      "Duration : 116163.7230 us\n",
      "-------------------------------\n",
      "PKG :\n",
      "\tsocket 0 :  1651119.0000 uJ\n",
      "Label : random_forest_stratified\n",
      "Begin : Tue Feb 18 20:35:14 2025\n",
      "Duration : 115082.2260 us\n",
      "-------------------------------\n",
      "PKG :\n",
      "\tsocket 0 :  1708675.0000 uJ\n",
      "Label : random_forest_stratified\n",
      "Begin : Tue Feb 18 20:35:14 2025\n",
      "Duration : 116572.4830 us\n",
      "-------------------------------\n",
      "PKG :\n",
      "\tsocket 0 :  1868830.0000 uJ\n",
      "Label : random_forest_stratified\n",
      "Begin : Tue Feb 18 20:35:14 2025\n",
      "Duration : 115749.4490 us\n",
      "-------------------------------\n",
      "PKG :\n",
      "\tsocket 0 :  1627254.0000 uJ\n",
      "Label : random_forest_stratified\n",
      "Begin : Tue Feb 18 20:35:14 2025\n",
      "Duration : 115560.7360 us\n",
      "-------------------------------\n",
      "PKG :\n",
      "\tsocket 0 :  1560849.0000 uJ\n",
      "Label : random_forest_stratified\n",
      "Begin : Tue Feb 18 20:35:14 2025\n",
      "Duration : 115438.5810 us\n",
      "-------------------------------\n",
      "PKG :\n",
      "\tsocket 0 :  1590022.0000 uJ\n",
      "Label : random_forest_stratified\n",
      "Begin : Tue Feb 18 20:35:15 2025\n",
      "Duration : 115764.3650 us\n",
      "-------------------------------\n",
      "PKG :\n",
      "\tsocket 0 :  1588375.0000 uJ\n",
      "Label : random_forest_stratified\n",
      "Begin : Tue Feb 18 20:35:15 2025\n",
      "Duration : 115217.6150 us\n",
      "-------------------------------\n",
      "PKG :\n",
      "\tsocket 0 :  1584835.0000 uJ\n",
      "Label : random_forest_stratified\n",
      "Begin : Tue Feb 18 20:35:15 2025\n",
      "Duration : 115246.0830 us\n",
      "-------------------------------\n",
      "PKG :\n",
      "\tsocket 0 :  1663875.0000 uJ\n",
      "CPU Energy (Min): 1.4608 J\n",
      "CPU Energy (Max): 3.0489 J\n"
     ]
    }
   ],
   "source": [
    "# Measure CPU energy RF Stratified\n",
    "min_cpu_rf_st, max_cpu_rf_st = measure_cpu_energy_usage('random_forest_stratified', rf_st, X_train_st, y_train_st)\n",
    "\n",
    "# Tampilkan hasil\n",
    "print(f\"CPU Energy (Min): {min_cpu_rf_st:.4f} J\")\n",
    "print(f\"CPU Energy (Max): {max_cpu_rf_st:.4f} J\")"
   ]
  }
 ],
 "metadata": {
  "colab": {
   "provenance": []
  },
  "kernelspec": {
   "display_name": "myvenv_tesis",
   "language": "python",
   "name": "python3"
  },
  "language_info": {
   "codemirror_mode": {
    "name": "ipython",
    "version": 3
   },
   "file_extension": ".py",
   "mimetype": "text/x-python",
   "name": "python",
   "nbconvert_exporter": "python",
   "pygments_lexer": "ipython3",
   "version": "3.12.3"
  }
 },
 "nbformat": 4,
 "nbformat_minor": 4
}
