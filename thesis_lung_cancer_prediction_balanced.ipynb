{
 "cells": [
  {
   "cell_type": "code",
   "execution_count": 76,
   "metadata": {
    "id": "J61UThNngmn5"
   },
   "outputs": [],
   "source": [
    "from sklearn.metrics import accuracy_score, precision_score, recall_score, f1_score, classification_report, confusion_matrix, roc_curve, roc_auc_score\n",
    "import seaborn as sns\n",
    "from sklearn.calibration import cross_val_predict\n",
    "from sklearn.model_selection import KFold, cross_val_score\n",
    "import matplotlib.pyplot as plt\n",
    "from sklearn.tree import DecisionTreeClassifier\n",
    "from sklearn.ensemble import RandomForestClassifier\n",
    "import plotly.express as px\n",
    "import pandas as pd\n",
    "import psutil\n",
    "import os\n",
    "import distro\n",
    "import platform\n",
    "import sys\n",
    "import tracemalloc\n",
    "import numpy as np\n",
    "import torch\n",
    "import platform\n",
    "import subprocess\n",
    "import pyRAPL\n",
    "import plotly.graph_objects as go\n",
    "import time"
   ]
  },
  {
   "cell_type": "code",
   "execution_count": 41,
   "metadata": {
    "colab": {
     "base_uri": "https://localhost:8080/",
     "height": 244
    },
    "id": "NEIERaRldyub",
    "outputId": "9fc9b221-cb10-452d-9e34-d55f65c6e21f"
   },
   "outputs": [
    {
     "data": {
      "text/html": [
       "<div>\n",
       "<style scoped>\n",
       "    .dataframe tbody tr th:only-of-type {\n",
       "        vertical-align: middle;\n",
       "    }\n",
       "\n",
       "    .dataframe tbody tr th {\n",
       "        vertical-align: top;\n",
       "    }\n",
       "\n",
       "    .dataframe thead th {\n",
       "        text-align: right;\n",
       "    }\n",
       "</style>\n",
       "<table border=\"1\" class=\"dataframe\">\n",
       "  <thead>\n",
       "    <tr style=\"text-align: right;\">\n",
       "      <th></th>\n",
       "      <th>GENDER</th>\n",
       "      <th>AGE</th>\n",
       "      <th>SMOKING</th>\n",
       "      <th>YELLOW_FINGERS</th>\n",
       "      <th>ANXIETY</th>\n",
       "      <th>PEER_PRESSURE</th>\n",
       "      <th>CHRONIC DISEASE</th>\n",
       "      <th>FATIGUE</th>\n",
       "      <th>ALLERGY</th>\n",
       "      <th>WHEEZING</th>\n",
       "      <th>ALCOHOL CONSUMING</th>\n",
       "      <th>COUGHING</th>\n",
       "      <th>SHORTNESS OF BREATH</th>\n",
       "      <th>SWALLOWING DIFFICULTY</th>\n",
       "      <th>CHEST PAIN</th>\n",
       "      <th>LUNG_CANCER</th>\n",
       "    </tr>\n",
       "  </thead>\n",
       "  <tbody>\n",
       "    <tr>\n",
       "      <th>0</th>\n",
       "      <td>M</td>\n",
       "      <td>69</td>\n",
       "      <td>1</td>\n",
       "      <td>2</td>\n",
       "      <td>2</td>\n",
       "      <td>1</td>\n",
       "      <td>1</td>\n",
       "      <td>2</td>\n",
       "      <td>1</td>\n",
       "      <td>2</td>\n",
       "      <td>2</td>\n",
       "      <td>2</td>\n",
       "      <td>2</td>\n",
       "      <td>2</td>\n",
       "      <td>2</td>\n",
       "      <td>YES</td>\n",
       "    </tr>\n",
       "    <tr>\n",
       "      <th>1</th>\n",
       "      <td>M</td>\n",
       "      <td>74</td>\n",
       "      <td>2</td>\n",
       "      <td>1</td>\n",
       "      <td>1</td>\n",
       "      <td>1</td>\n",
       "      <td>2</td>\n",
       "      <td>2</td>\n",
       "      <td>2</td>\n",
       "      <td>1</td>\n",
       "      <td>1</td>\n",
       "      <td>1</td>\n",
       "      <td>2</td>\n",
       "      <td>2</td>\n",
       "      <td>2</td>\n",
       "      <td>YES</td>\n",
       "    </tr>\n",
       "    <tr>\n",
       "      <th>2</th>\n",
       "      <td>F</td>\n",
       "      <td>59</td>\n",
       "      <td>1</td>\n",
       "      <td>1</td>\n",
       "      <td>1</td>\n",
       "      <td>2</td>\n",
       "      <td>1</td>\n",
       "      <td>2</td>\n",
       "      <td>1</td>\n",
       "      <td>2</td>\n",
       "      <td>1</td>\n",
       "      <td>2</td>\n",
       "      <td>2</td>\n",
       "      <td>1</td>\n",
       "      <td>2</td>\n",
       "      <td>NO</td>\n",
       "    </tr>\n",
       "    <tr>\n",
       "      <th>3</th>\n",
       "      <td>M</td>\n",
       "      <td>63</td>\n",
       "      <td>2</td>\n",
       "      <td>2</td>\n",
       "      <td>2</td>\n",
       "      <td>1</td>\n",
       "      <td>1</td>\n",
       "      <td>1</td>\n",
       "      <td>1</td>\n",
       "      <td>1</td>\n",
       "      <td>2</td>\n",
       "      <td>1</td>\n",
       "      <td>1</td>\n",
       "      <td>2</td>\n",
       "      <td>2</td>\n",
       "      <td>NO</td>\n",
       "    </tr>\n",
       "    <tr>\n",
       "      <th>4</th>\n",
       "      <td>F</td>\n",
       "      <td>63</td>\n",
       "      <td>1</td>\n",
       "      <td>2</td>\n",
       "      <td>1</td>\n",
       "      <td>1</td>\n",
       "      <td>1</td>\n",
       "      <td>1</td>\n",
       "      <td>1</td>\n",
       "      <td>2</td>\n",
       "      <td>1</td>\n",
       "      <td>2</td>\n",
       "      <td>2</td>\n",
       "      <td>1</td>\n",
       "      <td>1</td>\n",
       "      <td>NO</td>\n",
       "    </tr>\n",
       "    <tr>\n",
       "      <th>...</th>\n",
       "      <td>...</td>\n",
       "      <td>...</td>\n",
       "      <td>...</td>\n",
       "      <td>...</td>\n",
       "      <td>...</td>\n",
       "      <td>...</td>\n",
       "      <td>...</td>\n",
       "      <td>...</td>\n",
       "      <td>...</td>\n",
       "      <td>...</td>\n",
       "      <td>...</td>\n",
       "      <td>...</td>\n",
       "      <td>...</td>\n",
       "      <td>...</td>\n",
       "      <td>...</td>\n",
       "      <td>...</td>\n",
       "    </tr>\n",
       "    <tr>\n",
       "      <th>1152</th>\n",
       "      <td>F</td>\n",
       "      <td>74</td>\n",
       "      <td>1</td>\n",
       "      <td>1</td>\n",
       "      <td>1</td>\n",
       "      <td>1</td>\n",
       "      <td>1</td>\n",
       "      <td>1</td>\n",
       "      <td>1</td>\n",
       "      <td>1</td>\n",
       "      <td>1</td>\n",
       "      <td>2</td>\n",
       "      <td>1</td>\n",
       "      <td>1</td>\n",
       "      <td>1</td>\n",
       "      <td>NO</td>\n",
       "    </tr>\n",
       "    <tr>\n",
       "      <th>1153</th>\n",
       "      <td>F</td>\n",
       "      <td>75</td>\n",
       "      <td>1</td>\n",
       "      <td>1</td>\n",
       "      <td>1</td>\n",
       "      <td>1</td>\n",
       "      <td>1</td>\n",
       "      <td>1</td>\n",
       "      <td>1</td>\n",
       "      <td>1</td>\n",
       "      <td>1</td>\n",
       "      <td>2</td>\n",
       "      <td>1</td>\n",
       "      <td>1</td>\n",
       "      <td>1</td>\n",
       "      <td>NO</td>\n",
       "    </tr>\n",
       "    <tr>\n",
       "      <th>1154</th>\n",
       "      <td>F</td>\n",
       "      <td>76</td>\n",
       "      <td>1</td>\n",
       "      <td>1</td>\n",
       "      <td>1</td>\n",
       "      <td>1</td>\n",
       "      <td>1</td>\n",
       "      <td>1</td>\n",
       "      <td>1</td>\n",
       "      <td>1</td>\n",
       "      <td>1</td>\n",
       "      <td>2</td>\n",
       "      <td>1</td>\n",
       "      <td>1</td>\n",
       "      <td>1</td>\n",
       "      <td>NO</td>\n",
       "    </tr>\n",
       "    <tr>\n",
       "      <th>1155</th>\n",
       "      <td>F</td>\n",
       "      <td>77</td>\n",
       "      <td>1</td>\n",
       "      <td>1</td>\n",
       "      <td>1</td>\n",
       "      <td>1</td>\n",
       "      <td>1</td>\n",
       "      <td>1</td>\n",
       "      <td>1</td>\n",
       "      <td>1</td>\n",
       "      <td>1</td>\n",
       "      <td>2</td>\n",
       "      <td>1</td>\n",
       "      <td>1</td>\n",
       "      <td>1</td>\n",
       "      <td>NO</td>\n",
       "    </tr>\n",
       "    <tr>\n",
       "      <th>1156</th>\n",
       "      <td>F</td>\n",
       "      <td>78</td>\n",
       "      <td>1</td>\n",
       "      <td>1</td>\n",
       "      <td>1</td>\n",
       "      <td>1</td>\n",
       "      <td>1</td>\n",
       "      <td>1</td>\n",
       "      <td>1</td>\n",
       "      <td>1</td>\n",
       "      <td>1</td>\n",
       "      <td>2</td>\n",
       "      <td>1</td>\n",
       "      <td>1</td>\n",
       "      <td>1</td>\n",
       "      <td>NO</td>\n",
       "    </tr>\n",
       "  </tbody>\n",
       "</table>\n",
       "<p>1157 rows × 16 columns</p>\n",
       "</div>"
      ],
      "text/plain": [
       "     GENDER  AGE  SMOKING  YELLOW_FINGERS  ANXIETY  PEER_PRESSURE  \\\n",
       "0         M   69        1               2        2              1   \n",
       "1         M   74        2               1        1              1   \n",
       "2         F   59        1               1        1              2   \n",
       "3         M   63        2               2        2              1   \n",
       "4         F   63        1               2        1              1   \n",
       "...     ...  ...      ...             ...      ...            ...   \n",
       "1152      F   74        1               1        1              1   \n",
       "1153      F   75        1               1        1              1   \n",
       "1154      F   76        1               1        1              1   \n",
       "1155      F   77        1               1        1              1   \n",
       "1156      F   78        1               1        1              1   \n",
       "\n",
       "      CHRONIC DISEASE  FATIGUE   ALLERGY   WHEEZING  ALCOHOL CONSUMING  \\\n",
       "0                   1         2         1         2                  2   \n",
       "1                   2         2         2         1                  1   \n",
       "2                   1         2         1         2                  1   \n",
       "3                   1         1         1         1                  2   \n",
       "4                   1         1         1         2                  1   \n",
       "...               ...       ...       ...       ...                ...   \n",
       "1152                1         1         1         1                  1   \n",
       "1153                1         1         1         1                  1   \n",
       "1154                1         1         1         1                  1   \n",
       "1155                1         1         1         1                  1   \n",
       "1156                1         1         1         1                  1   \n",
       "\n",
       "      COUGHING  SHORTNESS OF BREATH  SWALLOWING DIFFICULTY  CHEST PAIN  \\\n",
       "0            2                    2                      2           2   \n",
       "1            1                    2                      2           2   \n",
       "2            2                    2                      1           2   \n",
       "3            1                    1                      2           2   \n",
       "4            2                    2                      1           1   \n",
       "...        ...                  ...                    ...         ...   \n",
       "1152         2                    1                      1           1   \n",
       "1153         2                    1                      1           1   \n",
       "1154         2                    1                      1           1   \n",
       "1155         2                    1                      1           1   \n",
       "1156         2                    1                      1           1   \n",
       "\n",
       "     LUNG_CANCER  \n",
       "0            YES  \n",
       "1            YES  \n",
       "2             NO  \n",
       "3             NO  \n",
       "4             NO  \n",
       "...          ...  \n",
       "1152          NO  \n",
       "1153          NO  \n",
       "1154          NO  \n",
       "1155          NO  \n",
       "1156          NO  \n",
       "\n",
       "[1157 rows x 16 columns]"
      ]
     },
     "execution_count": 41,
     "metadata": {},
     "output_type": "execute_result"
    }
   ],
   "source": [
    "# Load dataset\n",
    "path = 'lcs.csv'\n",
    "\n",
    "df = pd.read_csv(path)\n",
    "\n",
    "df"
   ]
  },
  {
   "cell_type": "code",
   "execution_count": 42,
   "metadata": {},
   "outputs": [
    {
     "data": {
      "text/plain": [
       "(1157, 16)"
      ]
     },
     "execution_count": 42,
     "metadata": {},
     "output_type": "execute_result"
    }
   ],
   "source": [
    "df.shape"
   ]
  },
  {
   "cell_type": "code",
   "execution_count": 43,
   "metadata": {
    "colab": {
     "base_uri": "https://localhost:8080/"
    },
    "id": "w_PMXwD1aqxP",
    "outputId": "cb700822-852d-494d-e544-e3233e2abfa7"
   },
   "outputs": [
    {
     "data": {
      "text/plain": [
       "Index(['GENDER', 'AGE', 'SMOKING', 'YELLOW_FINGERS', 'ANXIETY',\n",
       "       'PEER_PRESSURE', 'CHRONIC DISEASE', 'FATIGUE ', 'ALLERGY ', 'WHEEZING',\n",
       "       'ALCOHOL CONSUMING', 'COUGHING', 'SHORTNESS OF BREATH',\n",
       "       'SWALLOWING DIFFICULTY', 'CHEST PAIN', 'LUNG_CANCER'],\n",
       "      dtype='object')"
      ]
     },
     "execution_count": 43,
     "metadata": {},
     "output_type": "execute_result"
    }
   ],
   "source": [
    "df.columns"
   ]
  },
  {
   "cell_type": "code",
   "execution_count": 44,
   "metadata": {
    "colab": {
     "base_uri": "https://localhost:8080/"
    },
    "id": "QoOk1Khkauva",
    "outputId": "2cb3e0bd-3780-4bbd-fddc-b7c819b41dd4"
   },
   "outputs": [
    {
     "name": "stdout",
     "output_type": "stream",
     "text": [
      "GENDER                   object\n",
      "AGE                       int64\n",
      "SMOKING                   int64\n",
      "YELLOW_FINGERS            int64\n",
      "ANXIETY                   int64\n",
      "PEER_PRESSURE             int64\n",
      "CHRONIC DISEASE           int64\n",
      "FATIGUE                   int64\n",
      "ALLERGY                   int64\n",
      "WHEEZING                  int64\n",
      "ALCOHOL CONSUMING         int64\n",
      "COUGHING                  int64\n",
      "SHORTNESS OF BREATH       int64\n",
      "SWALLOWING DIFFICULTY     int64\n",
      "CHEST PAIN                int64\n",
      "LUNG_CANCER              object\n",
      "dtype: object\n"
     ]
    }
   ],
   "source": [
    "print(df.dtypes)"
   ]
  },
  {
   "cell_type": "code",
   "execution_count": 45,
   "metadata": {
    "colab": {
     "base_uri": "https://localhost:8080/",
     "height": 542
    },
    "id": "6e9_MUFka2T1",
    "outputId": "af6db1d7-9859-424b-9162-f642e1e09846"
   },
   "outputs": [
    {
     "data": {
      "application/vnd.plotly.v1+json": {
       "config": {
        "plotlyServerURL": "https://plot.ly"
       },
       "data": [
        {
         "hovertemplate": "Lung Cancer Category=%{x}<br>Count=%{y}<br>text=%{text}<extra></extra>",
         "legendgroup": "NO",
         "marker": {
          "color": "rgb(228,26,28)",
          "pattern": {
           "shape": ""
          }
         },
         "name": "NO",
         "orientation": "v",
         "showlegend": true,
         "text": [
          "644 (55.7%)"
         ],
         "textposition": "outside",
         "texttemplate": "%{text}",
         "type": "bar",
         "x": [
          "NO"
         ],
         "xaxis": "x",
         "y": {
          "bdata": "hAI=",
          "dtype": "i2"
         },
         "yaxis": "y"
        },
        {
         "hovertemplate": "Lung Cancer Category=%{x}<br>Count=%{y}<br>text=%{text}<extra></extra>",
         "legendgroup": "YES",
         "marker": {
          "color": "rgb(55,126,184)",
          "pattern": {
           "shape": ""
          }
         },
         "name": "YES",
         "orientation": "v",
         "showlegend": true,
         "text": [
          "513 (44.3%)"
         ],
         "textposition": "outside",
         "texttemplate": "%{text}",
         "type": "bar",
         "x": [
          "YES"
         ],
         "xaxis": "x",
         "y": {
          "bdata": "AQI=",
          "dtype": "i2"
         },
         "yaxis": "y"
        }
       ],
       "layout": {
        "barmode": "relative",
        "legend": {
         "title": {
          "text": "Lung Cancer Category"
         },
         "tracegroupgap": 0
        },
        "margin": {
         "b": 50,
         "l": 50,
         "r": 50,
         "t": 50
        },
        "template": {
         "data": {
          "bar": [
           {
            "error_x": {
             "color": "#2a3f5f"
            },
            "error_y": {
             "color": "#2a3f5f"
            },
            "marker": {
             "line": {
              "color": "#E5ECF6",
              "width": 0.5
             },
             "pattern": {
              "fillmode": "overlay",
              "size": 10,
              "solidity": 0.2
             }
            },
            "type": "bar"
           }
          ],
          "barpolar": [
           {
            "marker": {
             "line": {
              "color": "#E5ECF6",
              "width": 0.5
             },
             "pattern": {
              "fillmode": "overlay",
              "size": 10,
              "solidity": 0.2
             }
            },
            "type": "barpolar"
           }
          ],
          "carpet": [
           {
            "aaxis": {
             "endlinecolor": "#2a3f5f",
             "gridcolor": "white",
             "linecolor": "white",
             "minorgridcolor": "white",
             "startlinecolor": "#2a3f5f"
            },
            "baxis": {
             "endlinecolor": "#2a3f5f",
             "gridcolor": "white",
             "linecolor": "white",
             "minorgridcolor": "white",
             "startlinecolor": "#2a3f5f"
            },
            "type": "carpet"
           }
          ],
          "choropleth": [
           {
            "colorbar": {
             "outlinewidth": 0,
             "ticks": ""
            },
            "type": "choropleth"
           }
          ],
          "contour": [
           {
            "colorbar": {
             "outlinewidth": 0,
             "ticks": ""
            },
            "colorscale": [
             [
              0,
              "#0d0887"
             ],
             [
              0.1111111111111111,
              "#46039f"
             ],
             [
              0.2222222222222222,
              "#7201a8"
             ],
             [
              0.3333333333333333,
              "#9c179e"
             ],
             [
              0.4444444444444444,
              "#bd3786"
             ],
             [
              0.5555555555555556,
              "#d8576b"
             ],
             [
              0.6666666666666666,
              "#ed7953"
             ],
             [
              0.7777777777777778,
              "#fb9f3a"
             ],
             [
              0.8888888888888888,
              "#fdca26"
             ],
             [
              1,
              "#f0f921"
             ]
            ],
            "type": "contour"
           }
          ],
          "contourcarpet": [
           {
            "colorbar": {
             "outlinewidth": 0,
             "ticks": ""
            },
            "type": "contourcarpet"
           }
          ],
          "heatmap": [
           {
            "colorbar": {
             "outlinewidth": 0,
             "ticks": ""
            },
            "colorscale": [
             [
              0,
              "#0d0887"
             ],
             [
              0.1111111111111111,
              "#46039f"
             ],
             [
              0.2222222222222222,
              "#7201a8"
             ],
             [
              0.3333333333333333,
              "#9c179e"
             ],
             [
              0.4444444444444444,
              "#bd3786"
             ],
             [
              0.5555555555555556,
              "#d8576b"
             ],
             [
              0.6666666666666666,
              "#ed7953"
             ],
             [
              0.7777777777777778,
              "#fb9f3a"
             ],
             [
              0.8888888888888888,
              "#fdca26"
             ],
             [
              1,
              "#f0f921"
             ]
            ],
            "type": "heatmap"
           }
          ],
          "histogram": [
           {
            "marker": {
             "pattern": {
              "fillmode": "overlay",
              "size": 10,
              "solidity": 0.2
             }
            },
            "type": "histogram"
           }
          ],
          "histogram2d": [
           {
            "colorbar": {
             "outlinewidth": 0,
             "ticks": ""
            },
            "colorscale": [
             [
              0,
              "#0d0887"
             ],
             [
              0.1111111111111111,
              "#46039f"
             ],
             [
              0.2222222222222222,
              "#7201a8"
             ],
             [
              0.3333333333333333,
              "#9c179e"
             ],
             [
              0.4444444444444444,
              "#bd3786"
             ],
             [
              0.5555555555555556,
              "#d8576b"
             ],
             [
              0.6666666666666666,
              "#ed7953"
             ],
             [
              0.7777777777777778,
              "#fb9f3a"
             ],
             [
              0.8888888888888888,
              "#fdca26"
             ],
             [
              1,
              "#f0f921"
             ]
            ],
            "type": "histogram2d"
           }
          ],
          "histogram2dcontour": [
           {
            "colorbar": {
             "outlinewidth": 0,
             "ticks": ""
            },
            "colorscale": [
             [
              0,
              "#0d0887"
             ],
             [
              0.1111111111111111,
              "#46039f"
             ],
             [
              0.2222222222222222,
              "#7201a8"
             ],
             [
              0.3333333333333333,
              "#9c179e"
             ],
             [
              0.4444444444444444,
              "#bd3786"
             ],
             [
              0.5555555555555556,
              "#d8576b"
             ],
             [
              0.6666666666666666,
              "#ed7953"
             ],
             [
              0.7777777777777778,
              "#fb9f3a"
             ],
             [
              0.8888888888888888,
              "#fdca26"
             ],
             [
              1,
              "#f0f921"
             ]
            ],
            "type": "histogram2dcontour"
           }
          ],
          "mesh3d": [
           {
            "colorbar": {
             "outlinewidth": 0,
             "ticks": ""
            },
            "type": "mesh3d"
           }
          ],
          "parcoords": [
           {
            "line": {
             "colorbar": {
              "outlinewidth": 0,
              "ticks": ""
             }
            },
            "type": "parcoords"
           }
          ],
          "pie": [
           {
            "automargin": true,
            "type": "pie"
           }
          ],
          "scatter": [
           {
            "fillpattern": {
             "fillmode": "overlay",
             "size": 10,
             "solidity": 0.2
            },
            "type": "scatter"
           }
          ],
          "scatter3d": [
           {
            "line": {
             "colorbar": {
              "outlinewidth": 0,
              "ticks": ""
             }
            },
            "marker": {
             "colorbar": {
              "outlinewidth": 0,
              "ticks": ""
             }
            },
            "type": "scatter3d"
           }
          ],
          "scattercarpet": [
           {
            "marker": {
             "colorbar": {
              "outlinewidth": 0,
              "ticks": ""
             }
            },
            "type": "scattercarpet"
           }
          ],
          "scattergeo": [
           {
            "marker": {
             "colorbar": {
              "outlinewidth": 0,
              "ticks": ""
             }
            },
            "type": "scattergeo"
           }
          ],
          "scattergl": [
           {
            "marker": {
             "colorbar": {
              "outlinewidth": 0,
              "ticks": ""
             }
            },
            "type": "scattergl"
           }
          ],
          "scattermap": [
           {
            "marker": {
             "colorbar": {
              "outlinewidth": 0,
              "ticks": ""
             }
            },
            "type": "scattermap"
           }
          ],
          "scattermapbox": [
           {
            "marker": {
             "colorbar": {
              "outlinewidth": 0,
              "ticks": ""
             }
            },
            "type": "scattermapbox"
           }
          ],
          "scatterpolar": [
           {
            "marker": {
             "colorbar": {
              "outlinewidth": 0,
              "ticks": ""
             }
            },
            "type": "scatterpolar"
           }
          ],
          "scatterpolargl": [
           {
            "marker": {
             "colorbar": {
              "outlinewidth": 0,
              "ticks": ""
             }
            },
            "type": "scatterpolargl"
           }
          ],
          "scatterternary": [
           {
            "marker": {
             "colorbar": {
              "outlinewidth": 0,
              "ticks": ""
             }
            },
            "type": "scatterternary"
           }
          ],
          "surface": [
           {
            "colorbar": {
             "outlinewidth": 0,
             "ticks": ""
            },
            "colorscale": [
             [
              0,
              "#0d0887"
             ],
             [
              0.1111111111111111,
              "#46039f"
             ],
             [
              0.2222222222222222,
              "#7201a8"
             ],
             [
              0.3333333333333333,
              "#9c179e"
             ],
             [
              0.4444444444444444,
              "#bd3786"
             ],
             [
              0.5555555555555556,
              "#d8576b"
             ],
             [
              0.6666666666666666,
              "#ed7953"
             ],
             [
              0.7777777777777778,
              "#fb9f3a"
             ],
             [
              0.8888888888888888,
              "#fdca26"
             ],
             [
              1,
              "#f0f921"
             ]
            ],
            "type": "surface"
           }
          ],
          "table": [
           {
            "cells": {
             "fill": {
              "color": "#EBF0F8"
             },
             "line": {
              "color": "white"
             }
            },
            "header": {
             "fill": {
              "color": "#C8D4E3"
             },
             "line": {
              "color": "white"
             }
            },
            "type": "table"
           }
          ]
         },
         "layout": {
          "annotationdefaults": {
           "arrowcolor": "#2a3f5f",
           "arrowhead": 0,
           "arrowwidth": 1
          },
          "autotypenumbers": "strict",
          "coloraxis": {
           "colorbar": {
            "outlinewidth": 0,
            "ticks": ""
           }
          },
          "colorscale": {
           "diverging": [
            [
             0,
             "#8e0152"
            ],
            [
             0.1,
             "#c51b7d"
            ],
            [
             0.2,
             "#de77ae"
            ],
            [
             0.3,
             "#f1b6da"
            ],
            [
             0.4,
             "#fde0ef"
            ],
            [
             0.5,
             "#f7f7f7"
            ],
            [
             0.6,
             "#e6f5d0"
            ],
            [
             0.7,
             "#b8e186"
            ],
            [
             0.8,
             "#7fbc41"
            ],
            [
             0.9,
             "#4d9221"
            ],
            [
             1,
             "#276419"
            ]
           ],
           "sequential": [
            [
             0,
             "#0d0887"
            ],
            [
             0.1111111111111111,
             "#46039f"
            ],
            [
             0.2222222222222222,
             "#7201a8"
            ],
            [
             0.3333333333333333,
             "#9c179e"
            ],
            [
             0.4444444444444444,
             "#bd3786"
            ],
            [
             0.5555555555555556,
             "#d8576b"
            ],
            [
             0.6666666666666666,
             "#ed7953"
            ],
            [
             0.7777777777777778,
             "#fb9f3a"
            ],
            [
             0.8888888888888888,
             "#fdca26"
            ],
            [
             1,
             "#f0f921"
            ]
           ],
           "sequentialminus": [
            [
             0,
             "#0d0887"
            ],
            [
             0.1111111111111111,
             "#46039f"
            ],
            [
             0.2222222222222222,
             "#7201a8"
            ],
            [
             0.3333333333333333,
             "#9c179e"
            ],
            [
             0.4444444444444444,
             "#bd3786"
            ],
            [
             0.5555555555555556,
             "#d8576b"
            ],
            [
             0.6666666666666666,
             "#ed7953"
            ],
            [
             0.7777777777777778,
             "#fb9f3a"
            ],
            [
             0.8888888888888888,
             "#fdca26"
            ],
            [
             1,
             "#f0f921"
            ]
           ]
          },
          "colorway": [
           "#636efa",
           "#EF553B",
           "#00cc96",
           "#ab63fa",
           "#FFA15A",
           "#19d3f3",
           "#FF6692",
           "#B6E880",
           "#FF97FF",
           "#FECB52"
          ],
          "font": {
           "color": "#2a3f5f"
          },
          "geo": {
           "bgcolor": "white",
           "lakecolor": "white",
           "landcolor": "#E5ECF6",
           "showlakes": true,
           "showland": true,
           "subunitcolor": "white"
          },
          "hoverlabel": {
           "align": "left"
          },
          "hovermode": "closest",
          "mapbox": {
           "style": "light"
          },
          "paper_bgcolor": "white",
          "plot_bgcolor": "#E5ECF6",
          "polar": {
           "angularaxis": {
            "gridcolor": "white",
            "linecolor": "white",
            "ticks": ""
           },
           "bgcolor": "#E5ECF6",
           "radialaxis": {
            "gridcolor": "white",
            "linecolor": "white",
            "ticks": ""
           }
          },
          "scene": {
           "xaxis": {
            "backgroundcolor": "#E5ECF6",
            "gridcolor": "white",
            "gridwidth": 2,
            "linecolor": "white",
            "showbackground": true,
            "ticks": "",
            "zerolinecolor": "white"
           },
           "yaxis": {
            "backgroundcolor": "#E5ECF6",
            "gridcolor": "white",
            "gridwidth": 2,
            "linecolor": "white",
            "showbackground": true,
            "ticks": "",
            "zerolinecolor": "white"
           },
           "zaxis": {
            "backgroundcolor": "#E5ECF6",
            "gridcolor": "white",
            "gridwidth": 2,
            "linecolor": "white",
            "showbackground": true,
            "ticks": "",
            "zerolinecolor": "white"
           }
          },
          "shapedefaults": {
           "line": {
            "color": "#2a3f5f"
           }
          },
          "ternary": {
           "aaxis": {
            "gridcolor": "white",
            "linecolor": "white",
            "ticks": ""
           },
           "baxis": {
            "gridcolor": "white",
            "linecolor": "white",
            "ticks": ""
           },
           "bgcolor": "#E5ECF6",
           "caxis": {
            "gridcolor": "white",
            "linecolor": "white",
            "ticks": ""
           }
          },
          "title": {
           "x": 0.05
          },
          "xaxis": {
           "automargin": true,
           "gridcolor": "white",
           "linecolor": "white",
           "ticks": "",
           "title": {
            "standoff": 15
           },
           "zerolinecolor": "white",
           "zerolinewidth": 2
          },
          "yaxis": {
           "automargin": true,
           "gridcolor": "white",
           "linecolor": "white",
           "ticks": "",
           "title": {
            "standoff": 15
           },
           "zerolinecolor": "white",
           "zerolinewidth": 2
          }
         }
        },
        "title": {
         "text": "Lung Cancer Distribution"
        },
        "xaxis": {
         "anchor": "y",
         "categoryarray": [
          "NO",
          "YES"
         ],
         "categoryorder": "array",
         "domain": [
          0,
          1
         ],
         "title": {
          "text": "Lung Cancer Category"
         }
        },
        "yaxis": {
         "anchor": "x",
         "domain": [
          0,
          1
         ],
         "title": {
          "text": "Count"
         }
        }
       }
      }
     },
     "metadata": {},
     "output_type": "display_data"
    }
   ],
   "source": [
    "import plotly.express as px\n",
    "\n",
    "# Membuat DataFrame tdf yang berisi counts dari variabel 'Level'\n",
    "tdf = df['LUNG_CANCER'].value_counts().reset_index()\n",
    "tdf.columns = ['LUNG_CANCER', 'count']  # Memberi nama kolom agar lebih mudah dipahami\n",
    "\n",
    "# Menambahkan kolom persentase\n",
    "total_count = tdf['count'].sum()\n",
    "tdf['percentage'] = (tdf['count'] / total_count) * 100\n",
    "\n",
    "# Membuat diagram batang interaktif menggunakan Plotly\n",
    "fig = px.bar(tdf, x='LUNG_CANCER', y='count',\n",
    "             title='Lung Cancer Distribution',\n",
    "             labels={'LUNG_CANCER': 'Lung Cancer Category', 'count': 'Count'},\n",
    "             color='LUNG_CANCER',  # Memberikan warna berbeda untuk setiap kategori\n",
    "             color_discrete_sequence=px.colors.qualitative.Set1,  # Menentukan palet warna\n",
    "             text=tdf.apply(lambda row: f\"{int(row['count'])} ({row['percentage']:.1f}%)\", axis=1))  # Menambahkan count dan persentase\n",
    "\n",
    "# Menampilkan chart\n",
    "fig.update_traces(textposition='outside',  # Menempatkan teks di luar batang\n",
    "                  texttemplate='%{text}')  # Menampilkan nilai count dan persentase\n",
    "\n",
    "# Menyesuaikan margin agar teks tidak tertutup\n",
    "fig.update_layout(\n",
    "    margin=dict(l=50, r=50, t=50, b=50),  # Memberikan ruang pada sisi kiri, kanan, atas, dan bawah\n",
    ")\n",
    "\n",
    "fig.show()\n"
   ]
  },
  {
   "cell_type": "code",
   "execution_count": 46,
   "metadata": {
    "colab": {
     "base_uri": "https://localhost:8080/"
    },
    "id": "LKPev_uZbHPN",
    "outputId": "fcaae1c3-c2a6-4f72-f54b-4abb656c3213"
   },
   "outputs": [
    {
     "name": "stdout",
     "output_type": "stream",
     "text": [
      "GENDER                   0\n",
      "AGE                      0\n",
      "SMOKING                  0\n",
      "YELLOW_FINGERS           0\n",
      "ANXIETY                  0\n",
      "PEER_PRESSURE            0\n",
      "CHRONIC DISEASE          0\n",
      "FATIGUE                  0\n",
      "ALLERGY                  0\n",
      "WHEEZING                 0\n",
      "ALCOHOL CONSUMING        0\n",
      "COUGHING                 0\n",
      "SHORTNESS OF BREATH      0\n",
      "SWALLOWING DIFFICULTY    0\n",
      "CHEST PAIN               0\n",
      "LUNG_CANCER              0\n",
      "dtype: int64\n"
     ]
    }
   ],
   "source": [
    "print(df.isnull().sum())"
   ]
  },
  {
   "cell_type": "markdown",
   "metadata": {
    "id": "pyU2ibIk_yMs"
   },
   "source": [
    "Tahap Preprocessing (Encoding tipe data)"
   ]
  },
  {
   "cell_type": "code",
   "execution_count": 47,
   "metadata": {
    "colab": {
     "base_uri": "https://localhost:8080/"
    },
    "id": "8Yb_GmxyevhH",
    "outputId": "30f4488e-898a-4405-c9d8-50f2bee89558"
   },
   "outputs": [
    {
     "name": "stdout",
     "output_type": "stream",
     "text": [
      "   GENDER  LUNG_CANCER\n",
      "0       1            1\n",
      "1       1            1\n",
      "2       0            0\n",
      "3       1            0\n",
      "4       0            0\n"
     ]
    }
   ],
   "source": [
    "# Mengubah kolom 'GENDER' menjadi numerik (F = 0, M = 1)\n",
    "df['GENDER'] = df['GENDER'].map({'F': 0, 'M': 1})\n",
    "\n",
    "# Mengubah kolom 'LUNG_CANCER' menjadi numerik (NO = 0, YES = 1)\n",
    "df['LUNG_CANCER'] = df['LUNG_CANCER'].map({'NO': 0, 'YES': 1})\n",
    "\n",
    "# Cek hasilnya\n",
    "print(df[['GENDER', 'LUNG_CANCER']].head())"
   ]
  },
  {
   "cell_type": "code",
   "execution_count": 48,
   "metadata": {
    "colab": {
     "base_uri": "https://localhost:8080/"
    },
    "id": "miRjz2eNerIl",
    "outputId": "64641533-599d-4ceb-ca52-3abae55ec174"
   },
   "outputs": [
    {
     "name": "stdout",
     "output_type": "stream",
     "text": [
      "<class 'pandas.core.frame.DataFrame'>\n",
      "RangeIndex: 1157 entries, 0 to 1156\n",
      "Data columns (total 16 columns):\n",
      " #   Column                 Non-Null Count  Dtype\n",
      "---  ------                 --------------  -----\n",
      " 0   GENDER                 1157 non-null   int64\n",
      " 1   AGE                    1157 non-null   int64\n",
      " 2   SMOKING                1157 non-null   int64\n",
      " 3   YELLOW_FINGERS         1157 non-null   int64\n",
      " 4   ANXIETY                1157 non-null   int64\n",
      " 5   PEER_PRESSURE          1157 non-null   int64\n",
      " 6   CHRONIC DISEASE        1157 non-null   int64\n",
      " 7   FATIGUE                1157 non-null   int64\n",
      " 8   ALLERGY                1157 non-null   int64\n",
      " 9   WHEEZING               1157 non-null   int64\n",
      " 10  ALCOHOL CONSUMING      1157 non-null   int64\n",
      " 11  COUGHING               1157 non-null   int64\n",
      " 12  SHORTNESS OF BREATH    1157 non-null   int64\n",
      " 13  SWALLOWING DIFFICULTY  1157 non-null   int64\n",
      " 14  CHEST PAIN             1157 non-null   int64\n",
      " 15  LUNG_CANCER            1157 non-null   int64\n",
      "dtypes: int64(16)\n",
      "memory usage: 144.8 KB\n"
     ]
    }
   ],
   "source": [
    "df.info()"
   ]
  },
  {
   "cell_type": "code",
   "execution_count": 49,
   "metadata": {
    "id": "QZecebUugAZv"
   },
   "outputs": [],
   "source": [
    "# Pisahkan data\n",
    "X = df.drop(columns=['LUNG_CANCER'])  # Semua kolom kecuali 'LUNG_CANCER'\n",
    "y = df['LUNG_CANCER']"
   ]
  },
  {
   "cell_type": "code",
   "execution_count": 68,
   "metadata": {
    "colab": {
     "base_uri": "https://localhost:8080/",
     "height": 244
    },
    "id": "xySOFoaJMjQs",
    "outputId": "f15c1af3-676c-48ff-ac1c-576e51ca1b78"
   },
   "outputs": [
    {
     "data": {
      "text/html": [
       "<div>\n",
       "<style scoped>\n",
       "    .dataframe tbody tr th:only-of-type {\n",
       "        vertical-align: middle;\n",
       "    }\n",
       "\n",
       "    .dataframe tbody tr th {\n",
       "        vertical-align: top;\n",
       "    }\n",
       "\n",
       "    .dataframe thead th {\n",
       "        text-align: right;\n",
       "    }\n",
       "</style>\n",
       "<table border=\"1\" class=\"dataframe\">\n",
       "  <thead>\n",
       "    <tr style=\"text-align: right;\">\n",
       "      <th></th>\n",
       "      <th>GENDER</th>\n",
       "      <th>AGE</th>\n",
       "      <th>SMOKING</th>\n",
       "      <th>YELLOW_FINGERS</th>\n",
       "      <th>ANXIETY</th>\n",
       "      <th>PEER_PRESSURE</th>\n",
       "      <th>CHRONIC DISEASE</th>\n",
       "      <th>FATIGUE</th>\n",
       "      <th>ALLERGY</th>\n",
       "      <th>WHEEZING</th>\n",
       "      <th>ALCOHOL CONSUMING</th>\n",
       "      <th>COUGHING</th>\n",
       "      <th>SHORTNESS OF BREATH</th>\n",
       "      <th>SWALLOWING DIFFICULTY</th>\n",
       "      <th>CHEST PAIN</th>\n",
       "    </tr>\n",
       "  </thead>\n",
       "  <tbody>\n",
       "    <tr>\n",
       "      <th>0</th>\n",
       "      <td>1</td>\n",
       "      <td>69</td>\n",
       "      <td>1</td>\n",
       "      <td>2</td>\n",
       "      <td>2</td>\n",
       "      <td>1</td>\n",
       "      <td>1</td>\n",
       "      <td>2</td>\n",
       "      <td>1</td>\n",
       "      <td>2</td>\n",
       "      <td>2</td>\n",
       "      <td>2</td>\n",
       "      <td>2</td>\n",
       "      <td>2</td>\n",
       "      <td>2</td>\n",
       "    </tr>\n",
       "    <tr>\n",
       "      <th>1</th>\n",
       "      <td>1</td>\n",
       "      <td>74</td>\n",
       "      <td>2</td>\n",
       "      <td>1</td>\n",
       "      <td>1</td>\n",
       "      <td>1</td>\n",
       "      <td>2</td>\n",
       "      <td>2</td>\n",
       "      <td>2</td>\n",
       "      <td>1</td>\n",
       "      <td>1</td>\n",
       "      <td>1</td>\n",
       "      <td>2</td>\n",
       "      <td>2</td>\n",
       "      <td>2</td>\n",
       "    </tr>\n",
       "    <tr>\n",
       "      <th>2</th>\n",
       "      <td>0</td>\n",
       "      <td>59</td>\n",
       "      <td>1</td>\n",
       "      <td>1</td>\n",
       "      <td>1</td>\n",
       "      <td>2</td>\n",
       "      <td>1</td>\n",
       "      <td>2</td>\n",
       "      <td>1</td>\n",
       "      <td>2</td>\n",
       "      <td>1</td>\n",
       "      <td>2</td>\n",
       "      <td>2</td>\n",
       "      <td>1</td>\n",
       "      <td>2</td>\n",
       "    </tr>\n",
       "    <tr>\n",
       "      <th>3</th>\n",
       "      <td>1</td>\n",
       "      <td>63</td>\n",
       "      <td>2</td>\n",
       "      <td>2</td>\n",
       "      <td>2</td>\n",
       "      <td>1</td>\n",
       "      <td>1</td>\n",
       "      <td>1</td>\n",
       "      <td>1</td>\n",
       "      <td>1</td>\n",
       "      <td>2</td>\n",
       "      <td>1</td>\n",
       "      <td>1</td>\n",
       "      <td>2</td>\n",
       "      <td>2</td>\n",
       "    </tr>\n",
       "    <tr>\n",
       "      <th>4</th>\n",
       "      <td>0</td>\n",
       "      <td>63</td>\n",
       "      <td>1</td>\n",
       "      <td>2</td>\n",
       "      <td>1</td>\n",
       "      <td>1</td>\n",
       "      <td>1</td>\n",
       "      <td>1</td>\n",
       "      <td>1</td>\n",
       "      <td>2</td>\n",
       "      <td>1</td>\n",
       "      <td>2</td>\n",
       "      <td>2</td>\n",
       "      <td>1</td>\n",
       "      <td>1</td>\n",
       "    </tr>\n",
       "  </tbody>\n",
       "</table>\n",
       "</div>"
      ],
      "text/plain": [
       "   GENDER  AGE  SMOKING  YELLOW_FINGERS  ANXIETY  PEER_PRESSURE  \\\n",
       "0       1   69        1               2        2              1   \n",
       "1       1   74        2               1        1              1   \n",
       "2       0   59        1               1        1              2   \n",
       "3       1   63        2               2        2              1   \n",
       "4       0   63        1               2        1              1   \n",
       "\n",
       "   CHRONIC DISEASE  FATIGUE   ALLERGY   WHEEZING  ALCOHOL CONSUMING  COUGHING  \\\n",
       "0                1         2         1         2                  2         2   \n",
       "1                2         2         2         1                  1         1   \n",
       "2                1         2         1         2                  1         2   \n",
       "3                1         1         1         1                  2         1   \n",
       "4                1         1         1         2                  1         2   \n",
       "\n",
       "   SHORTNESS OF BREATH  SWALLOWING DIFFICULTY  CHEST PAIN  \n",
       "0                    2                      2           2  \n",
       "1                    2                      2           2  \n",
       "2                    2                      1           2  \n",
       "3                    1                      2           2  \n",
       "4                    2                      1           1  "
      ]
     },
     "execution_count": 68,
     "metadata": {},
     "output_type": "execute_result"
    }
   ],
   "source": [
    "X.head()"
   ]
  },
  {
   "cell_type": "code",
   "execution_count": 67,
   "metadata": {},
   "outputs": [
    {
     "data": {
      "text/plain": [
       "0    1\n",
       "1    1\n",
       "2    0\n",
       "3    0\n",
       "4    0\n",
       "Name: LUNG_CANCER, dtype: int64"
      ]
     },
     "execution_count": 67,
     "metadata": {},
     "output_type": "execute_result"
    }
   ],
   "source": [
    "y.head()"
   ]
  },
  {
   "cell_type": "code",
   "execution_count": 51,
   "metadata": {},
   "outputs": [
    {
     "data": {
      "text/html": [
       "<div>\n",
       "<style scoped>\n",
       "    .dataframe tbody tr th:only-of-type {\n",
       "        vertical-align: middle;\n",
       "    }\n",
       "\n",
       "    .dataframe tbody tr th {\n",
       "        vertical-align: top;\n",
       "    }\n",
       "\n",
       "    .dataframe thead th {\n",
       "        text-align: right;\n",
       "    }\n",
       "</style>\n",
       "<table border=\"1\" class=\"dataframe\">\n",
       "  <thead>\n",
       "    <tr style=\"text-align: right;\">\n",
       "      <th></th>\n",
       "      <th>GENDER</th>\n",
       "      <th>AGE</th>\n",
       "      <th>SMOKING</th>\n",
       "      <th>YELLOW_FINGERS</th>\n",
       "      <th>ANXIETY</th>\n",
       "      <th>PEER_PRESSURE</th>\n",
       "      <th>CHRONIC DISEASE</th>\n",
       "      <th>FATIGUE</th>\n",
       "      <th>ALLERGY</th>\n",
       "      <th>WHEEZING</th>\n",
       "      <th>ALCOHOL CONSUMING</th>\n",
       "      <th>COUGHING</th>\n",
       "      <th>SHORTNESS OF BREATH</th>\n",
       "      <th>SWALLOWING DIFFICULTY</th>\n",
       "      <th>CHEST PAIN</th>\n",
       "      <th>LUNG_CANCER</th>\n",
       "    </tr>\n",
       "  </thead>\n",
       "  <tbody>\n",
       "    <tr>\n",
       "      <th>0</th>\n",
       "      <td>1</td>\n",
       "      <td>69</td>\n",
       "      <td>1</td>\n",
       "      <td>2</td>\n",
       "      <td>2</td>\n",
       "      <td>1</td>\n",
       "      <td>1</td>\n",
       "      <td>2</td>\n",
       "      <td>1</td>\n",
       "      <td>2</td>\n",
       "      <td>2</td>\n",
       "      <td>2</td>\n",
       "      <td>2</td>\n",
       "      <td>2</td>\n",
       "      <td>2</td>\n",
       "      <td>1</td>\n",
       "    </tr>\n",
       "    <tr>\n",
       "      <th>1</th>\n",
       "      <td>1</td>\n",
       "      <td>74</td>\n",
       "      <td>2</td>\n",
       "      <td>1</td>\n",
       "      <td>1</td>\n",
       "      <td>1</td>\n",
       "      <td>2</td>\n",
       "      <td>2</td>\n",
       "      <td>2</td>\n",
       "      <td>1</td>\n",
       "      <td>1</td>\n",
       "      <td>1</td>\n",
       "      <td>2</td>\n",
       "      <td>2</td>\n",
       "      <td>2</td>\n",
       "      <td>1</td>\n",
       "    </tr>\n",
       "    <tr>\n",
       "      <th>2</th>\n",
       "      <td>0</td>\n",
       "      <td>59</td>\n",
       "      <td>1</td>\n",
       "      <td>1</td>\n",
       "      <td>1</td>\n",
       "      <td>2</td>\n",
       "      <td>1</td>\n",
       "      <td>2</td>\n",
       "      <td>1</td>\n",
       "      <td>2</td>\n",
       "      <td>1</td>\n",
       "      <td>2</td>\n",
       "      <td>2</td>\n",
       "      <td>1</td>\n",
       "      <td>2</td>\n",
       "      <td>0</td>\n",
       "    </tr>\n",
       "    <tr>\n",
       "      <th>3</th>\n",
       "      <td>1</td>\n",
       "      <td>63</td>\n",
       "      <td>2</td>\n",
       "      <td>2</td>\n",
       "      <td>2</td>\n",
       "      <td>1</td>\n",
       "      <td>1</td>\n",
       "      <td>1</td>\n",
       "      <td>1</td>\n",
       "      <td>1</td>\n",
       "      <td>2</td>\n",
       "      <td>1</td>\n",
       "      <td>1</td>\n",
       "      <td>2</td>\n",
       "      <td>2</td>\n",
       "      <td>0</td>\n",
       "    </tr>\n",
       "    <tr>\n",
       "      <th>4</th>\n",
       "      <td>0</td>\n",
       "      <td>63</td>\n",
       "      <td>1</td>\n",
       "      <td>2</td>\n",
       "      <td>1</td>\n",
       "      <td>1</td>\n",
       "      <td>1</td>\n",
       "      <td>1</td>\n",
       "      <td>1</td>\n",
       "      <td>2</td>\n",
       "      <td>1</td>\n",
       "      <td>2</td>\n",
       "      <td>2</td>\n",
       "      <td>1</td>\n",
       "      <td>1</td>\n",
       "      <td>0</td>\n",
       "    </tr>\n",
       "    <tr>\n",
       "      <th>...</th>\n",
       "      <td>...</td>\n",
       "      <td>...</td>\n",
       "      <td>...</td>\n",
       "      <td>...</td>\n",
       "      <td>...</td>\n",
       "      <td>...</td>\n",
       "      <td>...</td>\n",
       "      <td>...</td>\n",
       "      <td>...</td>\n",
       "      <td>...</td>\n",
       "      <td>...</td>\n",
       "      <td>...</td>\n",
       "      <td>...</td>\n",
       "      <td>...</td>\n",
       "      <td>...</td>\n",
       "      <td>...</td>\n",
       "    </tr>\n",
       "    <tr>\n",
       "      <th>1152</th>\n",
       "      <td>0</td>\n",
       "      <td>74</td>\n",
       "      <td>1</td>\n",
       "      <td>1</td>\n",
       "      <td>1</td>\n",
       "      <td>1</td>\n",
       "      <td>1</td>\n",
       "      <td>1</td>\n",
       "      <td>1</td>\n",
       "      <td>1</td>\n",
       "      <td>1</td>\n",
       "      <td>2</td>\n",
       "      <td>1</td>\n",
       "      <td>1</td>\n",
       "      <td>1</td>\n",
       "      <td>0</td>\n",
       "    </tr>\n",
       "    <tr>\n",
       "      <th>1153</th>\n",
       "      <td>0</td>\n",
       "      <td>75</td>\n",
       "      <td>1</td>\n",
       "      <td>1</td>\n",
       "      <td>1</td>\n",
       "      <td>1</td>\n",
       "      <td>1</td>\n",
       "      <td>1</td>\n",
       "      <td>1</td>\n",
       "      <td>1</td>\n",
       "      <td>1</td>\n",
       "      <td>2</td>\n",
       "      <td>1</td>\n",
       "      <td>1</td>\n",
       "      <td>1</td>\n",
       "      <td>0</td>\n",
       "    </tr>\n",
       "    <tr>\n",
       "      <th>1154</th>\n",
       "      <td>0</td>\n",
       "      <td>76</td>\n",
       "      <td>1</td>\n",
       "      <td>1</td>\n",
       "      <td>1</td>\n",
       "      <td>1</td>\n",
       "      <td>1</td>\n",
       "      <td>1</td>\n",
       "      <td>1</td>\n",
       "      <td>1</td>\n",
       "      <td>1</td>\n",
       "      <td>2</td>\n",
       "      <td>1</td>\n",
       "      <td>1</td>\n",
       "      <td>1</td>\n",
       "      <td>0</td>\n",
       "    </tr>\n",
       "    <tr>\n",
       "      <th>1155</th>\n",
       "      <td>0</td>\n",
       "      <td>77</td>\n",
       "      <td>1</td>\n",
       "      <td>1</td>\n",
       "      <td>1</td>\n",
       "      <td>1</td>\n",
       "      <td>1</td>\n",
       "      <td>1</td>\n",
       "      <td>1</td>\n",
       "      <td>1</td>\n",
       "      <td>1</td>\n",
       "      <td>2</td>\n",
       "      <td>1</td>\n",
       "      <td>1</td>\n",
       "      <td>1</td>\n",
       "      <td>0</td>\n",
       "    </tr>\n",
       "    <tr>\n",
       "      <th>1156</th>\n",
       "      <td>0</td>\n",
       "      <td>78</td>\n",
       "      <td>1</td>\n",
       "      <td>1</td>\n",
       "      <td>1</td>\n",
       "      <td>1</td>\n",
       "      <td>1</td>\n",
       "      <td>1</td>\n",
       "      <td>1</td>\n",
       "      <td>1</td>\n",
       "      <td>1</td>\n",
       "      <td>2</td>\n",
       "      <td>1</td>\n",
       "      <td>1</td>\n",
       "      <td>1</td>\n",
       "      <td>0</td>\n",
       "    </tr>\n",
       "  </tbody>\n",
       "</table>\n",
       "<p>1157 rows × 16 columns</p>\n",
       "</div>"
      ],
      "text/plain": [
       "      GENDER  AGE  SMOKING  YELLOW_FINGERS  ANXIETY  PEER_PRESSURE  \\\n",
       "0          1   69        1               2        2              1   \n",
       "1          1   74        2               1        1              1   \n",
       "2          0   59        1               1        1              2   \n",
       "3          1   63        2               2        2              1   \n",
       "4          0   63        1               2        1              1   \n",
       "...      ...  ...      ...             ...      ...            ...   \n",
       "1152       0   74        1               1        1              1   \n",
       "1153       0   75        1               1        1              1   \n",
       "1154       0   76        1               1        1              1   \n",
       "1155       0   77        1               1        1              1   \n",
       "1156       0   78        1               1        1              1   \n",
       "\n",
       "      CHRONIC DISEASE  FATIGUE   ALLERGY   WHEEZING  ALCOHOL CONSUMING  \\\n",
       "0                   1         2         1         2                  2   \n",
       "1                   2         2         2         1                  1   \n",
       "2                   1         2         1         2                  1   \n",
       "3                   1         1         1         1                  2   \n",
       "4                   1         1         1         2                  1   \n",
       "...               ...       ...       ...       ...                ...   \n",
       "1152                1         1         1         1                  1   \n",
       "1153                1         1         1         1                  1   \n",
       "1154                1         1         1         1                  1   \n",
       "1155                1         1         1         1                  1   \n",
       "1156                1         1         1         1                  1   \n",
       "\n",
       "      COUGHING  SHORTNESS OF BREATH  SWALLOWING DIFFICULTY  CHEST PAIN  \\\n",
       "0            2                    2                      2           2   \n",
       "1            1                    2                      2           2   \n",
       "2            2                    2                      1           2   \n",
       "3            1                    1                      2           2   \n",
       "4            2                    2                      1           1   \n",
       "...        ...                  ...                    ...         ...   \n",
       "1152         2                    1                      1           1   \n",
       "1153         2                    1                      1           1   \n",
       "1154         2                    1                      1           1   \n",
       "1155         2                    1                      1           1   \n",
       "1156         2                    1                      1           1   \n",
       "\n",
       "      LUNG_CANCER  \n",
       "0               1  \n",
       "1               1  \n",
       "2               0  \n",
       "3               0  \n",
       "4               0  \n",
       "...           ...  \n",
       "1152            0  \n",
       "1153            0  \n",
       "1154            0  \n",
       "1155            0  \n",
       "1156            0  \n",
       "\n",
       "[1157 rows x 16 columns]"
      ]
     },
     "execution_count": 51,
     "metadata": {},
     "output_type": "execute_result"
    }
   ],
   "source": [
    "# data hasil preprocessing\n",
    "df"
   ]
  },
  {
   "cell_type": "markdown",
   "metadata": {
    "id": "TNUwQ5qzEsdy"
   },
   "source": [
    "kFold 10 Split"
   ]
  },
  {
   "cell_type": "code",
   "execution_count": null,
   "metadata": {
    "colab": {
     "base_uri": "https://localhost:8080/"
    },
    "id": "YG3QTv5iglFe",
    "outputId": "55e1c39d-726d-4958-f82e-8a3ab0936dc3"
   },
   "outputs": [],
   "source": [
    "# Angka 42 sering dipakai sebagai default seed \"tradisional\" di dunia pemrograman dan machine learning.\n",
    "# Ini adalah referensi dari buku \"The Hitchhiker's Guide to the Galaxy\" di mana 42 adalah \"the answer to the ultimate question of life, the universe, and everything\".\n",
    "kf = KFold(n_splits=10, shuffle=True, random_state=42) "
   ]
  },
  {
   "cell_type": "code",
   "execution_count": 53,
   "metadata": {},
   "outputs": [],
   "source": [
    "def evaluate_model_kfold(model, info):\n",
    "    accuracies = []\n",
    "    precisions = []\n",
    "    recalls = []\n",
    "    f1_scores = []\n",
    "    aucs = []\n",
    "\n",
    "    rows = []\n",
    "\n",
    "    print(f\"==== {info} ====\")\n",
    "\n",
    "    for fold, (train_index, val_index) in enumerate(kf.split(X), start=1):\n",
    "        X_train, X_val = X.iloc[train_index], X.iloc[val_index]\n",
    "        y_train, y_val = y.iloc[train_index], y.iloc[val_index]\n",
    "\n",
    "        model.fit(X_train, y_train)\n",
    "        y_pred = model.predict(X_val)\n",
    "        y_proba = model.predict_proba(X_val)[:, 1]  # Probabilitas kelas positif (1)\n",
    "\n",
    "        acc = accuracy_score(y_val, y_pred)\n",
    "        prec = precision_score(y_val, y_pred, average='binary')\n",
    "        rec = recall_score(y_val, y_pred, average='binary')\n",
    "        f1 = f1_score(y_val, y_pred, average='binary')\n",
    "        auc = roc_auc_score(y_val, y_proba)\n",
    "\n",
    "        accuracies.append(acc)\n",
    "        precisions.append(prec)\n",
    "        recalls.append(rec)\n",
    "        f1_scores.append(f1)\n",
    "        aucs.append(auc)\n",
    "\n",
    "        rows.append({\n",
    "            \"Fold\": fold,\n",
    "            \"Accuracy\": acc,\n",
    "            \"Precision\": prec,\n",
    "            \"Recall\": rec,\n",
    "            \"F1-Score\": f1,\n",
    "            \"AUC\": auc\n",
    "        })\n",
    "\n",
    "        print(f\"Fold {fold}: Accuracy={acc:.2f}, Precision={prec:.2f}, Recall={rec:.2f}, F1-Score={f1:.2f}, AUC={auc:.2f}\")\n",
    "\n",
    "    rows.append({\n",
    "        \"Fold\": \"Mean\",\n",
    "        \"Accuracy\": np.mean(accuracies),\n",
    "        \"Precision\": np.mean(precisions),\n",
    "        \"Recall\": np.mean(recalls),\n",
    "        \"F1-Score\": np.mean(f1_scores),\n",
    "        \"AUC\": np.mean(aucs)\n",
    "    })\n",
    "\n",
    "    print(f\"\\n--- Mean Metrics of {info} ---\")\n",
    "    print(f\"Mean Accuracy:  {np.mean(accuracies):.2f}\")\n",
    "    print(f\"Mean Precision: {np.mean(precisions):.2f}\")\n",
    "    print(f\"Mean Recall:    {np.mean(recalls):.2f}\")\n",
    "    print(f\"Mean F1-Score:  {np.mean(f1_scores):.2f}\")\n",
    "    print(f\"Mean AUC:       {np.mean(aucs):.2f}\")\n",
    "\n",
    "    # Simpan ke folder \"result/\"\n",
    "    os.makedirs(\"result\", exist_ok=True)\n",
    "    filename = f\"result/{info.lower().replace(' ', '_')}_evaluation.csv\"\n",
    "    pd.DataFrame(rows).to_csv(filename, index=False)\n",
    "    print(f\"\\n📁 Hasil evaluasi disimpan ke: {filename}\")"
   ]
  },
  {
   "cell_type": "code",
   "execution_count": 54,
   "metadata": {
    "colab": {
     "base_uri": "https://localhost:8080/",
     "height": 660
    },
    "id": "FJ-BXnf7wEeF",
    "outputId": "1ae7f922-1f07-4e85-f056-ded39427057e"
   },
   "outputs": [
    {
     "name": "stdout",
     "output_type": "stream",
     "text": [
      "==== Decision Tree ====\n",
      "Fold 1: Accuracy=0.95, Precision=0.98, Recall=0.91, F1-Score=0.94, AUC=0.93\n",
      "Fold 2: Accuracy=0.92, Precision=0.98, Recall=0.85, F1-Score=0.91, AUC=0.89\n",
      "Fold 3: Accuracy=0.97, Precision=0.96, Recall=0.96, F1-Score=0.96, AUC=0.96\n",
      "Fold 4: Accuracy=0.91, Precision=0.96, Recall=0.85, F1-Score=0.90, AUC=0.89\n",
      "Fold 5: Accuracy=0.93, Precision=0.98, Recall=0.88, F1-Score=0.93, AUC=0.91\n",
      "Fold 6: Accuracy=0.95, Precision=0.98, Recall=0.90, F1-Score=0.94, AUC=0.92\n",
      "Fold 7: Accuracy=0.93, Precision=0.98, Recall=0.86, F1-Score=0.91, AUC=0.90\n",
      "Fold 8: Accuracy=0.94, Precision=0.93, Recall=0.91, F1-Score=0.92, AUC=0.92\n",
      "Fold 9: Accuracy=0.95, Precision=1.00, Recall=0.86, F1-Score=0.93, AUC=0.90\n",
      "Fold 10: Accuracy=0.89, Precision=0.96, Recall=0.80, F1-Score=0.87, AUC=0.85\n",
      "\n",
      "--- Mean Metrics of Decision Tree ---\n",
      "Mean Accuracy:  0.93\n",
      "Mean Precision: 0.97\n",
      "Mean Recall:    0.88\n",
      "Mean F1-Score:  0.92\n",
      "Mean AUC:       0.91\n",
      "\n",
      "📁 Hasil evaluasi disimpan ke: result/decision_tree_evaluation.csv\n"
     ]
    }
   ],
   "source": [
    "dtree = DecisionTreeClassifier(random_state=42)\n",
    "\n",
    "evaluate_model_kfold(dtree, \"Decision Tree\")"
   ]
  },
  {
   "cell_type": "code",
   "execution_count": 55,
   "metadata": {},
   "outputs": [
    {
     "name": "stdout",
     "output_type": "stream",
     "text": [
      "==== Random Forest ====\n"
     ]
    },
    {
     "name": "stdout",
     "output_type": "stream",
     "text": [
      "Fold 1: Accuracy=0.97, Precision=0.98, Recall=0.94, F1-Score=0.96, AUC=0.98\n",
      "Fold 2: Accuracy=0.94, Precision=0.98, Recall=0.89, F1-Score=0.93, AUC=0.92\n",
      "Fold 3: Accuracy=0.96, Precision=0.94, Recall=0.96, F1-Score=0.95, AUC=0.96\n",
      "Fold 4: Accuracy=0.91, Precision=0.94, Recall=0.87, F1-Score=0.90, AUC=0.92\n",
      "Fold 5: Accuracy=0.92, Precision=0.98, Recall=0.86, F1-Score=0.92, AUC=0.93\n",
      "Fold 6: Accuracy=0.95, Precision=0.98, Recall=0.90, F1-Score=0.94, AUC=0.95\n",
      "Fold 7: Accuracy=0.91, Precision=0.95, Recall=0.84, F1-Score=0.89, AUC=0.93\n",
      "Fold 8: Accuracy=0.93, Precision=0.91, Recall=0.91, F1-Score=0.91, AUC=0.94\n",
      "Fold 9: Accuracy=0.95, Precision=0.97, Recall=0.89, F1-Score=0.93, AUC=0.93\n",
      "Fold 10: Accuracy=0.90, Precision=0.96, Recall=0.82, F1-Score=0.88, AUC=0.91\n",
      "\n",
      "--- Mean Metrics of Random Forest ---\n",
      "Mean Accuracy:  0.93\n",
      "Mean Precision: 0.96\n",
      "Mean Recall:    0.89\n",
      "Mean F1-Score:  0.92\n",
      "Mean AUC:       0.94\n",
      "\n",
      "📁 Hasil evaluasi disimpan ke: result/random_forest_evaluation.csv\n"
     ]
    }
   ],
   "source": [
    "rf = RandomForestClassifier(random_state=42)\n",
    "\n",
    "evaluate_model_kfold(rf, \"Random Forest\")"
   ]
  },
  {
   "cell_type": "code",
   "execution_count": 57,
   "metadata": {},
   "outputs": [],
   "source": [
    "def measure_execute_time(model):\n",
    "    execution_times = []\n",
    "\n",
    "    for _, (train_index, _) in enumerate(kf.split(X), start=1):\n",
    "        X_train, y_train = X.iloc[train_index], y.iloc[train_index]\n",
    "\n",
    "        start_time = time.time()\n",
    "        model.fit(X_train, y_train)\n",
    "        end_time = time.time()\n",
    "\n",
    "        elapsed_time = end_time - start_time\n",
    "        execution_times.append(elapsed_time)\n",
    "\n",
    "    return execution_times\n"
   ]
  },
  {
   "cell_type": "code",
   "execution_count": 58,
   "metadata": {
    "colab": {
     "base_uri": "https://localhost:8080/"
    },
    "id": "eOPxCGn4_2Sa",
    "outputId": "1546979a-c4fd-4e11-9e31-6e581e830520"
   },
   "outputs": [
    {
     "name": "stdout",
     "output_type": "stream",
     "text": [
      "Execution Time (Min): 0.0120 seconds\n",
      "Execution Time (Max): 0.0189 seconds\n"
     ]
    }
   ],
   "source": [
    "# mengukur waktu eksekusi DT\n",
    "execution_times_dt = measure_execute_time(dtree)\n",
    "\n",
    "# Ambil nilai terkecil dan terbesar\n",
    "min_time_dt = min(execution_times_dt)\n",
    "max_time_dt = max(execution_times_dt)\n",
    "\n",
    "# Tampilkan hasil\n",
    "print(f\"Execution Time (Min): {min_time_dt:.4f} seconds\")\n",
    "print(f\"Execution Time (Max): {max_time_dt:.4f} seconds\")"
   ]
  },
  {
   "cell_type": "code",
   "execution_count": 59,
   "metadata": {
    "colab": {
     "base_uri": "https://localhost:8080/"
    },
    "id": "TluvgtsiAJPs",
    "outputId": "8ccf169b-4a37-40f0-f7b0-d3360519ae00"
   },
   "outputs": [
    {
     "name": "stdout",
     "output_type": "stream",
     "text": [
      "Execution Time (Min): 0.6914 seconds\n",
      "Execution Time (Max): 0.9549 seconds\n"
     ]
    }
   ],
   "source": [
    "# mengukur waktu eksekusi RF\n",
    "execution_times_rf = measure_execute_time(rf)\n",
    "\n",
    "# Ambil nilai terkecil dan terbesar\n",
    "min_time_rf = min(execution_times_rf)\n",
    "max_time_rf = max(execution_times_rf)\n",
    "\n",
    "# Tampilkan hasil\n",
    "print(f\"Execution Time (Min): {min_time_rf:.4f} seconds\")\n",
    "print(f\"Execution Time (Max): {max_time_rf:.4f} seconds\")"
   ]
  },
  {
   "cell_type": "code",
   "execution_count": 60,
   "metadata": {},
   "outputs": [],
   "source": [
    "# Fungsi untuk mendapatkan penggunaan RAM awal dan akhir dari tracemalloc\n",
    "def process_memory():\n",
    "    snapshot, _ = tracemalloc.get_traced_memory()\n",
    "    return snapshot / (1024 * 1024)  # Konversi ke MB\n",
    "\n",
    "def measure_memory_usage(model):\n",
    "    memory_usages = []\n",
    "\n",
    "    for train_index, _ in kf.split(X):\n",
    "        X_train = X.iloc[train_index]\n",
    "        y_train = y.iloc[train_index]\n",
    "\n",
    "        tracemalloc.start()\n",
    "        initial_memory = process_memory()\n",
    "        model.fit(X_train, y_train)\n",
    "        final_memory = process_memory()\n",
    "        tracemalloc.stop()\n",
    "\n",
    "        memory_usage = final_memory - initial_memory\n",
    "        memory_usages.append(memory_usage)\n",
    "\n",
    "    return memory_usages"
   ]
  },
  {
   "cell_type": "code",
   "execution_count": 61,
   "metadata": {
    "colab": {
     "base_uri": "https://localhost:8080/"
    },
    "id": "dI6Kd3SSCbBe",
    "outputId": "7c2bf39c-0e5f-435c-c688-f296a162188c"
   },
   "outputs": [
    {
     "name": "stdout",
     "output_type": "stream",
     "text": [
      "Memory Usage (Min): 0.0025 MB\n",
      "Memory Usage (Max): 0.0032 MB\n"
     ]
    }
   ],
   "source": [
    "# Memory usage DT\n",
    "memory_usages_dt = measure_memory_usage(dtree)\n",
    "\n",
    "# Ambil nilai terkecil dan terbesar\n",
    "min_memory_dt, max_memory_dt = min(memory_usages_dt), max(memory_usages_dt)\n",
    "\n",
    "# Tampilkan hasil\n",
    "print(f\"Memory Usage (Min): {min_memory_dt:.4f} MB\")\n",
    "print(f\"Memory Usage (Max): {max_memory_dt:.4f} MB\")"
   ]
  },
  {
   "cell_type": "code",
   "execution_count": 62,
   "metadata": {
    "colab": {
     "base_uri": "https://localhost:8080/"
    },
    "id": "gb66udTtTIxb",
    "outputId": "35bebc1c-e78e-4f46-ec95-a3bb52891039"
   },
   "outputs": [
    {
     "name": "stdout",
     "output_type": "stream",
     "text": [
      "Memory Usage (Min): 0.0672 MB\n",
      "Memory Usage (Max): 0.0704 MB\n"
     ]
    }
   ],
   "source": [
    "# Memory usage RF\n",
    "memory_usages_rf = measure_memory_usage(rf)\n",
    "\n",
    "# Ambil nilai terkecil dan terbesar\n",
    "min_memory_rf, max_memory_rf = min(memory_usages_rf), max(memory_usages_rf)\n",
    "\n",
    "# Tampilkan hasil\n",
    "print(f\"Memory Usage (Min): {min_memory_rf:.4f} MB\")\n",
    "print(f\"Memory Usage (Max): {max_memory_rf:.4f} MB\")"
   ]
  },
  {
   "cell_type": "code",
   "execution_count": 63,
   "metadata": {},
   "outputs": [],
   "source": [
    "# gunakan: sudo chmod -R a+r /sys/class/powercap/intel-rapl diterminal, lalu restart kernel (opsional)\n",
    "# untuk handle: PermissionError: [Errno 13] Permission denied: '/sys/class/powercap/intel-rapl/intel-rapl:0/energy_uj'\n",
    "def measure_cpu_energy_usage(label, model):\n",
    "    pyRAPL.setup()\n",
    "\n",
    "    cpu_energies = []\n",
    "\n",
    "    for fold, (train_index, _) in enumerate(kf.split(X), start=1):\n",
    "        X_train, y_train = X.iloc[train_index], y.iloc[train_index]\n",
    "\n",
    "        meter = pyRAPL.Measurement(label)\n",
    "        \n",
    "        with meter:\n",
    "            model.fit(X_train, y_train)\n",
    "        \n",
    "        result = meter.result\n",
    "        cpu_energy_joule = result.pkg[0] * 1e-6 #convert dari microjoule ke joule\n",
    "        cpu_energies.append(cpu_energy_joule)\n",
    "\n",
    "    return min(cpu_energies), max(cpu_energies)"
   ]
  },
  {
   "cell_type": "code",
   "execution_count": 64,
   "metadata": {
    "id": "oxOPw8UHndlU"
   },
   "outputs": [
    {
     "name": "stdout",
     "output_type": "stream",
     "text": [
      "Label : dtree\n",
      "Begin : Tue May 27 16:50:07 2025\n",
      "Duration : 19536.7540 us\n",
      "-------------------------------\n",
      "PKG :\n",
      "\tsocket 0 :  114685.0000 uJ\n",
      "-------------------------------\n",
      "DRAM :\n",
      "\tsocket 0 :  38269.0000 uJ\n",
      "-------------------------------\n",
      "Label : dtree\n",
      "Begin : Tue May 27 16:50:07 2025\n",
      "Duration : 14416.0890 us\n",
      "-------------------------------\n",
      "PKG :\n",
      "\tsocket 0 :  82764.0000 uJ\n",
      "-------------------------------\n",
      "DRAM :\n",
      "\tsocket 0 :  27649.0000 uJ\n",
      "-------------------------------\n",
      "Label : dtree\n",
      "Begin : Tue May 27 16:50:07 2025\n",
      "Duration : 15002.6400 us\n",
      "-------------------------------\n",
      "PKG :\n",
      "\tsocket 0 :  70129.0000 uJ\n",
      "-------------------------------\n",
      "DRAM :\n",
      "\tsocket 0 :  20081.0000 uJ\n",
      "-------------------------------\n",
      "Label : dtree\n",
      "Begin : Tue May 27 16:50:07 2025\n",
      "Duration : 15261.5300 us\n",
      "-------------------------------\n",
      "PKG :\n",
      "\tsocket 0 :  100403.0000 uJ\n",
      "-------------------------------\n",
      "DRAM :\n",
      "\tsocket 0 :  30212.0000 uJ\n",
      "-------------------------------\n",
      "Label : dtree\n",
      "Begin : Tue May 27 16:50:07 2025\n",
      "Duration : 12589.4940 us\n",
      "-------------------------------\n",
      "PKG :\n",
      "\tsocket 0 :  76966.0000 uJ\n",
      "-------------------------------\n",
      "DRAM :\n",
      "\tsocket 0 :  16296.0000 uJ\n",
      "-------------------------------\n",
      "Label : dtree\n",
      "Begin : Tue May 27 16:50:07 2025\n",
      "Duration : 12048.2890 us\n",
      "-------------------------------\n",
      "PKG :\n",
      "\tsocket 0 :  58654.0000 uJ\n",
      "-------------------------------\n",
      "DRAM :\n",
      "\tsocket 0 :  13550.0000 uJ\n",
      "-------------------------------\n",
      "Label : dtree\n",
      "Begin : Tue May 27 16:50:07 2025\n",
      "Duration : 12009.0260 us\n",
      "-------------------------------\n",
      "PKG :\n",
      "\tsocket 0 :  37110.0000 uJ\n",
      "-------------------------------\n",
      "DRAM :\n",
      "\tsocket 0 :  12817.0000 uJ\n",
      "-------------------------------\n",
      "Label : dtree\n",
      "Begin : Tue May 27 16:50:07 2025\n",
      "Duration : 11814.4400 us\n",
      "-------------------------------\n",
      "PKG :\n",
      "\tsocket 0 :  42908.0000 uJ\n",
      "-------------------------------\n",
      "DRAM :\n",
      "\tsocket 0 :  18188.0000 uJ\n",
      "-------------------------------\n",
      "Label : dtree\n",
      "Begin : Tue May 27 16:50:07 2025\n",
      "Duration : 16378.7050 us\n",
      "-------------------------------\n",
      "PKG :\n",
      "\tsocket 0 :  62499.0000 uJ\n",
      "-------------------------------\n",
      "DRAM :\n",
      "\tsocket 0 :  29479.0000 uJ\n",
      "-------------------------------\n",
      "Label : dtree\n",
      "Begin : Tue May 27 16:50:07 2025\n",
      "Duration : 14199.2820 us\n",
      "-------------------------------\n",
      "PKG :\n",
      "\tsocket 0 :  60791.0000 uJ\n",
      "-------------------------------\n",
      "DRAM :\n",
      "\tsocket 0 :  26001.0000 uJ\n",
      "-------------------------------\n",
      "CPU Energy (Min): 0.0371 J\n",
      "CPU Energy (Max): 0.1147 J\n"
     ]
    }
   ],
   "source": [
    "# Measure CPU energy DT\n",
    "min_cpu_dt, max_cpu_dt = measure_cpu_energy_usage('dtree', dtree)\n",
    "\n",
    "# Tampilkan hasil\n",
    "print(f\"CPU Energy (Min): {min_cpu_dt:.4f} J\")\n",
    "print(f\"CPU Energy (Max): {max_cpu_dt:.4f} J\")"
   ]
  },
  {
   "cell_type": "code",
   "execution_count": 65,
   "metadata": {},
   "outputs": [
    {
     "name": "stdout",
     "output_type": "stream",
     "text": [
      "Label : random_forest\n",
      "Begin : Tue May 27 16:50:07 2025\n",
      "Duration : 836790.0610 us\n",
      "-------------------------------\n",
      "PKG :\n",
      "\tsocket 0 :  3995657.0000 uJ\n",
      "-------------------------------\n",
      "DRAM :\n",
      "\tsocket 0 :  1483151.0000 uJ\n",
      "-------------------------------\n",
      "Label : random_forest\n",
      "Begin : Tue May 27 16:50:08 2025\n",
      "Duration : 785201.1850 us\n",
      "-------------------------------\n",
      "PKG :\n",
      "\tsocket 0 :  2999931.0000 uJ\n",
      "-------------------------------\n",
      "DRAM :\n",
      "\tsocket 0 :  1237851.0000 uJ\n",
      "-------------------------------\n",
      "Label : random_forest\n",
      "Begin : Tue May 27 16:50:09 2025\n",
      "Duration : 746273.8750 us\n",
      "-------------------------------\n",
      "PKG :\n",
      "\tsocket 0 :  2976250.0000 uJ\n",
      "-------------------------------\n",
      "DRAM :\n",
      "\tsocket 0 :  1193478.0000 uJ\n",
      "-------------------------------\n",
      "Label : random_forest\n",
      "Begin : Tue May 27 16:50:10 2025\n",
      "Duration : 722380.8880 us\n",
      "-------------------------------\n",
      "PKG :\n",
      "\tsocket 0 :  2525384.0000 uJ\n",
      "-------------------------------\n",
      "DRAM :\n",
      "\tsocket 0 :  1076474.0000 uJ\n",
      "-------------------------------\n",
      "Label : random_forest\n",
      "Begin : Tue May 27 16:50:11 2025\n",
      "Duration : 739390.3650 us\n",
      "-------------------------------\n",
      "PKG :\n",
      "\tsocket 0 :  2696709.0000 uJ\n",
      "-------------------------------\n",
      "DRAM :\n",
      "\tsocket 0 :  1184507.0000 uJ\n",
      "-------------------------------\n",
      "Label : random_forest\n",
      "Begin : Tue May 27 16:50:11 2025\n",
      "Duration : 739925.6700 us\n",
      "-------------------------------\n",
      "PKG :\n",
      "\tsocket 0 :  2821831.0000 uJ\n",
      "-------------------------------\n",
      "DRAM :\n",
      "\tsocket 0 :  1239133.0000 uJ\n",
      "-------------------------------\n",
      "Label : random_forest\n",
      "Begin : Tue May 27 16:50:12 2025\n",
      "Duration : 730851.6250 us\n",
      "-------------------------------\n",
      "PKG :\n",
      "\tsocket 0 :  2792412.0000 uJ\n",
      "-------------------------------\n",
      "DRAM :\n",
      "\tsocket 0 :  1167111.0000 uJ\n",
      "-------------------------------\n",
      "Label : random_forest\n",
      "Begin : Tue May 27 16:50:13 2025\n",
      "Duration : 721063.4800 us\n",
      "-------------------------------\n",
      "PKG :\n",
      "\tsocket 0 :  2569695.0000 uJ\n",
      "-------------------------------\n",
      "DRAM :\n",
      "\tsocket 0 :  1088620.0000 uJ\n",
      "-------------------------------\n",
      "Label : random_forest\n",
      "Begin : Tue May 27 16:50:13 2025\n",
      "Duration : 723819.7300 us\n",
      "-------------------------------\n",
      "PKG :\n",
      "\tsocket 0 :  2621514.0000 uJ\n",
      "-------------------------------\n",
      "DRAM :\n",
      "\tsocket 0 :  1128049.0000 uJ\n",
      "-------------------------------\n",
      "Label : random_forest\n",
      "Begin : Tue May 27 16:50:14 2025\n",
      "Duration : 855822.6120 us\n",
      "-------------------------------\n",
      "PKG :\n",
      "\tsocket 0 :  3482535.0000 uJ\n",
      "-------------------------------\n",
      "DRAM :\n",
      "\tsocket 0 :  1422176.0000 uJ\n",
      "-------------------------------\n",
      "CPU Energy (Min): 2.5254 J\n",
      "CPU Energy (Max): 3.9957 J\n"
     ]
    }
   ],
   "source": [
    "# Measure CPU energy RF\n",
    "min_cpu_rf, max_cpu_rf = measure_cpu_energy_usage('random_forest', rf)\n",
    "\n",
    "# Tampilkan hasil\n",
    "print(f\"CPU Energy (Min): {min_cpu_rf:.4f} J\")\n",
    "print(f\"CPU Energy (Max): {max_cpu_rf:.4f} J\")"
   ]
  },
  {
   "cell_type": "code",
   "execution_count": 82,
   "metadata": {},
   "outputs": [
    {
     "name": "stdout",
     "output_type": "stream",
     "text": [
      "=== Sistem Operasi (OS) Info ===\n",
      "OS Name         : Linux\n",
      "Distro Name     : Ubuntu\n",
      "Version         : 24.04\n",
      "Details         : {'distributor_id': 'Ubuntu', 'description': 'Ubuntu 24.04.2 LTS', 'release': '24.04', 'codename': 'noble'}\n",
      "Kernel Version  : 6.11.0-17-generic\n",
      "Python Path     : /home/yashlan/Documents/GitHub/lung-cancer-prediction/myvenv/bin/python\n",
      "Python Version  : 3.12.3\n",
      "\n",
      "=== System Information ===\n",
      "CPU Model        : Intel(R) Core(TM) i7-10610U CPU @ 1.80GHz\n",
      "CPU Architecture : x86_64\n",
      "CPU Cores        : 4 (Physical), 8 (Logical)\n",
      "CPU Max Frequency: 4900.0 MHz\n",
      "Total RAM        : 15.27 GB\n",
      "Total Disk       : 63.0 GB\n",
      "GPU Model        : None (N/A)\n",
      "\n",
      "=== CPU Cache Information ===\n",
      "L1 Instruction Cache: 128 KiB (4 instances)\n",
      "L1 Data Cache      : 128 KiB (4 instances)\n",
      "L2 Cache           : 1 MiB (4 instances)\n",
      "L3 Cache           : 8 MiB (1 instance)\n",
      "\n",
      "No GPU detected.\n"
     ]
    }
   ],
   "source": [
    "#Informasi Perangkat yang saya gunakan\n",
    "# OS\n",
    "print(\"=== Sistem Operasi (OS) Info ===\")\n",
    "print(f\"OS Name         : {\"Linux\" if os.name == \"posix\" else \"Unknown\"}\")\n",
    "print(f\"Distro Name     : {distro.name()}\")\n",
    "print(f\"Version         : {distro.version()}\")\n",
    "print(f\"Details         : {distro.lsb_release_info()}\")\n",
    "print(f\"Kernel Version  : {platform.release()}\")\n",
    "print(f\"Python Path     : {sys.executable}\")\n",
    "print(f\"Python Version  : {platform.python_version()}\")\n",
    "print()\n",
    "\n",
    "# Informasi CPU\n",
    "cpu_model = subprocess.run([\"cat\", \"/proc/cpuinfo\"], capture_output=True, text=True).stdout\n",
    "cpu_name = [line for line in cpu_model.split(\"\\n\") if \"model name\" in line]\n",
    "cpu_name = cpu_name[0].split(\":\")[1].strip() if cpu_name else \"Unknown\"\n",
    "\n",
    "cpu_architecture = platform.machine()\n",
    "cpu_cores = psutil.cpu_count(logical=False)\n",
    "cpu_threads = psutil.cpu_count(logical=True)\n",
    "cpu_freq = psutil.cpu_freq().max if psutil.cpu_freq() else \"Unknown\"\n",
    "\n",
    "# Informasi Cache CPU\n",
    "cache_info = subprocess.run([\"lscpu\"], capture_output=True, text=True).stdout\n",
    "l1_instruction_cache, l1_data_cache, l2_cache, l3_cache = \"Unknown\", \"Unknown\", \"Unknown\", \"Unknown\"\n",
    "\n",
    "for line in cache_info.split(\"\\n\"):\n",
    "    if \"L1d cache\" in line:\n",
    "        l1_data_cache = line.split(\":\")[1].strip()\n",
    "    elif \"L1i cache\" in line:\n",
    "        l1_instruction_cache = line.split(\":\")[1].strip()\n",
    "    elif \"L2 cache\" in line:\n",
    "        l2_cache = line.split(\":\")[1].strip()\n",
    "    elif \"L3 cache\" in line:\n",
    "        l3_cache = line.split(\":\")[1].strip()\n",
    "\n",
    "# Informasi RAM\n",
    "ram = psutil.virtual_memory()\n",
    "total_ram = round(ram.total / (1024**3), 2)  # Konversi ke GB\n",
    "\n",
    "# Informasi Disk\n",
    "disk = psutil.disk_usage('/')\n",
    "total_disk = round(disk.total / (1024**3), 2)\n",
    "\n",
    "# Informasi GPU (jika tersedia)\n",
    "gpu_name = \"None\"\n",
    "gpu_memory = \"N/A\"\n",
    "gpu_info = \"No GPU detected.\"\n",
    "\n",
    "if torch.cuda.is_available():\n",
    "    gpu_name = torch.cuda.get_device_name(0)\n",
    "    total_memory = torch.cuda.get_device_properties(0).total_memory\n",
    "    gpu_memory = f\"{round(total_memory / (1024**3), 2)} GB\"\n",
    "\n",
    "    # Gunakan nvidia-smi untuk detail tambahan\n",
    "    nvidia_info = subprocess.run([\"nvidia-smi\", \"--query-gpu=name,memory.total\", \"--format=csv\"], \n",
    "                                 capture_output=True, text=True).stdout\n",
    "    gpu_info = nvidia_info if nvidia_info else gpu_name\n",
    "\n",
    "# Output\n",
    "print(\"=== System Information ===\")\n",
    "print(f\"CPU Model        : {cpu_name}\")\n",
    "print(f\"CPU Architecture : {cpu_architecture}\")\n",
    "print(f\"CPU Cores        : {cpu_cores} (Physical), {cpu_threads} (Logical)\")\n",
    "print(f\"CPU Max Frequency: {cpu_freq} MHz\")\n",
    "print(f\"Total RAM        : {total_ram} GB\")\n",
    "print(f\"Total Disk       : {total_disk} GB\")\n",
    "print(f\"GPU Model        : {gpu_name} ({gpu_memory})\")\n",
    "\n",
    "print(\"\\n=== CPU Cache Information ===\")\n",
    "print(f\"L1 Instruction Cache: {l1_instruction_cache}\")\n",
    "print(f\"L1 Data Cache      : {l1_data_cache}\")\n",
    "print(f\"L2 Cache           : {l2_cache}\")\n",
    "print(f\"L3 Cache           : {l3_cache}\")\n",
    "\n",
    "if torch.cuda.is_available():\n",
    "    print(\"\\n=== GPU Details ===\")\n",
    "    print(gpu_info)\n",
    "else:\n",
    "    print(\"\\nNo GPU detected.\")"
   ]
  }
 ],
 "metadata": {
  "colab": {
   "provenance": []
  },
  "kernelspec": {
   "display_name": "myvenv",
   "language": "python",
   "name": "python3"
  },
  "language_info": {
   "codemirror_mode": {
    "name": "ipython",
    "version": 3
   },
   "file_extension": ".py",
   "mimetype": "text/x-python",
   "name": "python",
   "nbconvert_exporter": "python",
   "pygments_lexer": "ipython3",
   "version": "3.12.3"
  }
 },
 "nbformat": 4,
 "nbformat_minor": 4
}
