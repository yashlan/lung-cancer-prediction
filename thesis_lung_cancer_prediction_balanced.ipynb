{
 "cells": [
  {
   "cell_type": "code",
   "execution_count": 37,
   "metadata": {
    "id": "J61UThNngmn5"
   },
   "outputs": [],
   "source": [
    "from sklearn.metrics import accuracy_score, precision_score, recall_score, f1_score, classification_report, confusion_matrix, roc_curve, roc_auc_score\n",
    "import seaborn as sns\n",
    "from sklearn.calibration import cross_val_predict\n",
    "from sklearn.model_selection import KFold, StratifiedKFold, cross_val_score\n",
    "import matplotlib.pyplot as plt\n",
    "from sklearn.tree import DecisionTreeClassifier\n",
    "from sklearn.ensemble import RandomForestClassifier\n",
    "from sklearn.model_selection import train_test_split\n",
    "import plotly.express as px\n",
    "import pandas as pd\n",
    "import psutil\n",
    "import tracemalloc\n",
    "import numpy as np\n",
    "import torch\n",
    "import platform\n",
    "import subprocess\n",
    "import pyRAPL\n",
    "import plotly.graph_objects as go\n",
    "import timeit"
   ]
  },
  {
   "cell_type": "code",
   "execution_count": 9,
   "metadata": {
    "colab": {
     "base_uri": "https://localhost:8080/",
     "height": 244
    },
    "id": "NEIERaRldyub",
    "outputId": "9fc9b221-cb10-452d-9e34-d55f65c6e21f"
   },
   "outputs": [
    {
     "data": {
      "text/html": [
       "<div>\n",
       "<style scoped>\n",
       "    .dataframe tbody tr th:only-of-type {\n",
       "        vertical-align: middle;\n",
       "    }\n",
       "\n",
       "    .dataframe tbody tr th {\n",
       "        vertical-align: top;\n",
       "    }\n",
       "\n",
       "    .dataframe thead th {\n",
       "        text-align: right;\n",
       "    }\n",
       "</style>\n",
       "<table border=\"1\" class=\"dataframe\">\n",
       "  <thead>\n",
       "    <tr style=\"text-align: right;\">\n",
       "      <th></th>\n",
       "      <th>GENDER</th>\n",
       "      <th>AGE</th>\n",
       "      <th>SMOKING</th>\n",
       "      <th>YELLOW_FINGERS</th>\n",
       "      <th>ANXIETY</th>\n",
       "      <th>PEER_PRESSURE</th>\n",
       "      <th>CHRONIC DISEASE</th>\n",
       "      <th>FATIGUE</th>\n",
       "      <th>ALLERGY</th>\n",
       "      <th>WHEEZING</th>\n",
       "      <th>ALCOHOL CONSUMING</th>\n",
       "      <th>COUGHING</th>\n",
       "      <th>SHORTNESS OF BREATH</th>\n",
       "      <th>SWALLOWING DIFFICULTY</th>\n",
       "      <th>CHEST PAIN</th>\n",
       "      <th>LUNG_CANCER</th>\n",
       "    </tr>\n",
       "  </thead>\n",
       "  <tbody>\n",
       "    <tr>\n",
       "      <th>0</th>\n",
       "      <td>M</td>\n",
       "      <td>69</td>\n",
       "      <td>1</td>\n",
       "      <td>2</td>\n",
       "      <td>2</td>\n",
       "      <td>1</td>\n",
       "      <td>1</td>\n",
       "      <td>2</td>\n",
       "      <td>1</td>\n",
       "      <td>2</td>\n",
       "      <td>2</td>\n",
       "      <td>2</td>\n",
       "      <td>2</td>\n",
       "      <td>2</td>\n",
       "      <td>2</td>\n",
       "      <td>YES</td>\n",
       "    </tr>\n",
       "    <tr>\n",
       "      <th>1</th>\n",
       "      <td>M</td>\n",
       "      <td>74</td>\n",
       "      <td>2</td>\n",
       "      <td>1</td>\n",
       "      <td>1</td>\n",
       "      <td>1</td>\n",
       "      <td>2</td>\n",
       "      <td>2</td>\n",
       "      <td>2</td>\n",
       "      <td>1</td>\n",
       "      <td>1</td>\n",
       "      <td>1</td>\n",
       "      <td>2</td>\n",
       "      <td>2</td>\n",
       "      <td>2</td>\n",
       "      <td>YES</td>\n",
       "    </tr>\n",
       "    <tr>\n",
       "      <th>2</th>\n",
       "      <td>F</td>\n",
       "      <td>59</td>\n",
       "      <td>1</td>\n",
       "      <td>1</td>\n",
       "      <td>1</td>\n",
       "      <td>2</td>\n",
       "      <td>1</td>\n",
       "      <td>2</td>\n",
       "      <td>1</td>\n",
       "      <td>2</td>\n",
       "      <td>1</td>\n",
       "      <td>2</td>\n",
       "      <td>2</td>\n",
       "      <td>1</td>\n",
       "      <td>2</td>\n",
       "      <td>NO</td>\n",
       "    </tr>\n",
       "    <tr>\n",
       "      <th>3</th>\n",
       "      <td>M</td>\n",
       "      <td>63</td>\n",
       "      <td>2</td>\n",
       "      <td>2</td>\n",
       "      <td>2</td>\n",
       "      <td>1</td>\n",
       "      <td>1</td>\n",
       "      <td>1</td>\n",
       "      <td>1</td>\n",
       "      <td>1</td>\n",
       "      <td>2</td>\n",
       "      <td>1</td>\n",
       "      <td>1</td>\n",
       "      <td>2</td>\n",
       "      <td>2</td>\n",
       "      <td>NO</td>\n",
       "    </tr>\n",
       "    <tr>\n",
       "      <th>4</th>\n",
       "      <td>F</td>\n",
       "      <td>63</td>\n",
       "      <td>1</td>\n",
       "      <td>2</td>\n",
       "      <td>1</td>\n",
       "      <td>1</td>\n",
       "      <td>1</td>\n",
       "      <td>1</td>\n",
       "      <td>1</td>\n",
       "      <td>2</td>\n",
       "      <td>1</td>\n",
       "      <td>2</td>\n",
       "      <td>2</td>\n",
       "      <td>1</td>\n",
       "      <td>1</td>\n",
       "      <td>NO</td>\n",
       "    </tr>\n",
       "  </tbody>\n",
       "</table>\n",
       "</div>"
      ],
      "text/plain": [
       "  GENDER  AGE  SMOKING  YELLOW_FINGERS  ANXIETY  PEER_PRESSURE  \\\n",
       "0      M   69        1               2        2              1   \n",
       "1      M   74        2               1        1              1   \n",
       "2      F   59        1               1        1              2   \n",
       "3      M   63        2               2        2              1   \n",
       "4      F   63        1               2        1              1   \n",
       "\n",
       "   CHRONIC DISEASE  FATIGUE   ALLERGY   WHEEZING  ALCOHOL CONSUMING  COUGHING  \\\n",
       "0                1         2         1         2                  2         2   \n",
       "1                2         2         2         1                  1         1   \n",
       "2                1         2         1         2                  1         2   \n",
       "3                1         1         1         1                  2         1   \n",
       "4                1         1         1         2                  1         2   \n",
       "\n",
       "   SHORTNESS OF BREATH  SWALLOWING DIFFICULTY  CHEST PAIN LUNG_CANCER  \n",
       "0                    2                      2           2         YES  \n",
       "1                    2                      2           2         YES  \n",
       "2                    2                      1           2          NO  \n",
       "3                    1                      2           2          NO  \n",
       "4                    2                      1           1          NO  "
      ]
     },
     "execution_count": 9,
     "metadata": {},
     "output_type": "execute_result"
    }
   ],
   "source": [
    "# Load dataset\n",
    "path = 'lcs.csv'\n",
    "\n",
    "df = pd.read_csv(path)\n",
    "\n",
    "df.head()"
   ]
  },
  {
   "cell_type": "code",
   "execution_count": 26,
   "metadata": {},
   "outputs": [
    {
     "data": {
      "text/plain": [
       "(1157, 16)"
      ]
     },
     "execution_count": 26,
     "metadata": {},
     "output_type": "execute_result"
    }
   ],
   "source": [
    "df.shape"
   ]
  },
  {
   "cell_type": "code",
   "execution_count": 3,
   "metadata": {
    "colab": {
     "base_uri": "https://localhost:8080/"
    },
    "id": "w_PMXwD1aqxP",
    "outputId": "cb700822-852d-494d-e544-e3233e2abfa7"
   },
   "outputs": [
    {
     "data": {
      "text/plain": [
       "Index(['GENDER', 'AGE', 'SMOKING', 'YELLOW_FINGERS', 'ANXIETY',\n",
       "       'PEER_PRESSURE', 'CHRONIC DISEASE', 'FATIGUE ', 'ALLERGY ', 'WHEEZING',\n",
       "       'ALCOHOL CONSUMING', 'COUGHING', 'SHORTNESS OF BREATH',\n",
       "       'SWALLOWING DIFFICULTY', 'CHEST PAIN', 'LUNG_CANCER'],\n",
       "      dtype='object')"
      ]
     },
     "execution_count": 3,
     "metadata": {},
     "output_type": "execute_result"
    }
   ],
   "source": [
    "df.columns"
   ]
  },
  {
   "cell_type": "code",
   "execution_count": 4,
   "metadata": {
    "colab": {
     "base_uri": "https://localhost:8080/"
    },
    "id": "QoOk1Khkauva",
    "outputId": "2cb3e0bd-3780-4bbd-fddc-b7c819b41dd4"
   },
   "outputs": [
    {
     "name": "stdout",
     "output_type": "stream",
     "text": [
      "GENDER                   object\n",
      "AGE                       int64\n",
      "SMOKING                   int64\n",
      "YELLOW_FINGERS            int64\n",
      "ANXIETY                   int64\n",
      "PEER_PRESSURE             int64\n",
      "CHRONIC DISEASE           int64\n",
      "FATIGUE                   int64\n",
      "ALLERGY                   int64\n",
      "WHEEZING                  int64\n",
      "ALCOHOL CONSUMING         int64\n",
      "COUGHING                  int64\n",
      "SHORTNESS OF BREATH       int64\n",
      "SWALLOWING DIFFICULTY     int64\n",
      "CHEST PAIN                int64\n",
      "LUNG_CANCER              object\n",
      "dtype: object\n"
     ]
    }
   ],
   "source": [
    "print(df.dtypes)"
   ]
  },
  {
   "cell_type": "code",
   "execution_count": 5,
   "metadata": {
    "colab": {
     "base_uri": "https://localhost:8080/",
     "height": 542
    },
    "id": "6e9_MUFka2T1",
    "outputId": "af6db1d7-9859-424b-9162-f642e1e09846"
   },
   "outputs": [
    {
     "data": {
      "application/vnd.plotly.v1+json": {
       "config": {
        "plotlyServerURL": "https://plot.ly"
       },
       "data": [
        {
         "hovertemplate": "Lung Cancer Category=%{x}<br>Count=%{y}<br>text=%{text}<extra></extra>",
         "legendgroup": "NO",
         "marker": {
          "color": "rgb(228,26,28)",
          "pattern": {
           "shape": ""
          }
         },
         "name": "NO",
         "orientation": "v",
         "showlegend": true,
         "text": [
          "644 (55.7%)"
         ],
         "textposition": "outside",
         "texttemplate": "%{text}",
         "type": "bar",
         "x": [
          "NO"
         ],
         "xaxis": "x",
         "y": {
          "bdata": "hAI=",
          "dtype": "i2"
         },
         "yaxis": "y"
        },
        {
         "hovertemplate": "Lung Cancer Category=%{x}<br>Count=%{y}<br>text=%{text}<extra></extra>",
         "legendgroup": "YES",
         "marker": {
          "color": "rgb(55,126,184)",
          "pattern": {
           "shape": ""
          }
         },
         "name": "YES",
         "orientation": "v",
         "showlegend": true,
         "text": [
          "513 (44.3%)"
         ],
         "textposition": "outside",
         "texttemplate": "%{text}",
         "type": "bar",
         "x": [
          "YES"
         ],
         "xaxis": "x",
         "y": {
          "bdata": "AQI=",
          "dtype": "i2"
         },
         "yaxis": "y"
        }
       ],
       "layout": {
        "barmode": "relative",
        "legend": {
         "title": {
          "text": "Lung Cancer Category"
         },
         "tracegroupgap": 0
        },
        "margin": {
         "b": 50,
         "l": 50,
         "r": 50,
         "t": 50
        },
        "template": {
         "data": {
          "bar": [
           {
            "error_x": {
             "color": "#2a3f5f"
            },
            "error_y": {
             "color": "#2a3f5f"
            },
            "marker": {
             "line": {
              "color": "#E5ECF6",
              "width": 0.5
             },
             "pattern": {
              "fillmode": "overlay",
              "size": 10,
              "solidity": 0.2
             }
            },
            "type": "bar"
           }
          ],
          "barpolar": [
           {
            "marker": {
             "line": {
              "color": "#E5ECF6",
              "width": 0.5
             },
             "pattern": {
              "fillmode": "overlay",
              "size": 10,
              "solidity": 0.2
             }
            },
            "type": "barpolar"
           }
          ],
          "carpet": [
           {
            "aaxis": {
             "endlinecolor": "#2a3f5f",
             "gridcolor": "white",
             "linecolor": "white",
             "minorgridcolor": "white",
             "startlinecolor": "#2a3f5f"
            },
            "baxis": {
             "endlinecolor": "#2a3f5f",
             "gridcolor": "white",
             "linecolor": "white",
             "minorgridcolor": "white",
             "startlinecolor": "#2a3f5f"
            },
            "type": "carpet"
           }
          ],
          "choropleth": [
           {
            "colorbar": {
             "outlinewidth": 0,
             "ticks": ""
            },
            "type": "choropleth"
           }
          ],
          "contour": [
           {
            "colorbar": {
             "outlinewidth": 0,
             "ticks": ""
            },
            "colorscale": [
             [
              0,
              "#0d0887"
             ],
             [
              0.1111111111111111,
              "#46039f"
             ],
             [
              0.2222222222222222,
              "#7201a8"
             ],
             [
              0.3333333333333333,
              "#9c179e"
             ],
             [
              0.4444444444444444,
              "#bd3786"
             ],
             [
              0.5555555555555556,
              "#d8576b"
             ],
             [
              0.6666666666666666,
              "#ed7953"
             ],
             [
              0.7777777777777778,
              "#fb9f3a"
             ],
             [
              0.8888888888888888,
              "#fdca26"
             ],
             [
              1,
              "#f0f921"
             ]
            ],
            "type": "contour"
           }
          ],
          "contourcarpet": [
           {
            "colorbar": {
             "outlinewidth": 0,
             "ticks": ""
            },
            "type": "contourcarpet"
           }
          ],
          "heatmap": [
           {
            "colorbar": {
             "outlinewidth": 0,
             "ticks": ""
            },
            "colorscale": [
             [
              0,
              "#0d0887"
             ],
             [
              0.1111111111111111,
              "#46039f"
             ],
             [
              0.2222222222222222,
              "#7201a8"
             ],
             [
              0.3333333333333333,
              "#9c179e"
             ],
             [
              0.4444444444444444,
              "#bd3786"
             ],
             [
              0.5555555555555556,
              "#d8576b"
             ],
             [
              0.6666666666666666,
              "#ed7953"
             ],
             [
              0.7777777777777778,
              "#fb9f3a"
             ],
             [
              0.8888888888888888,
              "#fdca26"
             ],
             [
              1,
              "#f0f921"
             ]
            ],
            "type": "heatmap"
           }
          ],
          "histogram": [
           {
            "marker": {
             "pattern": {
              "fillmode": "overlay",
              "size": 10,
              "solidity": 0.2
             }
            },
            "type": "histogram"
           }
          ],
          "histogram2d": [
           {
            "colorbar": {
             "outlinewidth": 0,
             "ticks": ""
            },
            "colorscale": [
             [
              0,
              "#0d0887"
             ],
             [
              0.1111111111111111,
              "#46039f"
             ],
             [
              0.2222222222222222,
              "#7201a8"
             ],
             [
              0.3333333333333333,
              "#9c179e"
             ],
             [
              0.4444444444444444,
              "#bd3786"
             ],
             [
              0.5555555555555556,
              "#d8576b"
             ],
             [
              0.6666666666666666,
              "#ed7953"
             ],
             [
              0.7777777777777778,
              "#fb9f3a"
             ],
             [
              0.8888888888888888,
              "#fdca26"
             ],
             [
              1,
              "#f0f921"
             ]
            ],
            "type": "histogram2d"
           }
          ],
          "histogram2dcontour": [
           {
            "colorbar": {
             "outlinewidth": 0,
             "ticks": ""
            },
            "colorscale": [
             [
              0,
              "#0d0887"
             ],
             [
              0.1111111111111111,
              "#46039f"
             ],
             [
              0.2222222222222222,
              "#7201a8"
             ],
             [
              0.3333333333333333,
              "#9c179e"
             ],
             [
              0.4444444444444444,
              "#bd3786"
             ],
             [
              0.5555555555555556,
              "#d8576b"
             ],
             [
              0.6666666666666666,
              "#ed7953"
             ],
             [
              0.7777777777777778,
              "#fb9f3a"
             ],
             [
              0.8888888888888888,
              "#fdca26"
             ],
             [
              1,
              "#f0f921"
             ]
            ],
            "type": "histogram2dcontour"
           }
          ],
          "mesh3d": [
           {
            "colorbar": {
             "outlinewidth": 0,
             "ticks": ""
            },
            "type": "mesh3d"
           }
          ],
          "parcoords": [
           {
            "line": {
             "colorbar": {
              "outlinewidth": 0,
              "ticks": ""
             }
            },
            "type": "parcoords"
           }
          ],
          "pie": [
           {
            "automargin": true,
            "type": "pie"
           }
          ],
          "scatter": [
           {
            "fillpattern": {
             "fillmode": "overlay",
             "size": 10,
             "solidity": 0.2
            },
            "type": "scatter"
           }
          ],
          "scatter3d": [
           {
            "line": {
             "colorbar": {
              "outlinewidth": 0,
              "ticks": ""
             }
            },
            "marker": {
             "colorbar": {
              "outlinewidth": 0,
              "ticks": ""
             }
            },
            "type": "scatter3d"
           }
          ],
          "scattercarpet": [
           {
            "marker": {
             "colorbar": {
              "outlinewidth": 0,
              "ticks": ""
             }
            },
            "type": "scattercarpet"
           }
          ],
          "scattergeo": [
           {
            "marker": {
             "colorbar": {
              "outlinewidth": 0,
              "ticks": ""
             }
            },
            "type": "scattergeo"
           }
          ],
          "scattergl": [
           {
            "marker": {
             "colorbar": {
              "outlinewidth": 0,
              "ticks": ""
             }
            },
            "type": "scattergl"
           }
          ],
          "scattermap": [
           {
            "marker": {
             "colorbar": {
              "outlinewidth": 0,
              "ticks": ""
             }
            },
            "type": "scattermap"
           }
          ],
          "scattermapbox": [
           {
            "marker": {
             "colorbar": {
              "outlinewidth": 0,
              "ticks": ""
             }
            },
            "type": "scattermapbox"
           }
          ],
          "scatterpolar": [
           {
            "marker": {
             "colorbar": {
              "outlinewidth": 0,
              "ticks": ""
             }
            },
            "type": "scatterpolar"
           }
          ],
          "scatterpolargl": [
           {
            "marker": {
             "colorbar": {
              "outlinewidth": 0,
              "ticks": ""
             }
            },
            "type": "scatterpolargl"
           }
          ],
          "scatterternary": [
           {
            "marker": {
             "colorbar": {
              "outlinewidth": 0,
              "ticks": ""
             }
            },
            "type": "scatterternary"
           }
          ],
          "surface": [
           {
            "colorbar": {
             "outlinewidth": 0,
             "ticks": ""
            },
            "colorscale": [
             [
              0,
              "#0d0887"
             ],
             [
              0.1111111111111111,
              "#46039f"
             ],
             [
              0.2222222222222222,
              "#7201a8"
             ],
             [
              0.3333333333333333,
              "#9c179e"
             ],
             [
              0.4444444444444444,
              "#bd3786"
             ],
             [
              0.5555555555555556,
              "#d8576b"
             ],
             [
              0.6666666666666666,
              "#ed7953"
             ],
             [
              0.7777777777777778,
              "#fb9f3a"
             ],
             [
              0.8888888888888888,
              "#fdca26"
             ],
             [
              1,
              "#f0f921"
             ]
            ],
            "type": "surface"
           }
          ],
          "table": [
           {
            "cells": {
             "fill": {
              "color": "#EBF0F8"
             },
             "line": {
              "color": "white"
             }
            },
            "header": {
             "fill": {
              "color": "#C8D4E3"
             },
             "line": {
              "color": "white"
             }
            },
            "type": "table"
           }
          ]
         },
         "layout": {
          "annotationdefaults": {
           "arrowcolor": "#2a3f5f",
           "arrowhead": 0,
           "arrowwidth": 1
          },
          "autotypenumbers": "strict",
          "coloraxis": {
           "colorbar": {
            "outlinewidth": 0,
            "ticks": ""
           }
          },
          "colorscale": {
           "diverging": [
            [
             0,
             "#8e0152"
            ],
            [
             0.1,
             "#c51b7d"
            ],
            [
             0.2,
             "#de77ae"
            ],
            [
             0.3,
             "#f1b6da"
            ],
            [
             0.4,
             "#fde0ef"
            ],
            [
             0.5,
             "#f7f7f7"
            ],
            [
             0.6,
             "#e6f5d0"
            ],
            [
             0.7,
             "#b8e186"
            ],
            [
             0.8,
             "#7fbc41"
            ],
            [
             0.9,
             "#4d9221"
            ],
            [
             1,
             "#276419"
            ]
           ],
           "sequential": [
            [
             0,
             "#0d0887"
            ],
            [
             0.1111111111111111,
             "#46039f"
            ],
            [
             0.2222222222222222,
             "#7201a8"
            ],
            [
             0.3333333333333333,
             "#9c179e"
            ],
            [
             0.4444444444444444,
             "#bd3786"
            ],
            [
             0.5555555555555556,
             "#d8576b"
            ],
            [
             0.6666666666666666,
             "#ed7953"
            ],
            [
             0.7777777777777778,
             "#fb9f3a"
            ],
            [
             0.8888888888888888,
             "#fdca26"
            ],
            [
             1,
             "#f0f921"
            ]
           ],
           "sequentialminus": [
            [
             0,
             "#0d0887"
            ],
            [
             0.1111111111111111,
             "#46039f"
            ],
            [
             0.2222222222222222,
             "#7201a8"
            ],
            [
             0.3333333333333333,
             "#9c179e"
            ],
            [
             0.4444444444444444,
             "#bd3786"
            ],
            [
             0.5555555555555556,
             "#d8576b"
            ],
            [
             0.6666666666666666,
             "#ed7953"
            ],
            [
             0.7777777777777778,
             "#fb9f3a"
            ],
            [
             0.8888888888888888,
             "#fdca26"
            ],
            [
             1,
             "#f0f921"
            ]
           ]
          },
          "colorway": [
           "#636efa",
           "#EF553B",
           "#00cc96",
           "#ab63fa",
           "#FFA15A",
           "#19d3f3",
           "#FF6692",
           "#B6E880",
           "#FF97FF",
           "#FECB52"
          ],
          "font": {
           "color": "#2a3f5f"
          },
          "geo": {
           "bgcolor": "white",
           "lakecolor": "white",
           "landcolor": "#E5ECF6",
           "showlakes": true,
           "showland": true,
           "subunitcolor": "white"
          },
          "hoverlabel": {
           "align": "left"
          },
          "hovermode": "closest",
          "mapbox": {
           "style": "light"
          },
          "paper_bgcolor": "white",
          "plot_bgcolor": "#E5ECF6",
          "polar": {
           "angularaxis": {
            "gridcolor": "white",
            "linecolor": "white",
            "ticks": ""
           },
           "bgcolor": "#E5ECF6",
           "radialaxis": {
            "gridcolor": "white",
            "linecolor": "white",
            "ticks": ""
           }
          },
          "scene": {
           "xaxis": {
            "backgroundcolor": "#E5ECF6",
            "gridcolor": "white",
            "gridwidth": 2,
            "linecolor": "white",
            "showbackground": true,
            "ticks": "",
            "zerolinecolor": "white"
           },
           "yaxis": {
            "backgroundcolor": "#E5ECF6",
            "gridcolor": "white",
            "gridwidth": 2,
            "linecolor": "white",
            "showbackground": true,
            "ticks": "",
            "zerolinecolor": "white"
           },
           "zaxis": {
            "backgroundcolor": "#E5ECF6",
            "gridcolor": "white",
            "gridwidth": 2,
            "linecolor": "white",
            "showbackground": true,
            "ticks": "",
            "zerolinecolor": "white"
           }
          },
          "shapedefaults": {
           "line": {
            "color": "#2a3f5f"
           }
          },
          "ternary": {
           "aaxis": {
            "gridcolor": "white",
            "linecolor": "white",
            "ticks": ""
           },
           "baxis": {
            "gridcolor": "white",
            "linecolor": "white",
            "ticks": ""
           },
           "bgcolor": "#E5ECF6",
           "caxis": {
            "gridcolor": "white",
            "linecolor": "white",
            "ticks": ""
           }
          },
          "title": {
           "x": 0.05
          },
          "xaxis": {
           "automargin": true,
           "gridcolor": "white",
           "linecolor": "white",
           "ticks": "",
           "title": {
            "standoff": 15
           },
           "zerolinecolor": "white",
           "zerolinewidth": 2
          },
          "yaxis": {
           "automargin": true,
           "gridcolor": "white",
           "linecolor": "white",
           "ticks": "",
           "title": {
            "standoff": 15
           },
           "zerolinecolor": "white",
           "zerolinewidth": 2
          }
         }
        },
        "title": {
         "text": "Lung Cancer Distribution"
        },
        "xaxis": {
         "anchor": "y",
         "categoryarray": [
          "NO",
          "YES"
         ],
         "categoryorder": "array",
         "domain": [
          0,
          1
         ],
         "title": {
          "text": "Lung Cancer Category"
         }
        },
        "yaxis": {
         "anchor": "x",
         "domain": [
          0,
          1
         ],
         "title": {
          "text": "Count"
         }
        }
       }
      }
     },
     "metadata": {},
     "output_type": "display_data"
    }
   ],
   "source": [
    "import plotly.express as px\n",
    "\n",
    "# Membuat DataFrame tdf yang berisi counts dari variabel 'Level'\n",
    "tdf = df['LUNG_CANCER'].value_counts().reset_index()\n",
    "tdf.columns = ['LUNG_CANCER', 'count']  # Memberi nama kolom agar lebih mudah dipahami\n",
    "\n",
    "# Menambahkan kolom persentase\n",
    "total_count = tdf['count'].sum()\n",
    "tdf['percentage'] = (tdf['count'] / total_count) * 100\n",
    "\n",
    "# Membuat diagram batang interaktif menggunakan Plotly\n",
    "fig = px.bar(tdf, x='LUNG_CANCER', y='count',\n",
    "             title='Lung Cancer Distribution',\n",
    "             labels={'LUNG_CANCER': 'Lung Cancer Category', 'count': 'Count'},\n",
    "             color='LUNG_CANCER',  # Memberikan warna berbeda untuk setiap kategori\n",
    "             color_discrete_sequence=px.colors.qualitative.Set1,  # Menentukan palet warna\n",
    "             text=tdf.apply(lambda row: f\"{int(row['count'])} ({row['percentage']:.1f}%)\", axis=1))  # Menambahkan count dan persentase\n",
    "\n",
    "# Menampilkan chart\n",
    "fig.update_traces(textposition='outside',  # Menempatkan teks di luar batang\n",
    "                  texttemplate='%{text}')  # Menampilkan nilai count dan persentase\n",
    "\n",
    "# Menyesuaikan margin agar teks tidak tertutup\n",
    "fig.update_layout(\n",
    "    margin=dict(l=50, r=50, t=50, b=50),  # Memberikan ruang pada sisi kiri, kanan, atas, dan bawah\n",
    ")\n",
    "\n",
    "fig.show()\n"
   ]
  },
  {
   "cell_type": "code",
   "execution_count": 10,
   "metadata": {
    "colab": {
     "base_uri": "https://localhost:8080/"
    },
    "id": "LKPev_uZbHPN",
    "outputId": "fcaae1c3-c2a6-4f72-f54b-4abb656c3213"
   },
   "outputs": [
    {
     "name": "stdout",
     "output_type": "stream",
     "text": [
      "GENDER                   0\n",
      "AGE                      0\n",
      "SMOKING                  0\n",
      "YELLOW_FINGERS           0\n",
      "ANXIETY                  0\n",
      "PEER_PRESSURE            0\n",
      "CHRONIC DISEASE          0\n",
      "FATIGUE                  0\n",
      "ALLERGY                  0\n",
      "WHEEZING                 0\n",
      "ALCOHOL CONSUMING        0\n",
      "COUGHING                 0\n",
      "SHORTNESS OF BREATH      0\n",
      "SWALLOWING DIFFICULTY    0\n",
      "CHEST PAIN               0\n",
      "LUNG_CANCER              0\n",
      "dtype: int64\n"
     ]
    }
   ],
   "source": [
    "print(df.isnull().sum())"
   ]
  },
  {
   "cell_type": "markdown",
   "metadata": {
    "id": "pyU2ibIk_yMs"
   },
   "source": [
    "Tahap Preprocessing (Encoding tipe data)"
   ]
  },
  {
   "cell_type": "code",
   "execution_count": 11,
   "metadata": {
    "colab": {
     "base_uri": "https://localhost:8080/"
    },
    "id": "8Yb_GmxyevhH",
    "outputId": "30f4488e-898a-4405-c9d8-50f2bee89558"
   },
   "outputs": [
    {
     "name": "stdout",
     "output_type": "stream",
     "text": [
      "   GENDER  LUNG_CANCER\n",
      "0       1            1\n",
      "1       1            1\n",
      "2       0            0\n",
      "3       1            0\n",
      "4       0            0\n"
     ]
    }
   ],
   "source": [
    "# Mengubah kolom 'GENDER' menjadi numerik (F = 0, M = 1)\n",
    "df['GENDER'] = df['GENDER'].map({'F': 0, 'M': 1})\n",
    "\n",
    "# Mengubah kolom 'LUNG_CANCER' menjadi numerik (NO = 0, YES = 1)\n",
    "df['LUNG_CANCER'] = df['LUNG_CANCER'].map({'NO': 0, 'YES': 1})\n",
    "\n",
    "# Cek hasilnya\n",
    "print(df[['GENDER', 'LUNG_CANCER']].head())"
   ]
  },
  {
   "cell_type": "code",
   "execution_count": 12,
   "metadata": {
    "colab": {
     "base_uri": "https://localhost:8080/"
    },
    "id": "miRjz2eNerIl",
    "outputId": "64641533-599d-4ceb-ca52-3abae55ec174"
   },
   "outputs": [
    {
     "name": "stdout",
     "output_type": "stream",
     "text": [
      "<class 'pandas.core.frame.DataFrame'>\n",
      "RangeIndex: 1157 entries, 0 to 1156\n",
      "Data columns (total 16 columns):\n",
      " #   Column                 Non-Null Count  Dtype\n",
      "---  ------                 --------------  -----\n",
      " 0   GENDER                 1157 non-null   int64\n",
      " 1   AGE                    1157 non-null   int64\n",
      " 2   SMOKING                1157 non-null   int64\n",
      " 3   YELLOW_FINGERS         1157 non-null   int64\n",
      " 4   ANXIETY                1157 non-null   int64\n",
      " 5   PEER_PRESSURE          1157 non-null   int64\n",
      " 6   CHRONIC DISEASE        1157 non-null   int64\n",
      " 7   FATIGUE                1157 non-null   int64\n",
      " 8   ALLERGY                1157 non-null   int64\n",
      " 9   WHEEZING               1157 non-null   int64\n",
      " 10  ALCOHOL CONSUMING      1157 non-null   int64\n",
      " 11  COUGHING               1157 non-null   int64\n",
      " 12  SHORTNESS OF BREATH    1157 non-null   int64\n",
      " 13  SWALLOWING DIFFICULTY  1157 non-null   int64\n",
      " 14  CHEST PAIN             1157 non-null   int64\n",
      " 15  LUNG_CANCER            1157 non-null   int64\n",
      "dtypes: int64(16)\n",
      "memory usage: 144.8 KB\n"
     ]
    }
   ],
   "source": [
    "df.info()"
   ]
  },
  {
   "cell_type": "code",
   "execution_count": 13,
   "metadata": {
    "id": "QZecebUugAZv"
   },
   "outputs": [],
   "source": [
    "# Pisahkan data\n",
    "X = df.drop(columns=['LUNG_CANCER'])  # Semua kolom kecuali 'LUNG_CANCER'\n",
    "y = df['LUNG_CANCER']"
   ]
  },
  {
   "cell_type": "code",
   "execution_count": 14,
   "metadata": {
    "colab": {
     "base_uri": "https://localhost:8080/",
     "height": 244
    },
    "id": "xySOFoaJMjQs",
    "outputId": "f15c1af3-676c-48ff-ac1c-576e51ca1b78"
   },
   "outputs": [
    {
     "data": {
      "text/html": [
       "<div>\n",
       "<style scoped>\n",
       "    .dataframe tbody tr th:only-of-type {\n",
       "        vertical-align: middle;\n",
       "    }\n",
       "\n",
       "    .dataframe tbody tr th {\n",
       "        vertical-align: top;\n",
       "    }\n",
       "\n",
       "    .dataframe thead th {\n",
       "        text-align: right;\n",
       "    }\n",
       "</style>\n",
       "<table border=\"1\" class=\"dataframe\">\n",
       "  <thead>\n",
       "    <tr style=\"text-align: right;\">\n",
       "      <th></th>\n",
       "      <th>GENDER</th>\n",
       "      <th>AGE</th>\n",
       "      <th>SMOKING</th>\n",
       "      <th>YELLOW_FINGERS</th>\n",
       "      <th>ANXIETY</th>\n",
       "      <th>PEER_PRESSURE</th>\n",
       "      <th>CHRONIC DISEASE</th>\n",
       "      <th>FATIGUE</th>\n",
       "      <th>ALLERGY</th>\n",
       "      <th>WHEEZING</th>\n",
       "      <th>ALCOHOL CONSUMING</th>\n",
       "      <th>COUGHING</th>\n",
       "      <th>SHORTNESS OF BREATH</th>\n",
       "      <th>SWALLOWING DIFFICULTY</th>\n",
       "      <th>CHEST PAIN</th>\n",
       "    </tr>\n",
       "  </thead>\n",
       "  <tbody>\n",
       "    <tr>\n",
       "      <th>0</th>\n",
       "      <td>1</td>\n",
       "      <td>69</td>\n",
       "      <td>1</td>\n",
       "      <td>2</td>\n",
       "      <td>2</td>\n",
       "      <td>1</td>\n",
       "      <td>1</td>\n",
       "      <td>2</td>\n",
       "      <td>1</td>\n",
       "      <td>2</td>\n",
       "      <td>2</td>\n",
       "      <td>2</td>\n",
       "      <td>2</td>\n",
       "      <td>2</td>\n",
       "      <td>2</td>\n",
       "    </tr>\n",
       "    <tr>\n",
       "      <th>1</th>\n",
       "      <td>1</td>\n",
       "      <td>74</td>\n",
       "      <td>2</td>\n",
       "      <td>1</td>\n",
       "      <td>1</td>\n",
       "      <td>1</td>\n",
       "      <td>2</td>\n",
       "      <td>2</td>\n",
       "      <td>2</td>\n",
       "      <td>1</td>\n",
       "      <td>1</td>\n",
       "      <td>1</td>\n",
       "      <td>2</td>\n",
       "      <td>2</td>\n",
       "      <td>2</td>\n",
       "    </tr>\n",
       "    <tr>\n",
       "      <th>2</th>\n",
       "      <td>0</td>\n",
       "      <td>59</td>\n",
       "      <td>1</td>\n",
       "      <td>1</td>\n",
       "      <td>1</td>\n",
       "      <td>2</td>\n",
       "      <td>1</td>\n",
       "      <td>2</td>\n",
       "      <td>1</td>\n",
       "      <td>2</td>\n",
       "      <td>1</td>\n",
       "      <td>2</td>\n",
       "      <td>2</td>\n",
       "      <td>1</td>\n",
       "      <td>2</td>\n",
       "    </tr>\n",
       "    <tr>\n",
       "      <th>3</th>\n",
       "      <td>1</td>\n",
       "      <td>63</td>\n",
       "      <td>2</td>\n",
       "      <td>2</td>\n",
       "      <td>2</td>\n",
       "      <td>1</td>\n",
       "      <td>1</td>\n",
       "      <td>1</td>\n",
       "      <td>1</td>\n",
       "      <td>1</td>\n",
       "      <td>2</td>\n",
       "      <td>1</td>\n",
       "      <td>1</td>\n",
       "      <td>2</td>\n",
       "      <td>2</td>\n",
       "    </tr>\n",
       "    <tr>\n",
       "      <th>4</th>\n",
       "      <td>0</td>\n",
       "      <td>63</td>\n",
       "      <td>1</td>\n",
       "      <td>2</td>\n",
       "      <td>1</td>\n",
       "      <td>1</td>\n",
       "      <td>1</td>\n",
       "      <td>1</td>\n",
       "      <td>1</td>\n",
       "      <td>2</td>\n",
       "      <td>1</td>\n",
       "      <td>2</td>\n",
       "      <td>2</td>\n",
       "      <td>1</td>\n",
       "      <td>1</td>\n",
       "    </tr>\n",
       "  </tbody>\n",
       "</table>\n",
       "</div>"
      ],
      "text/plain": [
       "   GENDER  AGE  SMOKING  YELLOW_FINGERS  ANXIETY  PEER_PRESSURE  \\\n",
       "0       1   69        1               2        2              1   \n",
       "1       1   74        2               1        1              1   \n",
       "2       0   59        1               1        1              2   \n",
       "3       1   63        2               2        2              1   \n",
       "4       0   63        1               2        1              1   \n",
       "\n",
       "   CHRONIC DISEASE  FATIGUE   ALLERGY   WHEEZING  ALCOHOL CONSUMING  COUGHING  \\\n",
       "0                1         2         1         2                  2         2   \n",
       "1                2         2         2         1                  1         1   \n",
       "2                1         2         1         2                  1         2   \n",
       "3                1         1         1         1                  2         1   \n",
       "4                1         1         1         2                  1         2   \n",
       "\n",
       "   SHORTNESS OF BREATH  SWALLOWING DIFFICULTY  CHEST PAIN  \n",
       "0                    2                      2           2  \n",
       "1                    2                      2           2  \n",
       "2                    2                      1           2  \n",
       "3                    1                      2           2  \n",
       "4                    2                      1           1  "
      ]
     },
     "execution_count": 14,
     "metadata": {},
     "output_type": "execute_result"
    }
   ],
   "source": [
    "X.head()"
   ]
  },
  {
   "cell_type": "markdown",
   "metadata": {
    "id": "TNUwQ5qzEsdy"
   },
   "source": [
    "Tahap Split Data (80,20)"
   ]
  },
  {
   "cell_type": "code",
   "execution_count": 28,
   "metadata": {
    "colab": {
     "base_uri": "https://localhost:8080/"
    },
    "id": "YG3QTv5iglFe",
    "outputId": "55e1c39d-726d-4958-f82e-8a3ab0936dc3"
   },
   "outputs": [],
   "source": [
    "# # Membagi data menjadi train dan test (80% train, 20% test)\n",
    "# X_train, X_test, y_train, y_test = train_test_split(X, y, test_size=0.2, random_state=42)\n",
    "\n",
    "# # Membagi data menjadi train dan test (80% train, 20% test), serta menggunakan Stratified ShuffleSplit pada kolom y\n",
    "# X_train_st, X_test_st, y_train_st, y_test_st = train_test_split(X, y, test_size=0.2, random_state=42, stratify=y)\n",
    "\n",
    "# # Menampilkan ukuran data training dan testing\n",
    "# train_size = len(X_train)\n",
    "# test_size = len(X_test)\n",
    "\n",
    "# train_size_st = len(X_train_st)\n",
    "# test_size_st = len(X_test_st)\n",
    "\n",
    "# print(f\"Train size: {train_size} data\")\n",
    "# print(f\"Test size: {test_size} data\")\n",
    "\n",
    "# print(f\"Train size Stratify: {train_size_st} data\")\n",
    "# print(f\"Test size Stratify: {test_size_st} data\")"
   ]
  },
  {
   "cell_type": "code",
   "execution_count": 29,
   "metadata": {},
   "outputs": [],
   "source": [
    "# # Data distribusi tanpa stratify\n",
    "# train_counts = y_train.value_counts()\n",
    "# test_counts = y_test.value_counts()\n",
    "\n",
    "# # Data distribusi dengan stratify\n",
    "# train_st_counts = y_train_st.value_counts()\n",
    "# test_st_counts = y_test_st.value_counts()\n",
    "\n",
    "# # Gabung data jadi satu DataFrame\n",
    "# data_combined = pd.DataFrame({\n",
    "#     'Lung Cancer Category': list(train_counts.index) * 4,\n",
    "#     'Proportion': list(train_counts.values) + list(test_counts.values) + list(train_st_counts.values) + list(test_st_counts.values),\n",
    "#     'Dataset': ['Train'] * len(train_counts) + ['Test'] * len(test_counts) +\n",
    "#                ['Train (Stratify)'] * len(train_st_counts) + ['Test (Stratify)'] * len(test_st_counts),\n",
    "#     'Stratify': ['No'] * (len(train_counts) + len(test_counts)) + ['Yes'] * (len(train_st_counts) + len(test_st_counts))\n",
    "# })\n",
    "\n",
    "# # Buat plot\n",
    "# fig = px.bar(\n",
    "#     data_combined,\n",
    "#     x='Lung Cancer Category',\n",
    "#     y='Proportion',\n",
    "#     color='Dataset',\n",
    "#     barmode='group',\n",
    "#     facet_col='Stratify',\n",
    "#     color_discrete_sequence=px.colors.qualitative.Set1,\n",
    "#     text='Proportion',\n",
    "# )\n",
    "\n",
    "# fig.update_traces(texttemplate='%{text:.4f}', textposition='outside')\n",
    "# fig.update_layout(\n",
    "#     title='Label Distribution: Stratified vs Non-Stratified',\n",
    "#     yaxis_title='Proportion',\n",
    "#     xaxis_title='Lung Cancer Category',\n",
    "#     legend_title='Dataset',\n",
    "#     height=500,\n",
    "#     width=1000,\n",
    "#     xaxis=dict(\n",
    "#         type='category',\n",
    "#         tickmode='array',\n",
    "#         tickvals=[0, 1],\n",
    "#         ticktext=['0', '1'],\n",
    "#     )\n",
    "# )\n",
    "\n",
    "# fig.show()"
   ]
  },
  {
   "cell_type": "code",
   "execution_count": null,
   "metadata": {},
   "outputs": [],
   "source": [
    "# Metrics\n",
    "def print_metrics(y_true, y_pred, label):\n",
    "    precision = precision_score(y_true, y_pred, average='binary')  # biner 1 dan 0\n",
    "    recall = recall_score(y_true, y_pred, average='binary')\n",
    "    f1 = f1_score(y_true, y_pred, average='binary')\n",
    "    print(f\"{label} - Precision: {precision:.2f}, Recall: {recall:.2f}, F1-Score: {f1:.2f}\")"
   ]
  },
  {
   "cell_type": "code",
   "execution_count": 69,
   "metadata": {
    "colab": {
     "base_uri": "https://localhost:8080/",
     "height": 660
    },
    "id": "FJ-BXnf7wEeF",
    "outputId": "1ae7f922-1f07-4e85-f056-ded39427057e"
   },
   "outputs": [
    {
     "name": "stdout",
     "output_type": "stream",
     "text": [
      "K-Fold mean accuracy: 0.93\n",
      "Standar deviasi: 0.02094840831018713\n",
      "K-Fold - Precision: 0.97, Recall: 0.88, F1-Score: 0.92\n",
      "\n",
      "Stratified K-Fold mean accuracy: 0.92\n",
      "Standar deviasi: 0.01731595240902494\n",
      "Stratified K-Fold - Precision: 0.96, Recall: 0.86, F1-Score: 0.91\n"
     ]
    }
   ],
   "source": [
    "dtree = DecisionTreeClassifier(random_state=42)\n",
    "\n",
    "# K-Fold\n",
    "kf_dtree = KFold(n_splits=10, shuffle=True, random_state=42)\n",
    "scores_kf_dtree = cross_val_score(dtree, X, y, cv=kf_dtree)\n",
    "y_pred_kf_dtree = cross_val_predict(dtree, X, y, cv=kf_dtree)\n",
    "\n",
    "# Stratified K-Fold\n",
    "skf_dtree = StratifiedKFold(n_splits=10, shuffle=True, random_state=42)\n",
    "scores_skf_dtree = cross_val_score(dtree, X, y, cv=skf_dtree)\n",
    "y_pred_skf_dtree = cross_val_predict(dtree, X, y, cv=skf_dtree)\n",
    "\n",
    "print(f\"K-Fold mean accuracy: {scores_kf_dtree.mean():.2f}\")\n",
    "print(\"Standar deviasi:\", np.std(scores_kf_dtree))\n",
    "print_metrics(y, y_pred_kf_dtree, \"K-Fold\")\n",
    "\n",
    "print(f\"\\nStratified K-Fold mean accuracy: {scores_skf_dtree.mean():.2f}\")\n",
    "print(\"Standar deviasi:\", np.std(scores_skf_dtree))\n",
    "print_metrics(y, y_pred_skf_dtree, \"Stratified K-Fold\")"
   ]
  },
  {
   "cell_type": "code",
   "execution_count": 70,
   "metadata": {},
   "outputs": [
    {
     "name": "stdout",
     "output_type": "stream",
     "text": [
      "ROC AUC Decision Tree + K-Fold: 0.91\n",
      "ROC AUC DEcision Tree + Stratified K-Fold: 0.89\n"
     ]
    }
   ],
   "source": [
    "y_proba_kf_dtree = cross_val_predict(dtree, X, y, cv=kf_dtree, method='predict_proba')[:, 1]\n",
    "roc_auc_dtree_kf = roc_auc_score(y, y_proba_kf_dtree)\n",
    "\n",
    "y_proba_skf_dtree = cross_val_predict(dtree, X, y, cv=skf_dtree, method='predict_proba')[:, 1]\n",
    "roc_auc_dtree_skf = roc_auc_score(y, y_proba_skf_dtree)\n",
    "\n",
    "\n",
    "print(f\"ROC AUC Decision Tree + K-Fold: {roc_auc_dtree_kf:.2f}\")\n",
    "print(f\"ROC AUC DEcision Tree + Stratified K-Fold: {roc_auc_dtree_skf:.2f}\")"
   ]
  },
  {
   "cell_type": "code",
   "execution_count": 72,
   "metadata": {},
   "outputs": [
    {
     "name": "stdout",
     "output_type": "stream",
     "text": [
      "K-Fold mean accuracy: 0.93\n",
      "Standar deviasi: 0.02091740266217186\n",
      "K-Fold - Precision: 0.96, Recall: 0.89, F1-Score: 0.92\n",
      "\n",
      "Stratified K-Fold mean accuracy: 0.93\n",
      "Standar deviasi: 0.014331494624214916\n",
      "Stratified K-Fold - Precision: 0.96, Recall: 0.88, F1-Score: 0.92\n"
     ]
    }
   ],
   "source": [
    "rf = RandomForestClassifier(n_estimators=100, random_state=42)\n",
    "\n",
    "# K-Fold\n",
    "kf_rf = KFold(n_splits=10, shuffle=True, random_state=42)\n",
    "scores_kf_rf = cross_val_score(rf, X, y, cv=kf_rf)\n",
    "y_pred_kf_rf = cross_val_predict(rf, X, y, cv=kf_rf)\n",
    "\n",
    "# Stratified K-Fold\n",
    "skf_rf = StratifiedKFold(n_splits=10, shuffle=True, random_state=42)\n",
    "scores_skf_rf = cross_val_score(rf, X, y, cv=skf_rf)\n",
    "y_pred_skf_rf = cross_val_predict(rf, X, y, cv=skf_rf)\n",
    "\n",
    "print(f\"K-Fold mean accuracy: {scores_kf_rf.mean():.2f}\")\n",
    "print(\"Standar deviasi:\", np.std(scores_kf_rf))\n",
    "print_metrics(y, y_pred_kf_rf, \"K-Fold\")\n",
    "\n",
    "print(f\"\\nStratified K-Fold mean accuracy: {scores_skf_rf.mean():.2f}\")\n",
    "print(\"Standar deviasi:\", np.std(scores_skf_rf))\n",
    "print_metrics(y, y_pred_skf_rf, \"Stratified K-Fold\")"
   ]
  },
  {
   "cell_type": "code",
   "execution_count": 66,
   "metadata": {
    "colab": {
     "base_uri": "https://localhost:8080/",
     "height": 660
    },
    "id": "n2uHmTNPl45T",
    "outputId": "18e00254-7750-475f-fee1-54637c30d08b"
   },
   "outputs": [
    {
     "name": "stdout",
     "output_type": "stream",
     "text": [
      "ROC AUC Random Forest + K-Fold: 0.94\n",
      "ROC AUC Random Forest + Stratified K-Fold: 0.94\n"
     ]
    }
   ],
   "source": [
    "y_proba_kf_rf = cross_val_predict(rf, X, y, cv=kf_rf, method='predict_proba')[:, 1]\n",
    "roc_auc_rf_kf = roc_auc_score(y, y_proba_kf_rf)\n",
    "\n",
    "y_proba_skf_rf = cross_val_predict(rf, X, y, cv=skf_rf, method='predict_proba')[:, 1]\n",
    "roc_auc_rf_skf = roc_auc_score(y, y_proba_skf_rf)\n",
    "\n",
    "\n",
    "print(f\"ROC AUC Random Forest + K-Fold: {roc_auc_rf_kf:.2f}\")\n",
    "print(f\"ROC AUC Random Forest + Stratified K-Fold: {roc_auc_rf_skf:.2f}\")"
   ]
  },
  {
   "cell_type": "code",
   "execution_count": null,
   "metadata": {
    "colab": {
     "base_uri": "https://localhost:8080/",
     "height": 578
    },
    "id": "YRTEqzdXjIwK",
    "outputId": "fe28d82f-0ede-42d2-ec29-5b4cb5c51eb0"
   },
   "outputs": [
    {
     "data": {
      "application/vnd.plotly.v1+json": {
       "config": {
        "plotlyServerURL": "https://plot.ly"
       },
       "data": [
        {
         "line": {
          "color": "#1f77b4",
          "dash": "dash"
         },
         "mode": "lines",
         "name": "Decision Tree (AUC = 0.9382)",
         "type": "scatter",
         "x": {
          "bdata": "AAAAAAAAAAD8qfHSTWKQPzm0yHa+n8o/GQRWDi2yzT/sUbgehevRP4ts5/up8dI/AAAAAAAA8D8=",
          "dtype": "f8"
         },
         "y": {
          "bdata": "AAAAAAAAAACl8ZEJ9E7tP6XxkQn0Tu0/pfGRCfRO7T+l8ZEJ9E7tP6XxkQn0Tu0/AAAAAAAA8D8=",
          "dtype": "f8"
         }
        },
        {
         "line": {
          "color": "red",
          "dash": "dot"
         },
         "mode": "lines",
         "name": "Random Forest (AUC = 0.9537)",
         "type": "scatter",
         "x": {
          "bdata": "AAAAAAAAAAAAAAAAAAAAAAAAAAAAAAAAAAAAAAAAAAAAAAAAAAAAAAAAAAAAAAAAAAAAAAAAAAAAAAAAAAAAAAAAAAAAAAAAAAAAAAAAAAAAAAAAAAAAAAAAAAAAAAAAAAAAAAAAAAD8qfHSTWKAP/yp8dJNYoA//Knx0k1ikD/8qfHSTWKQP3sUrkfherQ/ukkMAiuHtj+4HoXrUbi+P9nO91Pjpcs/uB6F61G4zj+cxCCwcmjRP+xRuB6F69E/i2zn+6nx0j/LoUW28/3UP2q8dJMYBNY/ukkMAiuH1j+q8dJNYhDYP0oMAiuHFtk/6SYxCKwc2j+JQWDl0CLbP2iR7Xw/Nd4/VOOlm8Qg4D9U46WbxCDgP6RwPQrXo+A/nMQgsHJo4T9Ei2zn+6nhPwAAAAAAAPA/",
          "dtype": "f8"
         },
         "y": {
          "bdata": "AAAAAAAAAACNj0ygd+raP/YLsaI0PuI/fGQCvVPX4j9FaXxkAr3jP5TGRybQO+U/XcvBzX4h5j+gd+paDm7mP2l8ZAK9U+c/79S1HNzs5z+42S/EitLoPz4ygd6pa+k/E+idupaD6z9WlMZHJtDrP6XxkQn0Tu0/pfGRCfRO7T/onbqWg5vtP+idupaDm+0/6J26loOb7T/onbqWg5vtP+idupaDm+0/6J26loOb7T/onbqWg5vtP+idupaDm+0/6J26loOb7T/onbqWg5vtPytK4yMT6O0/K0rjIxPo7T8rSuMjE+jtPytK4yMT6O0/bvYLsaI07j9u9guxojTuP272C7GiNO4/bvYLsaI07j+xojQ+MoHuP7GiND4yge4/saI0PjKB7j/0Tl3Lwc3uPwAAAAAAAPA/",
          "dtype": "f8"
         }
        },
        {
         "line": {
          "color": "#2ca02c",
          "dash": "solid"
         },
         "mode": "lines",
         "name": "Decision Tree (ST) (AUC = 0.9034)",
         "type": "scatter",
         "x": {
          "bdata": "AAAAAAAAAAB3xB1xR9yxP7UlbUlb0sY/sSfsCXvCzj9X1BV1RV3RP7ekLWlL2tI/NmVNWVPW1D91RV1RV9TVPwAAAAAAAPA/",
          "dtype": "f8"
         },
         "y": {
          "bdata": "AAAAAAAAAACYRXwCqeTsP5hFfAKp5Ow/mEV8Aqnk7D+YRXwCqeTsP5hFfAKp5Ow/mEV8Aqnk7D+YRXwCqeTsPwAAAAAAAPA/",
          "dtype": "f8"
         }
        },
        {
         "line": {
          "color": "blue",
          "dash": "longdash"
         },
         "mode": "lines",
         "name": "Random Forest (ST) (AUC = 0.9615)",
         "type": "scatter",
         "x": {
          "bdata": "AAAAAAAAAAAAAAAAAAAAAAAAAAAAAAAAAAAAAAAAAAAAAAAAAAAAAAAAAAAAAAAA8Af8AX/Afz/wB/wBf8B/P/AH/AF/wH8/8Af8AX/Afz/wB/wBf8B/P/AH/AF/wH8/8Af8AX/Afz/wB/wBf8B/P/aEPWFP2KM/9oQ9YU/Yoz/0BX1BX9CnP/QFfUFf0Kc/8oa8IW/Iqz/yhrwhb8irP3fEHXFH3LE/d8QdcUfcsT/2hD1hT9izP/aEPWFP2MM/NmVNWVPWxD805ow5Y87IPzJnzBlzxsw/MmfMGXPGzD9X1BV1RV3RP7ekLWlL2tI/NmVNWVPW1D9VVVVVVVXVP9QVdUVdUdc/FPaEPWFP2D9zxpwxZ8zZP7OmrClryto/0pa0JW1J2z/yhrwhb8jbPxJ3xB1xR9w/MmfMGXPG3D+RN+QNeUPeP7En7Al7wt4/8Af8AX/A3z8AAAAAAADwPw==",
          "dtype": "f8"
         },
         "y": {
          "bdata": "AAAAAAAAAAD2W20MTXfgP7qD/VYbQ+M/k/OyiE8g5T/H0HQH+63mP7OITyCVnOc/VxtD0x3s5z/7rTaGpjvoP+dlEZ9AKuk/i/gEUsl56T/THey32hjqP3ew32pjaOo/v9XG0HQH6z8H+602hqbrPwf7rTaGpus/q42h6Q726z+rjaHpDvbrP1AglZyXRew/9LKITyCV7D882G+1MTTtPzzYb7UxNO0/hP1WG0PT7T+E/VYbQ9PtP4T9VhtD0+0/hP1WG0PT7T+E/VYbQ9PtP4T9VhtD0+0/KJBKzssi7j8okErOyyLuPyiQSs7LIu4/KJBKzssi7j8okErOyyLuPyiQSs7LIu4/KJBKzssi7j8okErOyyLuP8wiPoFUcu4/zCI+gVRy7j9wtTE03cHuP3C1MTTdwe4/FEgl52UR7z8USCXnZRHvP7jaGJruYO8/uNoYmu5g7z8AAAAAAADwPw==",
          "dtype": "f8"
         }
        },
        {
         "line": {
          "color": "#7f7f7f",
          "dash": "dashdot"
         },
         "mode": "lines",
         "name": "Random",
         "type": "scatter",
         "x": [
          0,
          1
         ],
         "y": [
          0,
          1
         ]
        }
       ],
       "layout": {
        "font": {
         "size": 14
        },
        "legend": {
         "bgcolor": "rgba(255, 255, 255, 0.8)",
         "bordercolor": "black",
         "borderwidth": 1
        },
        "showlegend": true,
        "template": {
         "data": {
          "bar": [
           {
            "error_x": {
             "color": "#2a3f5f"
            },
            "error_y": {
             "color": "#2a3f5f"
            },
            "marker": {
             "line": {
              "color": "#E5ECF6",
              "width": 0.5
             },
             "pattern": {
              "fillmode": "overlay",
              "size": 10,
              "solidity": 0.2
             }
            },
            "type": "bar"
           }
          ],
          "barpolar": [
           {
            "marker": {
             "line": {
              "color": "#E5ECF6",
              "width": 0.5
             },
             "pattern": {
              "fillmode": "overlay",
              "size": 10,
              "solidity": 0.2
             }
            },
            "type": "barpolar"
           }
          ],
          "carpet": [
           {
            "aaxis": {
             "endlinecolor": "#2a3f5f",
             "gridcolor": "white",
             "linecolor": "white",
             "minorgridcolor": "white",
             "startlinecolor": "#2a3f5f"
            },
            "baxis": {
             "endlinecolor": "#2a3f5f",
             "gridcolor": "white",
             "linecolor": "white",
             "minorgridcolor": "white",
             "startlinecolor": "#2a3f5f"
            },
            "type": "carpet"
           }
          ],
          "choropleth": [
           {
            "colorbar": {
             "outlinewidth": 0,
             "ticks": ""
            },
            "type": "choropleth"
           }
          ],
          "contour": [
           {
            "colorbar": {
             "outlinewidth": 0,
             "ticks": ""
            },
            "colorscale": [
             [
              0,
              "#0d0887"
             ],
             [
              0.1111111111111111,
              "#46039f"
             ],
             [
              0.2222222222222222,
              "#7201a8"
             ],
             [
              0.3333333333333333,
              "#9c179e"
             ],
             [
              0.4444444444444444,
              "#bd3786"
             ],
             [
              0.5555555555555556,
              "#d8576b"
             ],
             [
              0.6666666666666666,
              "#ed7953"
             ],
             [
              0.7777777777777778,
              "#fb9f3a"
             ],
             [
              0.8888888888888888,
              "#fdca26"
             ],
             [
              1,
              "#f0f921"
             ]
            ],
            "type": "contour"
           }
          ],
          "contourcarpet": [
           {
            "colorbar": {
             "outlinewidth": 0,
             "ticks": ""
            },
            "type": "contourcarpet"
           }
          ],
          "heatmap": [
           {
            "colorbar": {
             "outlinewidth": 0,
             "ticks": ""
            },
            "colorscale": [
             [
              0,
              "#0d0887"
             ],
             [
              0.1111111111111111,
              "#46039f"
             ],
             [
              0.2222222222222222,
              "#7201a8"
             ],
             [
              0.3333333333333333,
              "#9c179e"
             ],
             [
              0.4444444444444444,
              "#bd3786"
             ],
             [
              0.5555555555555556,
              "#d8576b"
             ],
             [
              0.6666666666666666,
              "#ed7953"
             ],
             [
              0.7777777777777778,
              "#fb9f3a"
             ],
             [
              0.8888888888888888,
              "#fdca26"
             ],
             [
              1,
              "#f0f921"
             ]
            ],
            "type": "heatmap"
           }
          ],
          "histogram": [
           {
            "marker": {
             "pattern": {
              "fillmode": "overlay",
              "size": 10,
              "solidity": 0.2
             }
            },
            "type": "histogram"
           }
          ],
          "histogram2d": [
           {
            "colorbar": {
             "outlinewidth": 0,
             "ticks": ""
            },
            "colorscale": [
             [
              0,
              "#0d0887"
             ],
             [
              0.1111111111111111,
              "#46039f"
             ],
             [
              0.2222222222222222,
              "#7201a8"
             ],
             [
              0.3333333333333333,
              "#9c179e"
             ],
             [
              0.4444444444444444,
              "#bd3786"
             ],
             [
              0.5555555555555556,
              "#d8576b"
             ],
             [
              0.6666666666666666,
              "#ed7953"
             ],
             [
              0.7777777777777778,
              "#fb9f3a"
             ],
             [
              0.8888888888888888,
              "#fdca26"
             ],
             [
              1,
              "#f0f921"
             ]
            ],
            "type": "histogram2d"
           }
          ],
          "histogram2dcontour": [
           {
            "colorbar": {
             "outlinewidth": 0,
             "ticks": ""
            },
            "colorscale": [
             [
              0,
              "#0d0887"
             ],
             [
              0.1111111111111111,
              "#46039f"
             ],
             [
              0.2222222222222222,
              "#7201a8"
             ],
             [
              0.3333333333333333,
              "#9c179e"
             ],
             [
              0.4444444444444444,
              "#bd3786"
             ],
             [
              0.5555555555555556,
              "#d8576b"
             ],
             [
              0.6666666666666666,
              "#ed7953"
             ],
             [
              0.7777777777777778,
              "#fb9f3a"
             ],
             [
              0.8888888888888888,
              "#fdca26"
             ],
             [
              1,
              "#f0f921"
             ]
            ],
            "type": "histogram2dcontour"
           }
          ],
          "mesh3d": [
           {
            "colorbar": {
             "outlinewidth": 0,
             "ticks": ""
            },
            "type": "mesh3d"
           }
          ],
          "parcoords": [
           {
            "line": {
             "colorbar": {
              "outlinewidth": 0,
              "ticks": ""
             }
            },
            "type": "parcoords"
           }
          ],
          "pie": [
           {
            "automargin": true,
            "type": "pie"
           }
          ],
          "scatter": [
           {
            "fillpattern": {
             "fillmode": "overlay",
             "size": 10,
             "solidity": 0.2
            },
            "type": "scatter"
           }
          ],
          "scatter3d": [
           {
            "line": {
             "colorbar": {
              "outlinewidth": 0,
              "ticks": ""
             }
            },
            "marker": {
             "colorbar": {
              "outlinewidth": 0,
              "ticks": ""
             }
            },
            "type": "scatter3d"
           }
          ],
          "scattercarpet": [
           {
            "marker": {
             "colorbar": {
              "outlinewidth": 0,
              "ticks": ""
             }
            },
            "type": "scattercarpet"
           }
          ],
          "scattergeo": [
           {
            "marker": {
             "colorbar": {
              "outlinewidth": 0,
              "ticks": ""
             }
            },
            "type": "scattergeo"
           }
          ],
          "scattergl": [
           {
            "marker": {
             "colorbar": {
              "outlinewidth": 0,
              "ticks": ""
             }
            },
            "type": "scattergl"
           }
          ],
          "scattermap": [
           {
            "marker": {
             "colorbar": {
              "outlinewidth": 0,
              "ticks": ""
             }
            },
            "type": "scattermap"
           }
          ],
          "scattermapbox": [
           {
            "marker": {
             "colorbar": {
              "outlinewidth": 0,
              "ticks": ""
             }
            },
            "type": "scattermapbox"
           }
          ],
          "scatterpolar": [
           {
            "marker": {
             "colorbar": {
              "outlinewidth": 0,
              "ticks": ""
             }
            },
            "type": "scatterpolar"
           }
          ],
          "scatterpolargl": [
           {
            "marker": {
             "colorbar": {
              "outlinewidth": 0,
              "ticks": ""
             }
            },
            "type": "scatterpolargl"
           }
          ],
          "scatterternary": [
           {
            "marker": {
             "colorbar": {
              "outlinewidth": 0,
              "ticks": ""
             }
            },
            "type": "scatterternary"
           }
          ],
          "surface": [
           {
            "colorbar": {
             "outlinewidth": 0,
             "ticks": ""
            },
            "colorscale": [
             [
              0,
              "#0d0887"
             ],
             [
              0.1111111111111111,
              "#46039f"
             ],
             [
              0.2222222222222222,
              "#7201a8"
             ],
             [
              0.3333333333333333,
              "#9c179e"
             ],
             [
              0.4444444444444444,
              "#bd3786"
             ],
             [
              0.5555555555555556,
              "#d8576b"
             ],
             [
              0.6666666666666666,
              "#ed7953"
             ],
             [
              0.7777777777777778,
              "#fb9f3a"
             ],
             [
              0.8888888888888888,
              "#fdca26"
             ],
             [
              1,
              "#f0f921"
             ]
            ],
            "type": "surface"
           }
          ],
          "table": [
           {
            "cells": {
             "fill": {
              "color": "#EBF0F8"
             },
             "line": {
              "color": "white"
             }
            },
            "header": {
             "fill": {
              "color": "#C8D4E3"
             },
             "line": {
              "color": "white"
             }
            },
            "type": "table"
           }
          ]
         },
         "layout": {
          "annotationdefaults": {
           "arrowcolor": "#2a3f5f",
           "arrowhead": 0,
           "arrowwidth": 1
          },
          "autotypenumbers": "strict",
          "coloraxis": {
           "colorbar": {
            "outlinewidth": 0,
            "ticks": ""
           }
          },
          "colorscale": {
           "diverging": [
            [
             0,
             "#8e0152"
            ],
            [
             0.1,
             "#c51b7d"
            ],
            [
             0.2,
             "#de77ae"
            ],
            [
             0.3,
             "#f1b6da"
            ],
            [
             0.4,
             "#fde0ef"
            ],
            [
             0.5,
             "#f7f7f7"
            ],
            [
             0.6,
             "#e6f5d0"
            ],
            [
             0.7,
             "#b8e186"
            ],
            [
             0.8,
             "#7fbc41"
            ],
            [
             0.9,
             "#4d9221"
            ],
            [
             1,
             "#276419"
            ]
           ],
           "sequential": [
            [
             0,
             "#0d0887"
            ],
            [
             0.1111111111111111,
             "#46039f"
            ],
            [
             0.2222222222222222,
             "#7201a8"
            ],
            [
             0.3333333333333333,
             "#9c179e"
            ],
            [
             0.4444444444444444,
             "#bd3786"
            ],
            [
             0.5555555555555556,
             "#d8576b"
            ],
            [
             0.6666666666666666,
             "#ed7953"
            ],
            [
             0.7777777777777778,
             "#fb9f3a"
            ],
            [
             0.8888888888888888,
             "#fdca26"
            ],
            [
             1,
             "#f0f921"
            ]
           ],
           "sequentialminus": [
            [
             0,
             "#0d0887"
            ],
            [
             0.1111111111111111,
             "#46039f"
            ],
            [
             0.2222222222222222,
             "#7201a8"
            ],
            [
             0.3333333333333333,
             "#9c179e"
            ],
            [
             0.4444444444444444,
             "#bd3786"
            ],
            [
             0.5555555555555556,
             "#d8576b"
            ],
            [
             0.6666666666666666,
             "#ed7953"
            ],
            [
             0.7777777777777778,
             "#fb9f3a"
            ],
            [
             0.8888888888888888,
             "#fdca26"
            ],
            [
             1,
             "#f0f921"
            ]
           ]
          },
          "colorway": [
           "#636efa",
           "#EF553B",
           "#00cc96",
           "#ab63fa",
           "#FFA15A",
           "#19d3f3",
           "#FF6692",
           "#B6E880",
           "#FF97FF",
           "#FECB52"
          ],
          "font": {
           "color": "#2a3f5f"
          },
          "geo": {
           "bgcolor": "white",
           "lakecolor": "white",
           "landcolor": "#E5ECF6",
           "showlakes": true,
           "showland": true,
           "subunitcolor": "white"
          },
          "hoverlabel": {
           "align": "left"
          },
          "hovermode": "closest",
          "mapbox": {
           "style": "light"
          },
          "paper_bgcolor": "white",
          "plot_bgcolor": "#E5ECF6",
          "polar": {
           "angularaxis": {
            "gridcolor": "white",
            "linecolor": "white",
            "ticks": ""
           },
           "bgcolor": "#E5ECF6",
           "radialaxis": {
            "gridcolor": "white",
            "linecolor": "white",
            "ticks": ""
           }
          },
          "scene": {
           "xaxis": {
            "backgroundcolor": "#E5ECF6",
            "gridcolor": "white",
            "gridwidth": 2,
            "linecolor": "white",
            "showbackground": true,
            "ticks": "",
            "zerolinecolor": "white"
           },
           "yaxis": {
            "backgroundcolor": "#E5ECF6",
            "gridcolor": "white",
            "gridwidth": 2,
            "linecolor": "white",
            "showbackground": true,
            "ticks": "",
            "zerolinecolor": "white"
           },
           "zaxis": {
            "backgroundcolor": "#E5ECF6",
            "gridcolor": "white",
            "gridwidth": 2,
            "linecolor": "white",
            "showbackground": true,
            "ticks": "",
            "zerolinecolor": "white"
           }
          },
          "shapedefaults": {
           "line": {
            "color": "#2a3f5f"
           }
          },
          "ternary": {
           "aaxis": {
            "gridcolor": "white",
            "linecolor": "white",
            "ticks": ""
           },
           "baxis": {
            "gridcolor": "white",
            "linecolor": "white",
            "ticks": ""
           },
           "bgcolor": "#E5ECF6",
           "caxis": {
            "gridcolor": "white",
            "linecolor": "white",
            "ticks": ""
           }
          },
          "title": {
           "x": 0.05
          },
          "xaxis": {
           "automargin": true,
           "gridcolor": "white",
           "linecolor": "white",
           "ticks": "",
           "title": {
            "standoff": 15
           },
           "zerolinecolor": "white",
           "zerolinewidth": 2
          },
          "yaxis": {
           "automargin": true,
           "gridcolor": "white",
           "linecolor": "white",
           "ticks": "",
           "title": {
            "standoff": 15
           },
           "zerolinecolor": "white",
           "zerolinewidth": 2
          }
         }
        },
        "title": {
         "text": "ROC Curve - Decision Tree & Random Forest (Stratified & Non-Stratified)"
        },
        "xaxis": {
         "title": {
          "text": "False Positive Rate"
         }
        },
        "yaxis": {
         "title": {
          "text": "True Positive Rate"
         }
        }
       }
      }
     },
     "metadata": {},
     "output_type": "display_data"
    }
   ],
   "source": [
    "# # 1. Predict probabilities untuk ROC Curve\n",
    "# y_probs_dtree = dtree.predict_proba(X_test)[:, 1]  \n",
    "# y_probs_rf = rf.predict_proba(X_test)[:, 1]  \n",
    "\n",
    "# y_probs_dtree_st = dtree_st.predict_proba(X_test_st)[:, 1]  \n",
    "# y_probs_rf_st = rf_st.predict_proba(X_test_st)[:, 1]  \n",
    "\n",
    "# # 2. Hitung AUC untuk semua model\n",
    "# auc_dtree = roc_auc_score(y_test, y_probs_dtree)\n",
    "# auc_rf = roc_auc_score(y_test, y_probs_rf)\n",
    "# auc_dtree_st = roc_auc_score(y_test_st, y_probs_dtree_st)\n",
    "# auc_rf_st = roc_auc_score(y_test_st, y_probs_rf_st)\n",
    "\n",
    "# # 3. Hitung ROC Curve (FPR & TPR)\n",
    "# fpr_dtree, tpr_dtree, _ = roc_curve(y_test, y_probs_dtree)\n",
    "# fpr_rf, tpr_rf, _ = roc_curve(y_test, y_probs_rf)\n",
    "# fpr_dtree_st, tpr_dtree_st, _ = roc_curve(y_test_st, y_probs_dtree_st)\n",
    "# fpr_rf_st, tpr_rf_st, _ = roc_curve(y_test_st, y_probs_rf_st)\n",
    "\n",
    "# # 4. Membuat ROC Curve dengan Plotly\n",
    "# fig = go.Figure()\n",
    "\n",
    "# fig.add_trace(go.Scatter(\n",
    "#     x=fpr_dtree, y=tpr_dtree, mode='lines',\n",
    "#     name=f'Decision Tree (AUC = {auc_dtree:.4f})',\n",
    "#     line=dict(color='#1f77b4', dash='dash')  # Biru Soft\n",
    "# ))\n",
    "\n",
    "# fig.add_trace(go.Scatter(\n",
    "#     x=fpr_rf, y=tpr_rf, mode='lines',\n",
    "#     name=f'Random Forest (AUC = {auc_rf:.4f})',\n",
    "#     line=dict(color='red', dash='dot')  # Oranye Soft\n",
    "# ))\n",
    "\n",
    "# fig.add_trace(go.Scatter(\n",
    "#     x=fpr_dtree_st, y=tpr_dtree_st, mode='lines',\n",
    "#     name=f'Decision Tree (ST) (AUC = {auc_dtree_st:.4f})',\n",
    "#     line=dict(color='#2ca02c', dash='solid')  # Hijau Soft\n",
    "# ))\n",
    "\n",
    "# fig.add_trace(go.Scatter(\n",
    "#     x=fpr_rf_st, y=tpr_rf_st, mode='lines',\n",
    "#     name=f'Random Forest (ST) (AUC = {auc_rf_st:.4f})',\n",
    "#     line=dict(color='blue', dash='longdash')  # Merah Soft\n",
    "# ))\n",
    "\n",
    "# # Garis referensi (Random Guess)\n",
    "# fig.add_trace(go.Scatter(\n",
    "#     x=[0, 1], y=[0, 1], mode='lines',\n",
    "#     name='Random', line=dict(color='#7f7f7f', dash='dashdot')  # Abu-abu Netral\n",
    "# ))\n",
    "\n",
    "# fig.update_layout(\n",
    "#     title=\"ROC Curve - Decision Tree & Random Forest (Stratified & Non-Stratified)\",\n",
    "#     xaxis_title=\"False Positive Rate\",\n",
    "#     yaxis_title=\"True Positive Rate\",\n",
    "#     showlegend=True,\n",
    "#     font=dict(size=14),  # Ukuran teks lebih nyaman\n",
    "#     legend=dict(\n",
    "#         bgcolor=\"rgba(255, 255, 255, 0.8)\",  # Latar belakang legend (semi-transparan)\n",
    "#         bordercolor=\"black\",  # Warna border hitam\n",
    "#         borderwidth=1  # Ketebalan border\n",
    "#     ),\n",
    "# )\n",
    "\n",
    "# # Menampilkan plot\n",
    "# fig.show()"
   ]
  },
  {
   "cell_type": "code",
   "execution_count": 22,
   "metadata": {
    "colab": {
     "base_uri": "https://localhost:8080/"
    },
    "id": "V8BDxrmkqBVU",
    "outputId": "a4dd94f6-bd8c-4228-d4d5-598b19cbabe5"
   },
   "outputs": [
    {
     "name": "stdout",
     "output_type": "stream",
     "text": [
      "=== System Information ===\n",
      "CPU Model        : Intel(R) Core(TM) i7-10610U CPU @ 1.80GHz\n",
      "CPU Architecture : x86_64\n",
      "CPU Cores        : 4 (Physical), 8 (Logical)\n",
      "CPU Max Frequency: 4900.0 MHz\n",
      "Total RAM        : 15.27 GB\n",
      "Total Disk       : 63.0 GB\n",
      "GPU Model        : None (N/A)\n",
      "\n",
      "=== CPU Cache Information ===\n",
      "L1 Instruction Cache: 128 KiB (4 instances)\n",
      "L1 Data Cache      : 128 KiB (4 instances)\n",
      "L2 Cache           : 1 MiB (4 instances)\n",
      "L3 Cache           : 8 MiB (1 instance)\n",
      "\n",
      "No GPU detected.\n"
     ]
    }
   ],
   "source": [
    "# Informasi CPU\n",
    "cpu_model = subprocess.run([\"cat\", \"/proc/cpuinfo\"], capture_output=True, text=True).stdout\n",
    "cpu_name = [line for line in cpu_model.split(\"\\n\") if \"model name\" in line]\n",
    "cpu_name = cpu_name[0].split(\":\")[1].strip() if cpu_name else \"Unknown\"\n",
    "\n",
    "cpu_architecture = platform.machine()\n",
    "cpu_cores = psutil.cpu_count(logical=False)\n",
    "cpu_threads = psutil.cpu_count(logical=True)\n",
    "cpu_freq = psutil.cpu_freq().max if psutil.cpu_freq() else \"Unknown\"\n",
    "\n",
    "# Informasi Cache CPU\n",
    "cache_info = subprocess.run([\"lscpu\"], capture_output=True, text=True).stdout\n",
    "l1_instruction_cache, l1_data_cache, l2_cache, l3_cache = \"Unknown\", \"Unknown\", \"Unknown\", \"Unknown\"\n",
    "\n",
    "for line in cache_info.split(\"\\n\"):\n",
    "    if \"L1d cache\" in line:\n",
    "        l1_data_cache = line.split(\":\")[1].strip()\n",
    "    elif \"L1i cache\" in line:\n",
    "        l1_instruction_cache = line.split(\":\")[1].strip()\n",
    "    elif \"L2 cache\" in line:\n",
    "        l2_cache = line.split(\":\")[1].strip()\n",
    "    elif \"L3 cache\" in line:\n",
    "        l3_cache = line.split(\":\")[1].strip()\n",
    "\n",
    "# Informasi RAM\n",
    "ram = psutil.virtual_memory()\n",
    "total_ram = round(ram.total / (1024**3), 2)  # Konversi ke GB\n",
    "\n",
    "# Informasi Disk\n",
    "disk = psutil.disk_usage('/')\n",
    "total_disk = round(disk.total / (1024**3), 2)\n",
    "\n",
    "# Informasi GPU (jika tersedia)\n",
    "gpu_name = \"None\"\n",
    "gpu_memory = \"N/A\"\n",
    "gpu_info = \"No GPU detected.\"\n",
    "\n",
    "if torch.cuda.is_available():\n",
    "    gpu_name = torch.cuda.get_device_name(0)\n",
    "    total_memory = torch.cuda.get_device_properties(0).total_memory\n",
    "    gpu_memory = f\"{round(total_memory / (1024**3), 2)} GB\"\n",
    "\n",
    "    # Gunakan nvidia-smi untuk detail tambahan\n",
    "    nvidia_info = subprocess.run([\"nvidia-smi\", \"--query-gpu=name,memory.total\", \"--format=csv\"], \n",
    "                                 capture_output=True, text=True).stdout\n",
    "    gpu_info = nvidia_info if nvidia_info else gpu_name\n",
    "\n",
    "# Output\n",
    "print(\"=== System Information ===\")\n",
    "print(f\"CPU Model        : {cpu_name}\")\n",
    "print(f\"CPU Architecture : {cpu_architecture}\")\n",
    "print(f\"CPU Cores        : {cpu_cores} (Physical), {cpu_threads} (Logical)\")\n",
    "print(f\"CPU Max Frequency: {cpu_freq} MHz\")\n",
    "print(f\"Total RAM        : {total_ram} GB\")\n",
    "print(f\"Total Disk       : {total_disk} GB\")\n",
    "print(f\"GPU Model        : {gpu_name} ({gpu_memory})\")\n",
    "\n",
    "print(\"\\n=== CPU Cache Information ===\")\n",
    "print(f\"L1 Instruction Cache: {l1_instruction_cache}\")\n",
    "print(f\"L1 Data Cache      : {l1_data_cache}\")\n",
    "print(f\"L2 Cache           : {l2_cache}\")\n",
    "print(f\"L3 Cache           : {l3_cache}\")\n",
    "\n",
    "if torch.cuda.is_available():\n",
    "    print(\"\\n=== GPU Details ===\")\n",
    "    print(gpu_info)\n",
    "else:\n",
    "    print(\"\\nNo GPU detected.\")"
   ]
  },
  {
   "cell_type": "code",
   "execution_count": 67,
   "metadata": {
    "colab": {
     "base_uri": "https://localhost:8080/"
    },
    "id": "eOPxCGn4_2Sa",
    "outputId": "1546979a-c4fd-4e11-9e31-6e581e830520"
   },
   "outputs": [
    {
     "name": "stdout",
     "output_type": "stream",
     "text": [
      "Execution Time (Min): 0.0101 seconds\n",
      "Execution Time (Max): 0.0236 seconds\n"
     ]
    }
   ],
   "source": [
    "# mengukur waktu eksekusi DT\n",
    "execution_times_dt = [timeit.timeit('dtree.fit(X_train, y_train)', globals=globals(), number=1) for _ in range(100)]\n",
    "\n",
    "# Ambil nilai terkecil dan terbesar\n",
    "min_time_dt = min(execution_times_dt)\n",
    "max_time_dt = max(execution_times_dt)\n",
    "\n",
    "# Tampilkan hasil\n",
    "print(f\"Execution Time (Min): {min_time_dt:.4f} seconds\")\n",
    "print(f\"Execution Time (Max): {max_time_dt:.4f} seconds\")"
   ]
  },
  {
   "cell_type": "code",
   "execution_count": 68,
   "metadata": {
    "colab": {
     "base_uri": "https://localhost:8080/"
    },
    "id": "TluvgtsiAJPs",
    "outputId": "8ccf169b-4a37-40f0-f7b0-d3360519ae00"
   },
   "outputs": [
    {
     "name": "stdout",
     "output_type": "stream",
     "text": [
      "Execution Time (Min): 0.5917 seconds\n",
      "Execution Time (Max): 0.8209 seconds\n"
     ]
    }
   ],
   "source": [
    "# mengukur waktu eksekusi RF\n",
    "execution_times_rf = [timeit.timeit('rf.fit(X_train, y_train)', globals=globals(), number=1) for _ in range(100)]\n",
    "\n",
    "# Ambil nilai terkecil dan terbesar\n",
    "min_time_rf = min(execution_times_rf)\n",
    "max_time_rf = max(execution_times_rf)\n",
    "\n",
    "# Tampilkan hasil\n",
    "print(f\"Execution Time (Min): {min_time_rf:.4f} seconds\")\n",
    "print(f\"Execution Time (Max): {max_time_rf:.4f} seconds\")"
   ]
  },
  {
   "cell_type": "code",
   "execution_count": 23,
   "metadata": {},
   "outputs": [],
   "source": [
    "# Fungsi untuk mendapatkan penggunaan RAM awal dan akhir dari tracemalloc\n",
    "def process_memory():\n",
    "    snapshot, _ = tracemalloc.get_traced_memory()\n",
    "    return snapshot / (1024 * 1024)  # Konversi ke MB"
   ]
  },
  {
   "cell_type": "code",
   "execution_count": 24,
   "metadata": {},
   "outputs": [],
   "source": [
    "def measure_memory(model, x_train, y_train):\n",
    "    tracemalloc.start()\n",
    "    initial_memory = process_memory()  # Ambil memori awal\n",
    "    model.fit(x_train, y_train)  # Latih model\n",
    "    final_memory = process_memory()  # Ambil memori akhir\n",
    "    tracemalloc.stop()\n",
    "    return final_memory - initial_memory  # Selisih pemakaian memori"
   ]
  },
  {
   "cell_type": "code",
   "execution_count": 137,
   "metadata": {
    "colab": {
     "base_uri": "https://localhost:8080/"
    },
    "id": "dI6Kd3SSCbBe",
    "outputId": "7c2bf39c-0e5f-435c-c688-f296a162188c"
   },
   "outputs": [
    {
     "name": "stdout",
     "output_type": "stream",
     "text": [
      "Memory Usage (Min): 0.0009 MB\n",
      "Memory Usage (Max): 0.0031 MB\n"
     ]
    }
   ],
   "source": [
    "# Memory usage DT\n",
    "memory_usages_dt = [measure_memory(dtree, X_train, y_train) for _ in range(100)]\n",
    "\n",
    "# Ambil nilai terkecil dan terbesar\n",
    "min_memory_dt, max_memory_dt = min(memory_usages_dt), max(memory_usages_dt)\n",
    "\n",
    "# Tampilkan hasil\n",
    "print(f\"Memory Usage (Min): {min_memory_dt:.4f} MB\")\n",
    "print(f\"Memory Usage (Max): {max_memory_dt:.4f} MB\")"
   ]
  },
  {
   "cell_type": "code",
   "execution_count": 142,
   "metadata": {},
   "outputs": [
    {
     "name": "stdout",
     "output_type": "stream",
     "text": [
      "Memory Usage (Min): 0.0009 MB\n",
      "Memory Usage (Max): 0.0037 MB\n"
     ]
    }
   ],
   "source": [
    "# Memory usage DT Stratified\n",
    "memory_usages_dt_st = [measure_memory(dtree_st, X_train_st, y_train_st) for _ in range(100)]\n",
    "\n",
    "# Ambil nilai terkecil dan terbesar\n",
    "min_memory_dt_st, max_memory_dt_st = min(memory_usages_dt_st), max(memory_usages_dt_st)\n",
    "\n",
    "# Tampilkan hasil\n",
    "print(f\"Memory Usage (Min): {min_memory_dt_st:.4f} MB\")\n",
    "print(f\"Memory Usage (Max): {max_memory_dt_st:.4f} MB\")"
   ]
  },
  {
   "cell_type": "code",
   "execution_count": 27,
   "metadata": {
    "colab": {
     "base_uri": "https://localhost:8080/"
    },
    "id": "gb66udTtTIxb",
    "outputId": "35bebc1c-e78e-4f46-ec95-a3bb52891039"
   },
   "outputs": [
    {
     "name": "stdout",
     "output_type": "stream",
     "text": [
      "Memory Usage (Min): 0.0663 MB\n",
      "Memory Usage (Max): 0.0695 MB\n"
     ]
    }
   ],
   "source": [
    "# Memory usage RF\n",
    "memory_usages_rf = [measure_memory(rf, X_train, y_train) for _ in range(100)]\n",
    "\n",
    "# Ambil nilai terkecil dan terbesar\n",
    "min_memory_rf, max_memory_rf = min(memory_usages_rf), max(memory_usages_rf)\n",
    "\n",
    "# Tampilkan hasil\n",
    "print(f\"Memory Usage (Min): {min_memory_rf:.4f} MB\")\n",
    "print(f\"Memory Usage (Max): {max_memory_rf:.4f} MB\")"
   ]
  },
  {
   "cell_type": "code",
   "execution_count": 28,
   "metadata": {},
   "outputs": [
    {
     "name": "stdout",
     "output_type": "stream",
     "text": [
      "Memory Usage (Min): 0.0665 MB\n",
      "Memory Usage (Max): 0.0707 MB\n"
     ]
    }
   ],
   "source": [
    "# Memory usage RF Stratified\n",
    "memory_usages_rf_st = [measure_memory(rf_st, X_train_st, y_train_st) for _ in range(100)]\n",
    "\n",
    "# Ambil nilai terkecil dan terbesar\n",
    "min_memory_rf_st, max_memory_rf_st = min(memory_usages_rf_st), max(memory_usages_rf_st)\n",
    "\n",
    "# Tampilkan hasil\n",
    "print(f\"Memory Usage (Min): {min_memory_rf_st:.4f} MB\")\n",
    "print(f\"Memory Usage (Max): {max_memory_rf_st:.4f} MB\")"
   ]
  },
  {
   "cell_type": "code",
   "execution_count": 29,
   "metadata": {},
   "outputs": [],
   "source": [
    "def measure_cpu_energy_usage(label, model, X_train, y_train):\n",
    "    pyRAPL.setup()\n",
    "    \n",
    "    cpu_energies = []\n",
    "\n",
    "    for _ in range(100):\n",
    "        meter = pyRAPL.Measurement(label)\n",
    "        \n",
    "        with meter:\n",
    "            model.fit(X_train, y_train)  # Latih model\n",
    "            \n",
    "        # Ambil hasil pengukuran\n",
    "        result = meter.result\n",
    "\n",
    "        # Konversi CPU Energy dari µJ ke J\n",
    "        cpu_energy_joule = result.pkg[0] * 1e-6  # Paket energi CPU\n",
    "\n",
    "        # Simpan nilai untuk mencari min & max\n",
    "        cpu_energies.append(cpu_energy_joule)\n",
    "\n",
    "    return min(cpu_energies), max(cpu_energies)"
   ]
  },
  {
   "cell_type": "code",
   "execution_count": 30,
   "metadata": {
    "id": "oxOPw8UHndlU"
   },
   "outputs": [
    {
     "name": "stdout",
     "output_type": "stream",
     "text": [
      "Label : dtree\n",
      "Begin : Thu Mar 13 00:07:00 2025\n",
      "Duration :  3396.3950 us\n",
      "-------------------------------\n",
      "PKG :\n",
      "\tsocket 0 :  85694.0000 uJ\n",
      "Label : dtree\n",
      "Begin : Thu Mar 13 00:07:00 2025\n",
      "Duration :  2354.3970 us\n",
      "-------------------------------\n",
      "PKG :\n",
      "\tsocket 0 :  38757.0000 uJ\n",
      "Label : dtree\n",
      "Begin : Thu Mar 13 00:07:00 2025\n",
      "Duration :  2125.7820 us\n",
      "-------------------------------\n",
      "PKG :\n",
      "\tsocket 0 :  34424.0000 uJ\n",
      "Label : dtree\n",
      "Begin : Thu Mar 13 00:07:00 2025\n",
      "Duration :  2180.3900 us\n",
      "-------------------------------\n",
      "PKG :\n",
      "\tsocket 0 :  41747.0000 uJ\n",
      "Label : dtree\n",
      "Begin : Thu Mar 13 00:07:00 2025\n",
      "Duration :  2125.3490 us\n",
      "-------------------------------\n",
      "PKG :\n",
      "\tsocket 0 :  16968.0000 uJ\n",
      "Label : dtree\n",
      "Begin : Thu Mar 13 00:07:00 2025\n",
      "Duration :  2041.5230 us\n",
      "-------------------------------\n",
      "PKG :\n",
      "\tsocket 0 :  28565.0000 uJ\n",
      "Label : dtree\n",
      "Begin : Thu Mar 13 00:07:00 2025\n",
      "Duration :  2032.8950 us\n",
      "-------------------------------\n",
      "PKG :\n",
      "\tsocket 0 :  42541.0000 uJ\n",
      "Label : dtree\n",
      "Begin : Thu Mar 13 00:07:00 2025\n",
      "Duration :  2084.7720 us\n",
      "-------------------------------\n",
      "PKG :\n",
      "\tsocket 0 :  29480.0000 uJ\n",
      "Label : dtree\n",
      "Begin : Thu Mar 13 00:07:00 2025\n",
      "Duration :  2074.7630 us\n",
      "-------------------------------\n",
      "PKG :\n",
      "\tsocket 0 :  16479.0000 uJ\n",
      "Label : dtree\n",
      "Begin : Thu Mar 13 00:07:00 2025\n",
      "Duration :  2139.3110 us\n",
      "-------------------------------\n",
      "PKG :\n",
      "\tsocket 0 :  31922.0000 uJ\n",
      "Label : dtree\n",
      "Begin : Thu Mar 13 00:07:00 2025\n",
      "Duration :  2938.4280 us\n",
      "-------------------------------\n",
      "PKG :\n",
      "\tsocket 0 :  68542.0000 uJ\n",
      "Label : dtree\n",
      "Begin : Thu Mar 13 00:07:00 2025\n",
      "Duration :  2151.1960 us\n",
      "-------------------------------\n",
      "PKG :\n",
      "\tsocket 0 :  38452.0000 uJ\n",
      "Label : dtree\n",
      "Begin : Thu Mar 13 00:07:00 2025\n",
      "Duration :  2679.8940 us\n",
      "-------------------------------\n",
      "PKG :\n",
      "\tsocket 0 :  38879.0000 uJ\n",
      "Label : dtree\n",
      "Begin : Thu Mar 13 00:07:00 2025\n",
      "Duration :  2660.0080 us\n",
      "-------------------------------\n",
      "PKG :\n",
      "\tsocket 0 :  50476.0000 uJ\n",
      "Label : dtree\n",
      "Begin : Thu Mar 13 00:07:00 2025\n",
      "Duration :  2223.0710 us\n",
      "-------------------------------\n",
      "PKG :\n",
      "\tsocket 0 :  58350.0000 uJ\n",
      "Label : dtree\n",
      "Begin : Thu Mar 13 00:07:00 2025\n",
      "Duration :  2282.2580 us\n",
      "-------------------------------\n",
      "PKG :\n",
      "\tsocket 0 :  33081.0000 uJ\n",
      "Label : dtree\n",
      "Begin : Thu Mar 13 00:07:00 2025\n",
      "Duration :  3534.8950 us\n",
      "-------------------------------\n",
      "PKG :\n",
      "\tsocket 0 :  94726.0000 uJ\n",
      "Label : dtree\n",
      "Begin : Thu Mar 13 00:07:00 2025\n",
      "Duration :  2231.2640 us\n",
      "-------------------------------\n",
      "PKG :\n",
      "\tsocket 0 :  30395.0000 uJ\n",
      "Label : dtree\n",
      "Begin : Thu Mar 13 00:07:00 2025\n",
      "Duration :  2095.1510 us\n",
      "-------------------------------\n",
      "PKG :\n",
      "\tsocket 0 :  42115.0000 uJ\n",
      "Label : dtree\n",
      "Begin : Thu Mar 13 00:07:00 2025\n",
      "Duration :  2512.4680 us\n",
      "-------------------------------\n",
      "PKG :\n",
      "\tsocket 0 :  32409.0000 uJ\n",
      "Label : dtree\n",
      "Begin : Thu Mar 13 00:07:00 2025\n",
      "Duration :  2827.2050 us\n",
      "-------------------------------\n",
      "PKG :\n",
      "\tsocket 0 :  33813.0000 uJ\n",
      "Label : dtree\n",
      "Begin : Thu Mar 13 00:07:00 2025\n",
      "Duration :  2635.0960 us\n",
      "-------------------------------\n",
      "PKG :\n",
      "\tsocket 0 :  42359.0000 uJ\n",
      "Label : dtree\n",
      "Begin : Thu Mar 13 00:07:00 2025\n",
      "Duration :  2364.9660 us\n",
      "-------------------------------\n",
      "PKG :\n",
      "\tsocket 0 :  50720.0000 uJ\n",
      "Label : dtree\n",
      "Begin : Thu Mar 13 00:07:00 2025\n",
      "Duration :  2169.4080 us\n",
      "-------------------------------\n",
      "PKG :\n",
      "\tsocket 0 :  20935.0000 uJ\n",
      "Label : dtree\n",
      "Begin : Thu Mar 13 00:07:00 2025\n",
      "Duration :  2214.2530 us\n",
      "-------------------------------\n",
      "PKG :\n",
      "\tsocket 0 :  20447.0000 uJ\n",
      "Label : dtree\n",
      "Begin : Thu Mar 13 00:07:00 2025\n",
      "Duration :  2226.0790 us\n",
      "-------------------------------\n",
      "PKG :\n",
      "\tsocket 0 :  65246.0000 uJ\n",
      "Label : dtree\n",
      "Begin : Thu Mar 13 00:07:00 2025\n",
      "Duration :  2166.6110 us\n",
      "-------------------------------\n",
      "PKG :\n",
      "\tsocket 0 :  26367.0000 uJ\n",
      "Label : dtree\n",
      "Begin : Thu Mar 13 00:07:00 2025\n",
      "Duration :  2270.6540 us\n",
      "-------------------------------\n",
      "PKG :\n",
      "\tsocket 0 :  52124.0000 uJ\n",
      "Label : dtree\n",
      "Begin : Thu Mar 13 00:07:00 2025\n",
      "Duration :  2487.9790 us\n",
      "-------------------------------\n",
      "PKG :\n",
      "\tsocket 0 :  42297.0000 uJ\n",
      "Label : dtree\n",
      "Begin : Thu Mar 13 00:07:00 2025\n",
      "Duration :  2434.8030 us\n",
      "-------------------------------\n",
      "PKG :\n",
      "\tsocket 0 :  25086.0000 uJ\n",
      "Label : dtree\n",
      "Begin : Thu Mar 13 00:07:00 2025\n",
      "Duration :  2274.0920 us\n",
      "-------------------------------\n",
      "PKG :\n",
      "\tsocket 0 :  20081.0000 uJ\n",
      "Label : dtree\n",
      "Begin : Thu Mar 13 00:07:00 2025\n",
      "Duration :  2321.2580 us\n",
      "-------------------------------\n",
      "PKG :\n",
      "\tsocket 0 :  22277.0000 uJ\n",
      "Label : dtree\n",
      "Begin : Thu Mar 13 00:07:00 2025\n",
      "Duration :  2300.4900 us\n",
      "-------------------------------\n",
      "PKG :\n",
      "\tsocket 0 :  31250.0000 uJ\n",
      "Label : dtree\n",
      "Begin : Thu Mar 13 00:07:00 2025\n",
      "Duration :  2191.1740 us\n",
      "-------------------------------\n",
      "PKG :\n",
      "\tsocket 0 :  37292.0000 uJ\n",
      "Label : dtree\n",
      "Begin : Thu Mar 13 00:07:00 2025\n",
      "Duration :  2199.7760 us\n",
      "-------------------------------\n",
      "PKG :\n",
      "\tsocket 0 :  23926.0000 uJ\n",
      "Label : dtree\n",
      "Begin : Thu Mar 13 00:07:00 2025\n",
      "Duration :  2294.1060 us\n",
      "-------------------------------\n",
      "PKG :\n",
      "\tsocket 0 :  43701.0000 uJ\n",
      "Label : dtree\n",
      "Begin : Thu Mar 13 00:07:00 2025\n",
      "Duration :  2167.1030 us\n",
      "-------------------------------\n",
      "PKG :\n",
      "\tsocket 0 :  40588.0000 uJ\n",
      "Label : dtree\n",
      "Begin : Thu Mar 13 00:07:00 2025\n",
      "Duration :  2068.2240 us\n",
      "-------------------------------\n",
      "PKG :\n",
      "\tsocket 0 :  23010.0000 uJ\n",
      "Label : dtree\n",
      "Begin : Thu Mar 13 00:07:00 2025\n",
      "Duration :  2283.6670 us\n",
      "-------------------------------\n",
      "PKG :\n",
      "\tsocket 0 :  41565.0000 uJ\n",
      "Label : dtree\n",
      "Begin : Thu Mar 13 00:07:00 2025\n",
      "Duration :  2207.3790 us\n",
      "-------------------------------\n",
      "PKG :\n",
      "\tsocket 0 :  30396.0000 uJ\n",
      "Label : dtree\n",
      "Begin : Thu Mar 13 00:07:00 2025\n",
      "Duration :  2134.6210 us\n",
      "-------------------------------\n",
      "PKG :\n",
      "\tsocket 0 :  24902.0000 uJ\n",
      "Label : dtree\n",
      "Begin : Thu Mar 13 00:07:00 2025\n",
      "Duration :  2257.5010 us\n",
      "-------------------------------\n",
      "PKG :\n",
      "\tsocket 0 :  16296.0000 uJ\n",
      "Label : dtree\n",
      "Begin : Thu Mar 13 00:07:00 2025\n",
      "Duration :  2431.0640 us\n",
      "-------------------------------\n",
      "PKG :\n",
      "\tsocket 0 :  68421.0000 uJ\n",
      "Label : dtree\n",
      "Begin : Thu Mar 13 00:07:00 2025\n",
      "Duration :  2095.6090 us\n",
      "-------------------------------\n",
      "PKG :\n",
      "\tsocket 0 :  14404.0000 uJ\n",
      "Label : dtree\n",
      "Begin : Thu Mar 13 00:07:00 2025\n",
      "Duration :  2145.5480 us\n",
      "-------------------------------\n",
      "PKG :\n",
      "\tsocket 0 :  19958.0000 uJ\n",
      "Label : dtree\n",
      "Begin : Thu Mar 13 00:07:00 2025\n",
      "Duration :  2470.4370 us\n",
      "-------------------------------\n",
      "PKG :\n",
      "\tsocket 0 :  52246.0000 uJ\n",
      "Label : dtree\n",
      "Begin : Thu Mar 13 00:07:00 2025\n",
      "Duration :  2128.9230 us\n",
      "-------------------------------\n",
      "PKG :\n",
      "\tsocket 0 :  35645.0000 uJ\n",
      "Label : dtree\n",
      "Begin : Thu Mar 13 00:07:00 2025\n",
      "Duration :  2174.0670 us\n",
      "-------------------------------\n",
      "PKG :\n",
      "\tsocket 0 :  11963.0000 uJ\n",
      "Label : dtree\n",
      "Begin : Thu Mar 13 00:07:00 2025\n",
      "Duration :  2426.2210 us\n",
      "-------------------------------\n",
      "PKG :\n",
      "\tsocket 0 :  40283.0000 uJ\n",
      "Label : dtree\n",
      "Begin : Thu Mar 13 00:07:00 2025\n",
      "Duration :  2183.7010 us\n",
      "-------------------------------\n",
      "PKG :\n",
      "\tsocket 0 :  42663.0000 uJ\n",
      "Label : dtree\n",
      "Begin : Thu Mar 13 00:07:00 2025\n",
      "Duration :  2078.1150 us\n",
      "-------------------------------\n",
      "PKG :\n",
      "\tsocket 0 :  17029.0000 uJ\n",
      "Label : dtree\n",
      "Begin : Thu Mar 13 00:07:00 2025\n",
      "Duration :  2140.2360 us\n",
      "-------------------------------\n",
      "PKG :\n",
      "\tsocket 0 :  32532.0000 uJ\n",
      "Label : dtree\n",
      "Begin : Thu Mar 13 00:07:00 2025\n",
      "Duration :  2422.6160 us\n",
      "-------------------------------\n",
      "PKG :\n",
      "\tsocket 0 :  26367.0000 uJ\n",
      "Label : dtree\n",
      "Begin : Thu Mar 13 00:07:00 2025\n",
      "Duration :  2131.3990 us\n",
      "-------------------------------\n",
      "PKG :\n",
      "\tsocket 0 :  21240.0000 uJ\n",
      "Label : dtree\n",
      "Begin : Thu Mar 13 00:07:00 2025\n",
      "Duration :  2069.6510 us\n",
      "-------------------------------\n",
      "PKG :\n",
      "\tsocket 0 :  15930.0000 uJ\n",
      "Label : dtree\n",
      "Begin : Thu Mar 13 00:07:00 2025\n",
      "Duration :  2414.1950 us\n",
      "-------------------------------\n",
      "PKG :\n",
      "\tsocket 0 :  28259.0000 uJ\n",
      "Label : dtree\n",
      "Begin : Thu Mar 13 00:07:00 2025\n",
      "Duration :  2132.0880 us\n",
      "-------------------------------\n",
      "PKG :\n",
      "\tsocket 0 :  27954.0000 uJ\n",
      "Label : dtree\n",
      "Begin : Thu Mar 13 00:07:00 2025\n",
      "Duration :  2042.2780 us\n",
      "-------------------------------\n",
      "PKG :\n",
      "\tsocket 0 :  18189.0000 uJ\n",
      "Label : dtree\n",
      "Begin : Thu Mar 13 00:07:00 2025\n",
      "Duration :  2360.3040 us\n",
      "-------------------------------\n",
      "PKG :\n",
      "\tsocket 0 :  14648.0000 uJ\n",
      "Label : dtree\n",
      "Begin : Thu Mar 13 00:07:00 2025\n",
      "Duration :  2342.5370 us\n",
      "-------------------------------\n",
      "PKG :\n",
      "\tsocket 0 :  57068.0000 uJ\n",
      "Label : dtree\n",
      "Begin : Thu Mar 13 00:07:00 2025\n",
      "Duration :  2082.7120 us\n",
      "-------------------------------\n",
      "PKG :\n",
      "\tsocket 0 :  18860.0000 uJ\n",
      "Label : dtree\n",
      "Begin : Thu Mar 13 00:07:00 2025\n",
      "Duration :  2132.9510 us\n",
      "-------------------------------\n",
      "PKG :\n",
      "\tsocket 0 :  14831.0000 uJ\n",
      "Label : dtree\n",
      "Begin : Thu Mar 13 00:07:00 2025\n",
      "Duration :  2628.4020 us\n",
      "-------------------------------\n",
      "PKG :\n",
      "\tsocket 0 :  70129.0000 uJ\n",
      "Label : dtree\n",
      "Begin : Thu Mar 13 00:07:00 2025\n",
      "Duration :  2133.6000 us\n",
      "-------------------------------\n",
      "PKG :\n",
      "\tsocket 0 :  19226.0000 uJ\n",
      "Label : dtree\n",
      "Begin : Thu Mar 13 00:07:00 2025\n",
      "Duration :  2060.8600 us\n",
      "-------------------------------\n",
      "PKG :\n",
      "\tsocket 0 :  16602.0000 uJ\n",
      "Label : dtree\n",
      "Begin : Thu Mar 13 00:07:00 2025\n",
      "Duration :  2320.5550 us\n",
      "-------------------------------\n",
      "PKG :\n",
      "\tsocket 0 :  42053.0000 uJ\n",
      "Label : dtree\n",
      "Begin : Thu Mar 13 00:07:00 2025\n",
      "Duration :  2134.4100 us\n",
      "-------------------------------\n",
      "PKG :\n",
      "\tsocket 0 :  28381.0000 uJ\n",
      "Label : dtree\n",
      "Begin : Thu Mar 13 00:07:00 2025\n",
      "Duration :  2152.4950 us\n",
      "-------------------------------\n",
      "PKG :\n",
      "\tsocket 0 :  26062.0000 uJ\n",
      "Label : dtree\n",
      "Begin : Thu Mar 13 00:07:00 2025\n",
      "Duration :  2230.0740 us\n",
      "-------------------------------\n",
      "PKG :\n",
      "\tsocket 0 :  23499.0000 uJ\n",
      "Label : dtree\n",
      "Begin : Thu Mar 13 00:07:00 2025\n",
      "Duration :  2542.9920 us\n",
      "-------------------------------\n",
      "PKG :\n",
      "\tsocket 0 :  52856.0000 uJ\n",
      "Label : dtree\n",
      "Begin : Thu Mar 13 00:07:00 2025\n",
      "Duration :  2114.9100 us\n",
      "-------------------------------\n",
      "PKG :\n",
      "\tsocket 0 :  18860.0000 uJ\n",
      "Label : dtree\n",
      "Begin : Thu Mar 13 00:07:00 2025\n",
      "Duration :  2323.4200 us\n",
      "-------------------------------\n",
      "PKG :\n",
      "\tsocket 0 :  10071.0000 uJ\n",
      "Label : dtree\n",
      "Begin : Thu Mar 13 00:07:00 2025\n",
      "Duration :  2367.3450 us\n",
      "-------------------------------\n",
      "PKG :\n",
      "\tsocket 0 :  55725.0000 uJ\n",
      "Label : dtree\n",
      "Begin : Thu Mar 13 00:07:00 2025\n",
      "Duration :  2219.4890 us\n",
      "-------------------------------\n",
      "PKG :\n",
      "\tsocket 0 :  26489.0000 uJ\n",
      "Label : dtree\n",
      "Begin : Thu Mar 13 00:07:00 2025\n",
      "Duration :  2188.2480 us\n",
      "-------------------------------\n",
      "PKG :\n",
      "\tsocket 0 :  20325.0000 uJ\n",
      "Label : dtree\n",
      "Begin : Thu Mar 13 00:07:00 2025\n",
      "Duration :  2555.0330 us\n",
      "-------------------------------\n",
      "PKG :\n",
      "\tsocket 0 :  19043.0000 uJ\n",
      "Label : dtree\n",
      "Begin : Thu Mar 13 00:07:00 2025\n",
      "Duration :  2345.1480 us\n",
      "-------------------------------\n",
      "PKG :\n",
      "\tsocket 0 :  32044.0000 uJ\n",
      "Label : dtree\n",
      "Begin : Thu Mar 13 00:07:00 2025\n",
      "Duration :  2145.3690 us\n",
      "-------------------------------\n",
      "PKG :\n",
      "\tsocket 0 :  24047.0000 uJ\n",
      "Label : dtree\n",
      "Begin : Thu Mar 13 00:07:00 2025\n",
      "Duration :  2415.5230 us\n",
      "-------------------------------\n",
      "PKG :\n",
      "\tsocket 0 :  41748.0000 uJ\n",
      "Label : dtree\n",
      "Begin : Thu Mar 13 00:07:00 2025\n",
      "Duration :  2488.3040 us\n",
      "-------------------------------\n",
      "PKG :\n",
      "\tsocket 0 :  40222.0000 uJ\n",
      "Label : dtree\n",
      "Begin : Thu Mar 13 00:07:00 2025\n",
      "Duration :  2322.9090 us\n",
      "-------------------------------\n",
      "PKG :\n",
      "\tsocket 0 :  24537.0000 uJ\n",
      "Label : dtree\n",
      "Begin : Thu Mar 13 00:07:00 2025\n",
      "Duration :  2400.1850 us\n",
      "-------------------------------\n",
      "PKG :\n",
      "\tsocket 0 :  41137.0000 uJ\n",
      "Label : dtree\n",
      "Begin : Thu Mar 13 00:07:00 2025\n",
      "Duration :  2194.5310 us\n",
      "-------------------------------\n",
      "PKG :\n",
      "\tsocket 0 :  36011.0000 uJ\n",
      "Label : dtree\n",
      "Begin : Thu Mar 13 00:07:00 2025\n",
      "Duration :  2115.1540 us\n",
      "-------------------------------\n",
      "PKG :\n",
      "\tsocket 0 :  21118.0000 uJ\n",
      "Label : dtree\n",
      "Begin : Thu Mar 13 00:07:00 2025\n",
      "Duration :  2202.5740 us\n",
      "-------------------------------\n",
      "PKG :\n",
      "\tsocket 0 :  30090.0000 uJ\n",
      "Label : dtree\n",
      "Begin : Thu Mar 13 00:07:00 2025\n",
      "Duration :  2597.8220 us\n",
      "-------------------------------\n",
      "PKG :\n",
      "\tsocket 0 :  28198.0000 uJ\n",
      "Label : dtree\n",
      "Begin : Thu Mar 13 00:07:00 2025\n",
      "Duration :  2077.4280 us\n",
      "-------------------------------\n",
      "PKG :\n",
      "\tsocket 0 :  16419.0000 uJ\n",
      "Label : dtree\n",
      "Begin : Thu Mar 13 00:07:00 2025\n",
      "Duration :  1995.9290 us\n",
      "-------------------------------\n",
      "PKG :\n",
      "\tsocket 0 :  12512.0000 uJ\n",
      "Label : dtree\n",
      "Begin : Thu Mar 13 00:07:00 2025\n",
      "Duration :  2467.1270 us\n",
      "-------------------------------\n",
      "PKG :\n",
      "\tsocket 0 :  48340.0000 uJ\n",
      "Label : dtree\n",
      "Begin : Thu Mar 13 00:07:00 2025\n",
      "Duration :  2135.3420 us\n",
      "-------------------------------\n",
      "PKG :\n",
      "\tsocket 0 :  47058.0000 uJ\n",
      "Label : dtree\n",
      "Begin : Thu Mar 13 00:07:00 2025\n",
      "Duration :  2154.1620 us\n",
      "-------------------------------\n",
      "PKG :\n",
      "\tsocket 0 :  14465.0000 uJ\n",
      "Label : dtree\n",
      "Begin : Thu Mar 13 00:07:00 2025\n",
      "Duration :  2371.8430 us\n",
      "-------------------------------\n",
      "PKG :\n",
      "\tsocket 0 :  42419.0000 uJ\n",
      "Label : dtree\n",
      "Begin : Thu Mar 13 00:07:00 2025\n",
      "Duration :  2339.6590 us\n",
      "-------------------------------\n",
      "PKG :\n",
      "\tsocket 0 :  32227.0000 uJ\n",
      "Label : dtree\n",
      "Begin : Thu Mar 13 00:07:00 2025\n",
      "Duration :  2197.3670 us\n",
      "-------------------------------\n",
      "PKG :\n",
      "\tsocket 0 :  28686.0000 uJ\n",
      "Label : dtree\n",
      "Begin : Thu Mar 13 00:07:00 2025\n",
      "Duration :  2474.3370 us\n",
      "-------------------------------\n",
      "PKG :\n",
      "\tsocket 0 :  28564.0000 uJ\n",
      "Label : dtree\n",
      "Begin : Thu Mar 13 00:07:00 2025\n",
      "Duration :  2308.8190 us\n",
      "-------------------------------\n",
      "PKG :\n",
      "\tsocket 0 :  58411.0000 uJ\n",
      "Label : dtree\n",
      "Begin : Thu Mar 13 00:07:00 2025\n",
      "Duration :  2165.9970 us\n",
      "-------------------------------\n",
      "PKG :\n",
      "\tsocket 0 :  22034.0000 uJ\n",
      "Label : dtree\n",
      "Begin : Thu Mar 13 00:07:00 2025\n",
      "Duration :  2093.6840 us\n",
      "-------------------------------\n",
      "PKG :\n",
      "\tsocket 0 :  19592.0000 uJ\n",
      "Label : dtree\n",
      "Begin : Thu Mar 13 00:07:00 2025\n",
      "Duration :  2378.0240 us\n",
      "-------------------------------\n",
      "PKG :\n",
      "\tsocket 0 :  54687.0000 uJ\n",
      "Label : dtree\n",
      "Begin : Thu Mar 13 00:07:00 2025\n",
      "Duration :  2071.9510 us\n",
      "-------------------------------\n",
      "PKG :\n",
      "\tsocket 0 :  37964.0000 uJ\n",
      "CPU Energy (Min): 0.0101 J\n",
      "CPU Energy (Max): 0.0947 J\n"
     ]
    }
   ],
   "source": [
    "# Measure CPU energy DT\n",
    "min_cpu_dt, max_cpu_dt = measure_cpu_energy_usage('dtree', dtree, X_train, y_train)\n",
    "\n",
    "# Tampilkan hasil\n",
    "print(f\"CPU Energy (Min): {min_cpu_dt:.4f} J\")\n",
    "print(f\"CPU Energy (Max): {max_cpu_dt:.4f} J\")"
   ]
  },
  {
   "cell_type": "code",
   "execution_count": 31,
   "metadata": {},
   "outputs": [
    {
     "name": "stdout",
     "output_type": "stream",
     "text": [
      "Label : dtree_stratified\n",
      "Begin : Thu Mar 13 00:07:00 2025\n",
      "Duration :  3566.0860 us\n",
      "-------------------------------\n",
      "PKG :\n",
      "\tsocket 0 :  70130.0000 uJ\n",
      "Label : dtree_stratified\n",
      "Begin : Thu Mar 13 00:07:00 2025\n",
      "Duration :  2496.3260 us\n",
      "-------------------------------\n",
      "PKG :\n",
      "\tsocket 0 :  28320.0000 uJ\n",
      "Label : dtree_stratified\n",
      "Begin : Thu Mar 13 00:07:00 2025\n",
      "Duration :  2237.6710 us\n",
      "-------------------------------\n",
      "PKG :\n",
      "\tsocket 0 :  20752.0000 uJ\n",
      "Label : dtree_stratified\n",
      "Begin : Thu Mar 13 00:07:00 2025\n",
      "Duration :  2588.0830 us\n",
      "-------------------------------\n",
      "PKG :\n",
      "\tsocket 0 :  73364.0000 uJ\n",
      "Label : dtree_stratified\n",
      "Begin : Thu Mar 13 00:07:00 2025\n",
      "Duration :  2075.5770 us\n",
      "-------------------------------\n",
      "PKG :\n",
      "\tsocket 0 :  26123.0000 uJ\n",
      "Label : dtree_stratified\n",
      "Begin : Thu Mar 13 00:07:00 2025\n",
      "Duration :  2118.4860 us\n",
      "-------------------------------\n",
      "PKG :\n",
      "\tsocket 0 :  8545.0000 uJ\n",
      "Label : dtree_stratified\n",
      "Begin : Thu Mar 13 00:07:00 2025\n",
      "Duration :  2769.5490 us\n",
      "-------------------------------\n",
      "PKG :\n",
      "\tsocket 0 :  66040.0000 uJ\n",
      "Label : dtree_stratified\n",
      "Begin : Thu Mar 13 00:07:00 2025\n",
      "Duration :  2064.6350 us\n",
      "-------------------------------\n",
      "PKG :\n",
      "\tsocket 0 :  7263.0000 uJ\n",
      "Label : dtree_stratified\n",
      "Begin : Thu Mar 13 00:07:00 2025\n",
      "Duration :  1990.1660 us\n",
      "-------------------------------\n",
      "PKG :\n",
      "\tsocket 0 :  12207.0000 uJ\n",
      "Label : dtree_stratified\n",
      "Begin : Thu Mar 13 00:07:00 2025\n",
      "Duration :  3002.4580 us\n",
      "-------------------------------\n",
      "PKG :\n",
      "\tsocket 0 :  83862.0000 uJ\n",
      "Label : dtree_stratified\n",
      "Begin : Thu Mar 13 00:07:00 2025\n",
      "Duration :  2136.9980 us\n",
      "-------------------------------\n",
      "PKG :\n",
      "\tsocket 0 :  22766.0000 uJ\n",
      "Label : dtree_stratified\n",
      "Begin : Thu Mar 13 00:07:00 2025\n",
      "Duration :  2006.6600 us\n",
      "-------------------------------\n",
      "PKG :\n",
      "\tsocket 0 :  17090.0000 uJ\n",
      "Label : dtree_stratified\n",
      "Begin : Thu Mar 13 00:07:00 2025\n",
      "Duration :  2959.7730 us\n",
      "-------------------------------\n",
      "PKG :\n",
      "\tsocket 0 :  85876.0000 uJ\n",
      "Label : dtree_stratified\n",
      "Begin : Thu Mar 13 00:07:00 2025\n",
      "Duration :  2104.8880 us\n",
      "-------------------------------\n",
      "PKG :\n",
      "\tsocket 0 :  20874.0000 uJ\n",
      "Label : dtree_stratified\n",
      "Begin : Thu Mar 13 00:07:00 2025\n",
      "Duration :  2119.7360 us\n",
      "-------------------------------\n",
      "PKG :\n",
      "\tsocket 0 :  25207.0000 uJ\n",
      "Label : dtree_stratified\n",
      "Begin : Thu Mar 13 00:07:00 2025\n",
      "Duration :  2838.4900 us\n",
      "-------------------------------\n",
      "PKG :\n",
      "\tsocket 0 :  34241.0000 uJ\n",
      "Label : dtree_stratified\n",
      "Begin : Thu Mar 13 00:07:00 2025\n",
      "Duration :  2229.7780 us\n",
      "-------------------------------\n",
      "PKG :\n",
      "\tsocket 0 :  67993.0000 uJ\n",
      "Label : dtree_stratified\n",
      "Begin : Thu Mar 13 00:07:00 2025\n",
      "Duration :  2000.1510 us\n",
      "-------------------------------\n",
      "PKG :\n",
      "\tsocket 0 :  16479.0000 uJ\n",
      "Label : dtree_stratified\n",
      "Begin : Thu Mar 13 00:07:00 2025\n",
      "Duration :  2341.0840 us\n",
      "-------------------------------\n",
      "PKG :\n",
      "\tsocket 0 :  20020.0000 uJ\n",
      "Label : dtree_stratified\n",
      "Begin : Thu Mar 13 00:07:00 2025\n",
      "Duration :  2622.1120 us\n",
      "-------------------------------\n",
      "PKG :\n",
      "\tsocket 0 :  70801.0000 uJ\n",
      "Label : dtree_stratified\n",
      "Begin : Thu Mar 13 00:07:00 2025\n",
      "Duration :  2053.9430 us\n",
      "-------------------------------\n",
      "PKG :\n",
      "\tsocket 0 :  29846.0000 uJ\n",
      "Label : dtree_stratified\n",
      "Begin : Thu Mar 13 00:07:00 2025\n",
      "Duration :  2048.5940 us\n",
      "-------------------------------\n",
      "PKG :\n",
      "\tsocket 0 :  22216.0000 uJ\n",
      "Label : dtree_stratified\n",
      "Begin : Thu Mar 13 00:07:00 2025\n",
      "Duration :  3038.0140 us\n",
      "-------------------------------\n",
      "PKG :\n",
      "\tsocket 0 :  50782.0000 uJ\n",
      "Label : dtree_stratified\n",
      "Begin : Thu Mar 13 00:07:00 2025\n",
      "Duration :  2073.0640 us\n",
      "-------------------------------\n",
      "PKG :\n",
      "\tsocket 0 :  52490.0000 uJ\n",
      "Label : dtree_stratified\n",
      "Begin : Thu Mar 13 00:07:00 2025\n",
      "Duration :  2030.1910 us\n",
      "-------------------------------\n",
      "PKG :\n",
      "\tsocket 0 :  16418.0000 uJ\n",
      "Label : dtree_stratified\n",
      "Begin : Thu Mar 13 00:07:00 2025\n",
      "Duration :  2885.4140 us\n",
      "-------------------------------\n",
      "PKG :\n",
      "\tsocket 0 :  50659.0000 uJ\n",
      "Label : dtree_stratified\n",
      "Begin : Thu Mar 13 00:07:00 2025\n",
      "Duration :  2148.7010 us\n",
      "-------------------------------\n",
      "PKG :\n",
      "\tsocket 0 :  48584.0000 uJ\n",
      "Label : dtree_stratified\n",
      "Begin : Thu Mar 13 00:07:00 2025\n",
      "Duration :  2056.0050 us\n",
      "-------------------------------\n",
      "PKG :\n",
      "\tsocket 0 :  21118.0000 uJ\n",
      "Label : dtree_stratified\n",
      "Begin : Thu Mar 13 00:07:00 2025\n",
      "Duration :  2448.9980 us\n",
      "-------------------------------\n",
      "PKG :\n",
      "\tsocket 0 :  36194.0000 uJ\n",
      "Label : dtree_stratified\n",
      "Begin : Thu Mar 13 00:07:00 2025\n",
      "Duration :  2369.3130 us\n",
      "-------------------------------\n",
      "PKG :\n",
      "\tsocket 0 :  50781.0000 uJ\n",
      "Label : dtree_stratified\n",
      "Begin : Thu Mar 13 00:07:00 2025\n",
      "Duration :  1958.6260 us\n",
      "-------------------------------\n",
      "PKG :\n",
      "\tsocket 0 :  18371.0000 uJ\n",
      "Label : dtree_stratified\n",
      "Begin : Thu Mar 13 00:07:00 2025\n",
      "Duration :  2037.2380 us\n",
      "-------------------------------\n",
      "PKG :\n",
      "\tsocket 0 :  35828.0000 uJ\n",
      "Label : dtree_stratified\n",
      "Begin : Thu Mar 13 00:07:00 2025\n",
      "Duration :  2388.2250 us\n",
      "-------------------------------\n",
      "PKG :\n",
      "\tsocket 0 :  33935.0000 uJ\n",
      "Label : dtree_stratified\n",
      "Begin : Thu Mar 13 00:07:00 2025\n",
      "Duration :  2116.2350 us\n",
      "-------------------------------\n",
      "PKG :\n",
      "\tsocket 0 :  53528.0000 uJ\n",
      "Label : dtree_stratified\n",
      "Begin : Thu Mar 13 00:07:00 2025\n",
      "Duration :  2080.6110 us\n",
      "-------------------------------\n",
      "PKG :\n",
      "\tsocket 0 :  17090.0000 uJ\n",
      "Label : dtree_stratified\n",
      "Begin : Thu Mar 13 00:07:00 2025\n",
      "Duration :  2855.5610 us\n",
      "-------------------------------\n",
      "PKG :\n",
      "\tsocket 0 :  45959.0000 uJ\n",
      "Label : dtree_stratified\n",
      "Begin : Thu Mar 13 00:07:00 2025\n",
      "Duration :  2781.7610 us\n",
      "-------------------------------\n",
      "PKG :\n",
      "\tsocket 0 :  54382.0000 uJ\n",
      "Label : dtree_stratified\n",
      "Begin : Thu Mar 13 00:07:00 2025\n",
      "Duration :  3232.8980 us\n",
      "-------------------------------\n",
      "PKG :\n",
      "\tsocket 0 :  28443.0000 uJ\n",
      "Label : dtree_stratified\n",
      "Begin : Thu Mar 13 00:07:00 2025\n",
      "Duration :  3418.8770 us\n",
      "-------------------------------\n",
      "PKG :\n",
      "\tsocket 0 :  79834.0000 uJ\n",
      "Label : dtree_stratified\n",
      "Begin : Thu Mar 13 00:07:00 2025\n",
      "Duration :  3415.5530 us\n",
      "-------------------------------\n",
      "PKG :\n",
      "\tsocket 0 :  15991.0000 uJ\n",
      "Label : dtree_stratified\n",
      "Begin : Thu Mar 13 00:07:00 2025\n",
      "Duration :  3837.4850 us\n",
      "-------------------------------\n",
      "PKG :\n",
      "\tsocket 0 :  74646.0000 uJ\n",
      "Label : dtree_stratified\n",
      "Begin : Thu Mar 13 00:07:00 2025\n",
      "Duration :  3578.4100 us\n",
      "-------------------------------\n",
      "PKG :\n",
      "\tsocket 0 :  21118.0000 uJ\n",
      "Label : dtree_stratified\n",
      "Begin : Thu Mar 13 00:07:00 2025\n",
      "Duration :  4121.7080 us\n",
      "-------------------------------\n",
      "PKG :\n",
      "\tsocket 0 :  96741.0000 uJ\n",
      "Label : dtree_stratified\n",
      "Begin : Thu Mar 13 00:07:00 2025\n",
      "Duration :  4289.0940 us\n",
      "-------------------------------\n",
      "PKG :\n",
      "\tsocket 0 :  59204.0000 uJ\n",
      "Label : dtree_stratified\n",
      "Begin : Thu Mar 13 00:07:00 2025\n",
      "Duration :  4263.2800 us\n",
      "-------------------------------\n",
      "PKG :\n",
      "\tsocket 0 :  63110.0000 uJ\n",
      "Label : dtree_stratified\n",
      "Begin : Thu Mar 13 00:07:00 2025\n",
      "Duration :  4106.3490 us\n",
      "-------------------------------\n",
      "PKG :\n",
      "\tsocket 0 :  42724.0000 uJ\n",
      "Label : dtree_stratified\n",
      "Begin : Thu Mar 13 00:07:00 2025\n",
      "Duration :  3908.0570 us\n",
      "-------------------------------\n",
      "PKG :\n",
      "\tsocket 0 :  54200.0000 uJ\n",
      "Label : dtree_stratified\n",
      "Begin : Thu Mar 13 00:07:00 2025\n",
      "Duration :  4565.7740 us\n",
      "-------------------------------\n",
      "PKG :\n",
      "\tsocket 0 :  84289.0000 uJ\n",
      "Label : dtree_stratified\n",
      "Begin : Thu Mar 13 00:07:00 2025\n",
      "Duration :  4159.6090 us\n",
      "-------------------------------\n",
      "PKG :\n",
      "\tsocket 0 :  40344.0000 uJ\n",
      "Label : dtree_stratified\n",
      "Begin : Thu Mar 13 00:07:00 2025\n",
      "Duration :  3454.6980 us\n",
      "-------------------------------\n",
      "PKG :\n",
      "\tsocket 0 :  32043.0000 uJ\n",
      "Label : dtree_stratified\n",
      "Begin : Thu Mar 13 00:07:00 2025\n",
      "Duration :  3269.2620 us\n",
      "-------------------------------\n",
      "PKG :\n",
      "\tsocket 0 :  24475.0000 uJ\n",
      "Label : dtree_stratified\n",
      "Begin : Thu Mar 13 00:07:00 2025\n",
      "Duration :  3080.2470 us\n",
      "-------------------------------\n",
      "PKG :\n",
      "\tsocket 0 :  21790.0000 uJ\n",
      "Label : dtree_stratified\n",
      "Begin : Thu Mar 13 00:07:00 2025\n",
      "Duration :  3121.8820 us\n",
      "-------------------------------\n",
      "PKG :\n",
      "\tsocket 0 :  79284.0000 uJ\n",
      "Label : dtree_stratified\n",
      "Begin : Thu Mar 13 00:07:00 2025\n",
      "Duration :  2525.1530 us\n",
      "-------------------------------\n",
      "PKG :\n",
      "\tsocket 0 :  24231.0000 uJ\n",
      "Label : dtree_stratified\n",
      "Begin : Thu Mar 13 00:07:00 2025\n",
      "Duration :  2861.5810 us\n",
      "-------------------------------\n",
      "PKG :\n",
      "\tsocket 0 :  68543.0000 uJ\n",
      "Label : dtree_stratified\n",
      "Begin : Thu Mar 13 00:07:00 2025\n",
      "Duration :  2297.1770 us\n",
      "-------------------------------\n",
      "PKG :\n",
      "\tsocket 0 :  25451.0000 uJ\n",
      "Label : dtree_stratified\n",
      "Begin : Thu Mar 13 00:07:00 2025\n",
      "Duration :  2094.4940 us\n",
      "-------------------------------\n",
      "PKG :\n",
      "\tsocket 0 :  15503.0000 uJ\n",
      "Label : dtree_stratified\n",
      "Begin : Thu Mar 13 00:07:00 2025\n",
      "Duration :  2705.0810 us\n",
      "-------------------------------\n",
      "PKG :\n",
      "\tsocket 0 :  62561.0000 uJ\n",
      "Label : dtree_stratified\n",
      "Begin : Thu Mar 13 00:07:00 2025\n",
      "Duration :  2177.4240 us\n",
      "-------------------------------\n",
      "PKG :\n",
      "\tsocket 0 :  39368.0000 uJ\n",
      "Label : dtree_stratified\n",
      "Begin : Thu Mar 13 00:07:00 2025\n",
      "Duration :  2059.7750 us\n",
      "-------------------------------\n",
      "PKG :\n",
      "\tsocket 0 :  14709.0000 uJ\n",
      "Label : dtree_stratified\n",
      "Begin : Thu Mar 13 00:07:00 2025\n",
      "Duration :  2368.7630 us\n",
      "-------------------------------\n",
      "PKG :\n",
      "\tsocket 0 :  33630.0000 uJ\n",
      "Label : dtree_stratified\n",
      "Begin : Thu Mar 13 00:07:00 2025\n",
      "Duration :  2198.0680 us\n",
      "-------------------------------\n",
      "PKG :\n",
      "\tsocket 0 :  61890.0000 uJ\n",
      "Label : dtree_stratified\n",
      "Begin : Thu Mar 13 00:07:00 2025\n",
      "Duration :  1960.5580 us\n",
      "-------------------------------\n",
      "PKG :\n",
      "\tsocket 0 :  12878.0000 uJ\n",
      "Label : dtree_stratified\n",
      "Begin : Thu Mar 13 00:07:00 2025\n",
      "Duration :  2092.4130 us\n",
      "-------------------------------\n",
      "PKG :\n",
      "\tsocket 0 :  13855.0000 uJ\n",
      "Label : dtree_stratified\n",
      "Begin : Thu Mar 13 00:07:00 2025\n",
      "Duration :  2365.6720 us\n",
      "-------------------------------\n",
      "PKG :\n",
      "\tsocket 0 :  71533.0000 uJ\n",
      "Label : dtree_stratified\n",
      "Begin : Thu Mar 13 00:07:00 2025\n",
      "Duration :  2002.8710 us\n",
      "-------------------------------\n",
      "PKG :\n",
      "\tsocket 0 :  18982.0000 uJ\n",
      "Label : dtree_stratified\n",
      "Begin : Thu Mar 13 00:07:00 2025\n",
      "Duration :  1938.4260 us\n",
      "-------------------------------\n",
      "PKG :\n",
      "\tsocket 0 :  14405.0000 uJ\n",
      "Label : dtree_stratified\n",
      "Begin : Thu Mar 13 00:07:00 2025\n",
      "Duration :  2901.1670 us\n",
      "-------------------------------\n",
      "PKG :\n",
      "\tsocket 0 :  61157.0000 uJ\n",
      "Label : dtree_stratified\n",
      "Begin : Thu Mar 13 00:07:00 2025\n",
      "Duration :  2101.0400 us\n",
      "-------------------------------\n",
      "PKG :\n",
      "\tsocket 0 :  26550.0000 uJ\n",
      "Label : dtree_stratified\n",
      "Begin : Thu Mar 13 00:07:00 2025\n",
      "Duration :  1960.8890 us\n",
      "-------------------------------\n",
      "PKG :\n",
      "\tsocket 0 :  18066.0000 uJ\n",
      "Label : dtree_stratified\n",
      "Begin : Thu Mar 13 00:07:00 2025\n",
      "Duration :  2623.5350 us\n",
      "-------------------------------\n",
      "PKG :\n",
      "\tsocket 0 :  59448.0000 uJ\n",
      "Label : dtree_stratified\n",
      "Begin : Thu Mar 13 00:07:00 2025\n",
      "Duration :  2268.5330 us\n",
      "-------------------------------\n",
      "PKG :\n",
      "\tsocket 0 :  46082.0000 uJ\n",
      "Label : dtree_stratified\n",
      "Begin : Thu Mar 13 00:07:00 2025\n",
      "Duration :  1999.7790 us\n",
      "-------------------------------\n",
      "PKG :\n",
      "\tsocket 0 :  24780.0000 uJ\n",
      "Label : dtree_stratified\n",
      "Begin : Thu Mar 13 00:07:00 2025\n",
      "Duration :  1972.0870 us\n",
      "-------------------------------\n",
      "PKG :\n",
      "\tsocket 0 :  8728.0000 uJ\n",
      "Label : dtree_stratified\n",
      "Begin : Thu Mar 13 00:07:00 2025\n",
      "Duration :  2089.0360 us\n",
      "-------------------------------\n",
      "PKG :\n",
      "\tsocket 0 :  61828.0000 uJ\n",
      "Label : dtree_stratified\n",
      "Begin : Thu Mar 13 00:07:00 2025\n",
      "Duration :  2005.0730 us\n",
      "-------------------------------\n",
      "PKG :\n",
      "\tsocket 0 :  33386.0000 uJ\n",
      "Label : dtree_stratified\n",
      "Begin : Thu Mar 13 00:07:00 2025\n",
      "Duration :  1939.7240 us\n",
      "-------------------------------\n",
      "PKG :\n",
      "\tsocket 0 :  20752.0000 uJ\n",
      "Label : dtree_stratified\n",
      "Begin : Thu Mar 13 00:07:00 2025\n",
      "Duration :  2118.5720 us\n",
      "-------------------------------\n",
      "PKG :\n",
      "\tsocket 0 :  29663.0000 uJ\n",
      "Label : dtree_stratified\n",
      "Begin : Thu Mar 13 00:07:00 2025\n",
      "Duration :  2050.8250 us\n",
      "-------------------------------\n",
      "PKG :\n",
      "\tsocket 0 :  48645.0000 uJ\n",
      "Label : dtree_stratified\n",
      "Begin : Thu Mar 13 00:07:00 2025\n",
      "Duration :  1948.6480 us\n",
      "-------------------------------\n",
      "PKG :\n",
      "\tsocket 0 :  20081.0000 uJ\n",
      "Label : dtree_stratified\n",
      "Begin : Thu Mar 13 00:07:00 2025\n",
      "Duration :  1993.6930 us\n",
      "-------------------------------\n",
      "PKG :\n",
      "\tsocket 0 :  10559.0000 uJ\n",
      "Label : dtree_stratified\n",
      "Begin : Thu Mar 13 00:07:00 2025\n",
      "Duration :  2510.2280 us\n",
      "-------------------------------\n",
      "PKG :\n",
      "\tsocket 0 :  20752.0000 uJ\n",
      "Label : dtree_stratified\n",
      "Begin : Thu Mar 13 00:07:00 2025\n",
      "Duration :  2101.4140 us\n",
      "-------------------------------\n",
      "PKG :\n",
      "\tsocket 0 :  47973.0000 uJ\n",
      "Label : dtree_stratified\n",
      "Begin : Thu Mar 13 00:07:00 2025\n",
      "Duration :  1986.2740 us\n",
      "-------------------------------\n",
      "PKG :\n",
      "\tsocket 0 :  21790.0000 uJ\n",
      "Label : dtree_stratified\n",
      "Begin : Thu Mar 13 00:07:00 2025\n",
      "Duration :  2238.4170 us\n",
      "-------------------------------\n",
      "PKG :\n",
      "\tsocket 0 :  41321.0000 uJ\n",
      "Label : dtree_stratified\n",
      "Begin : Thu Mar 13 00:07:00 2025\n",
      "Duration :  2399.5980 us\n",
      "-------------------------------\n",
      "PKG :\n",
      "\tsocket 0 :  60241.0000 uJ\n",
      "Label : dtree_stratified\n",
      "Begin : Thu Mar 13 00:07:00 2025\n",
      "Duration :  2107.6850 us\n",
      "-------------------------------\n",
      "PKG :\n",
      "\tsocket 0 :  19470.0000 uJ\n",
      "Label : dtree_stratified\n",
      "Begin : Thu Mar 13 00:07:00 2025\n",
      "Duration :  2151.1460 us\n",
      "-------------------------------\n",
      "PKG :\n",
      "\tsocket 0 :  12207.0000 uJ\n",
      "Label : dtree_stratified\n",
      "Begin : Thu Mar 13 00:07:00 2025\n",
      "Duration :  2530.8080 us\n",
      "-------------------------------\n",
      "PKG :\n",
      "\tsocket 0 :  45960.0000 uJ\n",
      "Label : dtree_stratified\n",
      "Begin : Thu Mar 13 00:07:00 2025\n",
      "Duration :  2046.0430 us\n",
      "-------------------------------\n",
      "PKG :\n",
      "\tsocket 0 :  23376.0000 uJ\n",
      "Label : dtree_stratified\n",
      "Begin : Thu Mar 13 00:07:00 2025\n",
      "Duration :  2074.6430 us\n",
      "-------------------------------\n",
      "PKG :\n",
      "\tsocket 0 :  17822.0000 uJ\n",
      "Label : dtree_stratified\n",
      "Begin : Thu Mar 13 00:07:00 2025\n",
      "Duration :  2484.3710 us\n",
      "-------------------------------\n",
      "PKG :\n",
      "\tsocket 0 :  49500.0000 uJ\n",
      "Label : dtree_stratified\n",
      "Begin : Thu Mar 13 00:07:00 2025\n",
      "Duration :  2182.9200 us\n",
      "-------------------------------\n",
      "PKG :\n",
      "\tsocket 0 :  43884.0000 uJ\n",
      "Label : dtree_stratified\n",
      "Begin : Thu Mar 13 00:07:00 2025\n",
      "Duration :  2024.1130 us\n",
      "-------------------------------\n",
      "PKG :\n",
      "\tsocket 0 :  19043.0000 uJ\n",
      "Label : dtree_stratified\n",
      "Begin : Thu Mar 13 00:07:00 2025\n",
      "Duration :  2405.2940 us\n",
      "-------------------------------\n",
      "PKG :\n",
      "\tsocket 0 :  35950.0000 uJ\n",
      "Label : dtree_stratified\n",
      "Begin : Thu Mar 13 00:07:00 2025\n",
      "Duration :  2436.9540 us\n",
      "-------------------------------\n",
      "PKG :\n",
      "\tsocket 0 :  57250.0000 uJ\n",
      "Label : dtree_stratified\n",
      "Begin : Thu Mar 13 00:07:00 2025\n",
      "Duration :  1961.5210 us\n",
      "-------------------------------\n",
      "PKG :\n",
      "\tsocket 0 :  14283.0000 uJ\n",
      "Label : dtree_stratified\n",
      "Begin : Thu Mar 13 00:07:00 2025\n",
      "Duration :  1922.0740 us\n",
      "-------------------------------\n",
      "PKG :\n",
      "\tsocket 0 :  8301.0000 uJ\n",
      "Label : dtree_stratified\n",
      "Begin : Thu Mar 13 00:07:00 2025\n",
      "Duration :  2523.0540 us\n",
      "-------------------------------\n",
      "PKG :\n",
      "\tsocket 0 :  63477.0000 uJ\n",
      "Label : dtree_stratified\n",
      "Begin : Thu Mar 13 00:07:00 2025\n",
      "Duration :  2040.4280 us\n",
      "-------------------------------\n",
      "PKG :\n",
      "\tsocket 0 :  29602.0000 uJ\n",
      "CPU Energy (Min): 0.0073 J\n",
      "CPU Energy (Max): 0.0967 J\n"
     ]
    }
   ],
   "source": [
    "# Measure CPU energy DT Stratified\n",
    "min_cpu_dt_st, max_cpu_dt_st = measure_cpu_energy_usage('dtree_stratified', dtree_st, X_train_st, y_train_st)\n",
    "\n",
    "# Tampilkan hasil\n",
    "print(f\"CPU Energy (Min): {min_cpu_dt_st:.4f} J\")\n",
    "print(f\"CPU Energy (Max): {max_cpu_dt_st:.4f} J\")"
   ]
  },
  {
   "cell_type": "code",
   "execution_count": 32,
   "metadata": {},
   "outputs": [
    {
     "name": "stdout",
     "output_type": "stream",
     "text": [
      "Label : random_forest\n",
      "Begin : Thu Mar 13 00:07:00 2025\n",
      "Duration : 123651.2630 us\n",
      "-------------------------------\n",
      "PKG :\n",
      "\tsocket 0 :  1828426.0000 uJ\n",
      "Label : random_forest\n",
      "Begin : Thu Mar 13 00:07:00 2025\n",
      "Duration : 121297.7760 us\n",
      "-------------------------------\n",
      "PKG :\n",
      "\tsocket 0 :  1660945.0000 uJ\n",
      "Label : random_forest\n",
      "Begin : Thu Mar 13 00:07:01 2025\n",
      "Duration : 145299.4590 us\n",
      "-------------------------------\n",
      "PKG :\n",
      "\tsocket 0 :  1830867.0000 uJ\n",
      "Label : random_forest\n",
      "Begin : Thu Mar 13 00:07:01 2025\n",
      "Duration : 136501.7280 us\n",
      "-------------------------------\n",
      "PKG :\n",
      "\tsocket 0 :  1765316.0000 uJ\n",
      "Label : random_forest\n",
      "Begin : Thu Mar 13 00:07:01 2025\n",
      "Duration : 135655.8470 us\n",
      "-------------------------------\n",
      "PKG :\n",
      "\tsocket 0 :  1899409.0000 uJ\n",
      "Label : random_forest\n",
      "Begin : Thu Mar 13 00:07:01 2025\n",
      "Duration : 121703.8210 us\n",
      "-------------------------------\n",
      "PKG :\n",
      "\tsocket 0 :  1766475.0000 uJ\n",
      "Label : random_forest\n",
      "Begin : Thu Mar 13 00:07:01 2025\n",
      "Duration : 118860.2150 us\n",
      "-------------------------------\n",
      "PKG :\n",
      "\tsocket 0 :  1750606.0000 uJ\n",
      "Label : random_forest\n",
      "Begin : Thu Mar 13 00:07:01 2025\n",
      "Duration : 121008.5210 us\n",
      "-------------------------------\n",
      "PKG :\n",
      "\tsocket 0 :  1777766.0000 uJ\n",
      "Label : random_forest\n",
      "Begin : Thu Mar 13 00:07:01 2025\n",
      "Duration : 120072.0830 us\n",
      "-------------------------------\n",
      "PKG :\n",
      "\tsocket 0 :  1757991.0000 uJ\n",
      "Label : random_forest\n",
      "Begin : Thu Mar 13 00:07:01 2025\n",
      "Duration : 119961.1540 us\n",
      "-------------------------------\n",
      "PKG :\n",
      "\tsocket 0 :  1719234.0000 uJ\n",
      "Label : random_forest\n",
      "Begin : Thu Mar 13 00:07:02 2025\n",
      "Duration : 121389.2060 us\n",
      "-------------------------------\n",
      "PKG :\n",
      "\tsocket 0 :  1688594.0000 uJ\n",
      "Label : random_forest\n",
      "Begin : Thu Mar 13 00:07:02 2025\n",
      "Duration : 116098.2540 us\n",
      "-------------------------------\n",
      "PKG :\n",
      "\tsocket 0 :  1863154.0000 uJ\n",
      "Label : random_forest\n",
      "Begin : Thu Mar 13 00:07:02 2025\n",
      "Duration : 117281.0900 us\n",
      "-------------------------------\n",
      "PKG :\n",
      "\tsocket 0 :  1804683.0000 uJ\n",
      "Label : random_forest\n",
      "Begin : Thu Mar 13 00:07:02 2025\n",
      "Duration : 119724.2900 us\n",
      "-------------------------------\n",
      "PKG :\n",
      "\tsocket 0 :  1515011.0000 uJ\n",
      "Label : random_forest\n",
      "Begin : Thu Mar 13 00:07:02 2025\n",
      "Duration : 121717.0430 us\n",
      "-------------------------------\n",
      "PKG :\n",
      "\tsocket 0 :  1526485.0000 uJ\n",
      "Label : random_forest\n",
      "Begin : Thu Mar 13 00:07:02 2025\n",
      "Duration : 120952.3840 us\n",
      "-------------------------------\n",
      "PKG :\n",
      "\tsocket 0 :  1631039.0000 uJ\n",
      "Label : random_forest\n",
      "Begin : Thu Mar 13 00:07:02 2025\n",
      "Duration : 122399.9700 us\n",
      "-------------------------------\n",
      "PKG :\n",
      "\tsocket 0 :  1773433.0000 uJ\n",
      "Label : random_forest\n",
      "Begin : Thu Mar 13 00:07:02 2025\n",
      "Duration : 120581.5790 us\n",
      "-------------------------------\n",
      "PKG :\n",
      "\tsocket 0 :  1809443.0000 uJ\n",
      "Label : random_forest\n",
      "Begin : Thu Mar 13 00:07:03 2025\n",
      "Duration : 123885.1790 us\n",
      "-------------------------------\n",
      "PKG :\n",
      "\tsocket 0 :  1774715.0000 uJ\n",
      "Label : random_forest\n",
      "Begin : Thu Mar 13 00:07:03 2025\n",
      "Duration : 124368.1220 us\n",
      "-------------------------------\n",
      "PKG :\n",
      "\tsocket 0 :  1832942.0000 uJ\n",
      "Label : random_forest\n",
      "Begin : Thu Mar 13 00:07:03 2025\n",
      "Duration : 120930.2830 us\n",
      "-------------------------------\n",
      "PKG :\n",
      "\tsocket 0 :  1785579.0000 uJ\n",
      "Label : random_forest\n",
      "Begin : Thu Mar 13 00:07:03 2025\n",
      "Duration : 116777.2820 us\n",
      "-------------------------------\n",
      "PKG :\n",
      "\tsocket 0 :  1735286.0000 uJ\n",
      "Label : random_forest\n",
      "Begin : Thu Mar 13 00:07:03 2025\n",
      "Duration : 118254.1700 us\n",
      "-------------------------------\n",
      "PKG :\n",
      "\tsocket 0 :  1660030.0000 uJ\n",
      "Label : random_forest\n",
      "Begin : Thu Mar 13 00:07:03 2025\n",
      "Duration : 121431.6650 us\n",
      "-------------------------------\n",
      "PKG :\n",
      "\tsocket 0 :  1602291.0000 uJ\n",
      "Label : random_forest\n",
      "Begin : Thu Mar 13 00:07:03 2025\n",
      "Duration : 119915.0530 us\n",
      "-------------------------------\n",
      "PKG :\n",
      "\tsocket 0 :  1619869.0000 uJ\n",
      "Label : random_forest\n",
      "Begin : Thu Mar 13 00:07:03 2025\n",
      "Duration : 116846.9850 us\n",
      "-------------------------------\n",
      "PKG :\n",
      "\tsocket 0 :  1778193.0000 uJ\n",
      "Label : random_forest\n",
      "Begin : Thu Mar 13 00:07:03 2025\n",
      "Duration : 116702.8420 us\n",
      "-------------------------------\n",
      "PKG :\n",
      "\tsocket 0 :  2069514.0000 uJ\n",
      "Label : random_forest\n",
      "Begin : Thu Mar 13 00:07:04 2025\n",
      "Duration : 116835.3600 us\n",
      "-------------------------------\n",
      "PKG :\n",
      "\tsocket 0 :  1866939.0000 uJ\n",
      "Label : random_forest\n",
      "Begin : Thu Mar 13 00:07:04 2025\n",
      "Duration : 116469.9900 us\n",
      "-------------------------------\n",
      "PKG :\n",
      "\tsocket 0 :  1793025.0000 uJ\n",
      "Label : random_forest\n",
      "Begin : Thu Mar 13 00:07:04 2025\n",
      "Duration : 114885.5250 us\n",
      "-------------------------------\n",
      "PKG :\n",
      "\tsocket 0 :  1840388.0000 uJ\n",
      "Label : random_forest\n",
      "Begin : Thu Mar 13 00:07:04 2025\n",
      "Duration : 117007.5830 us\n",
      "-------------------------------\n",
      "PKG :\n",
      "\tsocket 0 :  1904475.0000 uJ\n",
      "Label : random_forest\n",
      "Begin : Thu Mar 13 00:07:04 2025\n",
      "Duration : 137622.3550 us\n",
      "-------------------------------\n",
      "PKG :\n",
      "\tsocket 0 :  2080073.0000 uJ\n",
      "Label : random_forest\n",
      "Begin : Thu Mar 13 00:07:04 2025\n",
      "Duration : 121902.4880 us\n",
      "-------------------------------\n",
      "PKG :\n",
      "\tsocket 0 :  1666378.0000 uJ\n",
      "Label : random_forest\n",
      "Begin : Thu Mar 13 00:07:04 2025\n",
      "Duration : 122108.6520 us\n",
      "-------------------------------\n",
      "PKG :\n",
      "\tsocket 0 :  1549068.0000 uJ\n",
      "Label : random_forest\n",
      "Begin : Thu Mar 13 00:07:04 2025\n",
      "Duration : 121520.6890 us\n",
      "-------------------------------\n",
      "PKG :\n",
      "\tsocket 0 :  1588497.0000 uJ\n",
      "Label : random_forest\n",
      "Begin : Thu Mar 13 00:07:05 2025\n",
      "Duration : 120504.4870 us\n",
      "-------------------------------\n",
      "PKG :\n",
      "\tsocket 0 :  1538997.0000 uJ\n",
      "Label : random_forest\n",
      "Begin : Thu Mar 13 00:07:05 2025\n",
      "Duration : 121024.9120 us\n",
      "-------------------------------\n",
      "PKG :\n",
      "\tsocket 0 :  1611141.0000 uJ\n",
      "Label : random_forest\n",
      "Begin : Thu Mar 13 00:07:05 2025\n",
      "Duration : 121414.9840 us\n",
      "-------------------------------\n",
      "PKG :\n",
      "\tsocket 0 :  1594356.0000 uJ\n",
      "Label : random_forest\n",
      "Begin : Thu Mar 13 00:07:05 2025\n",
      "Duration : 121159.5450 us\n",
      "-------------------------------\n",
      "PKG :\n",
      "\tsocket 0 :  1523068.0000 uJ\n",
      "Label : random_forest\n",
      "Begin : Thu Mar 13 00:07:05 2025\n",
      "Duration : 120852.6530 us\n",
      "-------------------------------\n",
      "PKG :\n",
      "\tsocket 0 :  1517940.0000 uJ\n",
      "Label : random_forest\n",
      "Begin : Thu Mar 13 00:07:05 2025\n",
      "Duration : 118237.5590 us\n",
      "-------------------------------\n",
      "PKG :\n",
      "\tsocket 0 :  1627132.0000 uJ\n",
      "Label : random_forest\n",
      "Begin : Thu Mar 13 00:07:05 2025\n",
      "Duration : 116074.3980 us\n",
      "-------------------------------\n",
      "PKG :\n",
      "\tsocket 0 :  1667293.0000 uJ\n",
      "Label : random_forest\n",
      "Begin : Thu Mar 13 00:07:05 2025\n",
      "Duration : 117569.5140 us\n",
      "-------------------------------\n",
      "PKG :\n",
      "\tsocket 0 :  1710994.0000 uJ\n",
      "Label : random_forest\n",
      "Begin : Thu Mar 13 00:07:06 2025\n",
      "Duration : 117780.1760 us\n",
      "-------------------------------\n",
      "PKG :\n",
      "\tsocket 0 :  1647457.0000 uJ\n",
      "Label : random_forest\n",
      "Begin : Thu Mar 13 00:07:06 2025\n",
      "Duration : 117540.9190 us\n",
      "-------------------------------\n",
      "PKG :\n",
      "\tsocket 0 :  1701412.0000 uJ\n",
      "Label : random_forest\n",
      "Begin : Thu Mar 13 00:07:06 2025\n",
      "Duration : 117714.7830 us\n",
      "-------------------------------\n",
      "PKG :\n",
      "\tsocket 0 :  1702388.0000 uJ\n",
      "Label : random_forest\n",
      "Begin : Thu Mar 13 00:07:06 2025\n",
      "Duration : 118946.4950 us\n",
      "-------------------------------\n",
      "PKG :\n",
      "\tsocket 0 :  1831355.0000 uJ\n",
      "Label : random_forest\n",
      "Begin : Thu Mar 13 00:07:06 2025\n",
      "Duration : 115478.2310 us\n",
      "-------------------------------\n",
      "PKG :\n",
      "\tsocket 0 :  1784420.0000 uJ\n",
      "Label : random_forest\n",
      "Begin : Thu Mar 13 00:07:06 2025\n",
      "Duration : 117309.6610 us\n",
      "-------------------------------\n",
      "PKG :\n",
      "\tsocket 0 :  1850398.0000 uJ\n",
      "Label : random_forest\n",
      "Begin : Thu Mar 13 00:07:06 2025\n",
      "Duration : 114641.2520 us\n",
      "-------------------------------\n",
      "PKG :\n",
      "\tsocket 0 :  1820369.0000 uJ\n",
      "Label : random_forest\n",
      "Begin : Thu Mar 13 00:07:06 2025\n",
      "Duration : 117002.7720 us\n",
      "-------------------------------\n",
      "PKG :\n",
      "\tsocket 0 :  1728572.0000 uJ\n",
      "Label : random_forest\n",
      "Begin : Thu Mar 13 00:07:06 2025\n",
      "Duration : 117370.0820 us\n",
      "-------------------------------\n",
      "PKG :\n",
      "\tsocket 0 :  1677913.0000 uJ\n",
      "Label : random_forest\n",
      "Begin : Thu Mar 13 00:07:07 2025\n",
      "Duration : 117681.8620 us\n",
      "-------------------------------\n",
      "PKG :\n",
      "\tsocket 0 :  1512142.0000 uJ\n",
      "Label : random_forest\n",
      "Begin : Thu Mar 13 00:07:07 2025\n",
      "Duration : 117223.1090 us\n",
      "-------------------------------\n",
      "PKG :\n",
      "\tsocket 0 :  1497738.0000 uJ\n",
      "Label : random_forest\n",
      "Begin : Thu Mar 13 00:07:07 2025\n",
      "Duration : 118775.7980 us\n",
      "-------------------------------\n",
      "PKG :\n",
      "\tsocket 0 :  1528683.0000 uJ\n",
      "Label : random_forest\n",
      "Begin : Thu Mar 13 00:07:07 2025\n",
      "Duration : 121809.4220 us\n",
      "-------------------------------\n",
      "PKG :\n",
      "\tsocket 0 :  1545894.0000 uJ\n",
      "Label : random_forest\n",
      "Begin : Thu Mar 13 00:07:07 2025\n",
      "Duration : 119499.9390 us\n",
      "-------------------------------\n",
      "PKG :\n",
      "\tsocket 0 :  1455929.0000 uJ\n",
      "Label : random_forest\n",
      "Begin : Thu Mar 13 00:07:07 2025\n",
      "Duration : 136012.2090 us\n",
      "-------------------------------\n",
      "PKG :\n",
      "\tsocket 0 :  1602962.0000 uJ\n",
      "Label : random_forest\n",
      "Begin : Thu Mar 13 00:07:07 2025\n",
      "Duration : 119407.9450 us\n",
      "-------------------------------\n",
      "PKG :\n",
      "\tsocket 0 :  1463436.0000 uJ\n",
      "Label : random_forest\n",
      "Begin : Thu Mar 13 00:07:07 2025\n",
      "Duration : 118674.0810 us\n",
      "-------------------------------\n",
      "PKG :\n",
      "\tsocket 0 :  1453610.0000 uJ\n",
      "Label : random_forest\n",
      "Begin : Thu Mar 13 00:07:08 2025\n",
      "Duration : 134526.8620 us\n",
      "-------------------------------\n",
      "PKG :\n",
      "\tsocket 0 :  1641597.0000 uJ\n",
      "Label : random_forest\n",
      "Begin : Thu Mar 13 00:07:08 2025\n",
      "Duration : 123393.0860 us\n",
      "-------------------------------\n",
      "PKG :\n",
      "\tsocket 0 :  1540158.0000 uJ\n",
      "Label : random_forest\n",
      "Begin : Thu Mar 13 00:07:08 2025\n",
      "Duration : 118983.4680 us\n",
      "-------------------------------\n",
      "PKG :\n",
      "\tsocket 0 :  1578243.0000 uJ\n",
      "Label : random_forest\n",
      "Begin : Thu Mar 13 00:07:08 2025\n",
      "Duration : 144334.8360 us\n",
      "-------------------------------\n",
      "PKG :\n",
      "\tsocket 0 :  2022333.0000 uJ\n",
      "Label : random_forest\n",
      "Begin : Thu Mar 13 00:07:08 2025\n",
      "Duration : 158379.0400 us\n",
      "-------------------------------\n",
      "PKG :\n",
      "\tsocket 0 :  1923885.0000 uJ\n",
      "Label : random_forest\n",
      "Begin : Thu Mar 13 00:07:08 2025\n",
      "Duration : 115308.6030 us\n",
      "-------------------------------\n",
      "PKG :\n",
      "\tsocket 0 :  1577205.0000 uJ\n",
      "Label : random_forest\n",
      "Begin : Thu Mar 13 00:07:08 2025\n",
      "Duration : 116787.1100 us\n",
      "-------------------------------\n",
      "PKG :\n",
      "\tsocket 0 :  1524288.0000 uJ\n",
      "Label : random_forest\n",
      "Begin : Thu Mar 13 00:07:08 2025\n",
      "Duration : 115851.6520 us\n",
      "-------------------------------\n",
      "PKG :\n",
      "\tsocket 0 :  1769649.0000 uJ\n",
      "Label : random_forest\n",
      "Begin : Thu Mar 13 00:07:09 2025\n",
      "Duration : 116858.9990 us\n",
      "-------------------------------\n",
      "PKG :\n",
      "\tsocket 0 :  1735652.0000 uJ\n",
      "Label : random_forest\n",
      "Begin : Thu Mar 13 00:07:09 2025\n",
      "Duration : 116985.0150 us\n",
      "-------------------------------\n",
      "PKG :\n",
      "\tsocket 0 :  1666500.0000 uJ\n",
      "Label : random_forest\n",
      "Begin : Thu Mar 13 00:07:09 2025\n",
      "Duration : 131507.5020 us\n",
      "-------------------------------\n",
      "PKG :\n",
      "\tsocket 0 :  1673031.0000 uJ\n",
      "Label : random_forest\n",
      "Begin : Thu Mar 13 00:07:09 2025\n",
      "Duration : 124493.7750 us\n",
      "-------------------------------\n",
      "PKG :\n",
      "\tsocket 0 :  1661800.0000 uJ\n",
      "Label : random_forest\n",
      "Begin : Thu Mar 13 00:07:09 2025\n",
      "Duration : 137842.2830 us\n",
      "-------------------------------\n",
      "PKG :\n",
      "\tsocket 0 :  1860835.0000 uJ\n",
      "Label : random_forest\n",
      "Begin : Thu Mar 13 00:07:09 2025\n",
      "Duration : 152751.9310 us\n",
      "-------------------------------\n",
      "PKG :\n",
      "\tsocket 0 :  2141718.0000 uJ\n",
      "Label : random_forest\n",
      "Begin : Thu Mar 13 00:07:09 2025\n",
      "Duration : 164233.0600 us\n",
      "-------------------------------\n",
      "PKG :\n",
      "\tsocket 0 :  2103389.0000 uJ\n",
      "Label : random_forest\n",
      "Begin : Thu Mar 13 00:07:10 2025\n",
      "Duration : 114711.7150 us\n",
      "-------------------------------\n",
      "PKG :\n",
      "\tsocket 0 :  1654597.0000 uJ\n",
      "Label : random_forest\n",
      "Begin : Thu Mar 13 00:07:10 2025\n",
      "Duration : 116011.0230 us\n",
      "-------------------------------\n",
      "PKG :\n",
      "\tsocket 0 :  1685726.0000 uJ\n",
      "Label : random_forest\n",
      "Begin : Thu Mar 13 00:07:10 2025\n",
      "Duration : 115066.2380 us\n",
      "-------------------------------\n",
      "PKG :\n",
      "\tsocket 0 :  1514278.0000 uJ\n",
      "Label : random_forest\n",
      "Begin : Thu Mar 13 00:07:10 2025\n",
      "Duration : 116385.4450 us\n",
      "-------------------------------\n",
      "PKG :\n",
      "\tsocket 0 :  1545468.0000 uJ\n",
      "Label : random_forest\n",
      "Begin : Thu Mar 13 00:07:10 2025\n",
      "Duration : 118398.0080 us\n",
      "-------------------------------\n",
      "PKG :\n",
      "\tsocket 0 :  1615169.0000 uJ\n",
      "Label : random_forest\n",
      "Begin : Thu Mar 13 00:07:10 2025\n",
      "Duration : 121788.4970 us\n",
      "-------------------------------\n",
      "PKG :\n",
      "\tsocket 0 :  1780208.0000 uJ\n",
      "Label : random_forest\n",
      "Begin : Thu Mar 13 00:07:10 2025\n",
      "Duration : 193162.5690 us\n",
      "-------------------------------\n",
      "PKG :\n",
      "\tsocket 0 :  2251825.0000 uJ\n",
      "Label : random_forest\n",
      "Begin : Thu Mar 13 00:07:10 2025\n",
      "Duration : 127447.2450 us\n",
      "-------------------------------\n",
      "PKG :\n",
      "\tsocket 0 :  2203974.0000 uJ\n",
      "Label : random_forest\n",
      "Begin : Thu Mar 13 00:07:11 2025\n",
      "Duration : 115565.2070 us\n",
      "-------------------------------\n",
      "PKG :\n",
      "\tsocket 0 :  1665584.0000 uJ\n",
      "Label : random_forest\n",
      "Begin : Thu Mar 13 00:07:11 2025\n",
      "Duration : 117232.6990 us\n",
      "-------------------------------\n",
      "PKG :\n",
      "\tsocket 0 :  1648861.0000 uJ\n",
      "Label : random_forest\n",
      "Begin : Thu Mar 13 00:07:11 2025\n",
      "Duration : 116832.5210 us\n",
      "-------------------------------\n",
      "PKG :\n",
      "\tsocket 0 :  1570979.0000 uJ\n",
      "Label : random_forest\n",
      "Begin : Thu Mar 13 00:07:11 2025\n",
      "Duration : 116439.5790 us\n",
      "-------------------------------\n",
      "PKG :\n",
      "\tsocket 0 :  1728390.0000 uJ\n",
      "Label : random_forest\n",
      "Begin : Thu Mar 13 00:07:11 2025\n",
      "Duration : 114933.6510 us\n",
      "-------------------------------\n",
      "PKG :\n",
      "\tsocket 0 :  1786250.0000 uJ\n",
      "Label : random_forest\n",
      "Begin : Thu Mar 13 00:07:11 2025\n",
      "Duration : 117463.8190 us\n",
      "-------------------------------\n",
      "PKG :\n",
      "\tsocket 0 :  1755733.0000 uJ\n",
      "Label : random_forest\n",
      "Begin : Thu Mar 13 00:07:11 2025\n",
      "Duration : 117370.8360 us\n",
      "-------------------------------\n",
      "PKG :\n",
      "\tsocket 0 :  1661189.0000 uJ\n",
      "Label : random_forest\n",
      "Begin : Thu Mar 13 00:07:11 2025\n",
      "Duration : 118403.0940 us\n",
      "-------------------------------\n",
      "PKG :\n",
      "\tsocket 0 :  1743892.0000 uJ\n",
      "Label : random_forest\n",
      "Begin : Thu Mar 13 00:07:12 2025\n",
      "Duration : 116262.0550 us\n",
      "-------------------------------\n",
      "PKG :\n",
      "\tsocket 0 :  1730709.0000 uJ\n",
      "Label : random_forest\n",
      "Begin : Thu Mar 13 00:07:12 2025\n",
      "Duration : 117972.8310 us\n",
      "-------------------------------\n",
      "PKG :\n",
      "\tsocket 0 :  1688167.0000 uJ\n",
      "Label : random_forest\n",
      "Begin : Thu Mar 13 00:07:12 2025\n",
      "Duration : 117644.4330 us\n",
      "-------------------------------\n",
      "PKG :\n",
      "\tsocket 0 :  1922480.0000 uJ\n",
      "Label : random_forest\n",
      "Begin : Thu Mar 13 00:07:12 2025\n",
      "Duration : 131048.2160 us\n",
      "-------------------------------\n",
      "PKG :\n",
      "\tsocket 0 :  1958552.0000 uJ\n",
      "Label : random_forest\n",
      "Begin : Thu Mar 13 00:07:12 2025\n",
      "Duration : 136695.6060 us\n",
      "-------------------------------\n",
      "PKG :\n",
      "\tsocket 0 :  1914057.0000 uJ\n",
      "Label : random_forest\n",
      "Begin : Thu Mar 13 00:07:12 2025\n",
      "Duration : 120661.9990 us\n",
      "-------------------------------\n",
      "PKG :\n",
      "\tsocket 0 :  1817745.0000 uJ\n",
      "Label : random_forest\n",
      "Begin : Thu Mar 13 00:07:12 2025\n",
      "Duration : 120501.0390 us\n",
      "-------------------------------\n",
      "PKG :\n",
      "\tsocket 0 :  1745234.0000 uJ\n",
      "Label : random_forest\n",
      "Begin : Thu Mar 13 00:07:12 2025\n",
      "Duration : 121600.3920 us\n",
      "-------------------------------\n",
      "PKG :\n",
      "\tsocket 0 :  1661129.0000 uJ\n",
      "Label : random_forest\n",
      "Begin : Thu Mar 13 00:07:12 2025\n",
      "Duration : 120444.4160 us\n",
      "-------------------------------\n",
      "PKG :\n",
      "\tsocket 0 :  1572872.0000 uJ\n",
      "CPU Energy (Min): 1.4536 J\n",
      "CPU Energy (Max): 2.2518 J\n"
     ]
    }
   ],
   "source": [
    "# Measure CPU energy RF\n",
    "min_cpu_rf, max_cpu_rf = measure_cpu_energy_usage('random_forest', rf, X_train, y_train)\n",
    "\n",
    "# Tampilkan hasil\n",
    "print(f\"CPU Energy (Min): {min_cpu_rf:.4f} J\")\n",
    "print(f\"CPU Energy (Max): {max_cpu_rf:.4f} J\")"
   ]
  },
  {
   "cell_type": "code",
   "execution_count": 33,
   "metadata": {},
   "outputs": [
    {
     "name": "stdout",
     "output_type": "stream",
     "text": [
      "Label : random_forest_stratified\n",
      "Begin : Thu Mar 13 00:07:13 2025\n",
      "Duration : 119558.3990 us\n",
      "-------------------------------\n",
      "PKG :\n",
      "\tsocket 0 :  1617977.0000 uJ\n",
      "Label : random_forest_stratified\n",
      "Begin : Thu Mar 13 00:07:13 2025\n",
      "Duration : 116556.2540 us\n",
      "-------------------------------\n",
      "PKG :\n",
      "\tsocket 0 :  1661189.0000 uJ\n",
      "Label : random_forest_stratified\n",
      "Begin : Thu Mar 13 00:07:13 2025\n",
      "Duration : 116644.5400 us\n",
      "-------------------------------\n",
      "PKG :\n",
      "\tsocket 0 :  1775875.0000 uJ\n",
      "Label : random_forest_stratified\n",
      "Begin : Thu Mar 13 00:07:13 2025\n",
      "Duration : 117377.0350 us\n",
      "-------------------------------\n",
      "PKG :\n",
      "\tsocket 0 :  1600276.0000 uJ\n",
      "Label : random_forest_stratified\n",
      "Begin : Thu Mar 13 00:07:13 2025\n",
      "Duration : 116156.7650 us\n",
      "-------------------------------\n",
      "PKG :\n",
      "\tsocket 0 :  1561702.0000 uJ\n",
      "Label : random_forest_stratified\n",
      "Begin : Thu Mar 13 00:07:13 2025\n",
      "Duration : 115725.4030 us\n",
      "-------------------------------\n",
      "PKG :\n",
      "\tsocket 0 :  1538265.0000 uJ\n",
      "Label : random_forest_stratified\n",
      "Begin : Thu Mar 13 00:07:13 2025\n",
      "Duration : 116453.7250 us\n",
      "-------------------------------\n",
      "PKG :\n",
      "\tsocket 0 :  1752193.0000 uJ\n",
      "Label : random_forest_stratified\n",
      "Begin : Thu Mar 13 00:07:13 2025\n",
      "Duration : 115466.5750 us\n",
      "-------------------------------\n",
      "PKG :\n",
      "\tsocket 0 :  1565609.0000 uJ\n",
      "Label : random_forest_stratified\n",
      "Begin : Thu Mar 13 00:07:14 2025\n",
      "Duration : 125907.8120 us\n",
      "-------------------------------\n",
      "PKG :\n",
      "\tsocket 0 :  1848262.0000 uJ\n",
      "Label : random_forest_stratified\n",
      "Begin : Thu Mar 13 00:07:14 2025\n",
      "Duration : 114761.0190 us\n",
      "-------------------------------\n",
      "PKG :\n",
      "\tsocket 0 :  1755000.0000 uJ\n",
      "Label : random_forest_stratified\n",
      "Begin : Thu Mar 13 00:07:14 2025\n",
      "Duration : 121935.0870 us\n",
      "-------------------------------\n",
      "PKG :\n",
      "\tsocket 0 :  1973567.0000 uJ\n",
      "Label : random_forest_stratified\n",
      "Begin : Thu Mar 13 00:07:14 2025\n",
      "Duration : 132528.2290 us\n",
      "-------------------------------\n",
      "PKG :\n",
      "\tsocket 0 :  2134333.0000 uJ\n",
      "Label : random_forest_stratified\n",
      "Begin : Thu Mar 13 00:07:14 2025\n",
      "Duration : 118001.9440 us\n",
      "-------------------------------\n",
      "PKG :\n",
      "\tsocket 0 :  1937373.0000 uJ\n",
      "Label : random_forest_stratified\n",
      "Begin : Thu Mar 13 00:07:14 2025\n",
      "Duration : 114384.8390 us\n",
      "-------------------------------\n",
      "PKG :\n",
      "\tsocket 0 :  1746028.0000 uJ\n",
      "Label : random_forest_stratified\n",
      "Begin : Thu Mar 13 00:07:14 2025\n",
      "Duration : 117374.9470 us\n",
      "-------------------------------\n",
      "PKG :\n",
      "\tsocket 0 :  1760982.0000 uJ\n",
      "Label : random_forest_stratified\n",
      "Begin : Thu Mar 13 00:07:14 2025\n",
      "Duration : 113211.4650 us\n",
      "-------------------------------\n",
      "PKG :\n",
      "\tsocket 0 :  1729732.0000 uJ\n",
      "Label : random_forest_stratified\n",
      "Begin : Thu Mar 13 00:07:15 2025\n",
      "Duration : 121193.9510 us\n",
      "-------------------------------\n",
      "PKG :\n",
      "\tsocket 0 :  1851435.0000 uJ\n",
      "Label : random_forest_stratified\n",
      "Begin : Thu Mar 13 00:07:15 2025\n",
      "Duration : 134770.7400 us\n",
      "-------------------------------\n",
      "PKG :\n",
      "\tsocket 0 :  1952083.0000 uJ\n",
      "Label : random_forest_stratified\n",
      "Begin : Thu Mar 13 00:07:15 2025\n",
      "Duration : 115908.2230 us\n",
      "-------------------------------\n",
      "PKG :\n",
      "\tsocket 0 :  1726192.0000 uJ\n",
      "Label : random_forest_stratified\n",
      "Begin : Thu Mar 13 00:07:15 2025\n",
      "Duration : 114148.7260 us\n",
      "-------------------------------\n",
      "PKG :\n",
      "\tsocket 0 :  1743464.0000 uJ\n",
      "Label : random_forest_stratified\n",
      "Begin : Thu Mar 13 00:07:15 2025\n",
      "Duration : 133987.1230 us\n",
      "-------------------------------\n",
      "PKG :\n",
      "\tsocket 0 :  2318964.0000 uJ\n",
      "Label : random_forest_stratified\n",
      "Begin : Thu Mar 13 00:07:15 2025\n",
      "Duration : 125675.7630 us\n",
      "-------------------------------\n",
      "PKG :\n",
      "\tsocket 0 :  1906062.0000 uJ\n",
      "Label : random_forest_stratified\n",
      "Begin : Thu Mar 13 00:07:15 2025\n",
      "Duration : 115288.9200 us\n",
      "-------------------------------\n",
      "PKG :\n",
      "\tsocket 0 :  1943599.0000 uJ\n",
      "Label : random_forest_stratified\n",
      "Begin : Thu Mar 13 00:07:15 2025\n",
      "Duration : 114346.1200 us\n",
      "-------------------------------\n",
      "PKG :\n",
      "\tsocket 0 :  2044733.0000 uJ\n",
      "Label : random_forest_stratified\n",
      "Begin : Thu Mar 13 00:07:15 2025\n",
      "Duration : 115894.0430 us\n",
      "-------------------------------\n",
      "PKG :\n",
      "\tsocket 0 :  2044246.0000 uJ\n",
      "Label : random_forest_stratified\n",
      "Begin : Thu Mar 13 00:07:16 2025\n",
      "Duration : 116755.8630 us\n",
      "-------------------------------\n",
      "PKG :\n",
      "\tsocket 0 :  1777339.0000 uJ\n",
      "Label : random_forest_stratified\n",
      "Begin : Thu Mar 13 00:07:16 2025\n",
      "Duration : 116600.3980 us\n",
      "-------------------------------\n",
      "PKG :\n",
      "\tsocket 0 :  1708858.0000 uJ\n",
      "Label : random_forest_stratified\n",
      "Begin : Thu Mar 13 00:07:16 2025\n",
      "Duration : 116112.9040 us\n",
      "-------------------------------\n",
      "PKG :\n",
      "\tsocket 0 :  1713252.0000 uJ\n",
      "Label : random_forest_stratified\n",
      "Begin : Thu Mar 13 00:07:16 2025\n",
      "Duration : 116709.4710 us\n",
      "-------------------------------\n",
      "PKG :\n",
      "\tsocket 0 :  1850276.0000 uJ\n",
      "Label : random_forest_stratified\n",
      "Begin : Thu Mar 13 00:07:16 2025\n",
      "Duration : 120181.4030 us\n",
      "-------------------------------\n",
      "PKG :\n",
      "\tsocket 0 :  2317316.0000 uJ\n",
      "Label : random_forest_stratified\n",
      "Begin : Thu Mar 13 00:07:16 2025\n",
      "Duration : 121769.5080 us\n",
      "-------------------------------\n",
      "PKG :\n",
      "\tsocket 0 :  1801448.0000 uJ\n",
      "Label : random_forest_stratified\n",
      "Begin : Thu Mar 13 00:07:16 2025\n",
      "Duration : 117676.1140 us\n",
      "-------------------------------\n",
      "PKG :\n",
      "\tsocket 0 :  1230954.0000 uJ\n",
      "Label : random_forest_stratified\n",
      "Begin : Thu Mar 13 00:07:16 2025\n",
      "Duration : 118912.5890 us\n",
      "-------------------------------\n",
      "PKG :\n",
      "\tsocket 0 :  1620235.0000 uJ\n",
      "Label : random_forest_stratified\n",
      "Begin : Thu Mar 13 00:07:17 2025\n",
      "Duration : 116604.7680 us\n",
      "-------------------------------\n",
      "PKG :\n",
      "\tsocket 0 :  1525326.0000 uJ\n",
      "Label : random_forest_stratified\n",
      "Begin : Thu Mar 13 00:07:17 2025\n",
      "Duration : 131564.9490 us\n",
      "-------------------------------\n",
      "PKG :\n",
      "\tsocket 0 :  1685847.0000 uJ\n",
      "Label : random_forest_stratified\n",
      "Begin : Thu Mar 13 00:07:17 2025\n",
      "Duration : 123108.1160 us\n",
      "-------------------------------\n",
      "PKG :\n",
      "\tsocket 0 :  1676632.0000 uJ\n",
      "Label : random_forest_stratified\n",
      "Begin : Thu Mar 13 00:07:17 2025\n",
      "Duration : 116719.4000 us\n",
      "-------------------------------\n",
      "PKG :\n",
      "\tsocket 0 :  1549007.0000 uJ\n",
      "Label : random_forest_stratified\n",
      "Begin : Thu Mar 13 00:07:17 2025\n",
      "Duration : 115560.1790 us\n",
      "-------------------------------\n",
      "PKG :\n",
      "\tsocket 0 :  1494686.0000 uJ\n",
      "Label : random_forest_stratified\n",
      "Begin : Thu Mar 13 00:07:17 2025\n",
      "Duration : 116069.8330 us\n",
      "-------------------------------\n",
      "PKG :\n",
      "\tsocket 0 :  1531979.0000 uJ\n",
      "Label : random_forest_stratified\n",
      "Begin : Thu Mar 13 00:07:17 2025\n",
      "Duration : 115672.0770 us\n",
      "-------------------------------\n",
      "PKG :\n",
      "\tsocket 0 :  1495296.0000 uJ\n",
      "Label : random_forest_stratified\n",
      "Begin : Thu Mar 13 00:07:17 2025\n",
      "Duration : 115954.1920 us\n",
      "-------------------------------\n",
      "PKG :\n",
      "\tsocket 0 :  1554501.0000 uJ\n",
      "Label : random_forest_stratified\n",
      "Begin : Thu Mar 13 00:07:18 2025\n",
      "Duration : 116140.8050 us\n",
      "-------------------------------\n",
      "PKG :\n",
      "\tsocket 0 :  1542843.0000 uJ\n",
      "Label : random_forest_stratified\n",
      "Begin : Thu Mar 13 00:07:18 2025\n",
      "Duration : 118529.5990 us\n",
      "-------------------------------\n",
      "PKG :\n",
      "\tsocket 0 :  1627803.0000 uJ\n",
      "Label : random_forest_stratified\n",
      "Begin : Thu Mar 13 00:07:18 2025\n",
      "Duration : 117758.3970 us\n",
      "-------------------------------\n",
      "PKG :\n",
      "\tsocket 0 :  1473141.0000 uJ\n",
      "Label : random_forest_stratified\n",
      "Begin : Thu Mar 13 00:07:18 2025\n",
      "Duration : 116921.7190 us\n",
      "-------------------------------\n",
      "PKG :\n",
      "\tsocket 0 :  1499325.0000 uJ\n",
      "Label : random_forest_stratified\n",
      "Begin : Thu Mar 13 00:07:18 2025\n",
      "Duration : 115979.8170 us\n",
      "-------------------------------\n",
      "PKG :\n",
      "\tsocket 0 :  1494503.0000 uJ\n",
      "Label : random_forest_stratified\n",
      "Begin : Thu Mar 13 00:07:18 2025\n",
      "Duration : 116623.2830 us\n",
      "-------------------------------\n",
      "PKG :\n",
      "\tsocket 0 :  1575557.0000 uJ\n",
      "Label : random_forest_stratified\n",
      "Begin : Thu Mar 13 00:07:18 2025\n",
      "Duration : 115744.3400 us\n",
      "-------------------------------\n",
      "PKG :\n",
      "\tsocket 0 :  1633053.0000 uJ\n",
      "Label : random_forest_stratified\n",
      "Begin : Thu Mar 13 00:07:18 2025\n",
      "Duration : 117423.0860 us\n",
      "-------------------------------\n",
      "PKG :\n",
      "\tsocket 0 :  1719295.0000 uJ\n",
      "Label : random_forest_stratified\n",
      "Begin : Thu Mar 13 00:07:18 2025\n",
      "Duration : 135779.5200 us\n",
      "-------------------------------\n",
      "PKG :\n",
      "\tsocket 0 :  1915156.0000 uJ\n",
      "Label : random_forest_stratified\n",
      "Begin : Thu Mar 13 00:07:19 2025\n",
      "Duration : 167787.9340 us\n",
      "-------------------------------\n",
      "PKG :\n",
      "\tsocket 0 :  2208795.0000 uJ\n",
      "Label : random_forest_stratified\n",
      "Begin : Thu Mar 13 00:07:19 2025\n",
      "Duration : 115901.5740 us\n",
      "-------------------------------\n",
      "PKG :\n",
      "\tsocket 0 :  1652096.0000 uJ\n",
      "Label : random_forest_stratified\n",
      "Begin : Thu Mar 13 00:07:19 2025\n",
      "Duration : 116496.1890 us\n",
      "-------------------------------\n",
      "PKG :\n",
      "\tsocket 0 :  1826899.0000 uJ\n",
      "Label : random_forest_stratified\n",
      "Begin : Thu Mar 13 00:07:19 2025\n",
      "Duration : 115075.3480 us\n",
      "-------------------------------\n",
      "PKG :\n",
      "\tsocket 0 :  1550350.0000 uJ\n",
      "Label : random_forest_stratified\n",
      "Begin : Thu Mar 13 00:07:19 2025\n",
      "Duration : 116239.6700 us\n",
      "-------------------------------\n",
      "PKG :\n",
      "\tsocket 0 :  1567318.0000 uJ\n",
      "Label : random_forest_stratified\n",
      "Begin : Thu Mar 13 00:07:19 2025\n",
      "Duration : 115573.5980 us\n",
      "-------------------------------\n",
      "PKG :\n",
      "\tsocket 0 :  1555843.0000 uJ\n",
      "Label : random_forest_stratified\n",
      "Begin : Thu Mar 13 00:07:19 2025\n",
      "Duration : 114927.5690 us\n",
      "-------------------------------\n",
      "PKG :\n",
      "\tsocket 0 :  1774959.0000 uJ\n",
      "Label : random_forest_stratified\n",
      "Begin : Thu Mar 13 00:07:19 2025\n",
      "Duration : 115691.1850 us\n",
      "-------------------------------\n",
      "PKG :\n",
      "\tsocket 0 :  1703487.0000 uJ\n",
      "Label : random_forest_stratified\n",
      "Begin : Thu Mar 13 00:07:20 2025\n",
      "Duration : 115526.2790 us\n",
      "-------------------------------\n",
      "PKG :\n",
      "\tsocket 0 :  1690670.0000 uJ\n",
      "Label : random_forest_stratified\n",
      "Begin : Thu Mar 13 00:07:20 2025\n",
      "Duration : 114684.6350 us\n",
      "-------------------------------\n",
      "PKG :\n",
      "\tsocket 0 :  1566097.0000 uJ\n",
      "Label : random_forest_stratified\n",
      "Begin : Thu Mar 13 00:07:20 2025\n",
      "Duration : 116108.6340 us\n",
      "-------------------------------\n",
      "PKG :\n",
      "\tsocket 0 :  1598384.0000 uJ\n",
      "Label : random_forest_stratified\n",
      "Begin : Thu Mar 13 00:07:20 2025\n",
      "Duration : 115572.8820 us\n",
      "-------------------------------\n",
      "PKG :\n",
      "\tsocket 0 :  1690670.0000 uJ\n",
      "Label : random_forest_stratified\n",
      "Begin : Thu Mar 13 00:07:20 2025\n",
      "Duration : 116060.8120 us\n",
      "-------------------------------\n",
      "PKG :\n",
      "\tsocket 0 :  1570186.0000 uJ\n",
      "Label : random_forest_stratified\n",
      "Begin : Thu Mar 13 00:07:20 2025\n",
      "Duration : 114857.7110 us\n",
      "-------------------------------\n",
      "PKG :\n",
      "\tsocket 0 :  1844478.0000 uJ\n",
      "Label : random_forest_stratified\n",
      "Begin : Thu Mar 13 00:07:20 2025\n",
      "Duration : 116617.8550 us\n",
      "-------------------------------\n",
      "PKG :\n",
      "\tsocket 0 :  1620052.0000 uJ\n",
      "Label : random_forest_stratified\n",
      "Begin : Thu Mar 13 00:07:20 2025\n",
      "Duration : 115186.2510 us\n",
      "-------------------------------\n",
      "PKG :\n",
      "\tsocket 0 :  1168088.0000 uJ\n",
      "Label : random_forest_stratified\n",
      "Begin : Thu Mar 13 00:07:21 2025\n",
      "Duration : 133595.0390 us\n",
      "-------------------------------\n",
      "PKG :\n",
      "\tsocket 0 :  1388913.0000 uJ\n",
      "Label : random_forest_stratified\n",
      "Begin : Thu Mar 13 00:07:21 2025\n",
      "Duration : 133291.0680 us\n",
      "-------------------------------\n",
      "PKG :\n",
      "\tsocket 0 :  1703303.0000 uJ\n",
      "Label : random_forest_stratified\n",
      "Begin : Thu Mar 13 00:07:21 2025\n",
      "Duration : 116150.3210 us\n",
      "-------------------------------\n",
      "PKG :\n",
      "\tsocket 0 :  1680294.0000 uJ\n",
      "Label : random_forest_stratified\n",
      "Begin : Thu Mar 13 00:07:21 2025\n",
      "Duration : 114913.5320 us\n",
      "-------------------------------\n",
      "PKG :\n",
      "\tsocket 0 :  1662960.0000 uJ\n",
      "Label : random_forest_stratified\n",
      "Begin : Thu Mar 13 00:07:21 2025\n",
      "Duration : 116442.4130 us\n",
      "-------------------------------\n",
      "PKG :\n",
      "\tsocket 0 :  1734920.0000 uJ\n",
      "Label : random_forest_stratified\n",
      "Begin : Thu Mar 13 00:07:21 2025\n",
      "Duration : 116237.5480 us\n",
      "-------------------------------\n",
      "PKG :\n",
      "\tsocket 0 :  1504574.0000 uJ\n",
      "Label : random_forest_stratified\n",
      "Begin : Thu Mar 13 00:07:21 2025\n",
      "Duration : 118233.1110 us\n",
      "-------------------------------\n",
      "PKG :\n",
      "\tsocket 0 :  1692318.0000 uJ\n",
      "Label : random_forest_stratified\n",
      "Begin : Thu Mar 13 00:07:21 2025\n",
      "Duration : 118339.7640 us\n",
      "-------------------------------\n",
      "PKG :\n",
      "\tsocket 0 :  1560726.0000 uJ\n",
      "Label : random_forest_stratified\n",
      "Begin : Thu Mar 13 00:07:21 2025\n",
      "Duration : 119903.9770 us\n",
      "-------------------------------\n",
      "PKG :\n",
      "\tsocket 0 :  1620052.0000 uJ\n",
      "Label : random_forest_stratified\n",
      "Begin : Thu Mar 13 00:07:22 2025\n",
      "Duration : 118541.3490 us\n",
      "-------------------------------\n",
      "PKG :\n",
      "\tsocket 0 :  1563167.0000 uJ\n",
      "Label : random_forest_stratified\n",
      "Begin : Thu Mar 13 00:07:22 2025\n",
      "Duration : 127339.9050 us\n",
      "-------------------------------\n",
      "PKG :\n",
      "\tsocket 0 :  1752803.0000 uJ\n",
      "Label : random_forest_stratified\n",
      "Begin : Thu Mar 13 00:07:22 2025\n",
      "Duration : 142327.6740 us\n",
      "-------------------------------\n",
      "PKG :\n",
      "\tsocket 0 :  1955867.0000 uJ\n",
      "Label : random_forest_stratified\n",
      "Begin : Thu Mar 13 00:07:22 2025\n",
      "Duration : 128069.8560 us\n",
      "-------------------------------\n",
      "PKG :\n",
      "\tsocket 0 :  1724361.0000 uJ\n",
      "Label : random_forest_stratified\n",
      "Begin : Thu Mar 13 00:07:22 2025\n",
      "Duration : 118363.6240 us\n",
      "-------------------------------\n",
      "PKG :\n",
      "\tsocket 0 :  1590511.0000 uJ\n",
      "Label : random_forest_stratified\n",
      "Begin : Thu Mar 13 00:07:22 2025\n",
      "Duration : 118786.9220 us\n",
      "-------------------------------\n",
      "PKG :\n",
      "\tsocket 0 :  1582272.0000 uJ\n",
      "Label : random_forest_stratified\n",
      "Begin : Thu Mar 13 00:07:22 2025\n",
      "Duration : 115482.6130 us\n",
      "-------------------------------\n",
      "PKG :\n",
      "\tsocket 0 :  1704890.0000 uJ\n",
      "Label : random_forest_stratified\n",
      "Begin : Thu Mar 13 00:07:22 2025\n",
      "Duration : 124259.0280 us\n",
      "-------------------------------\n",
      "PKG :\n",
      "\tsocket 0 :  1820308.0000 uJ\n",
      "Label : random_forest_stratified\n",
      "Begin : Thu Mar 13 00:07:23 2025\n",
      "Duration : 178331.4050 us\n",
      "-------------------------------\n",
      "PKG :\n",
      "\tsocket 0 :  2248163.0000 uJ\n",
      "Label : random_forest_stratified\n",
      "Begin : Thu Mar 13 00:07:23 2025\n",
      "Duration : 150851.8330 us\n",
      "-------------------------------\n",
      "PKG :\n",
      "\tsocket 0 :  2330622.0000 uJ\n",
      "Label : random_forest_stratified\n",
      "Begin : Thu Mar 13 00:07:23 2025\n",
      "Duration : 119461.9150 us\n",
      "-------------------------------\n",
      "PKG :\n",
      "\tsocket 0 :  1609249.0000 uJ\n",
      "Label : random_forest_stratified\n",
      "Begin : Thu Mar 13 00:07:23 2025\n",
      "Duration : 119365.4950 us\n",
      "-------------------------------\n",
      "PKG :\n",
      "\tsocket 0 :  1607296.0000 uJ\n",
      "Label : random_forest_stratified\n",
      "Begin : Thu Mar 13 00:07:23 2025\n",
      "Duration : 116989.0010 us\n",
      "-------------------------------\n",
      "PKG :\n",
      "\tsocket 0 :  1627986.0000 uJ\n",
      "Label : random_forest_stratified\n",
      "Begin : Thu Mar 13 00:07:23 2025\n",
      "Duration : 117784.2910 us\n",
      "-------------------------------\n",
      "PKG :\n",
      "\tsocket 0 :  1585018.0000 uJ\n",
      "Label : random_forest_stratified\n",
      "Begin : Thu Mar 13 00:07:23 2025\n",
      "Duration : 117611.8390 us\n",
      "-------------------------------\n",
      "PKG :\n",
      "\tsocket 0 :  1608272.0000 uJ\n",
      "Label : random_forest_stratified\n",
      "Begin : Thu Mar 13 00:07:24 2025\n",
      "Duration : 118300.3640 us\n",
      "-------------------------------\n",
      "PKG :\n",
      "\tsocket 0 :  1628475.0000 uJ\n",
      "Label : random_forest_stratified\n",
      "Begin : Thu Mar 13 00:07:24 2025\n",
      "Duration : 118025.2860 us\n",
      "-------------------------------\n",
      "PKG :\n",
      "\tsocket 0 :  1594601.0000 uJ\n",
      "Label : random_forest_stratified\n",
      "Begin : Thu Mar 13 00:07:24 2025\n",
      "Duration : 133276.9990 us\n",
      "-------------------------------\n",
      "PKG :\n",
      "\tsocket 0 :  1760005.0000 uJ\n",
      "Label : random_forest_stratified\n",
      "Begin : Thu Mar 13 00:07:24 2025\n",
      "Duration : 139992.9920 us\n",
      "-------------------------------\n",
      "PKG :\n",
      "\tsocket 0 :  1720149.0000 uJ\n",
      "Label : random_forest_stratified\n",
      "Begin : Thu Mar 13 00:07:24 2025\n",
      "Duration : 119452.0760 us\n",
      "-------------------------------\n",
      "PKG :\n",
      "\tsocket 0 :  1599911.0000 uJ\n",
      "Label : random_forest_stratified\n",
      "Begin : Thu Mar 13 00:07:24 2025\n",
      "Duration : 119356.0180 us\n",
      "-------------------------------\n",
      "PKG :\n",
      "\tsocket 0 :  1562007.0000 uJ\n",
      "Label : random_forest_stratified\n",
      "Begin : Thu Mar 13 00:07:24 2025\n",
      "Duration : 154415.3240 us\n",
      "-------------------------------\n",
      "PKG :\n",
      "\tsocket 0 :  2034419.0000 uJ\n",
      "Label : random_forest_stratified\n",
      "Begin : Thu Mar 13 00:07:24 2025\n",
      "Duration : 139898.9060 us\n",
      "-------------------------------\n",
      "PKG :\n",
      "\tsocket 0 :  1848322.0000 uJ\n",
      "Label : random_forest_stratified\n",
      "Begin : Thu Mar 13 00:07:25 2025\n",
      "Duration : 118963.5370 us\n",
      "-------------------------------\n",
      "PKG :\n",
      "\tsocket 0 :  1550839.0000 uJ\n",
      "Label : random_forest_stratified\n",
      "Begin : Thu Mar 13 00:07:25 2025\n",
      "Duration : 116973.6330 us\n",
      "-------------------------------\n",
      "PKG :\n",
      "\tsocket 0 :  1669978.0000 uJ\n",
      "CPU Energy (Min): 1.1681 J\n",
      "CPU Energy (Max): 2.3306 J\n"
     ]
    }
   ],
   "source": [
    "# Measure CPU energy RF Stratified\n",
    "min_cpu_rf_st, max_cpu_rf_st = measure_cpu_energy_usage('random_forest_stratified', rf_st, X_train_st, y_train_st)\n",
    "\n",
    "# Tampilkan hasil\n",
    "print(f\"CPU Energy (Min): {min_cpu_rf_st:.4f} J\")\n",
    "print(f\"CPU Energy (Max): {max_cpu_rf_st:.4f} J\")"
   ]
  }
 ],
 "metadata": {
  "colab": {
   "provenance": []
  },
  "kernelspec": {
   "display_name": "myvenv",
   "language": "python",
   "name": "python3"
  },
  "language_info": {
   "codemirror_mode": {
    "name": "ipython",
    "version": 3
   },
   "file_extension": ".py",
   "mimetype": "text/x-python",
   "name": "python",
   "nbconvert_exporter": "python",
   "pygments_lexer": "ipython3",
   "version": "3.12.3"
  }
 },
 "nbformat": 4,
 "nbformat_minor": 4
}
